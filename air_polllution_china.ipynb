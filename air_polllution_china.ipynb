{
 "cells": [
  {
   "cell_type": "markdown",
   "id": "8c32b96f4693228c",
   "metadata": {},
   "source": [
    "# Analyzing Air Quality In China"
   ]
  },
  {
   "cell_type": "markdown",
   "id": "dbb01ec5421edf37",
   "metadata": {},
   "source": [
    "This notebook explores syntehtic dataset containing air pollution data from 5 major cities in China: Beijing, Shanghai, Guangzhou, Chengdu, and Shenzhen.\n",
    "\n",
    "The data spans from 2015 to 2025 and includes data for various air pollutants and weather data.\n",
    "\n",
    "### Objectives:\n",
    "- **Visualize** Air Quality Trends over time across cities\n",
    "- **Compare** pollution and particulate matter levels between cities, time of day, season, and weather conditions.\n",
    "- **Explore** data using dropdowns and animations by using `ipywidgets` and `plotly.express`\n",
    "- **Forecast** AQI levels using regression model from `scikit-learn`\n",
    "- **Evaluate** and compare different machine learning models for accuracy and reliability while predicting AQI.\n",
    "\n",
    "This analysis builds upon core concepts covered in OMAT5100M: Programming for Data Science, while also incorporating additional techniques and tools beyond the scope of the course to demonstrate independent learning and application.\n",
    "\n",
    "**Dataset Source:**\n",
    "Air Pollution in China (2015-2025)\n",
    "Available on [Kaggle](https://www.kaggle.com/datasets/khushikyad001/air-pollution-in-china-2015-2025)\n",
    "Accessed on: April 13, 2025.\n"
   ]
  },
  {
   "cell_type": "markdown",
   "id": "838bc9880fa72062",
   "metadata": {},
   "source": [
    "## Introduction\n",
    "\n",
    "We'll start by importing all the required libraries"
   ]
  },
  {
   "cell_type": "code",
   "execution_count": 170,
   "id": "f38db51857559eb1",
   "metadata": {
    "ExecuteTime": {
     "end_time": "2025-04-20T12:56:31.075959Z",
     "start_time": "2025-04-20T12:56:28.307741Z"
    }
   },
   "outputs": [],
   "source": [
    "import numpy as np\n",
    "import pandas as pd\n",
    "import plotly.express as px\n",
    "from ipywidgets import widgets"
   ]
  },
  {
   "cell_type": "markdown",
   "id": "e131e8981a33617c",
   "metadata": {},
   "source": [
    "### Loading & Previewing Dataset\n",
    "\n",
    "We'll use pandas read_csv function to read the data and get information including datatypes, null values, column names, and dataframe shape using the info() method. This will help us understand the data and apporach with our analysis accordingly"
   ]
  },
  {
   "cell_type": "code",
   "execution_count": 171,
   "id": "20926c6feb16c083",
   "metadata": {
    "ExecuteTime": {
     "end_time": "2025-04-20T12:56:34.226716Z",
     "start_time": "2025-04-20T12:56:34.159905Z"
    }
   },
   "outputs": [
    {
     "name": "stdout",
     "output_type": "stream",
     "text": [
      "<class 'pandas.core.frame.DataFrame'>\n",
      "RangeIndex: 3000 entries, 0 to 2999\n",
      "Data columns (total 24 columns):\n",
      " #   Column              Non-Null Count  Dtype  \n",
      "---  ------              --------------  -----  \n",
      " 0   PM2.5 (µg/m³)       3000 non-null   float64\n",
      " 1   PM10 (µg/m³)        3000 non-null   float64\n",
      " 2   NO2 (µg/m³)         3000 non-null   float64\n",
      " 3   SO2 (µg/m³)         3000 non-null   float64\n",
      " 4   CO (mg/m³)          3000 non-null   float64\n",
      " 5   O3 (µg/m³)          3000 non-null   float64\n",
      " 6   Temperature (°C)    3000 non-null   float64\n",
      " 7   Humidity (%)        3000 non-null   float64\n",
      " 8   Wind Speed (m/s)    3000 non-null   float64\n",
      " 9   Wind Direction (°)  3000 non-null   float64\n",
      " 10  Pressure (hPa)      3000 non-null   float64\n",
      " 11  Precipitation (mm)  3000 non-null   float64\n",
      " 12  Visibility (km)     3000 non-null   float64\n",
      " 13  AQI                 3000 non-null   int64  \n",
      " 14  Season              3000 non-null   object \n",
      " 15  City                3000 non-null   object \n",
      " 16  Latitude            3000 non-null   float64\n",
      " 17  Longitude           3000 non-null   float64\n",
      " 18  Day of Week         3000 non-null   object \n",
      " 19  Hour                3000 non-null   int64  \n",
      " 20  Month               3000 non-null   int64  \n",
      " 21  Year                3000 non-null   int64  \n",
      " 22  Weather Condition   3000 non-null   object \n",
      " 23  Station ID          3000 non-null   int64  \n",
      "dtypes: float64(15), int64(5), object(4)\n",
      "memory usage: 562.6+ KB\n"
     ]
    }
   ],
   "source": [
    "pollution = pd.read_csv(\"air_pollution_china.csv\")\n",
    "pollution.info() # getting a summary of the dataframe"
   ]
  },
  {
   "cell_type": "markdown",
   "id": "6646aaf1",
   "metadata": {},
   "source": [
    "Upon inspection, we can see that none of the values in the dataframe are null values. In this case, we can proceed with an exploratory data analysis.\n",
    "\n",
    "## Exploratory Data Analysis\n",
    "\n",
    "We'll also use the describe function to check the summary statistics of each column to get a sense of the distrubtion of each numerical column including mean, std, median, etc."
   ]
  },
  {
   "cell_type": "code",
   "execution_count": 172,
   "id": "c18ada3560d93424",
   "metadata": {
    "ExecuteTime": {
     "end_time": "2025-04-20T12:56:34.432105Z",
     "start_time": "2025-04-20T12:56:34.353359Z"
    }
   },
   "outputs": [
    {
     "data": {
      "application/vnd.microsoft.datawrangler.viewer.v0+json": {
       "columns": [
        {
         "name": "index",
         "rawType": "object",
         "type": "string"
        },
        {
         "name": "PM2.5 (µg/m³)",
         "rawType": "float64",
         "type": "float"
        },
        {
         "name": "PM10 (µg/m³)",
         "rawType": "float64",
         "type": "float"
        },
        {
         "name": "NO2 (µg/m³)",
         "rawType": "float64",
         "type": "float"
        },
        {
         "name": "SO2 (µg/m³)",
         "rawType": "float64",
         "type": "float"
        },
        {
         "name": "CO (mg/m³)",
         "rawType": "float64",
         "type": "float"
        },
        {
         "name": "O3 (µg/m³)",
         "rawType": "float64",
         "type": "float"
        },
        {
         "name": "Temperature (°C)",
         "rawType": "float64",
         "type": "float"
        },
        {
         "name": "Humidity (%)",
         "rawType": "float64",
         "type": "float"
        },
        {
         "name": "Wind Speed (m/s)",
         "rawType": "float64",
         "type": "float"
        },
        {
         "name": "Wind Direction (°)",
         "rawType": "float64",
         "type": "float"
        },
        {
         "name": "Pressure (hPa)",
         "rawType": "float64",
         "type": "float"
        },
        {
         "name": "Precipitation (mm)",
         "rawType": "float64",
         "type": "float"
        },
        {
         "name": "Visibility (km)",
         "rawType": "float64",
         "type": "float"
        },
        {
         "name": "AQI",
         "rawType": "float64",
         "type": "float"
        },
        {
         "name": "Latitude",
         "rawType": "float64",
         "type": "float"
        },
        {
         "name": "Longitude",
         "rawType": "float64",
         "type": "float"
        },
        {
         "name": "Hour",
         "rawType": "float64",
         "type": "float"
        },
        {
         "name": "Month",
         "rawType": "float64",
         "type": "float"
        },
        {
         "name": "Year",
         "rawType": "float64",
         "type": "float"
        },
        {
         "name": "Station ID",
         "rawType": "float64",
         "type": "float"
        }
       ],
       "conversionMethod": "pd.DataFrame",
       "ref": "c60a92dc-a20a-4a2a-bedc-ec44721cfada",
       "rows": [
        [
         "count",
         "3000.0",
         "3000.0",
         "3000.0",
         "3000.0",
         "3000.0",
         "3000.0",
         "3000.0",
         "3000.0",
         "3000.0",
         "3000.0",
         "3000.0",
         "3000.0",
         "3000.0",
         "3000.0",
         "3000.0",
         "3000.0",
         "3000.0",
         "3000.0",
         "3000.0",
         "3000.0"
        ],
        [
         "mean",
         "130.07274240079397",
         "158.81839774077486",
         "52.94869661413674",
         "25.42612660699014",
         "2.5625137554572968",
         "105.6133652971077",
         "15.117060409832712",
         "54.73777292970734",
         "5.137389290111043",
         "179.39641092803694",
         "1014.8940631566173",
         "24.880797532931748",
         "9.900772707506379",
         "249.63966666666667",
         "35.0373279704937",
         "110.07244458516594",
         "11.289666666666667",
         "6.537333333333334",
         "2019.5553333333332",
         "50.16466666666667"
        ],
        [
         "std",
         "68.1400500101908",
         "80.91520712471002",
         "26.905602522793323",
         "14.177922736424609",
         "1.4095699697534159",
         "54.05435405441754",
         "14.719677360450278",
         "26.187670336492463",
         "2.8914435550175335",
         "104.07676730180525",
         "20.34841024195602",
         "14.638861955451933",
         "5.751453110115309",
         "143.39611794641763",
         "8.666335383285068",
         "11.60409070754591",
         "6.835056636339078",
         "3.44120427338637",
         "2.8506689846611315",
         "28.807837742427324"
        ],
        [
         "min",
         "10.039019416025043",
         "20.017134016581227",
         "5.005046875086433",
         "1.0146934222912058",
         "0.1022070852783529",
         "10.09455149821186",
         "-9.997817941334816",
         "10.049686239039405",
         "0.0020522589745519",
         "0.0172172661224845",
         "980.020252873398",
         "0.0025077967901909",
         "0.1031733958035162",
         "0.0",
         "20.005033918039835",
         "90.00653276268729",
         "0.0",
         "1.0",
         "2015.0",
         "1.0"
        ],
        [
         "25%",
         "72.40962085398542",
         "86.98291210953693",
         "29.885955125601015",
         "12.72007823438041",
         "1.3626589032202148",
         "59.56171924285921",
         "2.1235075758782935",
         "31.915812955709693",
         "2.601401575568679",
         "87.63238202464034",
         "997.4191557308832",
         "12.036466668612318",
         "4.997297684419175",
         "126.0",
         "27.495695056933766",
         "100.00189409842048",
         "5.75",
         "4.0",
         "2017.0",
         "26.0"
        ],
        [
         "50%",
         "128.85817222106786",
         "157.17472308785415",
         "53.40487858824612",
         "25.677423364402216",
         "2.5537782720599758",
         "106.70630226121743",
         "15.334326093493843",
         "53.99383643006901",
         "5.206242217455669",
         "178.8205758182496",
         "1014.2969503479197",
         "24.785056773473634",
         "9.850521987109856",
         "248.0",
         "35.14820053314465",
         "110.18187736345394",
         "11.0",
         "7.0",
         "2020.0",
         "49.0"
        ],
        [
         "75%",
         "188.5799310988064",
         "228.60390958362893",
         "75.95562334743794",
         "37.75573505196142",
         "3.785613062143369",
         "151.29302031760125",
         "28.016645717382765",
         "77.40918340394708",
         "7.750817301033052",
         "268.8353789547265",
         "1032.6716015535685",
         "37.617215167842446",
         "14.80860760827221",
         "374.0",
         "42.61293106724014",
         "119.97782556563703",
         "17.0",
         "10.0",
         "2022.0",
         "75.0"
        ],
        [
         "max",
         "249.8474730741296",
         "299.70229261089287",
         "99.97951129085968",
         "49.98985020662516",
         "4.9986584350286005",
         "199.93638695822668",
         "39.95995718737552",
         "99.9981081955454",
         "9.991276694329162",
         "359.8815321301297",
         "1049.9975531000778",
         "49.98412627700941",
         "19.998597178091057",
         "499.0",
         "49.99887261652939",
         "129.98928438486476",
         "23.0",
         "12.0",
         "2024.0",
         "99.0"
        ]
       ],
       "shape": {
        "columns": 20,
        "rows": 8
       }
      },
      "text/html": [
       "<div>\n",
       "<style scoped>\n",
       "    .dataframe tbody tr th:only-of-type {\n",
       "        vertical-align: middle;\n",
       "    }\n",
       "\n",
       "    .dataframe tbody tr th {\n",
       "        vertical-align: top;\n",
       "    }\n",
       "\n",
       "    .dataframe thead th {\n",
       "        text-align: right;\n",
       "    }\n",
       "</style>\n",
       "<table border=\"1\" class=\"dataframe\">\n",
       "  <thead>\n",
       "    <tr style=\"text-align: right;\">\n",
       "      <th></th>\n",
       "      <th>PM2.5 (µg/m³)</th>\n",
       "      <th>PM10 (µg/m³)</th>\n",
       "      <th>NO2 (µg/m³)</th>\n",
       "      <th>SO2 (µg/m³)</th>\n",
       "      <th>CO (mg/m³)</th>\n",
       "      <th>O3 (µg/m³)</th>\n",
       "      <th>Temperature (°C)</th>\n",
       "      <th>Humidity (%)</th>\n",
       "      <th>Wind Speed (m/s)</th>\n",
       "      <th>Wind Direction (°)</th>\n",
       "      <th>Pressure (hPa)</th>\n",
       "      <th>Precipitation (mm)</th>\n",
       "      <th>Visibility (km)</th>\n",
       "      <th>AQI</th>\n",
       "      <th>Latitude</th>\n",
       "      <th>Longitude</th>\n",
       "      <th>Hour</th>\n",
       "      <th>Month</th>\n",
       "      <th>Year</th>\n",
       "      <th>Station ID</th>\n",
       "    </tr>\n",
       "  </thead>\n",
       "  <tbody>\n",
       "    <tr>\n",
       "      <th>count</th>\n",
       "      <td>3000.000000</td>\n",
       "      <td>3000.000000</td>\n",
       "      <td>3000.000000</td>\n",
       "      <td>3000.000000</td>\n",
       "      <td>3000.000000</td>\n",
       "      <td>3000.000000</td>\n",
       "      <td>3000.000000</td>\n",
       "      <td>3000.000000</td>\n",
       "      <td>3000.000000</td>\n",
       "      <td>3000.000000</td>\n",
       "      <td>3000.000000</td>\n",
       "      <td>3000.000000</td>\n",
       "      <td>3000.000000</td>\n",
       "      <td>3000.000000</td>\n",
       "      <td>3000.000000</td>\n",
       "      <td>3000.000000</td>\n",
       "      <td>3000.000000</td>\n",
       "      <td>3000.000000</td>\n",
       "      <td>3000.000000</td>\n",
       "      <td>3000.000000</td>\n",
       "    </tr>\n",
       "    <tr>\n",
       "      <th>mean</th>\n",
       "      <td>130.072742</td>\n",
       "      <td>158.818398</td>\n",
       "      <td>52.948697</td>\n",
       "      <td>25.426127</td>\n",
       "      <td>2.562514</td>\n",
       "      <td>105.613365</td>\n",
       "      <td>15.117060</td>\n",
       "      <td>54.737773</td>\n",
       "      <td>5.137389</td>\n",
       "      <td>179.396411</td>\n",
       "      <td>1014.894063</td>\n",
       "      <td>24.880798</td>\n",
       "      <td>9.900773</td>\n",
       "      <td>249.639667</td>\n",
       "      <td>35.037328</td>\n",
       "      <td>110.072445</td>\n",
       "      <td>11.289667</td>\n",
       "      <td>6.537333</td>\n",
       "      <td>2019.555333</td>\n",
       "      <td>50.164667</td>\n",
       "    </tr>\n",
       "    <tr>\n",
       "      <th>std</th>\n",
       "      <td>68.140050</td>\n",
       "      <td>80.915207</td>\n",
       "      <td>26.905603</td>\n",
       "      <td>14.177923</td>\n",
       "      <td>1.409570</td>\n",
       "      <td>54.054354</td>\n",
       "      <td>14.719677</td>\n",
       "      <td>26.187670</td>\n",
       "      <td>2.891444</td>\n",
       "      <td>104.076767</td>\n",
       "      <td>20.348410</td>\n",
       "      <td>14.638862</td>\n",
       "      <td>5.751453</td>\n",
       "      <td>143.396118</td>\n",
       "      <td>8.666335</td>\n",
       "      <td>11.604091</td>\n",
       "      <td>6.835057</td>\n",
       "      <td>3.441204</td>\n",
       "      <td>2.850669</td>\n",
       "      <td>28.807838</td>\n",
       "    </tr>\n",
       "    <tr>\n",
       "      <th>min</th>\n",
       "      <td>10.039019</td>\n",
       "      <td>20.017134</td>\n",
       "      <td>5.005047</td>\n",
       "      <td>1.014693</td>\n",
       "      <td>0.102207</td>\n",
       "      <td>10.094551</td>\n",
       "      <td>-9.997818</td>\n",
       "      <td>10.049686</td>\n",
       "      <td>0.002052</td>\n",
       "      <td>0.017217</td>\n",
       "      <td>980.020253</td>\n",
       "      <td>0.002508</td>\n",
       "      <td>0.103173</td>\n",
       "      <td>0.000000</td>\n",
       "      <td>20.005034</td>\n",
       "      <td>90.006533</td>\n",
       "      <td>0.000000</td>\n",
       "      <td>1.000000</td>\n",
       "      <td>2015.000000</td>\n",
       "      <td>1.000000</td>\n",
       "    </tr>\n",
       "    <tr>\n",
       "      <th>25%</th>\n",
       "      <td>72.409621</td>\n",
       "      <td>86.982912</td>\n",
       "      <td>29.885955</td>\n",
       "      <td>12.720078</td>\n",
       "      <td>1.362659</td>\n",
       "      <td>59.561719</td>\n",
       "      <td>2.123508</td>\n",
       "      <td>31.915813</td>\n",
       "      <td>2.601402</td>\n",
       "      <td>87.632382</td>\n",
       "      <td>997.419156</td>\n",
       "      <td>12.036467</td>\n",
       "      <td>4.997298</td>\n",
       "      <td>126.000000</td>\n",
       "      <td>27.495695</td>\n",
       "      <td>100.001894</td>\n",
       "      <td>5.750000</td>\n",
       "      <td>4.000000</td>\n",
       "      <td>2017.000000</td>\n",
       "      <td>26.000000</td>\n",
       "    </tr>\n",
       "    <tr>\n",
       "      <th>50%</th>\n",
       "      <td>128.858172</td>\n",
       "      <td>157.174723</td>\n",
       "      <td>53.404879</td>\n",
       "      <td>25.677423</td>\n",
       "      <td>2.553778</td>\n",
       "      <td>106.706302</td>\n",
       "      <td>15.334326</td>\n",
       "      <td>53.993836</td>\n",
       "      <td>5.206242</td>\n",
       "      <td>178.820576</td>\n",
       "      <td>1014.296950</td>\n",
       "      <td>24.785057</td>\n",
       "      <td>9.850522</td>\n",
       "      <td>248.000000</td>\n",
       "      <td>35.148201</td>\n",
       "      <td>110.181877</td>\n",
       "      <td>11.000000</td>\n",
       "      <td>7.000000</td>\n",
       "      <td>2020.000000</td>\n",
       "      <td>49.000000</td>\n",
       "    </tr>\n",
       "    <tr>\n",
       "      <th>75%</th>\n",
       "      <td>188.579931</td>\n",
       "      <td>228.603910</td>\n",
       "      <td>75.955623</td>\n",
       "      <td>37.755735</td>\n",
       "      <td>3.785613</td>\n",
       "      <td>151.293020</td>\n",
       "      <td>28.016646</td>\n",
       "      <td>77.409183</td>\n",
       "      <td>7.750817</td>\n",
       "      <td>268.835379</td>\n",
       "      <td>1032.671602</td>\n",
       "      <td>37.617215</td>\n",
       "      <td>14.808608</td>\n",
       "      <td>374.000000</td>\n",
       "      <td>42.612931</td>\n",
       "      <td>119.977826</td>\n",
       "      <td>17.000000</td>\n",
       "      <td>10.000000</td>\n",
       "      <td>2022.000000</td>\n",
       "      <td>75.000000</td>\n",
       "    </tr>\n",
       "    <tr>\n",
       "      <th>max</th>\n",
       "      <td>249.847473</td>\n",
       "      <td>299.702293</td>\n",
       "      <td>99.979511</td>\n",
       "      <td>49.989850</td>\n",
       "      <td>4.998658</td>\n",
       "      <td>199.936387</td>\n",
       "      <td>39.959957</td>\n",
       "      <td>99.998108</td>\n",
       "      <td>9.991277</td>\n",
       "      <td>359.881532</td>\n",
       "      <td>1049.997553</td>\n",
       "      <td>49.984126</td>\n",
       "      <td>19.998597</td>\n",
       "      <td>499.000000</td>\n",
       "      <td>49.998873</td>\n",
       "      <td>129.989284</td>\n",
       "      <td>23.000000</td>\n",
       "      <td>12.000000</td>\n",
       "      <td>2024.000000</td>\n",
       "      <td>99.000000</td>\n",
       "    </tr>\n",
       "  </tbody>\n",
       "</table>\n",
       "</div>"
      ],
      "text/plain": [
       "       PM2.5 (µg/m³)  PM10 (µg/m³)  NO2 (µg/m³)  SO2 (µg/m³)   CO (mg/m³)  \\\n",
       "count    3000.000000   3000.000000  3000.000000  3000.000000  3000.000000   \n",
       "mean      130.072742    158.818398    52.948697    25.426127     2.562514   \n",
       "std        68.140050     80.915207    26.905603    14.177923     1.409570   \n",
       "min        10.039019     20.017134     5.005047     1.014693     0.102207   \n",
       "25%        72.409621     86.982912    29.885955    12.720078     1.362659   \n",
       "50%       128.858172    157.174723    53.404879    25.677423     2.553778   \n",
       "75%       188.579931    228.603910    75.955623    37.755735     3.785613   \n",
       "max       249.847473    299.702293    99.979511    49.989850     4.998658   \n",
       "\n",
       "        O3 (µg/m³)  Temperature (°C)  Humidity (%)  Wind Speed (m/s)  \\\n",
       "count  3000.000000       3000.000000   3000.000000       3000.000000   \n",
       "mean    105.613365         15.117060     54.737773          5.137389   \n",
       "std      54.054354         14.719677     26.187670          2.891444   \n",
       "min      10.094551         -9.997818     10.049686          0.002052   \n",
       "25%      59.561719          2.123508     31.915813          2.601402   \n",
       "50%     106.706302         15.334326     53.993836          5.206242   \n",
       "75%     151.293020         28.016646     77.409183          7.750817   \n",
       "max     199.936387         39.959957     99.998108          9.991277   \n",
       "\n",
       "       Wind Direction (°)  Pressure (hPa)  Precipitation (mm)  \\\n",
       "count         3000.000000     3000.000000         3000.000000   \n",
       "mean           179.396411     1014.894063           24.880798   \n",
       "std            104.076767       20.348410           14.638862   \n",
       "min              0.017217      980.020253            0.002508   \n",
       "25%             87.632382      997.419156           12.036467   \n",
       "50%            178.820576     1014.296950           24.785057   \n",
       "75%            268.835379     1032.671602           37.617215   \n",
       "max            359.881532     1049.997553           49.984126   \n",
       "\n",
       "       Visibility (km)          AQI     Latitude    Longitude         Hour  \\\n",
       "count      3000.000000  3000.000000  3000.000000  3000.000000  3000.000000   \n",
       "mean          9.900773   249.639667    35.037328   110.072445    11.289667   \n",
       "std           5.751453   143.396118     8.666335    11.604091     6.835057   \n",
       "min           0.103173     0.000000    20.005034    90.006533     0.000000   \n",
       "25%           4.997298   126.000000    27.495695   100.001894     5.750000   \n",
       "50%           9.850522   248.000000    35.148201   110.181877    11.000000   \n",
       "75%          14.808608   374.000000    42.612931   119.977826    17.000000   \n",
       "max          19.998597   499.000000    49.998873   129.989284    23.000000   \n",
       "\n",
       "             Month         Year   Station ID  \n",
       "count  3000.000000  3000.000000  3000.000000  \n",
       "mean      6.537333  2019.555333    50.164667  \n",
       "std       3.441204     2.850669    28.807838  \n",
       "min       1.000000  2015.000000     1.000000  \n",
       "25%       4.000000  2017.000000    26.000000  \n",
       "50%       7.000000  2020.000000    49.000000  \n",
       "75%      10.000000  2022.000000    75.000000  \n",
       "max      12.000000  2024.000000    99.000000  "
      ]
     },
     "execution_count": 172,
     "metadata": {},
     "output_type": "execute_result"
    }
   ],
   "source": [
    "pollution.describe() # Checking summary statistics for each column"
   ]
  },
  {
   "cell_type": "markdown",
   "id": "256a8bdb",
   "metadata": {},
   "source": [
    "We'll also check the distribution of these pollutant values visually.\n",
    "\n",
    "First, we must select the relevant data only and covert it into a format that makes it easier for us to plot."
   ]
  },
  {
   "cell_type": "code",
   "execution_count": 173,
   "id": "f81e87b7",
   "metadata": {},
   "outputs": [
    {
     "data": {
      "application/vnd.microsoft.datawrangler.viewer.v0+json": {
       "columns": [
        {
         "name": "index",
         "rawType": "int64",
         "type": "integer"
        },
        {
         "name": "Pollutant",
         "rawType": "object",
         "type": "string"
        },
        {
         "name": "Concentration",
         "rawType": "float64",
         "type": "float"
        }
       ],
       "conversionMethod": "pd.DataFrame",
       "ref": "114096bf-45f1-4b45-88ab-e77c8e0dd570",
       "rows": [
        [
         "0",
         "PM2.5 (µg/m³)",
         "94.43733659950782"
        ],
        [
         "1",
         "PM2.5 (µg/m³)",
         "194.1747895640595"
        ],
        [
         "2",
         "PM2.5 (µg/m³)",
         "45.03766145475919"
        ],
        [
         "3",
         "PM2.5 (µg/m³)",
         "76.13185664614909"
        ],
        [
         "4",
         "PM2.5 (µg/m³)",
         "204.12792850538224"
        ]
       ],
       "shape": {
        "columns": 2,
        "rows": 5
       }
      },
      "text/html": [
       "<div>\n",
       "<style scoped>\n",
       "    .dataframe tbody tr th:only-of-type {\n",
       "        vertical-align: middle;\n",
       "    }\n",
       "\n",
       "    .dataframe tbody tr th {\n",
       "        vertical-align: top;\n",
       "    }\n",
       "\n",
       "    .dataframe thead th {\n",
       "        text-align: right;\n",
       "    }\n",
       "</style>\n",
       "<table border=\"1\" class=\"dataframe\">\n",
       "  <thead>\n",
       "    <tr style=\"text-align: right;\">\n",
       "      <th></th>\n",
       "      <th>Pollutant</th>\n",
       "      <th>Concentration</th>\n",
       "    </tr>\n",
       "  </thead>\n",
       "  <tbody>\n",
       "    <tr>\n",
       "      <th>0</th>\n",
       "      <td>PM2.5 (µg/m³)</td>\n",
       "      <td>94.437337</td>\n",
       "    </tr>\n",
       "    <tr>\n",
       "      <th>1</th>\n",
       "      <td>PM2.5 (µg/m³)</td>\n",
       "      <td>194.174790</td>\n",
       "    </tr>\n",
       "    <tr>\n",
       "      <th>2</th>\n",
       "      <td>PM2.5 (µg/m³)</td>\n",
       "      <td>45.037661</td>\n",
       "    </tr>\n",
       "    <tr>\n",
       "      <th>3</th>\n",
       "      <td>PM2.5 (µg/m³)</td>\n",
       "      <td>76.131857</td>\n",
       "    </tr>\n",
       "    <tr>\n",
       "      <th>4</th>\n",
       "      <td>PM2.5 (µg/m³)</td>\n",
       "      <td>204.127929</td>\n",
       "    </tr>\n",
       "  </tbody>\n",
       "</table>\n",
       "</div>"
      ],
      "text/plain": [
       "       Pollutant  Concentration\n",
       "0  PM2.5 (µg/m³)      94.437337\n",
       "1  PM2.5 (µg/m³)     194.174790\n",
       "2  PM2.5 (µg/m³)      45.037661\n",
       "3  PM2.5 (µg/m³)      76.131857\n",
       "4  PM2.5 (µg/m³)     204.127929"
      ]
     },
     "execution_count": 173,
     "metadata": {},
     "output_type": "execute_result"
    }
   ],
   "source": [
    "# We'll select pollutants only and reformat the dataframe for easier plotting\n",
    "pollutants_only_df = pollution[['PM2.5 (µg/m³)', 'PM10 (µg/m³)', 'NO2 (µg/m³)', 'SO2 (µg/m³)', 'CO (mg/m³)', 'O3 (µg/m³)', 'AQI']]\n",
    "pollutants_only_df = pollutants_only_df.melt(var_name='Pollutant', value_name='Concentration')\n",
    "pollutants_only_df.head()"
   ]
  },
  {
   "cell_type": "markdown",
   "id": "7d086ed8",
   "metadata": {},
   "source": [
    "Now we can proceed with the visual distribution of each pollutant. We'll use histograms to understand the distribution."
   ]
  },
  {
   "cell_type": "code",
   "execution_count": 174,
   "id": "7bd7c90a",
   "metadata": {},
   "outputs": [
    {
     "data": {
      "application/vnd.plotly.v1+json": {
       "config": {
        "plotlyServerURL": "https://plot.ly"
       },
       "data": [
        {
         "bingroup": "x",
         "hovertemplate": "Pollutant=PM2.5 (µg/m³)<br>Concentration=%{x}<br>count=%{y}<extra></extra>",
         "legendgroup": "",
         "marker": {
          "color": "#636efa",
          "pattern": {
           "shape": ""
          }
         },
         "name": "",
         "orientation": "v",
         "showlegend": false,
         "type": "histogram",
         "x": {
          "bdata": "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",
          "dtype": "f8"
         },
         "xaxis": "x7",
         "yaxis": "y7"
        },
        {
         "bingroup": "x",
         "hovertemplate": "Pollutant=PM10 (µg/m³)<br>Concentration=%{x}<br>count=%{y}<extra></extra>",
         "legendgroup": "",
         "marker": {
          "color": "#636efa",
          "pattern": {
           "shape": ""
          }
         },
         "name": "",
         "orientation": "v",
         "showlegend": false,
         "type": "histogram",
         "x": {
          "bdata": "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",
          "dtype": "f8"
         },
         "xaxis": "x8",
         "yaxis": "y8"
        },
        {
         "bingroup": "x",
         "hovertemplate": "Pollutant=NO2 (µg/m³)<br>Concentration=%{x}<br>count=%{y}<extra></extra>",
         "legendgroup": "",
         "marker": {
          "color": "#636efa",
          "pattern": {
           "shape": ""
          }
         },
         "name": "",
         "orientation": "v",
         "showlegend": false,
         "type": "histogram",
         "x": {
          "bdata": "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",
          "dtype": "f8"
         },
         "xaxis": "x5",
         "yaxis": "y5"
        },
        {
         "bingroup": "x",
         "hovertemplate": "Pollutant=SO2 (µg/m³)<br>Concentration=%{x}<br>count=%{y}<extra></extra>",
         "legendgroup": "",
         "marker": {
          "color": "#636efa",
          "pattern": {
           "shape": ""
          }
         },
         "name": "",
         "orientation": "v",
         "showlegend": false,
         "type": "histogram",
         "x": {
          "bdata": "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",
          "dtype": "f8"
         },
         "xaxis": "x6",
         "yaxis": "y6"
        },
        {
         "bingroup": "x",
         "hovertemplate": "Pollutant=CO (mg/m³)<br>Concentration=%{x}<br>count=%{y}<extra></extra>",
         "legendgroup": "",
         "marker": {
          "color": "#636efa",
          "pattern": {
           "shape": ""
          }
         },
         "name": "",
         "orientation": "v",
         "showlegend": false,
         "type": "histogram",
         "x": {
          "bdata": "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",
          "dtype": "f8"
         },
         "xaxis": "x3",
         "yaxis": "y3"
        },
        {
         "bingroup": "x",
         "hovertemplate": "Pollutant=O3 (µg/m³)<br>Concentration=%{x}<br>count=%{y}<extra></extra>",
         "legendgroup": "",
         "marker": {
          "color": "#636efa",
          "pattern": {
           "shape": ""
          }
         },
         "name": "",
         "orientation": "v",
         "showlegend": false,
         "type": "histogram",
         "x": {
          "bdata": "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",
          "dtype": "f8"
         },
         "xaxis": "x4",
         "yaxis": "y4"
        },
        {
         "bingroup": "x",
         "hovertemplate": "Pollutant=AQI<br>Concentration=%{x}<br>count=%{y}<extra></extra>",
         "legendgroup": "",
         "marker": {
          "color": "#636efa",
          "pattern": {
           "shape": ""
          }
         },
         "name": "",
         "orientation": "v",
         "showlegend": false,
         "type": "histogram",
         "x": {
          "bdata": "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",
          "dtype": "f8"
         },
         "xaxis": "x",
         "yaxis": "y"
        }
       ],
       "layout": {
        "annotations": [
         {
          "font": {},
          "showarrow": false,
          "text": "Pollutant=AQI",
          "x": 0.23,
          "xanchor": "center",
          "xref": "paper",
          "y": 0.1975,
          "yanchor": "bottom",
          "yref": "paper"
         },
         {
          "font": {},
          "showarrow": false,
          "text": "Pollutant=CO (mg/m³)",
          "x": 0.23,
          "xanchor": "center",
          "xref": "paper",
          "y": 0.465,
          "yanchor": "bottom",
          "yref": "paper"
         },
         {
          "font": {},
          "showarrow": false,
          "text": "Pollutant=O3 (µg/m³)",
          "x": 0.77,
          "xanchor": "center",
          "xref": "paper",
          "y": 0.465,
          "yanchor": "bottom",
          "yref": "paper"
         },
         {
          "font": {},
          "showarrow": false,
          "text": "Pollutant=NO2 (µg/m³)",
          "x": 0.23,
          "xanchor": "center",
          "xref": "paper",
          "y": 0.7325,
          "yanchor": "bottom",
          "yref": "paper"
         },
         {
          "font": {},
          "showarrow": false,
          "text": "Pollutant=SO2 (µg/m³)",
          "x": 0.77,
          "xanchor": "center",
          "xref": "paper",
          "y": 0.7325,
          "yanchor": "bottom",
          "yref": "paper"
         },
         {
          "font": {},
          "showarrow": false,
          "text": "Pollutant=PM2.5 (µg/m³)",
          "x": 0.23,
          "xanchor": "center",
          "xref": "paper",
          "y": 1,
          "yanchor": "bottom",
          "yref": "paper"
         },
         {
          "font": {},
          "showarrow": false,
          "text": "Pollutant=PM10 (µg/m³)",
          "x": 0.77,
          "xanchor": "center",
          "xref": "paper",
          "y": 1,
          "yanchor": "bottom",
          "yref": "paper"
         }
        ],
        "barmode": "relative",
        "height": 1500,
        "legend": {
         "tracegroupgap": 0
        },
        "margin": {
         "t": 60
        },
        "template": {
         "data": {
          "bar": [
           {
            "error_x": {
             "color": "#2a3f5f"
            },
            "error_y": {
             "color": "#2a3f5f"
            },
            "marker": {
             "line": {
              "color": "#E5ECF6",
              "width": 0.5
             },
             "pattern": {
              "fillmode": "overlay",
              "size": 10,
              "solidity": 0.2
             }
            },
            "type": "bar"
           }
          ],
          "barpolar": [
           {
            "marker": {
             "line": {
              "color": "#E5ECF6",
              "width": 0.5
             },
             "pattern": {
              "fillmode": "overlay",
              "size": 10,
              "solidity": 0.2
             }
            },
            "type": "barpolar"
           }
          ],
          "carpet": [
           {
            "aaxis": {
             "endlinecolor": "#2a3f5f",
             "gridcolor": "white",
             "linecolor": "white",
             "minorgridcolor": "white",
             "startlinecolor": "#2a3f5f"
            },
            "baxis": {
             "endlinecolor": "#2a3f5f",
             "gridcolor": "white",
             "linecolor": "white",
             "minorgridcolor": "white",
             "startlinecolor": "#2a3f5f"
            },
            "type": "carpet"
           }
          ],
          "choropleth": [
           {
            "colorbar": {
             "outlinewidth": 0,
             "ticks": ""
            },
            "type": "choropleth"
           }
          ],
          "contour": [
           {
            "colorbar": {
             "outlinewidth": 0,
             "ticks": ""
            },
            "colorscale": [
             [
              0,
              "#0d0887"
             ],
             [
              0.1111111111111111,
              "#46039f"
             ],
             [
              0.2222222222222222,
              "#7201a8"
             ],
             [
              0.3333333333333333,
              "#9c179e"
             ],
             [
              0.4444444444444444,
              "#bd3786"
             ],
             [
              0.5555555555555556,
              "#d8576b"
             ],
             [
              0.6666666666666666,
              "#ed7953"
             ],
             [
              0.7777777777777778,
              "#fb9f3a"
             ],
             [
              0.8888888888888888,
              "#fdca26"
             ],
             [
              1,
              "#f0f921"
             ]
            ],
            "type": "contour"
           }
          ],
          "contourcarpet": [
           {
            "colorbar": {
             "outlinewidth": 0,
             "ticks": ""
            },
            "type": "contourcarpet"
           }
          ],
          "heatmap": [
           {
            "colorbar": {
             "outlinewidth": 0,
             "ticks": ""
            },
            "colorscale": [
             [
              0,
              "#0d0887"
             ],
             [
              0.1111111111111111,
              "#46039f"
             ],
             [
              0.2222222222222222,
              "#7201a8"
             ],
             [
              0.3333333333333333,
              "#9c179e"
             ],
             [
              0.4444444444444444,
              "#bd3786"
             ],
             [
              0.5555555555555556,
              "#d8576b"
             ],
             [
              0.6666666666666666,
              "#ed7953"
             ],
             [
              0.7777777777777778,
              "#fb9f3a"
             ],
             [
              0.8888888888888888,
              "#fdca26"
             ],
             [
              1,
              "#f0f921"
             ]
            ],
            "type": "heatmap"
           }
          ],
          "histogram": [
           {
            "marker": {
             "pattern": {
              "fillmode": "overlay",
              "size": 10,
              "solidity": 0.2
             }
            },
            "type": "histogram"
           }
          ],
          "histogram2d": [
           {
            "colorbar": {
             "outlinewidth": 0,
             "ticks": ""
            },
            "colorscale": [
             [
              0,
              "#0d0887"
             ],
             [
              0.1111111111111111,
              "#46039f"
             ],
             [
              0.2222222222222222,
              "#7201a8"
             ],
             [
              0.3333333333333333,
              "#9c179e"
             ],
             [
              0.4444444444444444,
              "#bd3786"
             ],
             [
              0.5555555555555556,
              "#d8576b"
             ],
             [
              0.6666666666666666,
              "#ed7953"
             ],
             [
              0.7777777777777778,
              "#fb9f3a"
             ],
             [
              0.8888888888888888,
              "#fdca26"
             ],
             [
              1,
              "#f0f921"
             ]
            ],
            "type": "histogram2d"
           }
          ],
          "histogram2dcontour": [
           {
            "colorbar": {
             "outlinewidth": 0,
             "ticks": ""
            },
            "colorscale": [
             [
              0,
              "#0d0887"
             ],
             [
              0.1111111111111111,
              "#46039f"
             ],
             [
              0.2222222222222222,
              "#7201a8"
             ],
             [
              0.3333333333333333,
              "#9c179e"
             ],
             [
              0.4444444444444444,
              "#bd3786"
             ],
             [
              0.5555555555555556,
              "#d8576b"
             ],
             [
              0.6666666666666666,
              "#ed7953"
             ],
             [
              0.7777777777777778,
              "#fb9f3a"
             ],
             [
              0.8888888888888888,
              "#fdca26"
             ],
             [
              1,
              "#f0f921"
             ]
            ],
            "type": "histogram2dcontour"
           }
          ],
          "mesh3d": [
           {
            "colorbar": {
             "outlinewidth": 0,
             "ticks": ""
            },
            "type": "mesh3d"
           }
          ],
          "parcoords": [
           {
            "line": {
             "colorbar": {
              "outlinewidth": 0,
              "ticks": ""
             }
            },
            "type": "parcoords"
           }
          ],
          "pie": [
           {
            "automargin": true,
            "type": "pie"
           }
          ],
          "scatter": [
           {
            "fillpattern": {
             "fillmode": "overlay",
             "size": 10,
             "solidity": 0.2
            },
            "type": "scatter"
           }
          ],
          "scatter3d": [
           {
            "line": {
             "colorbar": {
              "outlinewidth": 0,
              "ticks": ""
             }
            },
            "marker": {
             "colorbar": {
              "outlinewidth": 0,
              "ticks": ""
             }
            },
            "type": "scatter3d"
           }
          ],
          "scattercarpet": [
           {
            "marker": {
             "colorbar": {
              "outlinewidth": 0,
              "ticks": ""
             }
            },
            "type": "scattercarpet"
           }
          ],
          "scattergeo": [
           {
            "marker": {
             "colorbar": {
              "outlinewidth": 0,
              "ticks": ""
             }
            },
            "type": "scattergeo"
           }
          ],
          "scattergl": [
           {
            "marker": {
             "colorbar": {
              "outlinewidth": 0,
              "ticks": ""
             }
            },
            "type": "scattergl"
           }
          ],
          "scattermap": [
           {
            "marker": {
             "colorbar": {
              "outlinewidth": 0,
              "ticks": ""
             }
            },
            "type": "scattermap"
           }
          ],
          "scattermapbox": [
           {
            "marker": {
             "colorbar": {
              "outlinewidth": 0,
              "ticks": ""
             }
            },
            "type": "scattermapbox"
           }
          ],
          "scatterpolar": [
           {
            "marker": {
             "colorbar": {
              "outlinewidth": 0,
              "ticks": ""
             }
            },
            "type": "scatterpolar"
           }
          ],
          "scatterpolargl": [
           {
            "marker": {
             "colorbar": {
              "outlinewidth": 0,
              "ticks": ""
             }
            },
            "type": "scatterpolargl"
           }
          ],
          "scatterternary": [
           {
            "marker": {
             "colorbar": {
              "outlinewidth": 0,
              "ticks": ""
             }
            },
            "type": "scatterternary"
           }
          ],
          "surface": [
           {
            "colorbar": {
             "outlinewidth": 0,
             "ticks": ""
            },
            "colorscale": [
             [
              0,
              "#0d0887"
             ],
             [
              0.1111111111111111,
              "#46039f"
             ],
             [
              0.2222222222222222,
              "#7201a8"
             ],
             [
              0.3333333333333333,
              "#9c179e"
             ],
             [
              0.4444444444444444,
              "#bd3786"
             ],
             [
              0.5555555555555556,
              "#d8576b"
             ],
             [
              0.6666666666666666,
              "#ed7953"
             ],
             [
              0.7777777777777778,
              "#fb9f3a"
             ],
             [
              0.8888888888888888,
              "#fdca26"
             ],
             [
              1,
              "#f0f921"
             ]
            ],
            "type": "surface"
           }
          ],
          "table": [
           {
            "cells": {
             "fill": {
              "color": "#EBF0F8"
             },
             "line": {
              "color": "white"
             }
            },
            "header": {
             "fill": {
              "color": "#C8D4E3"
             },
             "line": {
              "color": "white"
             }
            },
            "type": "table"
           }
          ]
         },
         "layout": {
          "annotationdefaults": {
           "arrowcolor": "#2a3f5f",
           "arrowhead": 0,
           "arrowwidth": 1
          },
          "autotypenumbers": "strict",
          "coloraxis": {
           "colorbar": {
            "outlinewidth": 0,
            "ticks": ""
           }
          },
          "colorscale": {
           "diverging": [
            [
             0,
             "#8e0152"
            ],
            [
             0.1,
             "#c51b7d"
            ],
            [
             0.2,
             "#de77ae"
            ],
            [
             0.3,
             "#f1b6da"
            ],
            [
             0.4,
             "#fde0ef"
            ],
            [
             0.5,
             "#f7f7f7"
            ],
            [
             0.6,
             "#e6f5d0"
            ],
            [
             0.7,
             "#b8e186"
            ],
            [
             0.8,
             "#7fbc41"
            ],
            [
             0.9,
             "#4d9221"
            ],
            [
             1,
             "#276419"
            ]
           ],
           "sequential": [
            [
             0,
             "#0d0887"
            ],
            [
             0.1111111111111111,
             "#46039f"
            ],
            [
             0.2222222222222222,
             "#7201a8"
            ],
            [
             0.3333333333333333,
             "#9c179e"
            ],
            [
             0.4444444444444444,
             "#bd3786"
            ],
            [
             0.5555555555555556,
             "#d8576b"
            ],
            [
             0.6666666666666666,
             "#ed7953"
            ],
            [
             0.7777777777777778,
             "#fb9f3a"
            ],
            [
             0.8888888888888888,
             "#fdca26"
            ],
            [
             1,
             "#f0f921"
            ]
           ],
           "sequentialminus": [
            [
             0,
             "#0d0887"
            ],
            [
             0.1111111111111111,
             "#46039f"
            ],
            [
             0.2222222222222222,
             "#7201a8"
            ],
            [
             0.3333333333333333,
             "#9c179e"
            ],
            [
             0.4444444444444444,
             "#bd3786"
            ],
            [
             0.5555555555555556,
             "#d8576b"
            ],
            [
             0.6666666666666666,
             "#ed7953"
            ],
            [
             0.7777777777777778,
             "#fb9f3a"
            ],
            [
             0.8888888888888888,
             "#fdca26"
            ],
            [
             1,
             "#f0f921"
            ]
           ]
          },
          "colorway": [
           "#636efa",
           "#EF553B",
           "#00cc96",
           "#ab63fa",
           "#FFA15A",
           "#19d3f3",
           "#FF6692",
           "#B6E880",
           "#FF97FF",
           "#FECB52"
          ],
          "font": {
           "color": "#2a3f5f"
          },
          "geo": {
           "bgcolor": "white",
           "lakecolor": "white",
           "landcolor": "#E5ECF6",
           "showlakes": true,
           "showland": true,
           "subunitcolor": "white"
          },
          "hoverlabel": {
           "align": "left"
          },
          "hovermode": "closest",
          "mapbox": {
           "style": "light"
          },
          "paper_bgcolor": "white",
          "plot_bgcolor": "#E5ECF6",
          "polar": {
           "angularaxis": {
            "gridcolor": "white",
            "linecolor": "white",
            "ticks": ""
           },
           "bgcolor": "#E5ECF6",
           "radialaxis": {
            "gridcolor": "white",
            "linecolor": "white",
            "ticks": ""
           }
          },
          "scene": {
           "xaxis": {
            "backgroundcolor": "#E5ECF6",
            "gridcolor": "white",
            "gridwidth": 2,
            "linecolor": "white",
            "showbackground": true,
            "ticks": "",
            "zerolinecolor": "white"
           },
           "yaxis": {
            "backgroundcolor": "#E5ECF6",
            "gridcolor": "white",
            "gridwidth": 2,
            "linecolor": "white",
            "showbackground": true,
            "ticks": "",
            "zerolinecolor": "white"
           },
           "zaxis": {
            "backgroundcolor": "#E5ECF6",
            "gridcolor": "white",
            "gridwidth": 2,
            "linecolor": "white",
            "showbackground": true,
            "ticks": "",
            "zerolinecolor": "white"
           }
          },
          "shapedefaults": {
           "line": {
            "color": "#2a3f5f"
           }
          },
          "ternary": {
           "aaxis": {
            "gridcolor": "white",
            "linecolor": "white",
            "ticks": ""
           },
           "baxis": {
            "gridcolor": "white",
            "linecolor": "white",
            "ticks": ""
           },
           "bgcolor": "#E5ECF6",
           "caxis": {
            "gridcolor": "white",
            "linecolor": "white",
            "ticks": ""
           }
          },
          "title": {
           "x": 0.05
          },
          "xaxis": {
           "automargin": true,
           "gridcolor": "white",
           "linecolor": "white",
           "ticks": "",
           "title": {
            "standoff": 15
           },
           "zerolinecolor": "white",
           "zerolinewidth": 2
          },
          "yaxis": {
           "automargin": true,
           "gridcolor": "white",
           "linecolor": "white",
           "ticks": "",
           "title": {
            "standoff": 15
           },
           "zerolinecolor": "white",
           "zerolinewidth": 2
          }
         }
        },
        "width": 1000,
        "xaxis": {
         "anchor": "y",
         "domain": [
          0,
          0.46
         ],
         "showticklabels": true,
         "title": {
          "text": "Concentration"
         }
        },
        "xaxis2": {
         "anchor": "y2",
         "domain": [
          0.54,
          1
         ],
         "showticklabels": true,
         "title": {
          "text": "Concentration"
         }
        },
        "xaxis3": {
         "anchor": "y3",
         "domain": [
          0,
          0.46
         ],
         "showticklabels": true
        },
        "xaxis4": {
         "anchor": "y4",
         "domain": [
          0.54,
          1
         ],
         "showticklabels": true
        },
        "xaxis5": {
         "anchor": "y5",
         "domain": [
          0,
          0.46
         ],
         "showticklabels": true
        },
        "xaxis6": {
         "anchor": "y6",
         "domain": [
          0.54,
          1
         ],
         "showticklabels": true
        },
        "xaxis7": {
         "anchor": "y7",
         "domain": [
          0,
          0.46
         ],
         "showticklabels": true
        },
        "xaxis8": {
         "anchor": "y8",
         "domain": [
          0.54,
          1
         ],
         "showticklabels": true
        },
        "yaxis": {
         "anchor": "x",
         "domain": [
          0,
          0.1975
         ],
         "showticklabels": true,
         "title": {
          "text": "count"
         }
        },
        "yaxis2": {
         "anchor": "x2",
         "domain": [
          0,
          0.1975
         ],
         "showticklabels": true
        },
        "yaxis3": {
         "anchor": "x3",
         "domain": [
          0.2675,
          0.465
         ],
         "showticklabels": true,
         "title": {
          "text": "count"
         }
        },
        "yaxis4": {
         "anchor": "x4",
         "domain": [
          0.2675,
          0.465
         ],
         "showticklabels": true
        },
        "yaxis5": {
         "anchor": "x5",
         "domain": [
          0.535,
          0.7325
         ],
         "showticklabels": true,
         "title": {
          "text": "count"
         }
        },
        "yaxis6": {
         "anchor": "x6",
         "domain": [
          0.535,
          0.7325
         ],
         "showticklabels": true
        },
        "yaxis7": {
         "anchor": "x7",
         "domain": [
          0.8025,
          1
         ],
         "showticklabels": true,
         "title": {
          "text": "count"
         }
        },
        "yaxis8": {
         "anchor": "x8",
         "domain": [
          0.8025,
          1
         ],
         "showticklabels": true
        }
       }
      }
     },
     "metadata": {},
     "output_type": "display_data"
    }
   ],
   "source": [
    "fig = px.histogram(pollutants_only_df, x='Concentration', facet_col='Pollutant', facet_col_wrap=2, facet_col_spacing=0.08)\n",
    "fig.update_xaxes(matches=None, showticklabels=True) # matches none to avoid sharing x-axis for different pollutants\n",
    "fig.update_yaxes(matches=None, showticklabels=True)\n",
    "fig.update_layout(height=1500, width=1000)\n",
    "fig.show()"
   ]
  },
  {
   "cell_type": "markdown",
   "id": "bea8e986",
   "metadata": {},
   "source": [
    "As we can see, there is a lot of variability in distribution for each pollutant with no major discernable patterns to drive conclusions."
   ]
  },
  {
   "cell_type": "markdown",
   "id": "271006399c80d9a6",
   "metadata": {},
   "source": [
    "### Pollution Trends Over Time\n",
    "\n",
    "In this section, we'll investigate pollution trends over time, particularly focusing on PM2.5 particulate matter & AQI across different cities to inspect any increase or decrease."
   ]
  },
  {
   "cell_type": "code",
   "execution_count": 175,
   "id": "5e883909e781cc27",
   "metadata": {
    "ExecuteTime": {
     "end_time": "2025-04-20T12:56:34.658011Z",
     "start_time": "2025-04-20T12:56:34.629129Z"
    }
   },
   "outputs": [],
   "source": [
    "# We'll group the data by city and year and calculate mean AQI and PM2.5 and reformat again for easier plotting\n",
    "city_year_grouped_df = pollution.groupby([\"City\", \"Year\"])[[\"PM2.5 (µg/m³)\", 'AQI']].mean().reset_index() # Grouping data by city and year and calculateing mean AQI \n",
    "\n",
    "# NOTE: Rest index is used to convert the grouped data back into columns\n",
    "\n",
    "city_year_grouped_df = city_year_grouped_df.melt(id_vars=[ \"City\", \"Year\"], var_name='Pollutant', value_name='Concentration')"
   ]
  },
  {
   "cell_type": "code",
   "execution_count": 176,
   "id": "cde720dd60828701",
   "metadata": {
    "ExecuteTime": {
     "end_time": "2025-04-20T12:56:37.828094Z",
     "start_time": "2025-04-20T12:56:35.993457Z"
    }
   },
   "outputs": [
    {
     "name": "stdout",
     "output_type": "stream",
     "text": [
      "Tip: Hover over the datapoints to preview data labels\n"
     ]
    },
    {
     "data": {
      "application/vnd.plotly.v1+json": {
       "config": {
        "plotlyServerURL": "https://plot.ly"
       },
       "data": [
        {
         "hovertemplate": "Pollutant=PM2.5 (µg/m³)<br>City=Beijing<br>Year=%{x}<br>Concentration=%{y}<extra></extra>",
         "legendgroup": "",
         "line": {
          "color": "#636efa",
          "dash": "solid"
         },
         "marker": {
          "symbol": "circle"
         },
         "mode": "lines+markers",
         "name": "",
         "orientation": "v",
         "showlegend": false,
         "type": "scatter",
         "x": {
          "bdata": "3wfgB+EH4gfjB+QH5QfmB+cH6Ac=",
          "dtype": "i2"
         },
         "xaxis": "x6",
         "y": {
          "bdata": "PClud3TfYUBZ2wV3C3FgQM0pnJdBiV5AjqTA5fSjX0BNapjYgYNdQL9FzGKBpmFA1hqvdq51X0CXCXsKOOdeQIPwXtC6pF5AEoApJXnPXkA=",
          "dtype": "f8"
         },
         "yaxis": "y6"
        },
        {
         "hovertemplate": "Pollutant=PM2.5 (µg/m³)<br>City=Chengdu<br>Year=%{x}<br>Concentration=%{y}<extra></extra>",
         "legendgroup": "",
         "line": {
          "color": "#636efa",
          "dash": "solid"
         },
         "marker": {
          "symbol": "circle"
         },
         "mode": "lines+markers",
         "name": "",
         "orientation": "v",
         "showlegend": false,
         "type": "scatter",
         "x": {
          "bdata": "3wfgB+EH4gfjB+QH5QfmB+cH6Ac=",
          "dtype": "i2"
         },
         "xaxis": "x7",
         "y": {
          "bdata": "v/1TIB+BXkDU6kJhGpddQB9LEiqJqGNAv1vYzz+mYECBUZmEg89hQHPCphcQxl5AvnPVbzwSYECQnJWGa55gQLYP53JiaF5A+sGO3mUpYUA=",
          "dtype": "f8"
         },
         "yaxis": "y7"
        },
        {
         "hovertemplate": "Pollutant=PM2.5 (µg/m³)<br>City=Guangzhou<br>Year=%{x}<br>Concentration=%{y}<extra></extra>",
         "legendgroup": "",
         "line": {
          "color": "#636efa",
          "dash": "solid"
         },
         "marker": {
          "symbol": "circle"
         },
         "mode": "lines+markers",
         "name": "",
         "orientation": "v",
         "showlegend": false,
         "type": "scatter",
         "x": {
          "bdata": "3wfgB+EH4gfjB+QH5QfmB+cH6Ac=",
          "dtype": "i2"
         },
         "xaxis": "x8",
         "y": {
          "bdata": "2jsyomSPYUC+AXZlX/RgQLe+epicuV9A+OtC8lZWYECr23ox4nRdQG+xrYC0QmBAsJnS9+yBXEBVmFb2SophQN6+y/0LcmBAbB+wGXFvXkA=",
          "dtype": "f8"
         },
         "yaxis": "y8"
        },
        {
         "hovertemplate": "Pollutant=PM2.5 (µg/m³)<br>City=Shanghai<br>Year=%{x}<br>Concentration=%{y}<extra></extra>",
         "legendgroup": "",
         "line": {
          "color": "#636efa",
          "dash": "solid"
         },
         "marker": {
          "symbol": "circle"
         },
         "mode": "lines+markers",
         "name": "",
         "orientation": "v",
         "showlegend": false,
         "type": "scatter",
         "x": {
          "bdata": "3wfgB+EH4gfjB+QH5QfmB+cH6Ac=",
          "dtype": "i2"
         },
         "xaxis": "x9",
         "y": {
          "bdata": "2nwpriNSXEC09Lgy5bFgQDXqgZMQB2FAqzy0w/ceYEC/YOniES9hQBs1qf9SsGBA3A7S6DRhXkDNy+5QxjRhQJEZLrQrOWNATzq6H6OTYUA=",
          "dtype": "f8"
         },
         "yaxis": "y9"
        },
        {
         "hovertemplate": "Pollutant=PM2.5 (µg/m³)<br>City=Shenzhen<br>Year=%{x}<br>Concentration=%{y}<extra></extra>",
         "legendgroup": "",
         "line": {
          "color": "#636efa",
          "dash": "solid"
         },
         "marker": {
          "symbol": "circle"
         },
         "mode": "lines+markers",
         "name": "",
         "orientation": "v",
         "showlegend": false,
         "type": "scatter",
         "x": {
          "bdata": "3wfgB+EH4gfjB+QH5QfmB+cH6Ac=",
          "dtype": "i2"
         },
         "xaxis": "x10",
         "y": {
          "bdata": "RKbUgPaEYEAMAHQIyYFcQEJQcnLReF9AZb9LvJTlYECdXfg5MUNfQEVJ6BhDDmFAyWNxgARSYECbOxEPkIRfQEprKC/u3mBAbfe9heppX0A=",
          "dtype": "f8"
         },
         "yaxis": "y10"
        },
        {
         "hovertemplate": "Pollutant=AQI<br>City=Beijing<br>Year=%{x}<br>Concentration=%{y}<extra></extra>",
         "legendgroup": "",
         "line": {
          "color": "#636efa",
          "dash": "solid"
         },
         "marker": {
          "symbol": "circle"
         },
         "mode": "lines+markers",
         "name": "",
         "orientation": "v",
         "showlegend": false,
         "type": "scatter",
         "x": {
          "bdata": "3wfgB+EH4gfjB+QH5QfmB+cH6Ac=",
          "dtype": "i2"
         },
         "xaxis": "x",
         "y": {
          "bdata": "WR8a60Nja0AqeDkFLxdxQKazmM5ium9AuEs9Gb/da0DNzMzMzNxsQLW0tLS0fG1APusGU+SDcUASrbA5kMhvQAAAAACAyHBAbtu2bdtmbEA=",
          "dtype": "f8"
         },
         "yaxis": "y"
        },
        {
         "hovertemplate": "Pollutant=AQI<br>City=Chengdu<br>Year=%{x}<br>Concentration=%{y}<extra></extra>",
         "legendgroup": "",
         "line": {
          "color": "#636efa",
          "dash": "solid"
         },
         "marker": {
          "symbol": "circle"
         },
         "mode": "lines+markers",
         "name": "",
         "orientation": "v",
         "showlegend": false,
         "type": "scatter",
         "x": {
          "bdata": "3wfgB+EH4gfjB+QH5QfmB+cH6Ac=",
          "dtype": "i2"
         },
         "xaxis": "x2",
         "y": {
          "bdata": "Ccs9jbDsbUANJ3VfHutwQPscUhOM125AzczMzMxsbEAuW7Zs2fJsQPuGtW9Ym2xAntiJndhRbkBUXDIE64hwQMomm2yyyXBAn+KSIVgXcEA=",
          "dtype": "f8"
         },
         "yaxis": "y2"
        },
        {
         "hovertemplate": "Pollutant=AQI<br>City=Guangzhou<br>Year=%{x}<br>Concentration=%{y}<extra></extra>",
         "legendgroup": "",
         "line": {
          "color": "#636efa",
          "dash": "solid"
         },
         "marker": {
          "symbol": "circle"
         },
         "mode": "lines+markers",
         "name": "",
         "orientation": "v",
         "showlegend": false,
         "type": "scatter",
         "x": {
          "bdata": "3wfgB+EH4gfjB+QH5QfmB+cH6Ac=",
          "dtype": "i2"
         },
         "xaxis": "x3",
         "y": {
          "bdata": "wcspeDlFaUApXI/C9WhvQCGEEEIIgW1AvoT2EtoLcUC3bdu2bY9tQOecc84513JAVwQNJ3VfcECyPjTWhyZvQO5phOWeBmtAzczMzMwMbUA=",
          "dtype": "f8"
         },
         "yaxis": "y3"
        },
        {
         "hovertemplate": "Pollutant=AQI<br>City=Shanghai<br>Year=%{x}<br>Concentration=%{y}<extra></extra>",
         "legendgroup": "",
         "line": {
          "color": "#636efa",
          "dash": "solid"
         },
         "marker": {
          "symbol": "circle"
         },
         "mode": "lines+markers",
         "name": "",
         "orientation": "v",
         "showlegend": false,
         "type": "scatter",
         "x": {
          "bdata": "3wfgB+EH4gfjB+QH5QfmB+cH6Ac=",
          "dtype": "i2"
         },
         "xaxis": "x4",
         "y": {
          "bdata": "hfYS2kvYbkDpkz7pk75vQDFixIgRg25AZmZmZmb2cEA1wXgr+xxwQDI1sHdMLXBAAAAAAAArcUBpaWlpaYFvQGIndmIntnBAsskmm2yCcUA=",
          "dtype": "f8"
         },
         "yaxis": "y4"
        },
        {
         "hovertemplate": "Pollutant=AQI<br>City=Shenzhen<br>Year=%{x}<br>Concentration=%{y}<extra></extra>",
         "legendgroup": "",
         "line": {
          "color": "#636efa",
          "dash": "solid"
         },
         "marker": {
          "symbol": "circle"
         },
         "mode": "lines+markers",
         "name": "",
         "orientation": "v",
         "showlegend": false,
         "type": "scatter",
         "x": {
          "bdata": "3wfgB+EH4gfjB+QH5QfmB+cH6Ac=",
          "dtype": "i2"
         },
         "xaxis": "x5",
         "y": {
          "bdata": "kiRJkiQxcEChvYT2EspoQErdl8dWFHFADMMwDMPwakBoOKn78rhuQNu2bdu2zW5ACtejcD2KbEC2b1j7hlVvQLmnEZZ7SnBAlPgZJX4GcUA=",
          "dtype": "f8"
         },
         "yaxis": "y5"
        }
       ],
       "layout": {
        "annotations": [
         {
          "font": {},
          "showarrow": false,
          "text": "City=Beijing",
          "x": 0.09000000000000001,
          "xanchor": "center",
          "xref": "paper",
          "y": 1,
          "yanchor": "bottom",
          "yref": "paper"
         },
         {
          "font": {},
          "showarrow": false,
          "text": "City=Chengdu",
          "x": 0.29000000000000004,
          "xanchor": "center",
          "xref": "paper",
          "y": 1,
          "yanchor": "bottom",
          "yref": "paper"
         },
         {
          "font": {},
          "showarrow": false,
          "text": "City=Guangzhou",
          "x": 0.49000000000000005,
          "xanchor": "center",
          "xref": "paper",
          "y": 1,
          "yanchor": "bottom",
          "yref": "paper"
         },
         {
          "font": {},
          "showarrow": false,
          "text": "City=Shanghai",
          "x": 0.6900000000000002,
          "xanchor": "center",
          "xref": "paper",
          "y": 1,
          "yanchor": "bottom",
          "yref": "paper"
         },
         {
          "font": {},
          "showarrow": false,
          "text": "City=Shenzhen",
          "x": 0.8900000000000001,
          "xanchor": "center",
          "xref": "paper",
          "y": 1,
          "yanchor": "bottom",
          "yref": "paper"
         },
         {
          "font": {},
          "showarrow": false,
          "text": "Pollutant=AQI",
          "textangle": 90,
          "x": 0.9800000000000001,
          "xanchor": "left",
          "xref": "paper",
          "y": 0.2425,
          "yanchor": "middle",
          "yref": "paper"
         },
         {
          "font": {},
          "showarrow": false,
          "text": "Pollutant=PM2.5 (µg/m³)",
          "textangle": 90,
          "x": 0.9800000000000001,
          "xanchor": "left",
          "xref": "paper",
          "y": 0.7575000000000001,
          "yanchor": "middle",
          "yref": "paper"
         }
        ],
        "height": 800,
        "legend": {
         "tracegroupgap": 0
        },
        "template": {
         "data": {
          "bar": [
           {
            "error_x": {
             "color": "#2a3f5f"
            },
            "error_y": {
             "color": "#2a3f5f"
            },
            "marker": {
             "line": {
              "color": "#E5ECF6",
              "width": 0.5
             },
             "pattern": {
              "fillmode": "overlay",
              "size": 10,
              "solidity": 0.2
             }
            },
            "type": "bar"
           }
          ],
          "barpolar": [
           {
            "marker": {
             "line": {
              "color": "#E5ECF6",
              "width": 0.5
             },
             "pattern": {
              "fillmode": "overlay",
              "size": 10,
              "solidity": 0.2
             }
            },
            "type": "barpolar"
           }
          ],
          "carpet": [
           {
            "aaxis": {
             "endlinecolor": "#2a3f5f",
             "gridcolor": "white",
             "linecolor": "white",
             "minorgridcolor": "white",
             "startlinecolor": "#2a3f5f"
            },
            "baxis": {
             "endlinecolor": "#2a3f5f",
             "gridcolor": "white",
             "linecolor": "white",
             "minorgridcolor": "white",
             "startlinecolor": "#2a3f5f"
            },
            "type": "carpet"
           }
          ],
          "choropleth": [
           {
            "colorbar": {
             "outlinewidth": 0,
             "ticks": ""
            },
            "type": "choropleth"
           }
          ],
          "contour": [
           {
            "colorbar": {
             "outlinewidth": 0,
             "ticks": ""
            },
            "colorscale": [
             [
              0,
              "#0d0887"
             ],
             [
              0.1111111111111111,
              "#46039f"
             ],
             [
              0.2222222222222222,
              "#7201a8"
             ],
             [
              0.3333333333333333,
              "#9c179e"
             ],
             [
              0.4444444444444444,
              "#bd3786"
             ],
             [
              0.5555555555555556,
              "#d8576b"
             ],
             [
              0.6666666666666666,
              "#ed7953"
             ],
             [
              0.7777777777777778,
              "#fb9f3a"
             ],
             [
              0.8888888888888888,
              "#fdca26"
             ],
             [
              1,
              "#f0f921"
             ]
            ],
            "type": "contour"
           }
          ],
          "contourcarpet": [
           {
            "colorbar": {
             "outlinewidth": 0,
             "ticks": ""
            },
            "type": "contourcarpet"
           }
          ],
          "heatmap": [
           {
            "colorbar": {
             "outlinewidth": 0,
             "ticks": ""
            },
            "colorscale": [
             [
              0,
              "#0d0887"
             ],
             [
              0.1111111111111111,
              "#46039f"
             ],
             [
              0.2222222222222222,
              "#7201a8"
             ],
             [
              0.3333333333333333,
              "#9c179e"
             ],
             [
              0.4444444444444444,
              "#bd3786"
             ],
             [
              0.5555555555555556,
              "#d8576b"
             ],
             [
              0.6666666666666666,
              "#ed7953"
             ],
             [
              0.7777777777777778,
              "#fb9f3a"
             ],
             [
              0.8888888888888888,
              "#fdca26"
             ],
             [
              1,
              "#f0f921"
             ]
            ],
            "type": "heatmap"
           }
          ],
          "histogram": [
           {
            "marker": {
             "pattern": {
              "fillmode": "overlay",
              "size": 10,
              "solidity": 0.2
             }
            },
            "type": "histogram"
           }
          ],
          "histogram2d": [
           {
            "colorbar": {
             "outlinewidth": 0,
             "ticks": ""
            },
            "colorscale": [
             [
              0,
              "#0d0887"
             ],
             [
              0.1111111111111111,
              "#46039f"
             ],
             [
              0.2222222222222222,
              "#7201a8"
             ],
             [
              0.3333333333333333,
              "#9c179e"
             ],
             [
              0.4444444444444444,
              "#bd3786"
             ],
             [
              0.5555555555555556,
              "#d8576b"
             ],
             [
              0.6666666666666666,
              "#ed7953"
             ],
             [
              0.7777777777777778,
              "#fb9f3a"
             ],
             [
              0.8888888888888888,
              "#fdca26"
             ],
             [
              1,
              "#f0f921"
             ]
            ],
            "type": "histogram2d"
           }
          ],
          "histogram2dcontour": [
           {
            "colorbar": {
             "outlinewidth": 0,
             "ticks": ""
            },
            "colorscale": [
             [
              0,
              "#0d0887"
             ],
             [
              0.1111111111111111,
              "#46039f"
             ],
             [
              0.2222222222222222,
              "#7201a8"
             ],
             [
              0.3333333333333333,
              "#9c179e"
             ],
             [
              0.4444444444444444,
              "#bd3786"
             ],
             [
              0.5555555555555556,
              "#d8576b"
             ],
             [
              0.6666666666666666,
              "#ed7953"
             ],
             [
              0.7777777777777778,
              "#fb9f3a"
             ],
             [
              0.8888888888888888,
              "#fdca26"
             ],
             [
              1,
              "#f0f921"
             ]
            ],
            "type": "histogram2dcontour"
           }
          ],
          "mesh3d": [
           {
            "colorbar": {
             "outlinewidth": 0,
             "ticks": ""
            },
            "type": "mesh3d"
           }
          ],
          "parcoords": [
           {
            "line": {
             "colorbar": {
              "outlinewidth": 0,
              "ticks": ""
             }
            },
            "type": "parcoords"
           }
          ],
          "pie": [
           {
            "automargin": true,
            "type": "pie"
           }
          ],
          "scatter": [
           {
            "fillpattern": {
             "fillmode": "overlay",
             "size": 10,
             "solidity": 0.2
            },
            "type": "scatter"
           }
          ],
          "scatter3d": [
           {
            "line": {
             "colorbar": {
              "outlinewidth": 0,
              "ticks": ""
             }
            },
            "marker": {
             "colorbar": {
              "outlinewidth": 0,
              "ticks": ""
             }
            },
            "type": "scatter3d"
           }
          ],
          "scattercarpet": [
           {
            "marker": {
             "colorbar": {
              "outlinewidth": 0,
              "ticks": ""
             }
            },
            "type": "scattercarpet"
           }
          ],
          "scattergeo": [
           {
            "marker": {
             "colorbar": {
              "outlinewidth": 0,
              "ticks": ""
             }
            },
            "type": "scattergeo"
           }
          ],
          "scattergl": [
           {
            "marker": {
             "colorbar": {
              "outlinewidth": 0,
              "ticks": ""
             }
            },
            "type": "scattergl"
           }
          ],
          "scattermap": [
           {
            "marker": {
             "colorbar": {
              "outlinewidth": 0,
              "ticks": ""
             }
            },
            "type": "scattermap"
           }
          ],
          "scattermapbox": [
           {
            "marker": {
             "colorbar": {
              "outlinewidth": 0,
              "ticks": ""
             }
            },
            "type": "scattermapbox"
           }
          ],
          "scatterpolar": [
           {
            "marker": {
             "colorbar": {
              "outlinewidth": 0,
              "ticks": ""
             }
            },
            "type": "scatterpolar"
           }
          ],
          "scatterpolargl": [
           {
            "marker": {
             "colorbar": {
              "outlinewidth": 0,
              "ticks": ""
             }
            },
            "type": "scatterpolargl"
           }
          ],
          "scatterternary": [
           {
            "marker": {
             "colorbar": {
              "outlinewidth": 0,
              "ticks": ""
             }
            },
            "type": "scatterternary"
           }
          ],
          "surface": [
           {
            "colorbar": {
             "outlinewidth": 0,
             "ticks": ""
            },
            "colorscale": [
             [
              0,
              "#0d0887"
             ],
             [
              0.1111111111111111,
              "#46039f"
             ],
             [
              0.2222222222222222,
              "#7201a8"
             ],
             [
              0.3333333333333333,
              "#9c179e"
             ],
             [
              0.4444444444444444,
              "#bd3786"
             ],
             [
              0.5555555555555556,
              "#d8576b"
             ],
             [
              0.6666666666666666,
              "#ed7953"
             ],
             [
              0.7777777777777778,
              "#fb9f3a"
             ],
             [
              0.8888888888888888,
              "#fdca26"
             ],
             [
              1,
              "#f0f921"
             ]
            ],
            "type": "surface"
           }
          ],
          "table": [
           {
            "cells": {
             "fill": {
              "color": "#EBF0F8"
             },
             "line": {
              "color": "white"
             }
            },
            "header": {
             "fill": {
              "color": "#C8D4E3"
             },
             "line": {
              "color": "white"
             }
            },
            "type": "table"
           }
          ]
         },
         "layout": {
          "annotationdefaults": {
           "arrowcolor": "#2a3f5f",
           "arrowhead": 0,
           "arrowwidth": 1
          },
          "autotypenumbers": "strict",
          "coloraxis": {
           "colorbar": {
            "outlinewidth": 0,
            "ticks": ""
           }
          },
          "colorscale": {
           "diverging": [
            [
             0,
             "#8e0152"
            ],
            [
             0.1,
             "#c51b7d"
            ],
            [
             0.2,
             "#de77ae"
            ],
            [
             0.3,
             "#f1b6da"
            ],
            [
             0.4,
             "#fde0ef"
            ],
            [
             0.5,
             "#f7f7f7"
            ],
            [
             0.6,
             "#e6f5d0"
            ],
            [
             0.7,
             "#b8e186"
            ],
            [
             0.8,
             "#7fbc41"
            ],
            [
             0.9,
             "#4d9221"
            ],
            [
             1,
             "#276419"
            ]
           ],
           "sequential": [
            [
             0,
             "#0d0887"
            ],
            [
             0.1111111111111111,
             "#46039f"
            ],
            [
             0.2222222222222222,
             "#7201a8"
            ],
            [
             0.3333333333333333,
             "#9c179e"
            ],
            [
             0.4444444444444444,
             "#bd3786"
            ],
            [
             0.5555555555555556,
             "#d8576b"
            ],
            [
             0.6666666666666666,
             "#ed7953"
            ],
            [
             0.7777777777777778,
             "#fb9f3a"
            ],
            [
             0.8888888888888888,
             "#fdca26"
            ],
            [
             1,
             "#f0f921"
            ]
           ],
           "sequentialminus": [
            [
             0,
             "#0d0887"
            ],
            [
             0.1111111111111111,
             "#46039f"
            ],
            [
             0.2222222222222222,
             "#7201a8"
            ],
            [
             0.3333333333333333,
             "#9c179e"
            ],
            [
             0.4444444444444444,
             "#bd3786"
            ],
            [
             0.5555555555555556,
             "#d8576b"
            ],
            [
             0.6666666666666666,
             "#ed7953"
            ],
            [
             0.7777777777777778,
             "#fb9f3a"
            ],
            [
             0.8888888888888888,
             "#fdca26"
            ],
            [
             1,
             "#f0f921"
            ]
           ]
          },
          "colorway": [
           "#636efa",
           "#EF553B",
           "#00cc96",
           "#ab63fa",
           "#FFA15A",
           "#19d3f3",
           "#FF6692",
           "#B6E880",
           "#FF97FF",
           "#FECB52"
          ],
          "font": {
           "color": "#2a3f5f"
          },
          "geo": {
           "bgcolor": "white",
           "lakecolor": "white",
           "landcolor": "#E5ECF6",
           "showlakes": true,
           "showland": true,
           "subunitcolor": "white"
          },
          "hoverlabel": {
           "align": "left"
          },
          "hovermode": "closest",
          "mapbox": {
           "style": "light"
          },
          "paper_bgcolor": "white",
          "plot_bgcolor": "#E5ECF6",
          "polar": {
           "angularaxis": {
            "gridcolor": "white",
            "linecolor": "white",
            "ticks": ""
           },
           "bgcolor": "#E5ECF6",
           "radialaxis": {
            "gridcolor": "white",
            "linecolor": "white",
            "ticks": ""
           }
          },
          "scene": {
           "xaxis": {
            "backgroundcolor": "#E5ECF6",
            "gridcolor": "white",
            "gridwidth": 2,
            "linecolor": "white",
            "showbackground": true,
            "ticks": "",
            "zerolinecolor": "white"
           },
           "yaxis": {
            "backgroundcolor": "#E5ECF6",
            "gridcolor": "white",
            "gridwidth": 2,
            "linecolor": "white",
            "showbackground": true,
            "ticks": "",
            "zerolinecolor": "white"
           },
           "zaxis": {
            "backgroundcolor": "#E5ECF6",
            "gridcolor": "white",
            "gridwidth": 2,
            "linecolor": "white",
            "showbackground": true,
            "ticks": "",
            "zerolinecolor": "white"
           }
          },
          "shapedefaults": {
           "line": {
            "color": "#2a3f5f"
           }
          },
          "ternary": {
           "aaxis": {
            "gridcolor": "white",
            "linecolor": "white",
            "ticks": ""
           },
           "baxis": {
            "gridcolor": "white",
            "linecolor": "white",
            "ticks": ""
           },
           "bgcolor": "#E5ECF6",
           "caxis": {
            "gridcolor": "white",
            "linecolor": "white",
            "ticks": ""
           }
          },
          "title": {
           "x": 0.05
          },
          "xaxis": {
           "automargin": true,
           "gridcolor": "white",
           "linecolor": "white",
           "ticks": "",
           "title": {
            "standoff": 15
           },
           "zerolinecolor": "white",
           "zerolinewidth": 2
          },
          "yaxis": {
           "automargin": true,
           "gridcolor": "white",
           "linecolor": "white",
           "ticks": "",
           "title": {
            "standoff": 15
           },
           "zerolinecolor": "white",
           "zerolinewidth": 2
          }
         }
        },
        "title": {
         "text": "PM2.5 Trends by City Over Time"
        },
        "width": 2000,
        "xaxis": {
         "anchor": "y",
         "domain": [
          0,
          0.18000000000000002
         ],
         "title": {
          "text": "Year"
         }
        },
        "xaxis10": {
         "anchor": "y10",
         "domain": [
          0.8,
          0.9800000000000001
         ],
         "matches": "x",
         "showticklabels": false
        },
        "xaxis2": {
         "anchor": "y2",
         "domain": [
          0.2,
          0.38
         ],
         "matches": "x",
         "title": {
          "text": "Year"
         }
        },
        "xaxis3": {
         "anchor": "y3",
         "domain": [
          0.4,
          0.5800000000000001
         ],
         "matches": "x",
         "title": {
          "text": "Year"
         }
        },
        "xaxis4": {
         "anchor": "y4",
         "domain": [
          0.6000000000000001,
          0.7800000000000001
         ],
         "matches": "x",
         "title": {
          "text": "Year"
         }
        },
        "xaxis5": {
         "anchor": "y5",
         "domain": [
          0.8,
          0.9800000000000001
         ],
         "matches": "x",
         "title": {
          "text": "Year"
         }
        },
        "xaxis6": {
         "anchor": "y6",
         "domain": [
          0,
          0.18000000000000002
         ],
         "matches": "x",
         "showticklabels": false
        },
        "xaxis7": {
         "anchor": "y7",
         "domain": [
          0.2,
          0.38
         ],
         "matches": "x",
         "showticklabels": false
        },
        "xaxis8": {
         "anchor": "y8",
         "domain": [
          0.4,
          0.5800000000000001
         ],
         "matches": "x",
         "showticklabels": false
        },
        "xaxis9": {
         "anchor": "y9",
         "domain": [
          0.6000000000000001,
          0.7800000000000001
         ],
         "matches": "x",
         "showticklabels": false
        },
        "yaxis": {
         "anchor": "x",
         "domain": [
          0,
          0.485
         ],
         "showticklabels": true,
         "title": {
          "text": "Concentration"
         }
        },
        "yaxis10": {
         "anchor": "x10",
         "domain": [
          0.515,
          1
         ],
         "showticklabels": true
        },
        "yaxis2": {
         "anchor": "x2",
         "domain": [
          0,
          0.485
         ],
         "showticklabels": true
        },
        "yaxis3": {
         "anchor": "x3",
         "domain": [
          0,
          0.485
         ],
         "showticklabels": true
        },
        "yaxis4": {
         "anchor": "x4",
         "domain": [
          0,
          0.485
         ],
         "showticklabels": true
        },
        "yaxis5": {
         "anchor": "x5",
         "domain": [
          0,
          0.485
         ],
         "showticklabels": true
        },
        "yaxis6": {
         "anchor": "x6",
         "domain": [
          0.515,
          1
         ],
         "showticklabels": true,
         "title": {
          "text": "Concentration"
         }
        },
        "yaxis7": {
         "anchor": "x7",
         "domain": [
          0.515,
          1
         ],
         "showticklabels": true
        },
        "yaxis8": {
         "anchor": "x8",
         "domain": [
          0.515,
          1
         ],
         "showticklabels": true
        },
        "yaxis9": {
         "anchor": "x9",
         "domain": [
          0.515,
          1
         ],
         "showticklabels": true
        }
       }
      }
     },
     "metadata": {},
     "output_type": "display_data"
    }
   ],
   "source": [
    "# Plotting the line graph to visualize the trends by year for each city\n",
    "fig = px.line(city_year_grouped_df, x = 'Year', y = 'Concentration', facet_col='City', facet_row='Pollutant', markers=True, title='PM2.5 Trends by City Over Time')\n",
    "print('Tip: Hover over the datapoints to preview data labels')\n",
    "fig.update_yaxes(matches=None, showticklabels=True)\n",
    "fig.update_layout(height=800, width=2000)\n",
    "fig.show()"
   ]
  },
  {
   "cell_type": "markdown",
   "id": "2ad4d571",
   "metadata": {},
   "source": [
    "From this chart, we can see that Shanghai expeirnced an increase in PM2.5 matter from 2021 to 2023 but also an improvement in 2024 vs the year before.\n",
    "\n",
    "The city of Chengdu, Shanghai, and Shenzhen saw an average increase in AQI vs the year 2020. This may be due to the sctrict lockdown policies introduced during COVID and later relaxed causing a drop and then a surge in traffic. Further analysis is needed to draw conclusions. "
   ]
  },
  {
   "cell_type": "markdown",
   "id": "1b058f6a8a2ccd04",
   "metadata": {},
   "source": [
    "There seems to be a lot of variability in the PM2.5 particulate matter concentration year on year. It would be good to understand variability, the median, and the extreme in PM2.5 readings for each city using a box plot.\n",
    "\n",
    "### City Wise Pollution Comparision\n",
    "\n",
    "In this section, we'll investigate the distribution of PM2.5 matter across different cities."
   ]
  },
  {
   "cell_type": "code",
   "execution_count": 177,
   "id": "74a1aa6af6d75525",
   "metadata": {
    "ExecuteTime": {
     "end_time": "2025-04-20T12:56:39.651682Z",
     "start_time": "2025-04-20T12:56:39.211421Z"
    }
   },
   "outputs": [
    {
     "data": {
      "application/vnd.plotly.v1+json": {
       "config": {
        "plotlyServerURL": "https://plot.ly"
       },
       "data": [
        {
         "alignmentgroup": "True",
         "hovertemplate": "City=%{x}<br>PM2.5 (µg/m³)=%{y}<extra></extra>",
         "legendgroup": "Shenzhen",
         "marker": {
          "color": "#636efa"
         },
         "name": "Shenzhen",
         "notched": false,
         "offsetgroup": "Shenzhen",
         "orientation": "v",
         "showlegend": true,
         "type": "box",
         "x": [
          "Shenzhen",
          "Shenzhen",
          "Shenzhen",
          "Shenzhen",
          "Shenzhen",
          "Shenzhen",
          "Shenzhen",
          "Shenzhen",
          "Shenzhen",
          "Shenzhen",
          "Shenzhen",
          "Shenzhen",
          "Shenzhen",
          "Shenzhen",
          "Shenzhen",
          "Shenzhen",
          "Shenzhen",
          "Shenzhen",
          "Shenzhen",
          "Shenzhen",
          "Shenzhen",
          "Shenzhen",
          "Shenzhen",
          "Shenzhen",
          "Shenzhen",
          "Shenzhen",
          "Shenzhen",
          "Shenzhen",
          "Shenzhen",
          "Shenzhen",
          "Shenzhen",
          "Shenzhen",
          "Shenzhen",
          "Shenzhen",
          "Shenzhen",
          "Shenzhen",
          "Shenzhen",
          "Shenzhen",
          "Shenzhen",
          "Shenzhen",
          "Shenzhen",
          "Shenzhen",
          "Shenzhen",
          "Shenzhen",
          "Shenzhen",
          "Shenzhen",
          "Shenzhen",
          "Shenzhen",
          "Shenzhen",
          "Shenzhen",
          "Shenzhen",
          "Shenzhen",
          "Shenzhen",
          "Shenzhen",
          "Shenzhen",
          "Shenzhen",
          "Shenzhen",
          "Shenzhen",
          "Shenzhen",
          "Shenzhen",
          "Shenzhen",
          "Shenzhen",
          "Shenzhen",
          "Shenzhen",
          "Shenzhen",
          "Shenzhen",
          "Shenzhen",
          "Shenzhen",
          "Shenzhen",
          "Shenzhen",
          "Shenzhen",
          "Shenzhen",
          "Shenzhen",
          "Shenzhen",
          "Shenzhen",
          "Shenzhen",
          "Shenzhen",
          "Shenzhen",
          "Shenzhen",
          "Shenzhen",
          "Shenzhen",
          "Shenzhen",
          "Shenzhen",
          "Shenzhen",
          "Shenzhen",
          "Shenzhen",
          "Shenzhen",
          "Shenzhen",
          "Shenzhen",
          "Shenzhen",
          "Shenzhen",
          "Shenzhen",
          "Shenzhen",
          "Shenzhen",
          "Shenzhen",
          "Shenzhen",
          "Shenzhen",
          "Shenzhen",
          "Shenzhen",
          "Shenzhen",
          "Shenzhen",
          "Shenzhen",
          "Shenzhen",
          "Shenzhen",
          "Shenzhen",
          "Shenzhen",
          "Shenzhen",
          "Shenzhen",
          "Shenzhen",
          "Shenzhen",
          "Shenzhen",
          "Shenzhen",
          "Shenzhen",
          "Shenzhen",
          "Shenzhen",
          "Shenzhen",
          "Shenzhen",
          "Shenzhen",
          "Shenzhen",
          "Shenzhen",
          "Shenzhen",
          "Shenzhen",
          "Shenzhen",
          "Shenzhen",
          "Shenzhen",
          "Shenzhen",
          "Shenzhen",
          "Shenzhen",
          "Shenzhen",
          "Shenzhen",
          "Shenzhen",
          "Shenzhen",
          "Shenzhen",
          "Shenzhen",
          "Shenzhen",
          "Shenzhen",
          "Shenzhen",
          "Shenzhen",
          "Shenzhen",
          "Shenzhen",
          "Shenzhen",
          "Shenzhen",
          "Shenzhen",
          "Shenzhen",
          "Shenzhen",
          "Shenzhen",
          "Shenzhen",
          "Shenzhen",
          "Shenzhen",
          "Shenzhen",
          "Shenzhen",
          "Shenzhen",
          "Shenzhen",
          "Shenzhen",
          "Shenzhen",
          "Shenzhen",
          "Shenzhen",
          "Shenzhen",
          "Shenzhen",
          "Shenzhen",
          "Shenzhen",
          "Shenzhen",
          "Shenzhen",
          "Shenzhen",
          "Shenzhen",
          "Shenzhen",
          "Shenzhen",
          "Shenzhen",
          "Shenzhen",
          "Shenzhen",
          "Shenzhen",
          "Shenzhen",
          "Shenzhen",
          "Shenzhen",
          "Shenzhen",
          "Shenzhen",
          "Shenzhen",
          "Shenzhen",
          "Shenzhen",
          "Shenzhen",
          "Shenzhen",
          "Shenzhen",
          "Shenzhen",
          "Shenzhen",
          "Shenzhen",
          "Shenzhen",
          "Shenzhen",
          "Shenzhen",
          "Shenzhen",
          "Shenzhen",
          "Shenzhen",
          "Shenzhen",
          "Shenzhen",
          "Shenzhen",
          "Shenzhen",
          "Shenzhen",
          "Shenzhen",
          "Shenzhen",
          "Shenzhen",
          "Shenzhen",
          "Shenzhen",
          "Shenzhen",
          "Shenzhen",
          "Shenzhen",
          "Shenzhen",
          "Shenzhen",
          "Shenzhen",
          "Shenzhen",
          "Shenzhen",
          "Shenzhen",
          "Shenzhen",
          "Shenzhen",
          "Shenzhen",
          "Shenzhen",
          "Shenzhen",
          "Shenzhen",
          "Shenzhen",
          "Shenzhen",
          "Shenzhen",
          "Shenzhen",
          "Shenzhen",
          "Shenzhen",
          "Shenzhen",
          "Shenzhen",
          "Shenzhen",
          "Shenzhen",
          "Shenzhen",
          "Shenzhen",
          "Shenzhen",
          "Shenzhen",
          "Shenzhen",
          "Shenzhen",
          "Shenzhen",
          "Shenzhen",
          "Shenzhen",
          "Shenzhen",
          "Shenzhen",
          "Shenzhen",
          "Shenzhen",
          "Shenzhen",
          "Shenzhen",
          "Shenzhen",
          "Shenzhen",
          "Shenzhen",
          "Shenzhen",
          "Shenzhen",
          "Shenzhen",
          "Shenzhen",
          "Shenzhen",
          "Shenzhen",
          "Shenzhen",
          "Shenzhen",
          "Shenzhen",
          "Shenzhen",
          "Shenzhen",
          "Shenzhen",
          "Shenzhen",
          "Shenzhen",
          "Shenzhen",
          "Shenzhen",
          "Shenzhen",
          "Shenzhen",
          "Shenzhen",
          "Shenzhen",
          "Shenzhen",
          "Shenzhen",
          "Shenzhen",
          "Shenzhen",
          "Shenzhen",
          "Shenzhen",
          "Shenzhen",
          "Shenzhen",
          "Shenzhen",
          "Shenzhen",
          "Shenzhen",
          "Shenzhen",
          "Shenzhen",
          "Shenzhen",
          "Shenzhen",
          "Shenzhen",
          "Shenzhen",
          "Shenzhen",
          "Shenzhen",
          "Shenzhen",
          "Shenzhen",
          "Shenzhen",
          "Shenzhen",
          "Shenzhen",
          "Shenzhen",
          "Shenzhen",
          "Shenzhen",
          "Shenzhen",
          "Shenzhen",
          "Shenzhen",
          "Shenzhen",
          "Shenzhen",
          "Shenzhen",
          "Shenzhen",
          "Shenzhen",
          "Shenzhen",
          "Shenzhen",
          "Shenzhen",
          "Shenzhen",
          "Shenzhen",
          "Shenzhen",
          "Shenzhen",
          "Shenzhen",
          "Shenzhen",
          "Shenzhen",
          "Shenzhen",
          "Shenzhen",
          "Shenzhen",
          "Shenzhen",
          "Shenzhen",
          "Shenzhen",
          "Shenzhen",
          "Shenzhen",
          "Shenzhen",
          "Shenzhen",
          "Shenzhen",
          "Shenzhen",
          "Shenzhen",
          "Shenzhen",
          "Shenzhen",
          "Shenzhen",
          "Shenzhen",
          "Shenzhen",
          "Shenzhen",
          "Shenzhen",
          "Shenzhen",
          "Shenzhen",
          "Shenzhen",
          "Shenzhen",
          "Shenzhen",
          "Shenzhen",
          "Shenzhen",
          "Shenzhen",
          "Shenzhen",
          "Shenzhen",
          "Shenzhen",
          "Shenzhen",
          "Shenzhen",
          "Shenzhen",
          "Shenzhen",
          "Shenzhen",
          "Shenzhen",
          "Shenzhen",
          "Shenzhen",
          "Shenzhen",
          "Shenzhen",
          "Shenzhen",
          "Shenzhen",
          "Shenzhen",
          "Shenzhen",
          "Shenzhen",
          "Shenzhen",
          "Shenzhen",
          "Shenzhen",
          "Shenzhen",
          "Shenzhen",
          "Shenzhen",
          "Shenzhen",
          "Shenzhen",
          "Shenzhen",
          "Shenzhen",
          "Shenzhen",
          "Shenzhen",
          "Shenzhen",
          "Shenzhen",
          "Shenzhen",
          "Shenzhen",
          "Shenzhen",
          "Shenzhen",
          "Shenzhen",
          "Shenzhen",
          "Shenzhen",
          "Shenzhen",
          "Shenzhen",
          "Shenzhen",
          "Shenzhen",
          "Shenzhen",
          "Shenzhen",
          "Shenzhen",
          "Shenzhen",
          "Shenzhen",
          "Shenzhen",
          "Shenzhen",
          "Shenzhen",
          "Shenzhen",
          "Shenzhen",
          "Shenzhen",
          "Shenzhen",
          "Shenzhen",
          "Shenzhen",
          "Shenzhen",
          "Shenzhen",
          "Shenzhen",
          "Shenzhen",
          "Shenzhen",
          "Shenzhen",
          "Shenzhen",
          "Shenzhen",
          "Shenzhen",
          "Shenzhen",
          "Shenzhen",
          "Shenzhen",
          "Shenzhen",
          "Shenzhen",
          "Shenzhen",
          "Shenzhen",
          "Shenzhen",
          "Shenzhen",
          "Shenzhen",
          "Shenzhen",
          "Shenzhen",
          "Shenzhen",
          "Shenzhen",
          "Shenzhen",
          "Shenzhen",
          "Shenzhen",
          "Shenzhen",
          "Shenzhen",
          "Shenzhen",
          "Shenzhen",
          "Shenzhen",
          "Shenzhen",
          "Shenzhen",
          "Shenzhen",
          "Shenzhen",
          "Shenzhen",
          "Shenzhen",
          "Shenzhen",
          "Shenzhen",
          "Shenzhen",
          "Shenzhen",
          "Shenzhen",
          "Shenzhen",
          "Shenzhen",
          "Shenzhen",
          "Shenzhen",
          "Shenzhen",
          "Shenzhen",
          "Shenzhen",
          "Shenzhen",
          "Shenzhen",
          "Shenzhen",
          "Shenzhen",
          "Shenzhen",
          "Shenzhen",
          "Shenzhen",
          "Shenzhen",
          "Shenzhen",
          "Shenzhen",
          "Shenzhen",
          "Shenzhen",
          "Shenzhen",
          "Shenzhen",
          "Shenzhen",
          "Shenzhen",
          "Shenzhen",
          "Shenzhen",
          "Shenzhen",
          "Shenzhen",
          "Shenzhen",
          "Shenzhen",
          "Shenzhen",
          "Shenzhen",
          "Shenzhen",
          "Shenzhen",
          "Shenzhen",
          "Shenzhen",
          "Shenzhen",
          "Shenzhen",
          "Shenzhen",
          "Shenzhen",
          "Shenzhen",
          "Shenzhen",
          "Shenzhen",
          "Shenzhen",
          "Shenzhen",
          "Shenzhen",
          "Shenzhen",
          "Shenzhen",
          "Shenzhen",
          "Shenzhen",
          "Shenzhen",
          "Shenzhen",
          "Shenzhen",
          "Shenzhen",
          "Shenzhen",
          "Shenzhen",
          "Shenzhen",
          "Shenzhen",
          "Shenzhen",
          "Shenzhen",
          "Shenzhen",
          "Shenzhen",
          "Shenzhen",
          "Shenzhen",
          "Shenzhen",
          "Shenzhen",
          "Shenzhen",
          "Shenzhen",
          "Shenzhen",
          "Shenzhen",
          "Shenzhen",
          "Shenzhen",
          "Shenzhen",
          "Shenzhen",
          "Shenzhen",
          "Shenzhen",
          "Shenzhen",
          "Shenzhen",
          "Shenzhen",
          "Shenzhen",
          "Shenzhen",
          "Shenzhen",
          "Shenzhen",
          "Shenzhen",
          "Shenzhen",
          "Shenzhen",
          "Shenzhen",
          "Shenzhen",
          "Shenzhen",
          "Shenzhen",
          "Shenzhen",
          "Shenzhen",
          "Shenzhen",
          "Shenzhen",
          "Shenzhen",
          "Shenzhen",
          "Shenzhen",
          "Shenzhen",
          "Shenzhen",
          "Shenzhen",
          "Shenzhen",
          "Shenzhen",
          "Shenzhen",
          "Shenzhen",
          "Shenzhen",
          "Shenzhen",
          "Shenzhen",
          "Shenzhen",
          "Shenzhen",
          "Shenzhen",
          "Shenzhen",
          "Shenzhen",
          "Shenzhen",
          "Shenzhen",
          "Shenzhen",
          "Shenzhen",
          "Shenzhen",
          "Shenzhen",
          "Shenzhen",
          "Shenzhen",
          "Shenzhen",
          "Shenzhen",
          "Shenzhen",
          "Shenzhen",
          "Shenzhen",
          "Shenzhen",
          "Shenzhen",
          "Shenzhen",
          "Shenzhen",
          "Shenzhen",
          "Shenzhen",
          "Shenzhen",
          "Shenzhen",
          "Shenzhen",
          "Shenzhen",
          "Shenzhen",
          "Shenzhen",
          "Shenzhen",
          "Shenzhen",
          "Shenzhen",
          "Shenzhen",
          "Shenzhen",
          "Shenzhen",
          "Shenzhen",
          "Shenzhen",
          "Shenzhen",
          "Shenzhen",
          "Shenzhen",
          "Shenzhen",
          "Shenzhen",
          "Shenzhen",
          "Shenzhen",
          "Shenzhen",
          "Shenzhen",
          "Shenzhen",
          "Shenzhen",
          "Shenzhen",
          "Shenzhen"
         ],
         "x0": " ",
         "xaxis": "x",
         "y": {
          "bdata": "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",
          "dtype": "f8"
         },
         "y0": " ",
         "yaxis": "y"
        },
        {
         "alignmentgroup": "True",
         "hovertemplate": "City=%{x}<br>PM2.5 (µg/m³)=%{y}<extra></extra>",
         "legendgroup": "Shanghai",
         "marker": {
          "color": "#EF553B"
         },
         "name": "Shanghai",
         "notched": false,
         "offsetgroup": "Shanghai",
         "orientation": "v",
         "showlegend": true,
         "type": "box",
         "x": [
          "Shanghai",
          "Shanghai",
          "Shanghai",
          "Shanghai",
          "Shanghai",
          "Shanghai",
          "Shanghai",
          "Shanghai",
          "Shanghai",
          "Shanghai",
          "Shanghai",
          "Shanghai",
          "Shanghai",
          "Shanghai",
          "Shanghai",
          "Shanghai",
          "Shanghai",
          "Shanghai",
          "Shanghai",
          "Shanghai",
          "Shanghai",
          "Shanghai",
          "Shanghai",
          "Shanghai",
          "Shanghai",
          "Shanghai",
          "Shanghai",
          "Shanghai",
          "Shanghai",
          "Shanghai",
          "Shanghai",
          "Shanghai",
          "Shanghai",
          "Shanghai",
          "Shanghai",
          "Shanghai",
          "Shanghai",
          "Shanghai",
          "Shanghai",
          "Shanghai",
          "Shanghai",
          "Shanghai",
          "Shanghai",
          "Shanghai",
          "Shanghai",
          "Shanghai",
          "Shanghai",
          "Shanghai",
          "Shanghai",
          "Shanghai",
          "Shanghai",
          "Shanghai",
          "Shanghai",
          "Shanghai",
          "Shanghai",
          "Shanghai",
          "Shanghai",
          "Shanghai",
          "Shanghai",
          "Shanghai",
          "Shanghai",
          "Shanghai",
          "Shanghai",
          "Shanghai",
          "Shanghai",
          "Shanghai",
          "Shanghai",
          "Shanghai",
          "Shanghai",
          "Shanghai",
          "Shanghai",
          "Shanghai",
          "Shanghai",
          "Shanghai",
          "Shanghai",
          "Shanghai",
          "Shanghai",
          "Shanghai",
          "Shanghai",
          "Shanghai",
          "Shanghai",
          "Shanghai",
          "Shanghai",
          "Shanghai",
          "Shanghai",
          "Shanghai",
          "Shanghai",
          "Shanghai",
          "Shanghai",
          "Shanghai",
          "Shanghai",
          "Shanghai",
          "Shanghai",
          "Shanghai",
          "Shanghai",
          "Shanghai",
          "Shanghai",
          "Shanghai",
          "Shanghai",
          "Shanghai",
          "Shanghai",
          "Shanghai",
          "Shanghai",
          "Shanghai",
          "Shanghai",
          "Shanghai",
          "Shanghai",
          "Shanghai",
          "Shanghai",
          "Shanghai",
          "Shanghai",
          "Shanghai",
          "Shanghai",
          "Shanghai",
          "Shanghai",
          "Shanghai",
          "Shanghai",
          "Shanghai",
          "Shanghai",
          "Shanghai",
          "Shanghai",
          "Shanghai",
          "Shanghai",
          "Shanghai",
          "Shanghai",
          "Shanghai",
          "Shanghai",
          "Shanghai",
          "Shanghai",
          "Shanghai",
          "Shanghai",
          "Shanghai",
          "Shanghai",
          "Shanghai",
          "Shanghai",
          "Shanghai",
          "Shanghai",
          "Shanghai",
          "Shanghai",
          "Shanghai",
          "Shanghai",
          "Shanghai",
          "Shanghai",
          "Shanghai",
          "Shanghai",
          "Shanghai",
          "Shanghai",
          "Shanghai",
          "Shanghai",
          "Shanghai",
          "Shanghai",
          "Shanghai",
          "Shanghai",
          "Shanghai",
          "Shanghai",
          "Shanghai",
          "Shanghai",
          "Shanghai",
          "Shanghai",
          "Shanghai",
          "Shanghai",
          "Shanghai",
          "Shanghai",
          "Shanghai",
          "Shanghai",
          "Shanghai",
          "Shanghai",
          "Shanghai",
          "Shanghai",
          "Shanghai",
          "Shanghai",
          "Shanghai",
          "Shanghai",
          "Shanghai",
          "Shanghai",
          "Shanghai",
          "Shanghai",
          "Shanghai",
          "Shanghai",
          "Shanghai",
          "Shanghai",
          "Shanghai",
          "Shanghai",
          "Shanghai",
          "Shanghai",
          "Shanghai",
          "Shanghai",
          "Shanghai",
          "Shanghai",
          "Shanghai",
          "Shanghai",
          "Shanghai",
          "Shanghai",
          "Shanghai",
          "Shanghai",
          "Shanghai",
          "Shanghai",
          "Shanghai",
          "Shanghai",
          "Shanghai",
          "Shanghai",
          "Shanghai",
          "Shanghai",
          "Shanghai",
          "Shanghai",
          "Shanghai",
          "Shanghai",
          "Shanghai",
          "Shanghai",
          "Shanghai",
          "Shanghai",
          "Shanghai",
          "Shanghai",
          "Shanghai",
          "Shanghai",
          "Shanghai",
          "Shanghai",
          "Shanghai",
          "Shanghai",
          "Shanghai",
          "Shanghai",
          "Shanghai",
          "Shanghai",
          "Shanghai",
          "Shanghai",
          "Shanghai",
          "Shanghai",
          "Shanghai",
          "Shanghai",
          "Shanghai",
          "Shanghai",
          "Shanghai",
          "Shanghai",
          "Shanghai",
          "Shanghai",
          "Shanghai",
          "Shanghai",
          "Shanghai",
          "Shanghai",
          "Shanghai",
          "Shanghai",
          "Shanghai",
          "Shanghai",
          "Shanghai",
          "Shanghai",
          "Shanghai",
          "Shanghai",
          "Shanghai",
          "Shanghai",
          "Shanghai",
          "Shanghai",
          "Shanghai",
          "Shanghai",
          "Shanghai",
          "Shanghai",
          "Shanghai",
          "Shanghai",
          "Shanghai",
          "Shanghai",
          "Shanghai",
          "Shanghai",
          "Shanghai",
          "Shanghai",
          "Shanghai",
          "Shanghai",
          "Shanghai",
          "Shanghai",
          "Shanghai",
          "Shanghai",
          "Shanghai",
          "Shanghai",
          "Shanghai",
          "Shanghai",
          "Shanghai",
          "Shanghai",
          "Shanghai",
          "Shanghai",
          "Shanghai",
          "Shanghai",
          "Shanghai",
          "Shanghai",
          "Shanghai",
          "Shanghai",
          "Shanghai",
          "Shanghai",
          "Shanghai",
          "Shanghai",
          "Shanghai",
          "Shanghai",
          "Shanghai",
          "Shanghai",
          "Shanghai",
          "Shanghai",
          "Shanghai",
          "Shanghai",
          "Shanghai",
          "Shanghai",
          "Shanghai",
          "Shanghai",
          "Shanghai",
          "Shanghai",
          "Shanghai",
          "Shanghai",
          "Shanghai",
          "Shanghai",
          "Shanghai",
          "Shanghai",
          "Shanghai",
          "Shanghai",
          "Shanghai",
          "Shanghai",
          "Shanghai",
          "Shanghai",
          "Shanghai",
          "Shanghai",
          "Shanghai",
          "Shanghai",
          "Shanghai",
          "Shanghai",
          "Shanghai",
          "Shanghai",
          "Shanghai",
          "Shanghai",
          "Shanghai",
          "Shanghai",
          "Shanghai",
          "Shanghai",
          "Shanghai",
          "Shanghai",
          "Shanghai",
          "Shanghai",
          "Shanghai",
          "Shanghai",
          "Shanghai",
          "Shanghai",
          "Shanghai",
          "Shanghai",
          "Shanghai",
          "Shanghai",
          "Shanghai",
          "Shanghai",
          "Shanghai",
          "Shanghai",
          "Shanghai",
          "Shanghai",
          "Shanghai",
          "Shanghai",
          "Shanghai",
          "Shanghai",
          "Shanghai",
          "Shanghai",
          "Shanghai",
          "Shanghai",
          "Shanghai",
          "Shanghai",
          "Shanghai",
          "Shanghai",
          "Shanghai",
          "Shanghai",
          "Shanghai",
          "Shanghai",
          "Shanghai",
          "Shanghai",
          "Shanghai",
          "Shanghai",
          "Shanghai",
          "Shanghai",
          "Shanghai",
          "Shanghai",
          "Shanghai",
          "Shanghai",
          "Shanghai",
          "Shanghai",
          "Shanghai",
          "Shanghai",
          "Shanghai",
          "Shanghai",
          "Shanghai",
          "Shanghai",
          "Shanghai",
          "Shanghai",
          "Shanghai",
          "Shanghai",
          "Shanghai",
          "Shanghai",
          "Shanghai",
          "Shanghai",
          "Shanghai",
          "Shanghai",
          "Shanghai",
          "Shanghai",
          "Shanghai",
          "Shanghai",
          "Shanghai",
          "Shanghai",
          "Shanghai",
          "Shanghai",
          "Shanghai",
          "Shanghai",
          "Shanghai",
          "Shanghai",
          "Shanghai",
          "Shanghai",
          "Shanghai",
          "Shanghai",
          "Shanghai",
          "Shanghai",
          "Shanghai",
          "Shanghai",
          "Shanghai",
          "Shanghai",
          "Shanghai",
          "Shanghai",
          "Shanghai",
          "Shanghai",
          "Shanghai",
          "Shanghai",
          "Shanghai",
          "Shanghai",
          "Shanghai",
          "Shanghai",
          "Shanghai",
          "Shanghai",
          "Shanghai",
          "Shanghai",
          "Shanghai",
          "Shanghai",
          "Shanghai",
          "Shanghai",
          "Shanghai",
          "Shanghai",
          "Shanghai",
          "Shanghai",
          "Shanghai",
          "Shanghai",
          "Shanghai",
          "Shanghai",
          "Shanghai",
          "Shanghai",
          "Shanghai",
          "Shanghai",
          "Shanghai",
          "Shanghai",
          "Shanghai",
          "Shanghai",
          "Shanghai",
          "Shanghai",
          "Shanghai",
          "Shanghai",
          "Shanghai",
          "Shanghai",
          "Shanghai",
          "Shanghai",
          "Shanghai",
          "Shanghai",
          "Shanghai",
          "Shanghai",
          "Shanghai",
          "Shanghai",
          "Shanghai",
          "Shanghai",
          "Shanghai",
          "Shanghai",
          "Shanghai",
          "Shanghai",
          "Shanghai",
          "Shanghai",
          "Shanghai",
          "Shanghai",
          "Shanghai",
          "Shanghai",
          "Shanghai",
          "Shanghai",
          "Shanghai",
          "Shanghai",
          "Shanghai",
          "Shanghai",
          "Shanghai",
          "Shanghai",
          "Shanghai",
          "Shanghai",
          "Shanghai",
          "Shanghai",
          "Shanghai",
          "Shanghai",
          "Shanghai",
          "Shanghai",
          "Shanghai",
          "Shanghai",
          "Shanghai",
          "Shanghai",
          "Shanghai",
          "Shanghai",
          "Shanghai",
          "Shanghai",
          "Shanghai",
          "Shanghai",
          "Shanghai",
          "Shanghai",
          "Shanghai",
          "Shanghai",
          "Shanghai",
          "Shanghai",
          "Shanghai",
          "Shanghai",
          "Shanghai",
          "Shanghai",
          "Shanghai",
          "Shanghai",
          "Shanghai",
          "Shanghai",
          "Shanghai",
          "Shanghai",
          "Shanghai",
          "Shanghai",
          "Shanghai",
          "Shanghai",
          "Shanghai",
          "Shanghai",
          "Shanghai",
          "Shanghai",
          "Shanghai",
          "Shanghai",
          "Shanghai",
          "Shanghai",
          "Shanghai",
          "Shanghai",
          "Shanghai",
          "Shanghai",
          "Shanghai",
          "Shanghai",
          "Shanghai",
          "Shanghai",
          "Shanghai",
          "Shanghai",
          "Shanghai",
          "Shanghai",
          "Shanghai",
          "Shanghai",
          "Shanghai",
          "Shanghai",
          "Shanghai",
          "Shanghai",
          "Shanghai",
          "Shanghai",
          "Shanghai",
          "Shanghai",
          "Shanghai",
          "Shanghai",
          "Shanghai",
          "Shanghai",
          "Shanghai",
          "Shanghai",
          "Shanghai",
          "Shanghai",
          "Shanghai",
          "Shanghai",
          "Shanghai",
          "Shanghai",
          "Shanghai",
          "Shanghai",
          "Shanghai",
          "Shanghai",
          "Shanghai",
          "Shanghai",
          "Shanghai",
          "Shanghai",
          "Shanghai",
          "Shanghai",
          "Shanghai",
          "Shanghai",
          "Shanghai",
          "Shanghai",
          "Shanghai",
          "Shanghai",
          "Shanghai",
          "Shanghai",
          "Shanghai",
          "Shanghai",
          "Shanghai",
          "Shanghai",
          "Shanghai",
          "Shanghai",
          "Shanghai",
          "Shanghai",
          "Shanghai",
          "Shanghai",
          "Shanghai",
          "Shanghai",
          "Shanghai",
          "Shanghai",
          "Shanghai",
          "Shanghai",
          "Shanghai",
          "Shanghai",
          "Shanghai"
         ],
         "x0": " ",
         "xaxis": "x",
         "y": {
          "bdata": "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",
          "dtype": "f8"
         },
         "y0": " ",
         "yaxis": "y"
        },
        {
         "alignmentgroup": "True",
         "hovertemplate": "City=%{x}<br>PM2.5 (µg/m³)=%{y}<extra></extra>",
         "legendgroup": "Beijing",
         "marker": {
          "color": "#00cc96"
         },
         "name": "Beijing",
         "notched": false,
         "offsetgroup": "Beijing",
         "orientation": "v",
         "showlegend": true,
         "type": "box",
         "x": [
          "Beijing",
          "Beijing",
          "Beijing",
          "Beijing",
          "Beijing",
          "Beijing",
          "Beijing",
          "Beijing",
          "Beijing",
          "Beijing",
          "Beijing",
          "Beijing",
          "Beijing",
          "Beijing",
          "Beijing",
          "Beijing",
          "Beijing",
          "Beijing",
          "Beijing",
          "Beijing",
          "Beijing",
          "Beijing",
          "Beijing",
          "Beijing",
          "Beijing",
          "Beijing",
          "Beijing",
          "Beijing",
          "Beijing",
          "Beijing",
          "Beijing",
          "Beijing",
          "Beijing",
          "Beijing",
          "Beijing",
          "Beijing",
          "Beijing",
          "Beijing",
          "Beijing",
          "Beijing",
          "Beijing",
          "Beijing",
          "Beijing",
          "Beijing",
          "Beijing",
          "Beijing",
          "Beijing",
          "Beijing",
          "Beijing",
          "Beijing",
          "Beijing",
          "Beijing",
          "Beijing",
          "Beijing",
          "Beijing",
          "Beijing",
          "Beijing",
          "Beijing",
          "Beijing",
          "Beijing",
          "Beijing",
          "Beijing",
          "Beijing",
          "Beijing",
          "Beijing",
          "Beijing",
          "Beijing",
          "Beijing",
          "Beijing",
          "Beijing",
          "Beijing",
          "Beijing",
          "Beijing",
          "Beijing",
          "Beijing",
          "Beijing",
          "Beijing",
          "Beijing",
          "Beijing",
          "Beijing",
          "Beijing",
          "Beijing",
          "Beijing",
          "Beijing",
          "Beijing",
          "Beijing",
          "Beijing",
          "Beijing",
          "Beijing",
          "Beijing",
          "Beijing",
          "Beijing",
          "Beijing",
          "Beijing",
          "Beijing",
          "Beijing",
          "Beijing",
          "Beijing",
          "Beijing",
          "Beijing",
          "Beijing",
          "Beijing",
          "Beijing",
          "Beijing",
          "Beijing",
          "Beijing",
          "Beijing",
          "Beijing",
          "Beijing",
          "Beijing",
          "Beijing",
          "Beijing",
          "Beijing",
          "Beijing",
          "Beijing",
          "Beijing",
          "Beijing",
          "Beijing",
          "Beijing",
          "Beijing",
          "Beijing",
          "Beijing",
          "Beijing",
          "Beijing",
          "Beijing",
          "Beijing",
          "Beijing",
          "Beijing",
          "Beijing",
          "Beijing",
          "Beijing",
          "Beijing",
          "Beijing",
          "Beijing",
          "Beijing",
          "Beijing",
          "Beijing",
          "Beijing",
          "Beijing",
          "Beijing",
          "Beijing",
          "Beijing",
          "Beijing",
          "Beijing",
          "Beijing",
          "Beijing",
          "Beijing",
          "Beijing",
          "Beijing",
          "Beijing",
          "Beijing",
          "Beijing",
          "Beijing",
          "Beijing",
          "Beijing",
          "Beijing",
          "Beijing",
          "Beijing",
          "Beijing",
          "Beijing",
          "Beijing",
          "Beijing",
          "Beijing",
          "Beijing",
          "Beijing",
          "Beijing",
          "Beijing",
          "Beijing",
          "Beijing",
          "Beijing",
          "Beijing",
          "Beijing",
          "Beijing",
          "Beijing",
          "Beijing",
          "Beijing",
          "Beijing",
          "Beijing",
          "Beijing",
          "Beijing",
          "Beijing",
          "Beijing",
          "Beijing",
          "Beijing",
          "Beijing",
          "Beijing",
          "Beijing",
          "Beijing",
          "Beijing",
          "Beijing",
          "Beijing",
          "Beijing",
          "Beijing",
          "Beijing",
          "Beijing",
          "Beijing",
          "Beijing",
          "Beijing",
          "Beijing",
          "Beijing",
          "Beijing",
          "Beijing",
          "Beijing",
          "Beijing",
          "Beijing",
          "Beijing",
          "Beijing",
          "Beijing",
          "Beijing",
          "Beijing",
          "Beijing",
          "Beijing",
          "Beijing",
          "Beijing",
          "Beijing",
          "Beijing",
          "Beijing",
          "Beijing",
          "Beijing",
          "Beijing",
          "Beijing",
          "Beijing",
          "Beijing",
          "Beijing",
          "Beijing",
          "Beijing",
          "Beijing",
          "Beijing",
          "Beijing",
          "Beijing",
          "Beijing",
          "Beijing",
          "Beijing",
          "Beijing",
          "Beijing",
          "Beijing",
          "Beijing",
          "Beijing",
          "Beijing",
          "Beijing",
          "Beijing",
          "Beijing",
          "Beijing",
          "Beijing",
          "Beijing",
          "Beijing",
          "Beijing",
          "Beijing",
          "Beijing",
          "Beijing",
          "Beijing",
          "Beijing",
          "Beijing",
          "Beijing",
          "Beijing",
          "Beijing",
          "Beijing",
          "Beijing",
          "Beijing",
          "Beijing",
          "Beijing",
          "Beijing",
          "Beijing",
          "Beijing",
          "Beijing",
          "Beijing",
          "Beijing",
          "Beijing",
          "Beijing",
          "Beijing",
          "Beijing",
          "Beijing",
          "Beijing",
          "Beijing",
          "Beijing",
          "Beijing",
          "Beijing",
          "Beijing",
          "Beijing",
          "Beijing",
          "Beijing",
          "Beijing",
          "Beijing",
          "Beijing",
          "Beijing",
          "Beijing",
          "Beijing",
          "Beijing",
          "Beijing",
          "Beijing",
          "Beijing",
          "Beijing",
          "Beijing",
          "Beijing",
          "Beijing",
          "Beijing",
          "Beijing",
          "Beijing",
          "Beijing",
          "Beijing",
          "Beijing",
          "Beijing",
          "Beijing",
          "Beijing",
          "Beijing",
          "Beijing",
          "Beijing",
          "Beijing",
          "Beijing",
          "Beijing",
          "Beijing",
          "Beijing",
          "Beijing",
          "Beijing",
          "Beijing",
          "Beijing",
          "Beijing",
          "Beijing",
          "Beijing",
          "Beijing",
          "Beijing",
          "Beijing",
          "Beijing",
          "Beijing",
          "Beijing",
          "Beijing",
          "Beijing",
          "Beijing",
          "Beijing",
          "Beijing",
          "Beijing",
          "Beijing",
          "Beijing",
          "Beijing",
          "Beijing",
          "Beijing",
          "Beijing",
          "Beijing",
          "Beijing",
          "Beijing",
          "Beijing",
          "Beijing",
          "Beijing",
          "Beijing",
          "Beijing",
          "Beijing",
          "Beijing",
          "Beijing",
          "Beijing",
          "Beijing",
          "Beijing",
          "Beijing",
          "Beijing",
          "Beijing",
          "Beijing",
          "Beijing",
          "Beijing",
          "Beijing",
          "Beijing",
          "Beijing",
          "Beijing",
          "Beijing",
          "Beijing",
          "Beijing",
          "Beijing",
          "Beijing",
          "Beijing",
          "Beijing",
          "Beijing",
          "Beijing",
          "Beijing",
          "Beijing",
          "Beijing",
          "Beijing",
          "Beijing",
          "Beijing",
          "Beijing",
          "Beijing",
          "Beijing",
          "Beijing",
          "Beijing",
          "Beijing",
          "Beijing",
          "Beijing",
          "Beijing",
          "Beijing",
          "Beijing",
          "Beijing",
          "Beijing",
          "Beijing",
          "Beijing",
          "Beijing",
          "Beijing",
          "Beijing",
          "Beijing",
          "Beijing",
          "Beijing",
          "Beijing",
          "Beijing",
          "Beijing",
          "Beijing",
          "Beijing",
          "Beijing",
          "Beijing",
          "Beijing",
          "Beijing",
          "Beijing",
          "Beijing",
          "Beijing",
          "Beijing",
          "Beijing",
          "Beijing",
          "Beijing",
          "Beijing",
          "Beijing",
          "Beijing",
          "Beijing",
          "Beijing",
          "Beijing",
          "Beijing",
          "Beijing",
          "Beijing",
          "Beijing",
          "Beijing",
          "Beijing",
          "Beijing",
          "Beijing",
          "Beijing",
          "Beijing",
          "Beijing",
          "Beijing",
          "Beijing",
          "Beijing",
          "Beijing",
          "Beijing",
          "Beijing",
          "Beijing",
          "Beijing",
          "Beijing",
          "Beijing",
          "Beijing",
          "Beijing",
          "Beijing",
          "Beijing",
          "Beijing",
          "Beijing",
          "Beijing",
          "Beijing",
          "Beijing",
          "Beijing",
          "Beijing",
          "Beijing",
          "Beijing",
          "Beijing",
          "Beijing",
          "Beijing",
          "Beijing",
          "Beijing",
          "Beijing",
          "Beijing",
          "Beijing",
          "Beijing",
          "Beijing",
          "Beijing",
          "Beijing",
          "Beijing",
          "Beijing",
          "Beijing",
          "Beijing",
          "Beijing",
          "Beijing",
          "Beijing",
          "Beijing",
          "Beijing",
          "Beijing",
          "Beijing",
          "Beijing",
          "Beijing",
          "Beijing",
          "Beijing",
          "Beijing",
          "Beijing",
          "Beijing",
          "Beijing",
          "Beijing",
          "Beijing",
          "Beijing",
          "Beijing",
          "Beijing",
          "Beijing",
          "Beijing",
          "Beijing",
          "Beijing",
          "Beijing",
          "Beijing",
          "Beijing",
          "Beijing",
          "Beijing",
          "Beijing",
          "Beijing",
          "Beijing",
          "Beijing",
          "Beijing",
          "Beijing",
          "Beijing",
          "Beijing",
          "Beijing",
          "Beijing",
          "Beijing",
          "Beijing",
          "Beijing",
          "Beijing",
          "Beijing",
          "Beijing",
          "Beijing",
          "Beijing",
          "Beijing",
          "Beijing",
          "Beijing",
          "Beijing",
          "Beijing",
          "Beijing",
          "Beijing",
          "Beijing",
          "Beijing",
          "Beijing",
          "Beijing",
          "Beijing",
          "Beijing",
          "Beijing",
          "Beijing",
          "Beijing",
          "Beijing",
          "Beijing",
          "Beijing",
          "Beijing",
          "Beijing",
          "Beijing",
          "Beijing",
          "Beijing",
          "Beijing",
          "Beijing",
          "Beijing",
          "Beijing",
          "Beijing",
          "Beijing",
          "Beijing",
          "Beijing",
          "Beijing",
          "Beijing",
          "Beijing",
          "Beijing",
          "Beijing",
          "Beijing",
          "Beijing",
          "Beijing",
          "Beijing",
          "Beijing",
          "Beijing",
          "Beijing",
          "Beijing",
          "Beijing",
          "Beijing",
          "Beijing",
          "Beijing",
          "Beijing",
          "Beijing",
          "Beijing",
          "Beijing",
          "Beijing",
          "Beijing",
          "Beijing",
          "Beijing",
          "Beijing",
          "Beijing",
          "Beijing",
          "Beijing",
          "Beijing",
          "Beijing",
          "Beijing",
          "Beijing",
          "Beijing",
          "Beijing",
          "Beijing",
          "Beijing",
          "Beijing",
          "Beijing",
          "Beijing",
          "Beijing",
          "Beijing",
          "Beijing",
          "Beijing",
          "Beijing",
          "Beijing",
          "Beijing",
          "Beijing",
          "Beijing",
          "Beijing",
          "Beijing",
          "Beijing",
          "Beijing",
          "Beijing",
          "Beijing",
          "Beijing",
          "Beijing",
          "Beijing",
          "Beijing",
          "Beijing",
          "Beijing",
          "Beijing",
          "Beijing",
          "Beijing",
          "Beijing",
          "Beijing",
          "Beijing",
          "Beijing",
          "Beijing",
          "Beijing",
          "Beijing",
          "Beijing",
          "Beijing",
          "Beijing",
          "Beijing",
          "Beijing",
          "Beijing",
          "Beijing",
          "Beijing",
          "Beijing",
          "Beijing"
         ],
         "x0": " ",
         "xaxis": "x",
         "y": {
          "bdata": "WEEuF9KERkD5WoX9F4RpQD1WM3jkLVpAqO7MrTWXYUDNYOpWO1hYQBYZFN5Fy2FApck/RXg9U0D1K7iYX8tuQHGNdoNW5WhAX76WQiXmaUAIR8Gq/rdKQIi7a2eUrlNAm4IYgNikSEBEdvkpNzJBQC9S4Zj711FAMKwU3wP2ZkC8AvDXDf5ZQAdT3FGrxFlAi88oOA8la0ACStIxWchhQFtuRHIdV1pAPvSghDwgZ0DwkezEfuFGQOHlX38nOmpAl9/GBNRnakCQU7QiWVlpQGIUqReKdU1AP88uePttWUDrDpFfbtpZQBI02n8eO29AQxZGwTa/U0CKyo2fqNRsQLHg+Qu0fFBAV/rH3LJXZUAtu9kPGBtlQOpsvom1H19A4jM6LA3XZEAKsKo214JjQA+JdCEPeGNApAIgtXSPbUA9+qMb0VVsQGSr+PwhJ2lAkJ5H20/AOECZF6AmRU5iQFeVh4uFp1VAJhXi0Ej9UUCa+9bU9bYzQEYWaUbAQl5AdPCpcVB5ZECFciS7JDBYQH3q8g70E15Aw4F6HpJYVkAwr9KW5kteQOJCa7OaNVZAmDpNjfx8YEDKtkTvkmtRQPrlisksTlZAw+gEd49fYUC8ssEOztlrQHvPmSurv2FA7lLV8urZYEByme0Hz4lLQHuw4/Z5dmZAVbSUKlkFTkBU6lTYVrs7QIJxjbXo/VZA8JbsUayAakDWE7ZLjzZtQNBYzUYXNENAcKoOcmoEY0BMss1+8YlsQAILtpakJ25AGj426kz8bUBek0V//tAlQOzHRxfC4FBAH+Kl13bNT0AUuBa1Le1JQGuEy+VwnDBAzKye+EnPYEB3AG2YLINbQJvlb2FU1VFA7pTiCksMYUD9O0e+fS5vQBq7LTcmyUBAVbMRTdNrOUDx63qyliNDQNMsOGM5QGxAHH3rvnbtaECc3oi9KR5OQPFsJaIVpWhAmGjdMXqXXkCzPmm1JQdUQKKFr5sFg2ZASn4q0IFqZkC2ioqDggFbQFBXqXanLmJAKhBS3roxXECngvaJSW5iQJ00E6ULqltAfthC/ytaR0AvFO0NO60/QF2TCIE6jGBAyIUy6yXQbUBzY2qL5PhiQOgIAddcb2VAJYFb09JgTkAYni2qMHtRQOzTHEZuw2JAuNchhQ4GbEDk8i6PzKlmQCPhDi9yQWZA3jwxtIoTV0ASBg/nFr9sQBZM1rMwAmVAllkrOqtRbEAQhE99oTAyQLDXUOBbkWNAkNan526KaUCwrOZTams8QO8SOviRFmNArlGbgswKUEA5Ugi//NJUQPZLAyeEt2VAKoWJPWMpZECnb/pnfRpjQJUtU0ZytkZAcM9VeSahYUA0hVvQwnpcQB2XBJx1HmhA9PoWnCDsV0Cd5tuNZ/RkQBbDgmu6ilhAA7FciLJ+UEAhLGB3HgJSQLFiaFzss21AxxSVcDy0U0B7k1cmdghZQEbo2WtzAkdAss9j1bfsakAosI0f9D5lQKaMaQeK2lJACo1W5M4HZUBmbtA369hjQN3tGrnHIGRANItoivKKVECGeTB648hrQEZh0/gF12NA7ByJwP8TTkD47UJ9Rq02QNs5ulM9VWJAOail1hnZZUA+IuHyWnRIQJCW+jvbbGJAqW5xMjJkWEBCFLK5LiZnQOno37qM11RAe7VQn2PURUDrUYfpTxNbQH5uu4YRE29Ak9IxoxPXMUDEiWSqlgBbQNGXozqrSlpAwoVvYqPuXEA3WDSuWEM6QI16CYqVZk5A9pmGyNDRbUAatrQ5zmBVQJtPcGgCE0hAlNgmdDNEVkBgWXqmYURYQObFoibC4lVAwVJnQwPSUECmbW+cNbpYQMtZVlrbM1hAxiXizWCzYkCi5e2n/KtbQH/UXJs+yF5AWGFN+CEjT0ADzxvweMluQFWHVtV1M2tAjutbsn8tVUDEwQD28GxDQA4Q/MBr5G1Ahq2+GfsDVUAqh6BiotNUQN0oXBlzsGhAd3f4wZO2aUArooiEplhfQGlfOstvPmRAveiD1TqdbUAOW3Lvc1BsQGhIVSak4W1AHtTLy8CBZ0Dlq2YNDNJgQF3/n3TXOCpAqnRnAMAYV0AGg7RJFTdnQE7YOu2B+mtAXd0TNGJPY0DrwwZRj+xhQN5xrxVqH2tAhUwOHBlFbkAqxjcE5kZYQGpgQYDPAmBAzbv4YBnAaUA5AZrWIsdqQEierlPwcGVA18r1wL1NUUD+d1UfsSwuQFSKlRdkDERA9V5C/Tk2U0Ch8ff4PshfQFwWR9ZC5F1A6oysu94rX0DcwfZNNAM2QN1c7mZ+qGdA3E49Rz9rZECn9fkrQodqQMYMTGu77UhApXVOxEI5Z0Aa1q3x6cJjQFS2TP6T6G5A/VyIkT9DSUDxzK9QowBoQNzIWQF3mGxAAeYwj5IhWECc+VycJg1iQDF1ae5ohFFAYvOBhoIzZ0DzBdCpSelqQEwNFr+oKVhAoN8x0EpOS0AC8ifP5gtEQG4SV4h0n0FAkFUYUV8WakCZbqICR8RdQMDgEyqet2ZA5y2yWZe4Y0A7RdcfUmNfQHtYDTZqnmdA7YBhy5ctYEDBdMv9UbNtQHRbDKQ6a0tA2Jes+QieV0Bbeni13GFkQDo1JGO2wGtAVxiw/5doS0Ap3EIPxWhKQDrxzsifqGlAJn/P44T8YECeV1QKVO9TQDZkhfxnGlVAcnXxwpuNN0Bp1yAz8zJiQNGsMX1gQlhARSIlg1FOWUDypusS7F9gQKhOFFgpX2VAnUAoK4XNX0CTKStk1PdoQK8CibZYPVVAswIKIQl2LkDP5rWDHCppQFRxBAxMw2pAdXaVlrasakB6OEghr1RsQI8oE2zITkFAGkjeLEFxYkBNOvo3NsdgQIwcFbRzfkFAcLDFV2aoQkDni77eVPRlQIro72w7mlFAwZRzB/rCakAUAwJr4LM3QH25zKxm+2BArkeIlfg/MEDcb5hrKq1RQHjGaFywNDlAaISplCTWbECk1EjI39BiQP/Y+ZfJD2hAo8KpZopWYkBhAMzVvA5MQLkiTyCK72dAdEnyWL9ZW0AeIUB4WWJgQDl1tQFatGxAwOJGSlWYWUD1hIpkUKpoQMtvDgGZIGhAECe0qWotZUBqM5Uu/yE3QP7CXHSXrlNAuWlSqwcYS0CI+PH9Q2ZuQPnc5nyPLU1AO/GRfF7wYkDHEZF2EKlRQJ5npguNJG9A2UWJphUNMUByrkhe3JZUQOAkchAtplJAw3G0wr/3aUC2jx/tBT1BQA6Po+tvLWlAh8lquFAxUkDYCmLm4rJKQLjgEjqN4l5Af6MGgsroaEACZIoNs4tqQDSrHs+iHmdAPCS5IAQoNEAY4Lz8ZoFuQGx94abpgFFAEmJB6H41V0C0tyJj4FpsQDhnUJx6w1RAwWl/WH0hZUDS08rMH/JaQAxqVggloWhAbKX+qbCmaUCDic0HrTViQHgEF0anU25ABmkZIchxMECCgtabxtxgQHuNGrJkKGZAXN3nBX8FRUCaZ7UhmKc2QNCtw9zWsklA9Fvbh/rqYkAh5qcth5hHQEI+I84GO0xAaCF3RyWRRUDDUb/yX09mQLlVFHvyi25AZDuX0vC9QEDNiJStRKFjQG+EI/KWlE9AYGWPGu/uakAciLEjUvtQQA8RkdjuPWtApvagGNjFUUD7wOqpJ61WQCUUHFfTvGhAM+RgksgxLkB9QbGiUVtrQBNXGm2882dAy3UjtVH7W0BFDGUwPQJmQAtYTGHqb25Avn/L3amyQEBbndCKhdpWQDnBqPTJJDpAft6vjzTsV0BePTHnbMlkQIu7rgub+mxAQHzHayuUbEBnU/yK37NSQPlIX6AMlGlAbTnf4I7vaUCo8Bu7OB9qQPqKH9D+fmFAEOTw24EYWEBjoP4XkTpRQEL5aX/3EUtAtuOhnSZQZkBSmWdpCPlOQCRzAhq1eVBATvBk2OtxaUA5NN0jZKJoQL2MT29fEmdAllpDJdAOVUB62qEfhzFBQJ2hI1G1em5ATWa1bLvJbUD7htEWm1ldQEszebOAjGVA7StEhKmITkDvGpted2xTQLoMo4UdnWBADJgafnXwQkAgz9VRjG9TQDqpZ/78Gm1AqcLWjUcRbkDmZTj3KgJtQBRzJSSld2pAbalcYfTBS0D3/uww9OZJQO/hyzqdImJAUNwlLncRP0CopGEtz99LQFU9gVtfwFNAYrrqT8iSZECkXuaEompZQHVPfSHba1tAGvEE5qBybEDKK385mPxTQC7v1VMJyjRAy3mEUov3aUDTe+aCkvZqQIXurZsjompA5rkij3l0WUCcTHOhYc9qQI4AF1Kh7mtASJU9rF7WNEDi5LPMg6dlQAjkBz3pEWFAwL4umy1PakAD0aNA4jhvQIr+Hh+4SVhAYISfihqgZEANf36F1FVZQMLv/+/od1ZAxGAB9a0bW0BD173qsZVpQMPBFzjI/mtAFH7u7wt+UUAjWFejx7VJQCiW36RIyUJAhqiXC3l+O0Bfb0PhOo9QQLY8uhjUbU9AVsRfoFGZaUBq6LxRiLU4QPY4QEePfVFAncheE7SQaUD+6lbrM2FXQACSWuSCbmBAdYOz1C5tJUDbJxhBBx9cQFBRO9v8BlZAjLJH3u2SS0DKE9oE3WpoQAjHdIa1qDVA/iz4Km47OUDyBuQlKfNKQGSzjtJswWxAICqnO5OLR0BMI6OD4Rs1QMjEJKLUfmJATj+vQkTaQ0DeMB924Z1cQJ6PANRtA21ACg6+0LI5WECzkDraq/5rQMSUoO8TdkVAwn1kcZhTN0BPnSD8E/piQLGFb3lwAWJAIy8FZHJGREBw602XN+ZtQKXFM/p+L2tAcIBg69nlQEAL3rkNTeFjQECxw+0XoDBAagyqA8xFWUD7vNPkRmJdQFFcYx+EBS5AZs8sOcIdZUCmg9UzUqlRQLQoBJIZGDNAB075LxJpZUD9n7rWWmpfQHMNbqVc72xAftQPcpnsTkDi1MCGX5xiQFwOj6Fu31hA8Kh8LOS6U0DE4ndma5hlQOpdiHt00FdA1sgwAB3xR0CcoAXCuSpfQBQDCMrcsFZA+F+RQYRsUkBIcWRN0AFdQNBPxBxToWpAg4RzDPgDREC4j3vR5Z9bQPk1WAQ6Ql1AKtq9oA2uaEBDdpezn3JjQF5hmqBizWtAp/lqPw4bW0AmQShGCsxQQOuhLjdHRmJASrgElxdDQEDm/UH4US9WQDeRX3f0bGtAFIEy6U8lU0AbxyKujXxpQEqgNrVwDE9AJAL5aECYakDz+vQwy7FVQHBCxQQrPWFAKQY3lymDYUDpSmVJgrNkQAR+rWGUB0BA1oIFFMGUZEAHszNC771dQHxzMq8OdmxA/YdsoaFaXEB882+bAjFbQBi4AZImGW1AcDt+yWYbU0BLvpEef4hCQEIMWC0atmZAU3FxgRkkX0CWaYWHHa1iQLxufrEwsmpAiuyZPXBUXECeYnpzwKlkQL4XSYxwjWhAKVd0QfkOaEC8pXdZCnBkQC5FTFdXdl9AVntANyXoQEB0nRSEablnQPsew8qJiWtAGLsaIuPQZUAfd7Q6p6xrQB7k9RsXGExAqKAo3lcJaUCi42jwpkRpQIAKEeMABTxA1nYxXBR4TkAKHk6u6uRnQJ6E/767l1lAjnhNr3VLYkCbs6kZYKZVQNabVXfmFUFAIlRA59N6bkBGghSnaWQyQFF+lnce9GNAm1CxXlF5Z0CTKpLeX0lgQCn1+bnSI1lAjDaOHCnDMkCxMu02zHNTQLUWg3OMQWlAbo1b5m16ZEAUfzBn/H1TQPFE7p7AwWVA0+mAcQJuaUB0CUk5hFpjQAPKJ8RkFFlAl0iZlFUKU0CECVk/xCxRQD7sR5OzbVZA5RPh+52iXUB2CoqNae1nQNerHPevdmRAmINLta8hbUCTRIOXXi5fQAze2zkFsUpAneU07xXybkCOFczyhllZQM1ACNUSkGVASlgroVJ/SkBk3ohuxYpiQGXF18V9FFlAsf5riXJmWUBquIZD+FVQQHNpwkzLEmZAFZ5RR2KTU0B1UTDUQaZcQHrqKfs44FpAJhVmKbQPTEA1NV/sGShQQDpljidsampAdrvuHhNeVEAQkOX/uDVPQD6lqxVCZDFAgy/9zqhuY0CME36Hj5Q6QGgVEvsidmtAjLOndMVKbkAM+H/xnstYQM0ex7rWyGRAH1XDsZ/dJkDg5dPSq+tiQDLgstV58UVAPShy6QM/X0B3F49ML2NlQAewKtH6k2ZAh3epFOu7akByED9VIFRoQGZ44lxQV2VARKKS3m1RREBhd6vxAIViQAcNZUpKYltAyZdb3OAjUkBIlfMvShJvQOOOITbmgFpAI5hM6exRV0DFc+DnwBBnQLC1bWw+JG9ApipvkB+0ZECsZEmW5QZFQA7E8hAUwGJAzrZjs7mUX0BsjOATJcheQMyrSKhce2BAnm2W/wD9aUA0rdxEAOZRQJcR32M1g2NAJRbXGP4fZkDCjgljwac/QMLLQkWQGE1A6AiUy1mRaECFiXfBgydaQGg1posbbWtAUl6cu8wmSEBVzFCOf2ZdQIU7PqWubFdA065NFDcMZkBFOIu/0FpaQBGLLiaLxEpA+A0RGGPGaEAdSmC5w75aQKpz+09TB1BA2vzarTC5SUAlyayWz2pFQASP49HOT1pAIN1E7Bv7X0CMRZulgstFQD/jWI98hVZA0URtMEluYUC/HRXI1nViQA==",
          "dtype": "f8"
         },
         "y0": " ",
         "yaxis": "y"
        },
        {
         "alignmentgroup": "True",
         "hovertemplate": "City=%{x}<br>PM2.5 (µg/m³)=%{y}<extra></extra>",
         "legendgroup": "Chengdu",
         "marker": {
          "color": "#ab63fa"
         },
         "name": "Chengdu",
         "notched": false,
         "offsetgroup": "Chengdu",
         "orientation": "v",
         "showlegend": true,
         "type": "box",
         "x": [
          "Chengdu",
          "Chengdu",
          "Chengdu",
          "Chengdu",
          "Chengdu",
          "Chengdu",
          "Chengdu",
          "Chengdu",
          "Chengdu",
          "Chengdu",
          "Chengdu",
          "Chengdu",
          "Chengdu",
          "Chengdu",
          "Chengdu",
          "Chengdu",
          "Chengdu",
          "Chengdu",
          "Chengdu",
          "Chengdu",
          "Chengdu",
          "Chengdu",
          "Chengdu",
          "Chengdu",
          "Chengdu",
          "Chengdu",
          "Chengdu",
          "Chengdu",
          "Chengdu",
          "Chengdu",
          "Chengdu",
          "Chengdu",
          "Chengdu",
          "Chengdu",
          "Chengdu",
          "Chengdu",
          "Chengdu",
          "Chengdu",
          "Chengdu",
          "Chengdu",
          "Chengdu",
          "Chengdu",
          "Chengdu",
          "Chengdu",
          "Chengdu",
          "Chengdu",
          "Chengdu",
          "Chengdu",
          "Chengdu",
          "Chengdu",
          "Chengdu",
          "Chengdu",
          "Chengdu",
          "Chengdu",
          "Chengdu",
          "Chengdu",
          "Chengdu",
          "Chengdu",
          "Chengdu",
          "Chengdu",
          "Chengdu",
          "Chengdu",
          "Chengdu",
          "Chengdu",
          "Chengdu",
          "Chengdu",
          "Chengdu",
          "Chengdu",
          "Chengdu",
          "Chengdu",
          "Chengdu",
          "Chengdu",
          "Chengdu",
          "Chengdu",
          "Chengdu",
          "Chengdu",
          "Chengdu",
          "Chengdu",
          "Chengdu",
          "Chengdu",
          "Chengdu",
          "Chengdu",
          "Chengdu",
          "Chengdu",
          "Chengdu",
          "Chengdu",
          "Chengdu",
          "Chengdu",
          "Chengdu",
          "Chengdu",
          "Chengdu",
          "Chengdu",
          "Chengdu",
          "Chengdu",
          "Chengdu",
          "Chengdu",
          "Chengdu",
          "Chengdu",
          "Chengdu",
          "Chengdu",
          "Chengdu",
          "Chengdu",
          "Chengdu",
          "Chengdu",
          "Chengdu",
          "Chengdu",
          "Chengdu",
          "Chengdu",
          "Chengdu",
          "Chengdu",
          "Chengdu",
          "Chengdu",
          "Chengdu",
          "Chengdu",
          "Chengdu",
          "Chengdu",
          "Chengdu",
          "Chengdu",
          "Chengdu",
          "Chengdu",
          "Chengdu",
          "Chengdu",
          "Chengdu",
          "Chengdu",
          "Chengdu",
          "Chengdu",
          "Chengdu",
          "Chengdu",
          "Chengdu",
          "Chengdu",
          "Chengdu",
          "Chengdu",
          "Chengdu",
          "Chengdu",
          "Chengdu",
          "Chengdu",
          "Chengdu",
          "Chengdu",
          "Chengdu",
          "Chengdu",
          "Chengdu",
          "Chengdu",
          "Chengdu",
          "Chengdu",
          "Chengdu",
          "Chengdu",
          "Chengdu",
          "Chengdu",
          "Chengdu",
          "Chengdu",
          "Chengdu",
          "Chengdu",
          "Chengdu",
          "Chengdu",
          "Chengdu",
          "Chengdu",
          "Chengdu",
          "Chengdu",
          "Chengdu",
          "Chengdu",
          "Chengdu",
          "Chengdu",
          "Chengdu",
          "Chengdu",
          "Chengdu",
          "Chengdu",
          "Chengdu",
          "Chengdu",
          "Chengdu",
          "Chengdu",
          "Chengdu",
          "Chengdu",
          "Chengdu",
          "Chengdu",
          "Chengdu",
          "Chengdu",
          "Chengdu",
          "Chengdu",
          "Chengdu",
          "Chengdu",
          "Chengdu",
          "Chengdu",
          "Chengdu",
          "Chengdu",
          "Chengdu",
          "Chengdu",
          "Chengdu",
          "Chengdu",
          "Chengdu",
          "Chengdu",
          "Chengdu",
          "Chengdu",
          "Chengdu",
          "Chengdu",
          "Chengdu",
          "Chengdu",
          "Chengdu",
          "Chengdu",
          "Chengdu",
          "Chengdu",
          "Chengdu",
          "Chengdu",
          "Chengdu",
          "Chengdu",
          "Chengdu",
          "Chengdu",
          "Chengdu",
          "Chengdu",
          "Chengdu",
          "Chengdu",
          "Chengdu",
          "Chengdu",
          "Chengdu",
          "Chengdu",
          "Chengdu",
          "Chengdu",
          "Chengdu",
          "Chengdu",
          "Chengdu",
          "Chengdu",
          "Chengdu",
          "Chengdu",
          "Chengdu",
          "Chengdu",
          "Chengdu",
          "Chengdu",
          "Chengdu",
          "Chengdu",
          "Chengdu",
          "Chengdu",
          "Chengdu",
          "Chengdu",
          "Chengdu",
          "Chengdu",
          "Chengdu",
          "Chengdu",
          "Chengdu",
          "Chengdu",
          "Chengdu",
          "Chengdu",
          "Chengdu",
          "Chengdu",
          "Chengdu",
          "Chengdu",
          "Chengdu",
          "Chengdu",
          "Chengdu",
          "Chengdu",
          "Chengdu",
          "Chengdu",
          "Chengdu",
          "Chengdu",
          "Chengdu",
          "Chengdu",
          "Chengdu",
          "Chengdu",
          "Chengdu",
          "Chengdu",
          "Chengdu",
          "Chengdu",
          "Chengdu",
          "Chengdu",
          "Chengdu",
          "Chengdu",
          "Chengdu",
          "Chengdu",
          "Chengdu",
          "Chengdu",
          "Chengdu",
          "Chengdu",
          "Chengdu",
          "Chengdu",
          "Chengdu",
          "Chengdu",
          "Chengdu",
          "Chengdu",
          "Chengdu",
          "Chengdu",
          "Chengdu",
          "Chengdu",
          "Chengdu",
          "Chengdu",
          "Chengdu",
          "Chengdu",
          "Chengdu",
          "Chengdu",
          "Chengdu",
          "Chengdu",
          "Chengdu",
          "Chengdu",
          "Chengdu",
          "Chengdu",
          "Chengdu",
          "Chengdu",
          "Chengdu",
          "Chengdu",
          "Chengdu",
          "Chengdu",
          "Chengdu",
          "Chengdu",
          "Chengdu",
          "Chengdu",
          "Chengdu",
          "Chengdu",
          "Chengdu",
          "Chengdu",
          "Chengdu",
          "Chengdu",
          "Chengdu",
          "Chengdu",
          "Chengdu",
          "Chengdu",
          "Chengdu",
          "Chengdu",
          "Chengdu",
          "Chengdu",
          "Chengdu",
          "Chengdu",
          "Chengdu",
          "Chengdu",
          "Chengdu",
          "Chengdu",
          "Chengdu",
          "Chengdu",
          "Chengdu",
          "Chengdu",
          "Chengdu",
          "Chengdu",
          "Chengdu",
          "Chengdu",
          "Chengdu",
          "Chengdu",
          "Chengdu",
          "Chengdu",
          "Chengdu",
          "Chengdu",
          "Chengdu",
          "Chengdu",
          "Chengdu",
          "Chengdu",
          "Chengdu",
          "Chengdu",
          "Chengdu",
          "Chengdu",
          "Chengdu",
          "Chengdu",
          "Chengdu",
          "Chengdu",
          "Chengdu",
          "Chengdu",
          "Chengdu",
          "Chengdu",
          "Chengdu",
          "Chengdu",
          "Chengdu",
          "Chengdu",
          "Chengdu",
          "Chengdu",
          "Chengdu",
          "Chengdu",
          "Chengdu",
          "Chengdu",
          "Chengdu",
          "Chengdu",
          "Chengdu",
          "Chengdu",
          "Chengdu",
          "Chengdu",
          "Chengdu",
          "Chengdu",
          "Chengdu",
          "Chengdu",
          "Chengdu",
          "Chengdu",
          "Chengdu",
          "Chengdu",
          "Chengdu",
          "Chengdu",
          "Chengdu",
          "Chengdu",
          "Chengdu",
          "Chengdu",
          "Chengdu",
          "Chengdu",
          "Chengdu",
          "Chengdu",
          "Chengdu",
          "Chengdu",
          "Chengdu",
          "Chengdu",
          "Chengdu",
          "Chengdu",
          "Chengdu",
          "Chengdu",
          "Chengdu",
          "Chengdu",
          "Chengdu",
          "Chengdu",
          "Chengdu",
          "Chengdu",
          "Chengdu",
          "Chengdu",
          "Chengdu",
          "Chengdu",
          "Chengdu",
          "Chengdu",
          "Chengdu",
          "Chengdu",
          "Chengdu",
          "Chengdu",
          "Chengdu",
          "Chengdu",
          "Chengdu",
          "Chengdu",
          "Chengdu",
          "Chengdu",
          "Chengdu",
          "Chengdu",
          "Chengdu",
          "Chengdu",
          "Chengdu",
          "Chengdu",
          "Chengdu",
          "Chengdu",
          "Chengdu",
          "Chengdu",
          "Chengdu",
          "Chengdu",
          "Chengdu",
          "Chengdu",
          "Chengdu",
          "Chengdu",
          "Chengdu",
          "Chengdu",
          "Chengdu",
          "Chengdu",
          "Chengdu",
          "Chengdu",
          "Chengdu",
          "Chengdu",
          "Chengdu",
          "Chengdu",
          "Chengdu",
          "Chengdu",
          "Chengdu",
          "Chengdu",
          "Chengdu",
          "Chengdu",
          "Chengdu",
          "Chengdu",
          "Chengdu",
          "Chengdu",
          "Chengdu",
          "Chengdu",
          "Chengdu",
          "Chengdu",
          "Chengdu",
          "Chengdu",
          "Chengdu",
          "Chengdu",
          "Chengdu",
          "Chengdu",
          "Chengdu",
          "Chengdu",
          "Chengdu",
          "Chengdu",
          "Chengdu",
          "Chengdu",
          "Chengdu",
          "Chengdu",
          "Chengdu",
          "Chengdu",
          "Chengdu",
          "Chengdu",
          "Chengdu",
          "Chengdu",
          "Chengdu",
          "Chengdu",
          "Chengdu",
          "Chengdu",
          "Chengdu",
          "Chengdu",
          "Chengdu",
          "Chengdu",
          "Chengdu",
          "Chengdu",
          "Chengdu",
          "Chengdu",
          "Chengdu",
          "Chengdu",
          "Chengdu",
          "Chengdu",
          "Chengdu",
          "Chengdu",
          "Chengdu",
          "Chengdu",
          "Chengdu",
          "Chengdu",
          "Chengdu",
          "Chengdu",
          "Chengdu",
          "Chengdu",
          "Chengdu",
          "Chengdu",
          "Chengdu",
          "Chengdu",
          "Chengdu",
          "Chengdu",
          "Chengdu",
          "Chengdu",
          "Chengdu",
          "Chengdu",
          "Chengdu",
          "Chengdu",
          "Chengdu",
          "Chengdu",
          "Chengdu",
          "Chengdu",
          "Chengdu",
          "Chengdu",
          "Chengdu",
          "Chengdu",
          "Chengdu",
          "Chengdu",
          "Chengdu",
          "Chengdu",
          "Chengdu",
          "Chengdu",
          "Chengdu",
          "Chengdu",
          "Chengdu",
          "Chengdu",
          "Chengdu",
          "Chengdu",
          "Chengdu",
          "Chengdu",
          "Chengdu",
          "Chengdu",
          "Chengdu",
          "Chengdu",
          "Chengdu",
          "Chengdu",
          "Chengdu",
          "Chengdu",
          "Chengdu",
          "Chengdu",
          "Chengdu",
          "Chengdu",
          "Chengdu",
          "Chengdu",
          "Chengdu",
          "Chengdu",
          "Chengdu",
          "Chengdu",
          "Chengdu",
          "Chengdu",
          "Chengdu",
          "Chengdu",
          "Chengdu",
          "Chengdu",
          "Chengdu",
          "Chengdu",
          "Chengdu",
          "Chengdu",
          "Chengdu",
          "Chengdu",
          "Chengdu",
          "Chengdu",
          "Chengdu",
          "Chengdu",
          "Chengdu",
          "Chengdu",
          "Chengdu",
          "Chengdu",
          "Chengdu",
          "Chengdu",
          "Chengdu",
          "Chengdu",
          "Chengdu",
          "Chengdu",
          "Chengdu",
          "Chengdu",
          "Chengdu",
          "Chengdu",
          "Chengdu",
          "Chengdu",
          "Chengdu",
          "Chengdu",
          "Chengdu",
          "Chengdu",
          "Chengdu",
          "Chengdu",
          "Chengdu",
          "Chengdu",
          "Chengdu",
          "Chengdu",
          "Chengdu",
          "Chengdu"
         ],
         "x0": " ",
         "xaxis": "x",
         "y": {
          "bdata": "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",
          "dtype": "f8"
         },
         "y0": " ",
         "yaxis": "y"
        },
        {
         "alignmentgroup": "True",
         "hovertemplate": "City=%{x}<br>PM2.5 (µg/m³)=%{y}<extra></extra>",
         "legendgroup": "Guangzhou",
         "marker": {
          "color": "#FFA15A"
         },
         "name": "Guangzhou",
         "notched": false,
         "offsetgroup": "Guangzhou",
         "orientation": "v",
         "showlegend": true,
         "type": "box",
         "x": [
          "Guangzhou",
          "Guangzhou",
          "Guangzhou",
          "Guangzhou",
          "Guangzhou",
          "Guangzhou",
          "Guangzhou",
          "Guangzhou",
          "Guangzhou",
          "Guangzhou",
          "Guangzhou",
          "Guangzhou",
          "Guangzhou",
          "Guangzhou",
          "Guangzhou",
          "Guangzhou",
          "Guangzhou",
          "Guangzhou",
          "Guangzhou",
          "Guangzhou",
          "Guangzhou",
          "Guangzhou",
          "Guangzhou",
          "Guangzhou",
          "Guangzhou",
          "Guangzhou",
          "Guangzhou",
          "Guangzhou",
          "Guangzhou",
          "Guangzhou",
          "Guangzhou",
          "Guangzhou",
          "Guangzhou",
          "Guangzhou",
          "Guangzhou",
          "Guangzhou",
          "Guangzhou",
          "Guangzhou",
          "Guangzhou",
          "Guangzhou",
          "Guangzhou",
          "Guangzhou",
          "Guangzhou",
          "Guangzhou",
          "Guangzhou",
          "Guangzhou",
          "Guangzhou",
          "Guangzhou",
          "Guangzhou",
          "Guangzhou",
          "Guangzhou",
          "Guangzhou",
          "Guangzhou",
          "Guangzhou",
          "Guangzhou",
          "Guangzhou",
          "Guangzhou",
          "Guangzhou",
          "Guangzhou",
          "Guangzhou",
          "Guangzhou",
          "Guangzhou",
          "Guangzhou",
          "Guangzhou",
          "Guangzhou",
          "Guangzhou",
          "Guangzhou",
          "Guangzhou",
          "Guangzhou",
          "Guangzhou",
          "Guangzhou",
          "Guangzhou",
          "Guangzhou",
          "Guangzhou",
          "Guangzhou",
          "Guangzhou",
          "Guangzhou",
          "Guangzhou",
          "Guangzhou",
          "Guangzhou",
          "Guangzhou",
          "Guangzhou",
          "Guangzhou",
          "Guangzhou",
          "Guangzhou",
          "Guangzhou",
          "Guangzhou",
          "Guangzhou",
          "Guangzhou",
          "Guangzhou",
          "Guangzhou",
          "Guangzhou",
          "Guangzhou",
          "Guangzhou",
          "Guangzhou",
          "Guangzhou",
          "Guangzhou",
          "Guangzhou",
          "Guangzhou",
          "Guangzhou",
          "Guangzhou",
          "Guangzhou",
          "Guangzhou",
          "Guangzhou",
          "Guangzhou",
          "Guangzhou",
          "Guangzhou",
          "Guangzhou",
          "Guangzhou",
          "Guangzhou",
          "Guangzhou",
          "Guangzhou",
          "Guangzhou",
          "Guangzhou",
          "Guangzhou",
          "Guangzhou",
          "Guangzhou",
          "Guangzhou",
          "Guangzhou",
          "Guangzhou",
          "Guangzhou",
          "Guangzhou",
          "Guangzhou",
          "Guangzhou",
          "Guangzhou",
          "Guangzhou",
          "Guangzhou",
          "Guangzhou",
          "Guangzhou",
          "Guangzhou",
          "Guangzhou",
          "Guangzhou",
          "Guangzhou",
          "Guangzhou",
          "Guangzhou",
          "Guangzhou",
          "Guangzhou",
          "Guangzhou",
          "Guangzhou",
          "Guangzhou",
          "Guangzhou",
          "Guangzhou",
          "Guangzhou",
          "Guangzhou",
          "Guangzhou",
          "Guangzhou",
          "Guangzhou",
          "Guangzhou",
          "Guangzhou",
          "Guangzhou",
          "Guangzhou",
          "Guangzhou",
          "Guangzhou",
          "Guangzhou",
          "Guangzhou",
          "Guangzhou",
          "Guangzhou",
          "Guangzhou",
          "Guangzhou",
          "Guangzhou",
          "Guangzhou",
          "Guangzhou",
          "Guangzhou",
          "Guangzhou",
          "Guangzhou",
          "Guangzhou",
          "Guangzhou",
          "Guangzhou",
          "Guangzhou",
          "Guangzhou",
          "Guangzhou",
          "Guangzhou",
          "Guangzhou",
          "Guangzhou",
          "Guangzhou",
          "Guangzhou",
          "Guangzhou",
          "Guangzhou",
          "Guangzhou",
          "Guangzhou",
          "Guangzhou",
          "Guangzhou",
          "Guangzhou",
          "Guangzhou",
          "Guangzhou",
          "Guangzhou",
          "Guangzhou",
          "Guangzhou",
          "Guangzhou",
          "Guangzhou",
          "Guangzhou",
          "Guangzhou",
          "Guangzhou",
          "Guangzhou",
          "Guangzhou",
          "Guangzhou",
          "Guangzhou",
          "Guangzhou",
          "Guangzhou",
          "Guangzhou",
          "Guangzhou",
          "Guangzhou",
          "Guangzhou",
          "Guangzhou",
          "Guangzhou",
          "Guangzhou",
          "Guangzhou",
          "Guangzhou",
          "Guangzhou",
          "Guangzhou",
          "Guangzhou",
          "Guangzhou",
          "Guangzhou",
          "Guangzhou",
          "Guangzhou",
          "Guangzhou",
          "Guangzhou",
          "Guangzhou",
          "Guangzhou",
          "Guangzhou",
          "Guangzhou",
          "Guangzhou",
          "Guangzhou",
          "Guangzhou",
          "Guangzhou",
          "Guangzhou",
          "Guangzhou",
          "Guangzhou",
          "Guangzhou",
          "Guangzhou",
          "Guangzhou",
          "Guangzhou",
          "Guangzhou",
          "Guangzhou",
          "Guangzhou",
          "Guangzhou",
          "Guangzhou",
          "Guangzhou",
          "Guangzhou",
          "Guangzhou",
          "Guangzhou",
          "Guangzhou",
          "Guangzhou",
          "Guangzhou",
          "Guangzhou",
          "Guangzhou",
          "Guangzhou",
          "Guangzhou",
          "Guangzhou",
          "Guangzhou",
          "Guangzhou",
          "Guangzhou",
          "Guangzhou",
          "Guangzhou",
          "Guangzhou",
          "Guangzhou",
          "Guangzhou",
          "Guangzhou",
          "Guangzhou",
          "Guangzhou",
          "Guangzhou",
          "Guangzhou",
          "Guangzhou",
          "Guangzhou",
          "Guangzhou",
          "Guangzhou",
          "Guangzhou",
          "Guangzhou",
          "Guangzhou",
          "Guangzhou",
          "Guangzhou",
          "Guangzhou",
          "Guangzhou",
          "Guangzhou",
          "Guangzhou",
          "Guangzhou",
          "Guangzhou",
          "Guangzhou",
          "Guangzhou",
          "Guangzhou",
          "Guangzhou",
          "Guangzhou",
          "Guangzhou",
          "Guangzhou",
          "Guangzhou",
          "Guangzhou",
          "Guangzhou",
          "Guangzhou",
          "Guangzhou",
          "Guangzhou",
          "Guangzhou",
          "Guangzhou",
          "Guangzhou",
          "Guangzhou",
          "Guangzhou",
          "Guangzhou",
          "Guangzhou",
          "Guangzhou",
          "Guangzhou",
          "Guangzhou",
          "Guangzhou",
          "Guangzhou",
          "Guangzhou",
          "Guangzhou",
          "Guangzhou",
          "Guangzhou",
          "Guangzhou",
          "Guangzhou",
          "Guangzhou",
          "Guangzhou",
          "Guangzhou",
          "Guangzhou",
          "Guangzhou",
          "Guangzhou",
          "Guangzhou",
          "Guangzhou",
          "Guangzhou",
          "Guangzhou",
          "Guangzhou",
          "Guangzhou",
          "Guangzhou",
          "Guangzhou",
          "Guangzhou",
          "Guangzhou",
          "Guangzhou",
          "Guangzhou",
          "Guangzhou",
          "Guangzhou",
          "Guangzhou",
          "Guangzhou",
          "Guangzhou",
          "Guangzhou",
          "Guangzhou",
          "Guangzhou",
          "Guangzhou",
          "Guangzhou",
          "Guangzhou",
          "Guangzhou",
          "Guangzhou",
          "Guangzhou",
          "Guangzhou",
          "Guangzhou",
          "Guangzhou",
          "Guangzhou",
          "Guangzhou",
          "Guangzhou",
          "Guangzhou",
          "Guangzhou",
          "Guangzhou",
          "Guangzhou",
          "Guangzhou",
          "Guangzhou",
          "Guangzhou",
          "Guangzhou",
          "Guangzhou",
          "Guangzhou",
          "Guangzhou",
          "Guangzhou",
          "Guangzhou",
          "Guangzhou",
          "Guangzhou",
          "Guangzhou",
          "Guangzhou",
          "Guangzhou",
          "Guangzhou",
          "Guangzhou",
          "Guangzhou",
          "Guangzhou",
          "Guangzhou",
          "Guangzhou",
          "Guangzhou",
          "Guangzhou",
          "Guangzhou",
          "Guangzhou",
          "Guangzhou",
          "Guangzhou",
          "Guangzhou",
          "Guangzhou",
          "Guangzhou",
          "Guangzhou",
          "Guangzhou",
          "Guangzhou",
          "Guangzhou",
          "Guangzhou",
          "Guangzhou",
          "Guangzhou",
          "Guangzhou",
          "Guangzhou",
          "Guangzhou",
          "Guangzhou",
          "Guangzhou",
          "Guangzhou",
          "Guangzhou",
          "Guangzhou",
          "Guangzhou",
          "Guangzhou",
          "Guangzhou",
          "Guangzhou",
          "Guangzhou",
          "Guangzhou",
          "Guangzhou",
          "Guangzhou",
          "Guangzhou",
          "Guangzhou",
          "Guangzhou",
          "Guangzhou",
          "Guangzhou",
          "Guangzhou",
          "Guangzhou",
          "Guangzhou",
          "Guangzhou",
          "Guangzhou",
          "Guangzhou",
          "Guangzhou",
          "Guangzhou",
          "Guangzhou",
          "Guangzhou",
          "Guangzhou",
          "Guangzhou",
          "Guangzhou",
          "Guangzhou",
          "Guangzhou",
          "Guangzhou",
          "Guangzhou",
          "Guangzhou",
          "Guangzhou",
          "Guangzhou",
          "Guangzhou",
          "Guangzhou",
          "Guangzhou",
          "Guangzhou",
          "Guangzhou",
          "Guangzhou",
          "Guangzhou",
          "Guangzhou",
          "Guangzhou",
          "Guangzhou",
          "Guangzhou",
          "Guangzhou",
          "Guangzhou",
          "Guangzhou",
          "Guangzhou",
          "Guangzhou",
          "Guangzhou",
          "Guangzhou",
          "Guangzhou",
          "Guangzhou",
          "Guangzhou",
          "Guangzhou",
          "Guangzhou",
          "Guangzhou",
          "Guangzhou",
          "Guangzhou",
          "Guangzhou",
          "Guangzhou",
          "Guangzhou",
          "Guangzhou",
          "Guangzhou",
          "Guangzhou",
          "Guangzhou",
          "Guangzhou",
          "Guangzhou",
          "Guangzhou",
          "Guangzhou",
          "Guangzhou",
          "Guangzhou",
          "Guangzhou",
          "Guangzhou",
          "Guangzhou",
          "Guangzhou",
          "Guangzhou",
          "Guangzhou",
          "Guangzhou",
          "Guangzhou",
          "Guangzhou",
          "Guangzhou",
          "Guangzhou",
          "Guangzhou",
          "Guangzhou",
          "Guangzhou",
          "Guangzhou",
          "Guangzhou",
          "Guangzhou",
          "Guangzhou",
          "Guangzhou",
          "Guangzhou",
          "Guangzhou",
          "Guangzhou",
          "Guangzhou",
          "Guangzhou",
          "Guangzhou",
          "Guangzhou",
          "Guangzhou",
          "Guangzhou",
          "Guangzhou",
          "Guangzhou",
          "Guangzhou",
          "Guangzhou",
          "Guangzhou",
          "Guangzhou",
          "Guangzhou",
          "Guangzhou",
          "Guangzhou",
          "Guangzhou",
          "Guangzhou",
          "Guangzhou",
          "Guangzhou",
          "Guangzhou",
          "Guangzhou",
          "Guangzhou",
          "Guangzhou",
          "Guangzhou",
          "Guangzhou",
          "Guangzhou",
          "Guangzhou",
          "Guangzhou",
          "Guangzhou",
          "Guangzhou",
          "Guangzhou",
          "Guangzhou",
          "Guangzhou",
          "Guangzhou",
          "Guangzhou",
          "Guangzhou",
          "Guangzhou",
          "Guangzhou",
          "Guangzhou",
          "Guangzhou",
          "Guangzhou",
          "Guangzhou",
          "Guangzhou",
          "Guangzhou",
          "Guangzhou",
          "Guangzhou",
          "Guangzhou",
          "Guangzhou",
          "Guangzhou",
          "Guangzhou",
          "Guangzhou",
          "Guangzhou",
          "Guangzhou",
          "Guangzhou",
          "Guangzhou",
          "Guangzhou",
          "Guangzhou",
          "Guangzhou",
          "Guangzhou",
          "Guangzhou",
          "Guangzhou",
          "Guangzhou",
          "Guangzhou",
          "Guangzhou",
          "Guangzhou",
          "Guangzhou",
          "Guangzhou",
          "Guangzhou",
          "Guangzhou",
          "Guangzhou",
          "Guangzhou",
          "Guangzhou",
          "Guangzhou",
          "Guangzhou",
          "Guangzhou",
          "Guangzhou",
          "Guangzhou",
          "Guangzhou",
          "Guangzhou",
          "Guangzhou",
          "Guangzhou",
          "Guangzhou",
          "Guangzhou",
          "Guangzhou",
          "Guangzhou",
          "Guangzhou",
          "Guangzhou",
          "Guangzhou",
          "Guangzhou",
          "Guangzhou",
          "Guangzhou",
          "Guangzhou",
          "Guangzhou",
          "Guangzhou",
          "Guangzhou",
          "Guangzhou"
         ],
         "x0": " ",
         "xaxis": "x",
         "y": {
          "bdata": "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",
          "dtype": "f8"
         },
         "y0": " ",
         "yaxis": "y"
        }
       ],
       "layout": {
        "boxmode": "overlay",
        "legend": {
         "title": {
          "text": "City"
         },
         "tracegroupgap": 0
        },
        "template": {
         "data": {
          "bar": [
           {
            "error_x": {
             "color": "#2a3f5f"
            },
            "error_y": {
             "color": "#2a3f5f"
            },
            "marker": {
             "line": {
              "color": "#E5ECF6",
              "width": 0.5
             },
             "pattern": {
              "fillmode": "overlay",
              "size": 10,
              "solidity": 0.2
             }
            },
            "type": "bar"
           }
          ],
          "barpolar": [
           {
            "marker": {
             "line": {
              "color": "#E5ECF6",
              "width": 0.5
             },
             "pattern": {
              "fillmode": "overlay",
              "size": 10,
              "solidity": 0.2
             }
            },
            "type": "barpolar"
           }
          ],
          "carpet": [
           {
            "aaxis": {
             "endlinecolor": "#2a3f5f",
             "gridcolor": "white",
             "linecolor": "white",
             "minorgridcolor": "white",
             "startlinecolor": "#2a3f5f"
            },
            "baxis": {
             "endlinecolor": "#2a3f5f",
             "gridcolor": "white",
             "linecolor": "white",
             "minorgridcolor": "white",
             "startlinecolor": "#2a3f5f"
            },
            "type": "carpet"
           }
          ],
          "choropleth": [
           {
            "colorbar": {
             "outlinewidth": 0,
             "ticks": ""
            },
            "type": "choropleth"
           }
          ],
          "contour": [
           {
            "colorbar": {
             "outlinewidth": 0,
             "ticks": ""
            },
            "colorscale": [
             [
              0,
              "#0d0887"
             ],
             [
              0.1111111111111111,
              "#46039f"
             ],
             [
              0.2222222222222222,
              "#7201a8"
             ],
             [
              0.3333333333333333,
              "#9c179e"
             ],
             [
              0.4444444444444444,
              "#bd3786"
             ],
             [
              0.5555555555555556,
              "#d8576b"
             ],
             [
              0.6666666666666666,
              "#ed7953"
             ],
             [
              0.7777777777777778,
              "#fb9f3a"
             ],
             [
              0.8888888888888888,
              "#fdca26"
             ],
             [
              1,
              "#f0f921"
             ]
            ],
            "type": "contour"
           }
          ],
          "contourcarpet": [
           {
            "colorbar": {
             "outlinewidth": 0,
             "ticks": ""
            },
            "type": "contourcarpet"
           }
          ],
          "heatmap": [
           {
            "colorbar": {
             "outlinewidth": 0,
             "ticks": ""
            },
            "colorscale": [
             [
              0,
              "#0d0887"
             ],
             [
              0.1111111111111111,
              "#46039f"
             ],
             [
              0.2222222222222222,
              "#7201a8"
             ],
             [
              0.3333333333333333,
              "#9c179e"
             ],
             [
              0.4444444444444444,
              "#bd3786"
             ],
             [
              0.5555555555555556,
              "#d8576b"
             ],
             [
              0.6666666666666666,
              "#ed7953"
             ],
             [
              0.7777777777777778,
              "#fb9f3a"
             ],
             [
              0.8888888888888888,
              "#fdca26"
             ],
             [
              1,
              "#f0f921"
             ]
            ],
            "type": "heatmap"
           }
          ],
          "histogram": [
           {
            "marker": {
             "pattern": {
              "fillmode": "overlay",
              "size": 10,
              "solidity": 0.2
             }
            },
            "type": "histogram"
           }
          ],
          "histogram2d": [
           {
            "colorbar": {
             "outlinewidth": 0,
             "ticks": ""
            },
            "colorscale": [
             [
              0,
              "#0d0887"
             ],
             [
              0.1111111111111111,
              "#46039f"
             ],
             [
              0.2222222222222222,
              "#7201a8"
             ],
             [
              0.3333333333333333,
              "#9c179e"
             ],
             [
              0.4444444444444444,
              "#bd3786"
             ],
             [
              0.5555555555555556,
              "#d8576b"
             ],
             [
              0.6666666666666666,
              "#ed7953"
             ],
             [
              0.7777777777777778,
              "#fb9f3a"
             ],
             [
              0.8888888888888888,
              "#fdca26"
             ],
             [
              1,
              "#f0f921"
             ]
            ],
            "type": "histogram2d"
           }
          ],
          "histogram2dcontour": [
           {
            "colorbar": {
             "outlinewidth": 0,
             "ticks": ""
            },
            "colorscale": [
             [
              0,
              "#0d0887"
             ],
             [
              0.1111111111111111,
              "#46039f"
             ],
             [
              0.2222222222222222,
              "#7201a8"
             ],
             [
              0.3333333333333333,
              "#9c179e"
             ],
             [
              0.4444444444444444,
              "#bd3786"
             ],
             [
              0.5555555555555556,
              "#d8576b"
             ],
             [
              0.6666666666666666,
              "#ed7953"
             ],
             [
              0.7777777777777778,
              "#fb9f3a"
             ],
             [
              0.8888888888888888,
              "#fdca26"
             ],
             [
              1,
              "#f0f921"
             ]
            ],
            "type": "histogram2dcontour"
           }
          ],
          "mesh3d": [
           {
            "colorbar": {
             "outlinewidth": 0,
             "ticks": ""
            },
            "type": "mesh3d"
           }
          ],
          "parcoords": [
           {
            "line": {
             "colorbar": {
              "outlinewidth": 0,
              "ticks": ""
             }
            },
            "type": "parcoords"
           }
          ],
          "pie": [
           {
            "automargin": true,
            "type": "pie"
           }
          ],
          "scatter": [
           {
            "fillpattern": {
             "fillmode": "overlay",
             "size": 10,
             "solidity": 0.2
            },
            "type": "scatter"
           }
          ],
          "scatter3d": [
           {
            "line": {
             "colorbar": {
              "outlinewidth": 0,
              "ticks": ""
             }
            },
            "marker": {
             "colorbar": {
              "outlinewidth": 0,
              "ticks": ""
             }
            },
            "type": "scatter3d"
           }
          ],
          "scattercarpet": [
           {
            "marker": {
             "colorbar": {
              "outlinewidth": 0,
              "ticks": ""
             }
            },
            "type": "scattercarpet"
           }
          ],
          "scattergeo": [
           {
            "marker": {
             "colorbar": {
              "outlinewidth": 0,
              "ticks": ""
             }
            },
            "type": "scattergeo"
           }
          ],
          "scattergl": [
           {
            "marker": {
             "colorbar": {
              "outlinewidth": 0,
              "ticks": ""
             }
            },
            "type": "scattergl"
           }
          ],
          "scattermap": [
           {
            "marker": {
             "colorbar": {
              "outlinewidth": 0,
              "ticks": ""
             }
            },
            "type": "scattermap"
           }
          ],
          "scattermapbox": [
           {
            "marker": {
             "colorbar": {
              "outlinewidth": 0,
              "ticks": ""
             }
            },
            "type": "scattermapbox"
           }
          ],
          "scatterpolar": [
           {
            "marker": {
             "colorbar": {
              "outlinewidth": 0,
              "ticks": ""
             }
            },
            "type": "scatterpolar"
           }
          ],
          "scatterpolargl": [
           {
            "marker": {
             "colorbar": {
              "outlinewidth": 0,
              "ticks": ""
             }
            },
            "type": "scatterpolargl"
           }
          ],
          "scatterternary": [
           {
            "marker": {
             "colorbar": {
              "outlinewidth": 0,
              "ticks": ""
             }
            },
            "type": "scatterternary"
           }
          ],
          "surface": [
           {
            "colorbar": {
             "outlinewidth": 0,
             "ticks": ""
            },
            "colorscale": [
             [
              0,
              "#0d0887"
             ],
             [
              0.1111111111111111,
              "#46039f"
             ],
             [
              0.2222222222222222,
              "#7201a8"
             ],
             [
              0.3333333333333333,
              "#9c179e"
             ],
             [
              0.4444444444444444,
              "#bd3786"
             ],
             [
              0.5555555555555556,
              "#d8576b"
             ],
             [
              0.6666666666666666,
              "#ed7953"
             ],
             [
              0.7777777777777778,
              "#fb9f3a"
             ],
             [
              0.8888888888888888,
              "#fdca26"
             ],
             [
              1,
              "#f0f921"
             ]
            ],
            "type": "surface"
           }
          ],
          "table": [
           {
            "cells": {
             "fill": {
              "color": "#EBF0F8"
             },
             "line": {
              "color": "white"
             }
            },
            "header": {
             "fill": {
              "color": "#C8D4E3"
             },
             "line": {
              "color": "white"
             }
            },
            "type": "table"
           }
          ]
         },
         "layout": {
          "annotationdefaults": {
           "arrowcolor": "#2a3f5f",
           "arrowhead": 0,
           "arrowwidth": 1
          },
          "autotypenumbers": "strict",
          "coloraxis": {
           "colorbar": {
            "outlinewidth": 0,
            "ticks": ""
           }
          },
          "colorscale": {
           "diverging": [
            [
             0,
             "#8e0152"
            ],
            [
             0.1,
             "#c51b7d"
            ],
            [
             0.2,
             "#de77ae"
            ],
            [
             0.3,
             "#f1b6da"
            ],
            [
             0.4,
             "#fde0ef"
            ],
            [
             0.5,
             "#f7f7f7"
            ],
            [
             0.6,
             "#e6f5d0"
            ],
            [
             0.7,
             "#b8e186"
            ],
            [
             0.8,
             "#7fbc41"
            ],
            [
             0.9,
             "#4d9221"
            ],
            [
             1,
             "#276419"
            ]
           ],
           "sequential": [
            [
             0,
             "#0d0887"
            ],
            [
             0.1111111111111111,
             "#46039f"
            ],
            [
             0.2222222222222222,
             "#7201a8"
            ],
            [
             0.3333333333333333,
             "#9c179e"
            ],
            [
             0.4444444444444444,
             "#bd3786"
            ],
            [
             0.5555555555555556,
             "#d8576b"
            ],
            [
             0.6666666666666666,
             "#ed7953"
            ],
            [
             0.7777777777777778,
             "#fb9f3a"
            ],
            [
             0.8888888888888888,
             "#fdca26"
            ],
            [
             1,
             "#f0f921"
            ]
           ],
           "sequentialminus": [
            [
             0,
             "#0d0887"
            ],
            [
             0.1111111111111111,
             "#46039f"
            ],
            [
             0.2222222222222222,
             "#7201a8"
            ],
            [
             0.3333333333333333,
             "#9c179e"
            ],
            [
             0.4444444444444444,
             "#bd3786"
            ],
            [
             0.5555555555555556,
             "#d8576b"
            ],
            [
             0.6666666666666666,
             "#ed7953"
            ],
            [
             0.7777777777777778,
             "#fb9f3a"
            ],
            [
             0.8888888888888888,
             "#fdca26"
            ],
            [
             1,
             "#f0f921"
            ]
           ]
          },
          "colorway": [
           "#636efa",
           "#EF553B",
           "#00cc96",
           "#ab63fa",
           "#FFA15A",
           "#19d3f3",
           "#FF6692",
           "#B6E880",
           "#FF97FF",
           "#FECB52"
          ],
          "font": {
           "color": "#2a3f5f"
          },
          "geo": {
           "bgcolor": "white",
           "lakecolor": "white",
           "landcolor": "#E5ECF6",
           "showlakes": true,
           "showland": true,
           "subunitcolor": "white"
          },
          "hoverlabel": {
           "align": "left"
          },
          "hovermode": "closest",
          "mapbox": {
           "style": "light"
          },
          "paper_bgcolor": "white",
          "plot_bgcolor": "#E5ECF6",
          "polar": {
           "angularaxis": {
            "gridcolor": "white",
            "linecolor": "white",
            "ticks": ""
           },
           "bgcolor": "#E5ECF6",
           "radialaxis": {
            "gridcolor": "white",
            "linecolor": "white",
            "ticks": ""
           }
          },
          "scene": {
           "xaxis": {
            "backgroundcolor": "#E5ECF6",
            "gridcolor": "white",
            "gridwidth": 2,
            "linecolor": "white",
            "showbackground": true,
            "ticks": "",
            "zerolinecolor": "white"
           },
           "yaxis": {
            "backgroundcolor": "#E5ECF6",
            "gridcolor": "white",
            "gridwidth": 2,
            "linecolor": "white",
            "showbackground": true,
            "ticks": "",
            "zerolinecolor": "white"
           },
           "zaxis": {
            "backgroundcolor": "#E5ECF6",
            "gridcolor": "white",
            "gridwidth": 2,
            "linecolor": "white",
            "showbackground": true,
            "ticks": "",
            "zerolinecolor": "white"
           }
          },
          "shapedefaults": {
           "line": {
            "color": "#2a3f5f"
           }
          },
          "ternary": {
           "aaxis": {
            "gridcolor": "white",
            "linecolor": "white",
            "ticks": ""
           },
           "baxis": {
            "gridcolor": "white",
            "linecolor": "white",
            "ticks": ""
           },
           "bgcolor": "#E5ECF6",
           "caxis": {
            "gridcolor": "white",
            "linecolor": "white",
            "ticks": ""
           }
          },
          "title": {
           "x": 0.05
          },
          "xaxis": {
           "automargin": true,
           "gridcolor": "white",
           "linecolor": "white",
           "ticks": "",
           "title": {
            "standoff": 15
           },
           "zerolinecolor": "white",
           "zerolinewidth": 2
          },
          "yaxis": {
           "automargin": true,
           "gridcolor": "white",
           "linecolor": "white",
           "ticks": "",
           "title": {
            "standoff": 15
           },
           "zerolinecolor": "white",
           "zerolinewidth": 2
          }
         }
        },
        "title": {
         "text": "PM2.5 Trends by City Over Time"
        },
        "xaxis": {
         "anchor": "y",
         "categoryarray": [
          "Shenzhen",
          "Shanghai",
          "Beijing",
          "Chengdu",
          "Guangzhou"
         ],
         "categoryorder": "array",
         "domain": [
          0,
          1
         ],
         "title": {
          "text": "City"
         }
        },
        "yaxis": {
         "anchor": "x",
         "domain": [
          0,
          1
         ],
         "title": {
          "text": "PM2.5 (µg/m³)"
         }
        }
       }
      }
     },
     "metadata": {},
     "output_type": "display_data"
    }
   ],
   "source": [
    "# We'll plot box charts to visualize the distribution of PM2.5 concentration by city. Note we could just as easily plot AQI.\n",
    "fig = px.box(pollution, x = 'City', y = 'PM2.5 (µg/m³)', color='City', title='PM2.5 Trends by City Over Time')\n",
    "fig.show()"
   ]
  },
  {
   "cell_type": "markdown",
   "id": "93e7185140d9eb6a",
   "metadata": {},
   "source": [
    "The median PM2.5 matter value seems to be higher in Shanghai and the lowest in Beijing but only by a small margin. Overall, the cities seem to have close median and interquartile range.\n",
    "\n",
    "It would also be good to check PM2.5 matter concentrations for different seasons and cities."
   ]
  },
  {
   "cell_type": "code",
   "execution_count": 178,
   "id": "db35c2b4050247",
   "metadata": {
    "ExecuteTime": {
     "end_time": "2025-04-20T12:57:26.738149Z",
     "start_time": "2025-04-20T12:57:26.732735Z"
    }
   },
   "outputs": [],
   "source": [
    "city_season_df = pollution[['City', 'Season', 'PM2.5 (µg/m³)']] # Selecting relevant columns\n",
    "\n",
    "# Creating a multi select filter using ipywidgets. This will allow us to select cities above our chart.\n",
    "city_filter = widgets.SelectMultiple(\n",
    "    options=city_season_df['City'].unique(),\n",
    "    value=['Beijing'],\n",
    "    description='City',\n",
    "    layout=widgets.Layout(width='50%'))"
   ]
  },
  {
   "cell_type": "code",
   "execution_count": 179,
   "id": "cb69f2d52224c790",
   "metadata": {
    "ExecuteTime": {
     "end_time": "2025-04-20T12:57:28.643466Z",
     "start_time": "2025-04-20T12:57:28.531062Z"
    }
   },
   "outputs": [
    {
     "name": "stdout",
     "output_type": "stream",
     "text": [
      "Tip: Hold Cmd (or Ctrl on Windows) and click to select multiple cities.\n"
     ]
    },
    {
     "data": {
      "application/vnd.jupyter.widget-view+json": {
       "model_id": "2fbf56c6894e4f4db904a551fe4a5a02",
       "version_major": 2,
       "version_minor": 0
      },
      "text/plain": [
       "interactive(children=(SelectMultiple(description='City', index=(2,), layout=Layout(width='50%'), options=('She…"
      ]
     },
     "execution_count": 179,
     "metadata": {},
     "output_type": "execute_result"
    }
   ],
   "source": [
    "# Creating a function to update the plot based on selected cities. This will be passed as an arguement to create the interative plot.\n",
    "def update_plot(input_cities):\n",
    "    filtered_df = city_season_df[city_season_df['City'].isin(input_cities)]\n",
    "    fig = px.box(\n",
    "        filtered_df,\n",
    "        x = 'Season',\n",
    "        y = 'PM2.5 (µg/m³)',\n",
    "        title = 'PM2.5 (µg/m³) concentration by season'\n",
    "    )\n",
    "    fig.update_traces(marker_color='#ff7f0e', line_color='#ff7f0e') # changing the color of the boxplot\n",
    "    fig.update_xaxes(categoryorder='category ascending') # ordering x axis by season\n",
    "    fig.show()\n",
    "\n",
    "print(\"Tip: Hold Cmd (or Ctrl on Windows) and click to select multiple cities.\")\n",
    "widgets.interactive(update_plot, input_cities=city_filter)"
   ]
  },
  {
   "cell_type": "markdown",
   "id": "1fa3efa98f5ded7",
   "metadata": {},
   "source": [
    "On an aggregate across all cities combined, spring seems to have the highest median PM2.5 concentration but this trend doesn't seem to be the case for individual cities. For example, Shanghai has higher PM2.5 concentration during Autumn and Summer.\n",
    "\n",
    "Another thing to note is that Chengdu seems to have the highest median PM2.5 concentration of 160 µg/m³ in Spring."
   ]
  },
  {
   "cell_type": "markdown",
   "id": "129d13eceb78c69a",
   "metadata": {},
   "source": [
    "### Pollution levels and weather\n",
    "\n",
    "In this section, we'll explore patterns between weather conditions and different pollutants to understand if speicific weather conditions correlate with higher or lower pollutant concentration. We'll also explore correlation between different pollutants."
   ]
  },
  {
   "cell_type": "code",
   "execution_count": 180,
   "id": "62350e0263892192",
   "metadata": {
    "ExecuteTime": {
     "end_time": "2025-04-20T12:57:34.469082Z",
     "start_time": "2025-04-20T12:57:34.279063Z"
    }
   },
   "outputs": [
    {
     "name": "stdout",
     "output_type": "stream",
     "text": [
      "Tip: Press the Play button at the bottom to view trends by year. You may also use the slider to select a specific year.\n"
     ]
    },
    {
     "data": {
      "application/vnd.jupyter.widget-view+json": {
       "model_id": "ec5cd9d5652d442885a7fdc791399b54",
       "version_major": 2,
       "version_minor": 0
      },
      "text/plain": [
       "interactive(children=(Dropdown(description='Pollutant:', options=('PM2.5 (µg/m³)', 'PM10 (µg/m³)', 'NO2 (µg/m³…"
      ]
     },
     "execution_count": 180,
     "metadata": {},
     "output_type": "execute_result"
    }
   ],
   "source": [
    "\n",
    "import plotly.graph_objects as go\n",
    "\n",
    "# Listing all weather and pollutants for filters\n",
    "weather_conditions = ['Temperature (°C)', 'Humidity (%)', 'Precipitation (mm)', 'Wind Speed (m/s)']\n",
    "pollutants = ['PM2.5 (µg/m³)', 'PM10 (µg/m³)', 'NO2 (µg/m³)', 'SO2 (µg/m³)', 'CO (mg/m³)', 'O3 (µg/m³)', 'AQI']\n",
    "\n",
    "# Creating filter to select pollutant\n",
    "pollutant_filter = widgets.Dropdown(\n",
    "    options=pollutants,\n",
    "    value='PM2.5 (µg/m³)',\n",
    "    description='Pollutant:',\n",
    "    disabled=False,\n",
    ")\n",
    "\n",
    "# Creating filter to select city\n",
    "city_filter = widgets.Dropdown(\n",
    "    options=pollution['City'].unique(),\n",
    "    value='Beijing',\n",
    "    description='City:',\n",
    "    disabled=False,\n",
    ")\n",
    "\n",
    "# Creating filter to select weather\n",
    "weather_filter = widgets.Dropdown(\n",
    "    options=weather_conditions,\n",
    "    value='Temperature (°C)',\n",
    "    description='Weather:',\n",
    "    disabled=False,\n",
    ")\n",
    "\n",
    "# Similar to the previous update plot function, this will take multiple filters as input and update the plot.\n",
    "def update_weather_pollution_plot(input_pollutant, input_city, input_weather):\n",
    "\n",
    "    # filtering data based on user selected input\n",
    "    filtered_df = pollution[pollution['City'] == input_city][['City', input_pollutant, input_weather, 'Season', 'Year']].sort_values(by=['Year'])\n",
    "\n",
    "    # Creating a scatter plot and faceting on Season. Animation frame is set to Year to show trends over time.\n",
    "    fig = px.scatter(\n",
    "        filtered_df,\n",
    "        x = input_weather,\n",
    "        y = input_pollutant,\n",
    "        facet_row='Season',\n",
    "        animation_frame='Year',\n",
    "        trendline='ols',\n",
    "    )\n",
    "\n",
    "    fig.update_layout(height=1000, width=800, title_text=f\"{input_pollutant} vs {input_weather} for {input_city}\")\n",
    "    fig.show()\n",
    "\n",
    "print('Tip: Press the Play button at the bottom to view trends by year. You may also use the slider to select a specific year.')\n",
    "\n",
    "# Each parameter for the update_weather_pollution_plot function is passed as an arguement to the interactive function.\n",
    "widgets.interactive(update_weather_pollution_plot, input_city=city_filter, input_pollutant=pollutant_filter, input_weather=weather_filter)"
   ]
  },
  {
   "cell_type": "markdown",
   "id": "c7c5bf71",
   "metadata": {},
   "source": [
    "We'll also create a correlation matrix to understand the correlation between each pollutant. "
   ]
  },
  {
   "cell_type": "code",
   "execution_count": 181,
   "id": "86a88391616f0893",
   "metadata": {
    "ExecuteTime": {
     "end_time": "2025-04-20T12:57:42.350056Z",
     "start_time": "2025-04-20T12:57:42.275325Z"
    }
   },
   "outputs": [
    {
     "data": {
      "application/vnd.plotly.v1+json": {
       "config": {
        "plotlyServerURL": "https://plot.ly"
       },
       "data": [
        {
         "coloraxis": "coloraxis",
         "hovertemplate": "x: %{x}<br>y: %{y}<br>color: %{z}<extra></extra>",
         "name": "0",
         "texttemplate": "%{z}",
         "type": "heatmap",
         "x": [
          "PM2.5 (µg/m³)",
          "PM10 (µg/m³)",
          "NO2 (µg/m³)",
          "SO2 (µg/m³)",
          "CO (mg/m³)",
          "O3 (µg/m³)",
          "AQI"
         ],
         "xaxis": "x",
         "y": [
          "PM2.5 (µg/m³)",
          "PM10 (µg/m³)",
          "NO2 (µg/m³)",
          "SO2 (µg/m³)",
          "CO (mg/m³)",
          "O3 (µg/m³)",
          "AQI"
         ],
         "yaxis": "y",
         "z": {
          "bdata": "AAAAAAAA8D9f/Xow1+VUv+V8bh1CvYA/718/u8CBnD/6OdXYToKGv1LqrdRaJXG/ufo9W7cGej9f/Xow1+VUvwAAAAAAAPA/Fc5EFTKLgj+Ia0H967SXPwMvS3JitKC/zScWBKXRh79ByZTP6xeHv+V8bh1CvYA/Fc5EFTKLgj8AAAAAAADwP4G0LYo1W48/zbexpEFFi7+UCfKZyAV+PxKaGFDJm4+/718/u8CBnD+Ia0H967SXP4G0LYo1W48/AAAAAAAA8D/yl5+DPtyEP/wlHxpubYk/+F4J9NkHnb/6OdXYToKGvwMvS3JitKC/zbexpEFFi7/yl5+DPtyEPwAAAAAAAPA/iY1uOcJ5f79Rfd6XjqKTv1LqrdRaJXG/zScWBKXRh7+UCfKZyAV+P/wlHxpubYk/iY1uOcJ5f78AAAAAAADwP7HDE9W3VHq/ufo9W7cGej9ByZTP6xeHvxKaGFDJm4+/+F4J9NkHnb9Rfd6XjqKTv7HDE9W3VHq/AAAAAAAA8D8=",
          "dtype": "f8",
          "shape": "7, 7"
         }
        }
       ],
       "layout": {
        "coloraxis": {
         "cmax": 1,
         "cmin": -1,
         "colorscale": [
          [
           0,
           "rgb(23, 28, 66)"
          ],
          [
           0.09090909090909091,
           "rgb(41, 58, 143)"
          ],
          [
           0.18181818181818182,
           "rgb(11, 102, 189)"
          ],
          [
           0.2727272727272727,
           "rgb(69, 144, 185)"
          ],
          [
           0.36363636363636365,
           "rgb(142, 181, 194)"
          ],
          [
           0.45454545454545453,
           "rgb(210, 216, 219)"
          ],
          [
           0.5454545454545454,
           "rgb(230, 210, 204)"
          ],
          [
           0.6363636363636364,
           "rgb(213, 157, 137)"
          ],
          [
           0.7272727272727273,
           "rgb(196, 101, 72)"
          ],
          [
           0.8181818181818182,
           "rgb(172, 43, 36)"
          ],
          [
           0.9090909090909091,
           "rgb(120, 14, 40)"
          ],
          [
           1,
           "rgb(60, 9, 17)"
          ]
         ]
        },
        "template": {
         "data": {
          "bar": [
           {
            "error_x": {
             "color": "#2a3f5f"
            },
            "error_y": {
             "color": "#2a3f5f"
            },
            "marker": {
             "line": {
              "color": "#E5ECF6",
              "width": 0.5
             },
             "pattern": {
              "fillmode": "overlay",
              "size": 10,
              "solidity": 0.2
             }
            },
            "type": "bar"
           }
          ],
          "barpolar": [
           {
            "marker": {
             "line": {
              "color": "#E5ECF6",
              "width": 0.5
             },
             "pattern": {
              "fillmode": "overlay",
              "size": 10,
              "solidity": 0.2
             }
            },
            "type": "barpolar"
           }
          ],
          "carpet": [
           {
            "aaxis": {
             "endlinecolor": "#2a3f5f",
             "gridcolor": "white",
             "linecolor": "white",
             "minorgridcolor": "white",
             "startlinecolor": "#2a3f5f"
            },
            "baxis": {
             "endlinecolor": "#2a3f5f",
             "gridcolor": "white",
             "linecolor": "white",
             "minorgridcolor": "white",
             "startlinecolor": "#2a3f5f"
            },
            "type": "carpet"
           }
          ],
          "choropleth": [
           {
            "colorbar": {
             "outlinewidth": 0,
             "ticks": ""
            },
            "type": "choropleth"
           }
          ],
          "contour": [
           {
            "colorbar": {
             "outlinewidth": 0,
             "ticks": ""
            },
            "colorscale": [
             [
              0,
              "#0d0887"
             ],
             [
              0.1111111111111111,
              "#46039f"
             ],
             [
              0.2222222222222222,
              "#7201a8"
             ],
             [
              0.3333333333333333,
              "#9c179e"
             ],
             [
              0.4444444444444444,
              "#bd3786"
             ],
             [
              0.5555555555555556,
              "#d8576b"
             ],
             [
              0.6666666666666666,
              "#ed7953"
             ],
             [
              0.7777777777777778,
              "#fb9f3a"
             ],
             [
              0.8888888888888888,
              "#fdca26"
             ],
             [
              1,
              "#f0f921"
             ]
            ],
            "type": "contour"
           }
          ],
          "contourcarpet": [
           {
            "colorbar": {
             "outlinewidth": 0,
             "ticks": ""
            },
            "type": "contourcarpet"
           }
          ],
          "heatmap": [
           {
            "colorbar": {
             "outlinewidth": 0,
             "ticks": ""
            },
            "colorscale": [
             [
              0,
              "#0d0887"
             ],
             [
              0.1111111111111111,
              "#46039f"
             ],
             [
              0.2222222222222222,
              "#7201a8"
             ],
             [
              0.3333333333333333,
              "#9c179e"
             ],
             [
              0.4444444444444444,
              "#bd3786"
             ],
             [
              0.5555555555555556,
              "#d8576b"
             ],
             [
              0.6666666666666666,
              "#ed7953"
             ],
             [
              0.7777777777777778,
              "#fb9f3a"
             ],
             [
              0.8888888888888888,
              "#fdca26"
             ],
             [
              1,
              "#f0f921"
             ]
            ],
            "type": "heatmap"
           }
          ],
          "histogram": [
           {
            "marker": {
             "pattern": {
              "fillmode": "overlay",
              "size": 10,
              "solidity": 0.2
             }
            },
            "type": "histogram"
           }
          ],
          "histogram2d": [
           {
            "colorbar": {
             "outlinewidth": 0,
             "ticks": ""
            },
            "colorscale": [
             [
              0,
              "#0d0887"
             ],
             [
              0.1111111111111111,
              "#46039f"
             ],
             [
              0.2222222222222222,
              "#7201a8"
             ],
             [
              0.3333333333333333,
              "#9c179e"
             ],
             [
              0.4444444444444444,
              "#bd3786"
             ],
             [
              0.5555555555555556,
              "#d8576b"
             ],
             [
              0.6666666666666666,
              "#ed7953"
             ],
             [
              0.7777777777777778,
              "#fb9f3a"
             ],
             [
              0.8888888888888888,
              "#fdca26"
             ],
             [
              1,
              "#f0f921"
             ]
            ],
            "type": "histogram2d"
           }
          ],
          "histogram2dcontour": [
           {
            "colorbar": {
             "outlinewidth": 0,
             "ticks": ""
            },
            "colorscale": [
             [
              0,
              "#0d0887"
             ],
             [
              0.1111111111111111,
              "#46039f"
             ],
             [
              0.2222222222222222,
              "#7201a8"
             ],
             [
              0.3333333333333333,
              "#9c179e"
             ],
             [
              0.4444444444444444,
              "#bd3786"
             ],
             [
              0.5555555555555556,
              "#d8576b"
             ],
             [
              0.6666666666666666,
              "#ed7953"
             ],
             [
              0.7777777777777778,
              "#fb9f3a"
             ],
             [
              0.8888888888888888,
              "#fdca26"
             ],
             [
              1,
              "#f0f921"
             ]
            ],
            "type": "histogram2dcontour"
           }
          ],
          "mesh3d": [
           {
            "colorbar": {
             "outlinewidth": 0,
             "ticks": ""
            },
            "type": "mesh3d"
           }
          ],
          "parcoords": [
           {
            "line": {
             "colorbar": {
              "outlinewidth": 0,
              "ticks": ""
             }
            },
            "type": "parcoords"
           }
          ],
          "pie": [
           {
            "automargin": true,
            "type": "pie"
           }
          ],
          "scatter": [
           {
            "fillpattern": {
             "fillmode": "overlay",
             "size": 10,
             "solidity": 0.2
            },
            "type": "scatter"
           }
          ],
          "scatter3d": [
           {
            "line": {
             "colorbar": {
              "outlinewidth": 0,
              "ticks": ""
             }
            },
            "marker": {
             "colorbar": {
              "outlinewidth": 0,
              "ticks": ""
             }
            },
            "type": "scatter3d"
           }
          ],
          "scattercarpet": [
           {
            "marker": {
             "colorbar": {
              "outlinewidth": 0,
              "ticks": ""
             }
            },
            "type": "scattercarpet"
           }
          ],
          "scattergeo": [
           {
            "marker": {
             "colorbar": {
              "outlinewidth": 0,
              "ticks": ""
             }
            },
            "type": "scattergeo"
           }
          ],
          "scattergl": [
           {
            "marker": {
             "colorbar": {
              "outlinewidth": 0,
              "ticks": ""
             }
            },
            "type": "scattergl"
           }
          ],
          "scattermap": [
           {
            "marker": {
             "colorbar": {
              "outlinewidth": 0,
              "ticks": ""
             }
            },
            "type": "scattermap"
           }
          ],
          "scattermapbox": [
           {
            "marker": {
             "colorbar": {
              "outlinewidth": 0,
              "ticks": ""
             }
            },
            "type": "scattermapbox"
           }
          ],
          "scatterpolar": [
           {
            "marker": {
             "colorbar": {
              "outlinewidth": 0,
              "ticks": ""
             }
            },
            "type": "scatterpolar"
           }
          ],
          "scatterpolargl": [
           {
            "marker": {
             "colorbar": {
              "outlinewidth": 0,
              "ticks": ""
             }
            },
            "type": "scatterpolargl"
           }
          ],
          "scatterternary": [
           {
            "marker": {
             "colorbar": {
              "outlinewidth": 0,
              "ticks": ""
             }
            },
            "type": "scatterternary"
           }
          ],
          "surface": [
           {
            "colorbar": {
             "outlinewidth": 0,
             "ticks": ""
            },
            "colorscale": [
             [
              0,
              "#0d0887"
             ],
             [
              0.1111111111111111,
              "#46039f"
             ],
             [
              0.2222222222222222,
              "#7201a8"
             ],
             [
              0.3333333333333333,
              "#9c179e"
             ],
             [
              0.4444444444444444,
              "#bd3786"
             ],
             [
              0.5555555555555556,
              "#d8576b"
             ],
             [
              0.6666666666666666,
              "#ed7953"
             ],
             [
              0.7777777777777778,
              "#fb9f3a"
             ],
             [
              0.8888888888888888,
              "#fdca26"
             ],
             [
              1,
              "#f0f921"
             ]
            ],
            "type": "surface"
           }
          ],
          "table": [
           {
            "cells": {
             "fill": {
              "color": "#EBF0F8"
             },
             "line": {
              "color": "white"
             }
            },
            "header": {
             "fill": {
              "color": "#C8D4E3"
             },
             "line": {
              "color": "white"
             }
            },
            "type": "table"
           }
          ]
         },
         "layout": {
          "annotationdefaults": {
           "arrowcolor": "#2a3f5f",
           "arrowhead": 0,
           "arrowwidth": 1
          },
          "autotypenumbers": "strict",
          "coloraxis": {
           "colorbar": {
            "outlinewidth": 0,
            "ticks": ""
           }
          },
          "colorscale": {
           "diverging": [
            [
             0,
             "#8e0152"
            ],
            [
             0.1,
             "#c51b7d"
            ],
            [
             0.2,
             "#de77ae"
            ],
            [
             0.3,
             "#f1b6da"
            ],
            [
             0.4,
             "#fde0ef"
            ],
            [
             0.5,
             "#f7f7f7"
            ],
            [
             0.6,
             "#e6f5d0"
            ],
            [
             0.7,
             "#b8e186"
            ],
            [
             0.8,
             "#7fbc41"
            ],
            [
             0.9,
             "#4d9221"
            ],
            [
             1,
             "#276419"
            ]
           ],
           "sequential": [
            [
             0,
             "#0d0887"
            ],
            [
             0.1111111111111111,
             "#46039f"
            ],
            [
             0.2222222222222222,
             "#7201a8"
            ],
            [
             0.3333333333333333,
             "#9c179e"
            ],
            [
             0.4444444444444444,
             "#bd3786"
            ],
            [
             0.5555555555555556,
             "#d8576b"
            ],
            [
             0.6666666666666666,
             "#ed7953"
            ],
            [
             0.7777777777777778,
             "#fb9f3a"
            ],
            [
             0.8888888888888888,
             "#fdca26"
            ],
            [
             1,
             "#f0f921"
            ]
           ],
           "sequentialminus": [
            [
             0,
             "#0d0887"
            ],
            [
             0.1111111111111111,
             "#46039f"
            ],
            [
             0.2222222222222222,
             "#7201a8"
            ],
            [
             0.3333333333333333,
             "#9c179e"
            ],
            [
             0.4444444444444444,
             "#bd3786"
            ],
            [
             0.5555555555555556,
             "#d8576b"
            ],
            [
             0.6666666666666666,
             "#ed7953"
            ],
            [
             0.7777777777777778,
             "#fb9f3a"
            ],
            [
             0.8888888888888888,
             "#fdca26"
            ],
            [
             1,
             "#f0f921"
            ]
           ]
          },
          "colorway": [
           "#636efa",
           "#EF553B",
           "#00cc96",
           "#ab63fa",
           "#FFA15A",
           "#19d3f3",
           "#FF6692",
           "#B6E880",
           "#FF97FF",
           "#FECB52"
          ],
          "font": {
           "color": "#2a3f5f"
          },
          "geo": {
           "bgcolor": "white",
           "lakecolor": "white",
           "landcolor": "#E5ECF6",
           "showlakes": true,
           "showland": true,
           "subunitcolor": "white"
          },
          "hoverlabel": {
           "align": "left"
          },
          "hovermode": "closest",
          "mapbox": {
           "style": "light"
          },
          "paper_bgcolor": "white",
          "plot_bgcolor": "#E5ECF6",
          "polar": {
           "angularaxis": {
            "gridcolor": "white",
            "linecolor": "white",
            "ticks": ""
           },
           "bgcolor": "#E5ECF6",
           "radialaxis": {
            "gridcolor": "white",
            "linecolor": "white",
            "ticks": ""
           }
          },
          "scene": {
           "xaxis": {
            "backgroundcolor": "#E5ECF6",
            "gridcolor": "white",
            "gridwidth": 2,
            "linecolor": "white",
            "showbackground": true,
            "ticks": "",
            "zerolinecolor": "white"
           },
           "yaxis": {
            "backgroundcolor": "#E5ECF6",
            "gridcolor": "white",
            "gridwidth": 2,
            "linecolor": "white",
            "showbackground": true,
            "ticks": "",
            "zerolinecolor": "white"
           },
           "zaxis": {
            "backgroundcolor": "#E5ECF6",
            "gridcolor": "white",
            "gridwidth": 2,
            "linecolor": "white",
            "showbackground": true,
            "ticks": "",
            "zerolinecolor": "white"
           }
          },
          "shapedefaults": {
           "line": {
            "color": "#2a3f5f"
           }
          },
          "ternary": {
           "aaxis": {
            "gridcolor": "white",
            "linecolor": "white",
            "ticks": ""
           },
           "baxis": {
            "gridcolor": "white",
            "linecolor": "white",
            "ticks": ""
           },
           "bgcolor": "#E5ECF6",
           "caxis": {
            "gridcolor": "white",
            "linecolor": "white",
            "ticks": ""
           }
          },
          "title": {
           "x": 0.05
          },
          "xaxis": {
           "automargin": true,
           "gridcolor": "white",
           "linecolor": "white",
           "ticks": "",
           "title": {
            "standoff": 15
           },
           "zerolinecolor": "white",
           "zerolinewidth": 2
          },
          "yaxis": {
           "automargin": true,
           "gridcolor": "white",
           "linecolor": "white",
           "ticks": "",
           "title": {
            "standoff": 15
           },
           "zerolinecolor": "white",
           "zerolinewidth": 2
          }
         }
        },
        "title": {
         "text": "Correlation Matrix Heatmap"
        },
        "xaxis": {
         "anchor": "y",
         "constrain": "domain",
         "domain": [
          0,
          1
         ],
         "scaleanchor": "y"
        },
        "yaxis": {
         "anchor": "x",
         "autorange": "reversed",
         "constrain": "domain",
         "domain": [
          0,
          1
         ]
        }
       }
      }
     },
     "metadata": {},
     "output_type": "display_data"
    }
   ],
   "source": [
    "# Checking correlation between different pollutants\n",
    "pollutants_data = pollution[pollutants]\n",
    "\n",
    "corr_matrix = pollutants_data.corr() # Creating correlation matrix\n",
    "\n",
    "# Using heatmap to visualize the correlation matrix\n",
    "fig = px.imshow(\n",
    "    corr_matrix,\n",
    "    text_auto=True,\n",
    "    color_continuous_scale='balance',\n",
    "    zmin=-1, zmax=1,\n",
    "    title='Correlation Matrix Heatmap'\n",
    ")\n",
    "\n",
    "fig.show()"
   ]
  },
  {
   "cell_type": "markdown",
   "id": "ea47e03e447e7be1",
   "metadata": {},
   "source": [
    "There seems to be no discrenable correlation different various pollutants. Given that PM2.5 and PM10 are [primary drivers of AQI](https://www.iqair.com/ca/newsroom/what-is-aqi), it is interesting to notice there is no significant positive correlation between them. This may be due to the syntehtic nature of the data."
   ]
  },
  {
   "cell_type": "markdown",
   "id": "20d740607b42969f",
   "metadata": {},
   "source": [
    "### Pollutant Concentration by Different Timeframes\n",
    "\n",
    "In this section we'll investigate pollutant concentration for different timeframes of the day to identify rush hour or late night pollutant patterns."
   ]
  },
  {
   "cell_type": "code",
   "execution_count": 182,
   "id": "45d60fe9383c3fd7",
   "metadata": {
    "ExecuteTime": {
     "end_time": "2025-04-20T14:04:12.113221Z",
     "start_time": "2025-04-20T14:04:11.930109Z"
    }
   },
   "outputs": [
    {
     "data": {
      "application/vnd.plotly.v1+json": {
       "config": {
        "plotlyServerURL": "https://plot.ly"
       },
       "data": [
        {
         "hovertemplate": "Pollutant=AQI<br>Hour=%{x}<br>Concentration=%{y}<extra></extra>",
         "legendgroup": "",
         "line": {
          "color": "#636efa",
          "dash": "solid"
         },
         "marker": {
          "symbol": "circle"
         },
         "mode": "lines",
         "name": "",
         "orientation": "v",
         "showlegend": false,
         "type": "scatter",
         "x": {
          "bdata": "AAECAwQFBgcICQoLDA0ODxAREhMUFRYX",
          "dtype": "i1"
         },
         "xaxis": "x8",
         "y": {
          "bdata": "AAAAAADAbUAAAAAAAEBtQAAAAAAAwGtAAAAAAADQcUAAAAAAACBvQAAAAAAAIGxAAAAAAAAgcUAAAAAAAOBrQAAAAAAAwHJAAAAAAAAAcEAAAAAAAMhxQAAAAAAAUGxAAAAAAABQcEAAAAAAAABvQAAAAAAAkG1AAAAAAACQcUAAAAAAAMBuQAAAAAAAAHFAAAAAAABAbUAAAAAAAMBtQAAAAAAAUHBAAAAAAACgb0AAAAAAAOBtQAAAAAAA8HBA",
          "dtype": "f8"
         },
         "yaxis": "y8"
        },
        {
         "hovertemplate": "Pollutant=CO (µg/m³)<br>Hour=%{x}<br>Concentration=%{y}<extra></extra>",
         "legendgroup": "",
         "line": {
          "color": "#636efa",
          "dash": "solid"
         },
         "marker": {
          "symbol": "circle"
         },
         "mode": "lines",
         "name": "",
         "orientation": "v",
         "showlegend": false,
         "type": "scatter",
         "x": {
          "bdata": "AAECAwQFBgcICQoLDA0ODxAREhMUFRYX",
          "dtype": "i1"
         },
         "xaxis": "x7",
         "y": {
          "bdata": "kpgAyhKUo0CYOlMO482jQEJOsFSNnKNAXTk+iqTXpECPoqcTRjGmQP9KjoncPKNAY+oB+iUfpkBii1aZSPyhQObHFaqbeqZAyVpuxGX7pECSxTas/7egQMGD2hYHsqJAoxo8T4VipEBKADZHROChQNzCdTOWFqRAqd9dX21GpUDwPS3FThSkQOE5l0YnIaZAnhIAVOw3pkBZW7U3mfygQEwTy4oxOqJAWpB/0Zqeo0CEg7aF+0+lQLOBjfCBX6VA",
          "dtype": "f8"
         },
         "yaxis": "y7"
        },
        {
         "hovertemplate": "Pollutant=Month<br>Hour=%{x}<br>Concentration=%{y}<extra></extra>",
         "legendgroup": "",
         "line": {
          "color": "#636efa",
          "dash": "solid"
         },
         "marker": {
          "symbol": "circle"
         },
         "mode": "lines",
         "name": "",
         "orientation": "v",
         "showlegend": false,
         "type": "scatter",
         "x": {
          "bdata": "AAECAwQFBgcICQoLDA0ODxAREhMUFRYX",
          "dtype": "i1"
         },
         "xaxis": "x6",
         "y": {
          "bdata": "AAAAAAAAGEAAAAAAAAAYQAAAAAAAABhAAAAAAAAAIEAAAAAAAAAcQAAAAAAAABxAAAAAAAAAGEAAAAAAAAAcQAAAAAAAABxAAAAAAAAAGEAAAAAAAAAYQAAAAAAAABxAAAAAAAAAHEAAAAAAAAAcQAAAAAAAABZAAAAAAAAAHEAAAAAAAAAcQAAAAAAAABhAAAAAAAAAGEAAAAAAAAAcQAAAAAAAABxAAAAAAAAAHEAAAAAAAAAWQAAAAAAAABxA",
          "dtype": "f8"
         },
         "yaxis": "y6"
        },
        {
         "hovertemplate": "Pollutant=NO2 (µg/m³)<br>Hour=%{x}<br>Concentration=%{y}<extra></extra>",
         "legendgroup": "",
         "line": {
          "color": "#636efa",
          "dash": "solid"
         },
         "marker": {
          "symbol": "circle"
         },
         "mode": "lines",
         "name": "",
         "orientation": "v",
         "showlegend": false,
         "type": "scatter",
         "x": {
          "bdata": "AAECAwQFBgcICQoLDA0ODxAREhMUFRYX",
          "dtype": "i1"
         },
         "xaxis": "x5",
         "y": {
          "bdata": "pTke8/oRSkAlHQ3iPMJLQLZrRIW7SUtAGjw6HnIISkAF+0Etb41HQOeCf4Mq40tAEzX0KzXVSEDSfUDCFC5LQG/mlQaVpExAJniJE8lVS0A/MV+Y48NHQCzL378490tApND0sRp2SkAWkZhumodKQMCAiNHdE0pAuGnJEckQS0DGeR1GbCdNQESHyleReEtA1eOBjDyPSkC702zD8zBHQBiRbqy3VEhACK69+Q/jTUCpL88fSNNKQCGL+C/pNUxA",
          "dtype": "f8"
         },
         "yaxis": "y5"
        },
        {
         "hovertemplate": "Pollutant=O3 (µg/m³)<br>Hour=%{x}<br>Concentration=%{y}<extra></extra>",
         "legendgroup": "",
         "line": {
          "color": "#636efa",
          "dash": "solid"
         },
         "marker": {
          "symbol": "circle"
         },
         "mode": "lines",
         "name": "",
         "orientation": "v",
         "showlegend": false,
         "type": "scatter",
         "x": {
          "bdata": "AAECAwQFBgcICQoLDA0ODxAREhMUFRYX",
          "dtype": "i1"
         },
         "xaxis": "x4",
         "y": {
          "bdata": "MNa2fOyAW0D2vkjWwUJYQKFTyVXKIldAB/Fr1cA/XEBqg4kf5URdQJSb4jJDal1AzD0wic1pWkDQOSq8loxbQItupj8qRllAdD8o27mmWkAhoq+QulJYQJ4JQxaZiFtA3s3eh7FyW0C0KJTchE1bQHJJHvZy0V1A19zBYjrRWkAIWvd9rXFaQCI2TfzIO1lAkHJLSYRyWEDJkEJVaDBXQDtIHHPqklhA74u4z2LPW0A2EN7Dg3VXQFP+MfKK01tA",
          "dtype": "f8"
         },
         "yaxis": "y4"
        },
        {
         "hovertemplate": "Pollutant=PM10 (µg/m³)<br>Hour=%{x}<br>Concentration=%{y}<extra></extra>",
         "legendgroup": "",
         "line": {
          "color": "#636efa",
          "dash": "solid"
         },
         "marker": {
          "symbol": "circle"
         },
         "mode": "lines",
         "name": "",
         "orientation": "v",
         "showlegend": false,
         "type": "scatter",
         "x": {
          "bdata": "AAECAwQFBgcICQoLDA0ODxAREhMUFRYX",
          "dtype": "i1"
         },
         "xaxis": "x3",
         "y": {
          "bdata": "pQy+p3SxY0AVtPhawn5kQPV3nqRjx2NAHQRNyxgPY0CY9SEHERhiQJUKjBm8Q2FAfmbLaI5sYEC2csbx95djQITQ7Om+gmVAizH5xSHSYkA8Xfh6bJtlQHT0LSo8Y2VAvLaxXp9BYUA8RczQghdnQFLmDeHiQWVAekJQ3vGUZkAjLkwm5aBkQFPT5ef8OWFAce+4HwmWY0A7iTMpGG5kQLOGk4dYw2JAOyH3H/F1Y0AUIF2PMuxkQEdTWkK1pGNA",
          "dtype": "f8"
         },
         "yaxis": "y3"
        },
        {
         "hovertemplate": "Pollutant=PM2.5 (µg/m³)<br>Hour=%{x}<br>Concentration=%{y}<extra></extra>",
         "legendgroup": "",
         "line": {
          "color": "#636efa",
          "dash": "solid"
         },
         "marker": {
          "symbol": "circle"
         },
         "mode": "lines",
         "name": "",
         "orientation": "v",
         "showlegend": false,
         "type": "scatter",
         "x": {
          "bdata": "AAECAwQFBgcICQoLDA0ODxAREhMUFRYX",
          "dtype": "i1"
         },
         "xaxis": "x2",
         "y": {
          "bdata": "sYVveXABYkDhVvc9tCpgQLwC8NcN/llAXZMIgTqMYEAMT8vNchNgQDZXCuE+Wl9Al8qPbsBfYECTKpLeX0lgQPrqoIt20WBA1e2+yF5NXkDnorVgCl5gQJz2t9tJoWFAdO//r9fnYEDcnas0MFZiQL5f9GPRb2BAY9oVWLBJYEAk6lI+9WZdQNYmr0wEgVxA/9DQbW4VXEAg3UTsG/tfQE17c/WyXV5A+cskkWOgW0Aq78tBcnhkQAezM0LvvV1A",
          "dtype": "f8"
         },
         "yaxis": "y2"
        },
        {
         "hovertemplate": "Pollutant=SO2 (µg/m³)<br>Hour=%{x}<br>Concentration=%{y}<extra></extra>",
         "legendgroup": "",
         "line": {
          "color": "#636efa",
          "dash": "solid"
         },
         "marker": {
          "symbol": "circle"
         },
         "mode": "lines",
         "name": "",
         "orientation": "v",
         "showlegend": false,
         "type": "scatter",
         "x": {
          "bdata": "AAECAwQFBgcICQoLDA0ODxAREhMUFRYX",
          "dtype": "i1"
         },
         "xaxis": "x",
         "y": {
          "bdata": "AOCRoUhwOkBgyNilkEw4QNjdGna+QDdAGXw52f63OkCS7hs2w2s4QNit86S00TdAQL8XQy8mPUB7QpCTPbA3QPDFiYifETdA79k7/jq9O0A2YMUeDx04QIB6QX7VITpA2XoueAVGN0AsOa57DzY5QPpbNXZUaTxA0xWTSfPKO0DFUCUmHIc9QFYSX14nkzhAcp60Zq5POEC0fWtj6804QAvtzlmbmTxAR6c8CnxPPEDgweuWV4c6QNvrU/f1NDlA",
          "dtype": "f8"
         },
         "yaxis": "y"
        }
       ],
       "layout": {
        "annotations": [
         {
          "font": {},
          "showarrow": false,
          "text": "Pollutant=SO2 (µg/m³)",
          "textangle": 90,
          "x": 0.98,
          "xanchor": "left",
          "xref": "paper",
          "y": 0.049375,
          "yanchor": "middle",
          "yref": "paper"
         },
         {
          "font": {},
          "showarrow": false,
          "text": "Pollutant=PM2.5 (µg/m³)",
          "textangle": 90,
          "x": 0.98,
          "xanchor": "left",
          "xref": "paper",
          "y": 0.178125,
          "yanchor": "middle",
          "yref": "paper"
         },
         {
          "font": {},
          "showarrow": false,
          "text": "Pollutant=PM10 (µg/m³)",
          "textangle": 90,
          "x": 0.98,
          "xanchor": "left",
          "xref": "paper",
          "y": 0.306875,
          "yanchor": "middle",
          "yref": "paper"
         },
         {
          "font": {},
          "showarrow": false,
          "text": "Pollutant=O3 (µg/m³)",
          "textangle": 90,
          "x": 0.98,
          "xanchor": "left",
          "xref": "paper",
          "y": 0.435625,
          "yanchor": "middle",
          "yref": "paper"
         },
         {
          "font": {},
          "showarrow": false,
          "text": "Pollutant=NO2 (µg/m³)",
          "textangle": 90,
          "x": 0.98,
          "xanchor": "left",
          "xref": "paper",
          "y": 0.5643750000000001,
          "yanchor": "middle",
          "yref": "paper"
         },
         {
          "font": {},
          "showarrow": false,
          "text": "Pollutant=Month",
          "textangle": 90,
          "x": 0.98,
          "xanchor": "left",
          "xref": "paper",
          "y": 0.693125,
          "yanchor": "middle",
          "yref": "paper"
         },
         {
          "font": {},
          "showarrow": false,
          "text": "Pollutant=CO (µg/m³)",
          "textangle": 90,
          "x": 0.98,
          "xanchor": "left",
          "xref": "paper",
          "y": 0.8218749999999999,
          "yanchor": "middle",
          "yref": "paper"
         },
         {
          "font": {},
          "showarrow": false,
          "text": "Pollutant=AQI",
          "textangle": 90,
          "x": 0.98,
          "xanchor": "left",
          "xref": "paper",
          "y": 0.950625,
          "yanchor": "middle",
          "yref": "paper"
         }
        ],
        "height": 1500,
        "legend": {
         "tracegroupgap": 0
        },
        "template": {
         "data": {
          "bar": [
           {
            "error_x": {
             "color": "#2a3f5f"
            },
            "error_y": {
             "color": "#2a3f5f"
            },
            "marker": {
             "line": {
              "color": "#E5ECF6",
              "width": 0.5
             },
             "pattern": {
              "fillmode": "overlay",
              "size": 10,
              "solidity": 0.2
             }
            },
            "type": "bar"
           }
          ],
          "barpolar": [
           {
            "marker": {
             "line": {
              "color": "#E5ECF6",
              "width": 0.5
             },
             "pattern": {
              "fillmode": "overlay",
              "size": 10,
              "solidity": 0.2
             }
            },
            "type": "barpolar"
           }
          ],
          "carpet": [
           {
            "aaxis": {
             "endlinecolor": "#2a3f5f",
             "gridcolor": "white",
             "linecolor": "white",
             "minorgridcolor": "white",
             "startlinecolor": "#2a3f5f"
            },
            "baxis": {
             "endlinecolor": "#2a3f5f",
             "gridcolor": "white",
             "linecolor": "white",
             "minorgridcolor": "white",
             "startlinecolor": "#2a3f5f"
            },
            "type": "carpet"
           }
          ],
          "choropleth": [
           {
            "colorbar": {
             "outlinewidth": 0,
             "ticks": ""
            },
            "type": "choropleth"
           }
          ],
          "contour": [
           {
            "colorbar": {
             "outlinewidth": 0,
             "ticks": ""
            },
            "colorscale": [
             [
              0,
              "#0d0887"
             ],
             [
              0.1111111111111111,
              "#46039f"
             ],
             [
              0.2222222222222222,
              "#7201a8"
             ],
             [
              0.3333333333333333,
              "#9c179e"
             ],
             [
              0.4444444444444444,
              "#bd3786"
             ],
             [
              0.5555555555555556,
              "#d8576b"
             ],
             [
              0.6666666666666666,
              "#ed7953"
             ],
             [
              0.7777777777777778,
              "#fb9f3a"
             ],
             [
              0.8888888888888888,
              "#fdca26"
             ],
             [
              1,
              "#f0f921"
             ]
            ],
            "type": "contour"
           }
          ],
          "contourcarpet": [
           {
            "colorbar": {
             "outlinewidth": 0,
             "ticks": ""
            },
            "type": "contourcarpet"
           }
          ],
          "heatmap": [
           {
            "colorbar": {
             "outlinewidth": 0,
             "ticks": ""
            },
            "colorscale": [
             [
              0,
              "#0d0887"
             ],
             [
              0.1111111111111111,
              "#46039f"
             ],
             [
              0.2222222222222222,
              "#7201a8"
             ],
             [
              0.3333333333333333,
              "#9c179e"
             ],
             [
              0.4444444444444444,
              "#bd3786"
             ],
             [
              0.5555555555555556,
              "#d8576b"
             ],
             [
              0.6666666666666666,
              "#ed7953"
             ],
             [
              0.7777777777777778,
              "#fb9f3a"
             ],
             [
              0.8888888888888888,
              "#fdca26"
             ],
             [
              1,
              "#f0f921"
             ]
            ],
            "type": "heatmap"
           }
          ],
          "histogram": [
           {
            "marker": {
             "pattern": {
              "fillmode": "overlay",
              "size": 10,
              "solidity": 0.2
             }
            },
            "type": "histogram"
           }
          ],
          "histogram2d": [
           {
            "colorbar": {
             "outlinewidth": 0,
             "ticks": ""
            },
            "colorscale": [
             [
              0,
              "#0d0887"
             ],
             [
              0.1111111111111111,
              "#46039f"
             ],
             [
              0.2222222222222222,
              "#7201a8"
             ],
             [
              0.3333333333333333,
              "#9c179e"
             ],
             [
              0.4444444444444444,
              "#bd3786"
             ],
             [
              0.5555555555555556,
              "#d8576b"
             ],
             [
              0.6666666666666666,
              "#ed7953"
             ],
             [
              0.7777777777777778,
              "#fb9f3a"
             ],
             [
              0.8888888888888888,
              "#fdca26"
             ],
             [
              1,
              "#f0f921"
             ]
            ],
            "type": "histogram2d"
           }
          ],
          "histogram2dcontour": [
           {
            "colorbar": {
             "outlinewidth": 0,
             "ticks": ""
            },
            "colorscale": [
             [
              0,
              "#0d0887"
             ],
             [
              0.1111111111111111,
              "#46039f"
             ],
             [
              0.2222222222222222,
              "#7201a8"
             ],
             [
              0.3333333333333333,
              "#9c179e"
             ],
             [
              0.4444444444444444,
              "#bd3786"
             ],
             [
              0.5555555555555556,
              "#d8576b"
             ],
             [
              0.6666666666666666,
              "#ed7953"
             ],
             [
              0.7777777777777778,
              "#fb9f3a"
             ],
             [
              0.8888888888888888,
              "#fdca26"
             ],
             [
              1,
              "#f0f921"
             ]
            ],
            "type": "histogram2dcontour"
           }
          ],
          "mesh3d": [
           {
            "colorbar": {
             "outlinewidth": 0,
             "ticks": ""
            },
            "type": "mesh3d"
           }
          ],
          "parcoords": [
           {
            "line": {
             "colorbar": {
              "outlinewidth": 0,
              "ticks": ""
             }
            },
            "type": "parcoords"
           }
          ],
          "pie": [
           {
            "automargin": true,
            "type": "pie"
           }
          ],
          "scatter": [
           {
            "fillpattern": {
             "fillmode": "overlay",
             "size": 10,
             "solidity": 0.2
            },
            "type": "scatter"
           }
          ],
          "scatter3d": [
           {
            "line": {
             "colorbar": {
              "outlinewidth": 0,
              "ticks": ""
             }
            },
            "marker": {
             "colorbar": {
              "outlinewidth": 0,
              "ticks": ""
             }
            },
            "type": "scatter3d"
           }
          ],
          "scattercarpet": [
           {
            "marker": {
             "colorbar": {
              "outlinewidth": 0,
              "ticks": ""
             }
            },
            "type": "scattercarpet"
           }
          ],
          "scattergeo": [
           {
            "marker": {
             "colorbar": {
              "outlinewidth": 0,
              "ticks": ""
             }
            },
            "type": "scattergeo"
           }
          ],
          "scattergl": [
           {
            "marker": {
             "colorbar": {
              "outlinewidth": 0,
              "ticks": ""
             }
            },
            "type": "scattergl"
           }
          ],
          "scattermap": [
           {
            "marker": {
             "colorbar": {
              "outlinewidth": 0,
              "ticks": ""
             }
            },
            "type": "scattermap"
           }
          ],
          "scattermapbox": [
           {
            "marker": {
             "colorbar": {
              "outlinewidth": 0,
              "ticks": ""
             }
            },
            "type": "scattermapbox"
           }
          ],
          "scatterpolar": [
           {
            "marker": {
             "colorbar": {
              "outlinewidth": 0,
              "ticks": ""
             }
            },
            "type": "scatterpolar"
           }
          ],
          "scatterpolargl": [
           {
            "marker": {
             "colorbar": {
              "outlinewidth": 0,
              "ticks": ""
             }
            },
            "type": "scatterpolargl"
           }
          ],
          "scatterternary": [
           {
            "marker": {
             "colorbar": {
              "outlinewidth": 0,
              "ticks": ""
             }
            },
            "type": "scatterternary"
           }
          ],
          "surface": [
           {
            "colorbar": {
             "outlinewidth": 0,
             "ticks": ""
            },
            "colorscale": [
             [
              0,
              "#0d0887"
             ],
             [
              0.1111111111111111,
              "#46039f"
             ],
             [
              0.2222222222222222,
              "#7201a8"
             ],
             [
              0.3333333333333333,
              "#9c179e"
             ],
             [
              0.4444444444444444,
              "#bd3786"
             ],
             [
              0.5555555555555556,
              "#d8576b"
             ],
             [
              0.6666666666666666,
              "#ed7953"
             ],
             [
              0.7777777777777778,
              "#fb9f3a"
             ],
             [
              0.8888888888888888,
              "#fdca26"
             ],
             [
              1,
              "#f0f921"
             ]
            ],
            "type": "surface"
           }
          ],
          "table": [
           {
            "cells": {
             "fill": {
              "color": "#EBF0F8"
             },
             "line": {
              "color": "white"
             }
            },
            "header": {
             "fill": {
              "color": "#C8D4E3"
             },
             "line": {
              "color": "white"
             }
            },
            "type": "table"
           }
          ]
         },
         "layout": {
          "annotationdefaults": {
           "arrowcolor": "#2a3f5f",
           "arrowhead": 0,
           "arrowwidth": 1
          },
          "autotypenumbers": "strict",
          "coloraxis": {
           "colorbar": {
            "outlinewidth": 0,
            "ticks": ""
           }
          },
          "colorscale": {
           "diverging": [
            [
             0,
             "#8e0152"
            ],
            [
             0.1,
             "#c51b7d"
            ],
            [
             0.2,
             "#de77ae"
            ],
            [
             0.3,
             "#f1b6da"
            ],
            [
             0.4,
             "#fde0ef"
            ],
            [
             0.5,
             "#f7f7f7"
            ],
            [
             0.6,
             "#e6f5d0"
            ],
            [
             0.7,
             "#b8e186"
            ],
            [
             0.8,
             "#7fbc41"
            ],
            [
             0.9,
             "#4d9221"
            ],
            [
             1,
             "#276419"
            ]
           ],
           "sequential": [
            [
             0,
             "#0d0887"
            ],
            [
             0.1111111111111111,
             "#46039f"
            ],
            [
             0.2222222222222222,
             "#7201a8"
            ],
            [
             0.3333333333333333,
             "#9c179e"
            ],
            [
             0.4444444444444444,
             "#bd3786"
            ],
            [
             0.5555555555555556,
             "#d8576b"
            ],
            [
             0.6666666666666666,
             "#ed7953"
            ],
            [
             0.7777777777777778,
             "#fb9f3a"
            ],
            [
             0.8888888888888888,
             "#fdca26"
            ],
            [
             1,
             "#f0f921"
            ]
           ],
           "sequentialminus": [
            [
             0,
             "#0d0887"
            ],
            [
             0.1111111111111111,
             "#46039f"
            ],
            [
             0.2222222222222222,
             "#7201a8"
            ],
            [
             0.3333333333333333,
             "#9c179e"
            ],
            [
             0.4444444444444444,
             "#bd3786"
            ],
            [
             0.5555555555555556,
             "#d8576b"
            ],
            [
             0.6666666666666666,
             "#ed7953"
            ],
            [
             0.7777777777777778,
             "#fb9f3a"
            ],
            [
             0.8888888888888888,
             "#fdca26"
            ],
            [
             1,
             "#f0f921"
            ]
           ]
          },
          "colorway": [
           "#636efa",
           "#EF553B",
           "#00cc96",
           "#ab63fa",
           "#FFA15A",
           "#19d3f3",
           "#FF6692",
           "#B6E880",
           "#FF97FF",
           "#FECB52"
          ],
          "font": {
           "color": "#2a3f5f"
          },
          "geo": {
           "bgcolor": "white",
           "lakecolor": "white",
           "landcolor": "#E5ECF6",
           "showlakes": true,
           "showland": true,
           "subunitcolor": "white"
          },
          "hoverlabel": {
           "align": "left"
          },
          "hovermode": "closest",
          "mapbox": {
           "style": "light"
          },
          "paper_bgcolor": "white",
          "plot_bgcolor": "#E5ECF6",
          "polar": {
           "angularaxis": {
            "gridcolor": "white",
            "linecolor": "white",
            "ticks": ""
           },
           "bgcolor": "#E5ECF6",
           "radialaxis": {
            "gridcolor": "white",
            "linecolor": "white",
            "ticks": ""
           }
          },
          "scene": {
           "xaxis": {
            "backgroundcolor": "#E5ECF6",
            "gridcolor": "white",
            "gridwidth": 2,
            "linecolor": "white",
            "showbackground": true,
            "ticks": "",
            "zerolinecolor": "white"
           },
           "yaxis": {
            "backgroundcolor": "#E5ECF6",
            "gridcolor": "white",
            "gridwidth": 2,
            "linecolor": "white",
            "showbackground": true,
            "ticks": "",
            "zerolinecolor": "white"
           },
           "zaxis": {
            "backgroundcolor": "#E5ECF6",
            "gridcolor": "white",
            "gridwidth": 2,
            "linecolor": "white",
            "showbackground": true,
            "ticks": "",
            "zerolinecolor": "white"
           }
          },
          "shapedefaults": {
           "line": {
            "color": "#2a3f5f"
           }
          },
          "ternary": {
           "aaxis": {
            "gridcolor": "white",
            "linecolor": "white",
            "ticks": ""
           },
           "baxis": {
            "gridcolor": "white",
            "linecolor": "white",
            "ticks": ""
           },
           "bgcolor": "#E5ECF6",
           "caxis": {
            "gridcolor": "white",
            "linecolor": "white",
            "ticks": ""
           }
          },
          "title": {
           "x": 0.05
          },
          "xaxis": {
           "automargin": true,
           "gridcolor": "white",
           "linecolor": "white",
           "ticks": "",
           "title": {
            "standoff": 15
           },
           "zerolinecolor": "white",
           "zerolinewidth": 2
          },
          "yaxis": {
           "automargin": true,
           "gridcolor": "white",
           "linecolor": "white",
           "ticks": "",
           "title": {
            "standoff": 15
           },
           "zerolinecolor": "white",
           "zerolinewidth": 2
          }
         }
        },
        "title": {
         "text": "Pollutant Concentration by Hour"
        },
        "width": 1200,
        "xaxis": {
         "anchor": "y",
         "domain": [
          0,
          0.98
         ],
         "title": {
          "text": "Hour"
         }
        },
        "xaxis2": {
         "anchor": "y2",
         "domain": [
          0,
          0.98
         ],
         "matches": "x",
         "showticklabels": false
        },
        "xaxis3": {
         "anchor": "y3",
         "domain": [
          0,
          0.98
         ],
         "matches": "x",
         "showticklabels": false
        },
        "xaxis4": {
         "anchor": "y4",
         "domain": [
          0,
          0.98
         ],
         "matches": "x",
         "showticklabels": false
        },
        "xaxis5": {
         "anchor": "y5",
         "domain": [
          0,
          0.98
         ],
         "matches": "x",
         "showticklabels": false
        },
        "xaxis6": {
         "anchor": "y6",
         "domain": [
          0,
          0.98
         ],
         "matches": "x",
         "showticklabels": false
        },
        "xaxis7": {
         "anchor": "y7",
         "domain": [
          0,
          0.98
         ],
         "matches": "x",
         "showticklabels": false
        },
        "xaxis8": {
         "anchor": "y8",
         "domain": [
          0,
          0.98
         ],
         "matches": "x",
         "showticklabels": false
        },
        "yaxis": {
         "anchor": "x",
         "domain": [
          0,
          0.09875
         ],
         "title": {
          "text": "Concentration"
         }
        },
        "yaxis2": {
         "anchor": "x2",
         "domain": [
          0.12875,
          0.2275
         ],
         "title": {
          "text": "Concentration"
         }
        },
        "yaxis3": {
         "anchor": "x3",
         "domain": [
          0.2575,
          0.35625
         ],
         "title": {
          "text": "Concentration"
         }
        },
        "yaxis4": {
         "anchor": "x4",
         "domain": [
          0.38625,
          0.485
         ],
         "title": {
          "text": "Concentration"
         }
        },
        "yaxis5": {
         "anchor": "x5",
         "domain": [
          0.515,
          0.61375
         ],
         "title": {
          "text": "Concentration"
         }
        },
        "yaxis6": {
         "anchor": "x6",
         "domain": [
          0.64375,
          0.7425
         ],
         "title": {
          "text": "Concentration"
         }
        },
        "yaxis7": {
         "anchor": "x7",
         "domain": [
          0.7725,
          0.87125
         ],
         "title": {
          "text": "Concentration"
         }
        },
        "yaxis8": {
         "anchor": "x8",
         "domain": [
          0.90125,
          1
         ],
         "title": {
          "text": "Concentration"
         }
        }
       }
      }
     },
     "metadata": {},
     "output_type": "display_data"
    }
   ],
   "source": [
    "# We'll select relevant columns from the original dataframe.\n",
    "pollution_by_hour_month = pollution[['Hour', 'Month', 'PM2.5 (µg/m³)','AQI', 'PM10 (µg/m³)', 'NO2 (µg/m³)', 'SO2 (µg/m³)', 'CO (mg/m³)', 'O3 (µg/m³)']].copy()\n",
    "\n",
    "# Ensuring the scale for the CO (mg/m³) is in µg/m³ for consistency with other pollutants.\n",
    "pollution_by_hour_month.rename(columns={'CO (mg/m³)': 'CO (µg/m³)'}, inplace=True)\n",
    "pollution_by_hour_month.loc[:, 'CO (µg/m³)'] = pollution_by_hour_month['CO (µg/m³)']*1000\n",
    " \n",
    "pollution_by_hour = pollution_by_hour_month.melt(id_vars=['Hour'], var_name='Pollutant', value_name='Concentration')\n",
    "\n",
    "pollution_by_hour = pollution_by_hour.groupby(['Hour', 'Pollutant']).median().reset_index()\n",
    "\n",
    "fig = px.line(\n",
    "    pollution_by_hour,\n",
    "    x = 'Hour',\n",
    "    y = 'Concentration',\n",
    "    facet_row='Pollutant',\n",
    "    title='Hourly Pollutant Concentration'\n",
    ")\n",
    "fig.update_yaxes(matches=None)\n",
    "fig.update_layout(height=1500, width=1200, title_text=\"Pollutant Concentration by Hour\")\n",
    "fig.show()"
   ]
  },
  {
   "cell_type": "markdown",
   "id": "afe698e0",
   "metadata": {},
   "source": [
    "We can also check by month to understand whether any specific months and consequently seasons see any spike in any pollutant or AQI"
   ]
  },
  {
   "cell_type": "code",
   "execution_count": 183,
   "id": "3cfc6f0a7d6deba2",
   "metadata": {
    "ExecuteTime": {
     "end_time": "2025-04-20T14:04:26.977797Z",
     "start_time": "2025-04-20T14:04:26.867410Z"
    }
   },
   "outputs": [
    {
     "data": {
      "application/vnd.plotly.v1+json": {
       "config": {
        "plotlyServerURL": "https://plot.ly"
       },
       "data": [
        {
         "hovertemplate": "Pollutant=AQI<br>Month=%{x}<br>Concentration=%{y}<extra></extra>",
         "legendgroup": "",
         "line": {
          "color": "#636efa",
          "dash": "solid"
         },
         "marker": {
          "symbol": "circle"
         },
         "mode": "lines",
         "name": "",
         "orientation": "v",
         "showlegend": false,
         "type": "scatter",
         "x": {
          "bdata": "AQIDBAUGBwgJCgsM",
          "dtype": "i1"
         },
         "xaxis": "x8",
         "y": {
          "bdata": "AAAAAADAbEAAAAAAAKBvQAAAAAAA0G1AAAAAAADAbkAAAAAAAKBuQAAAAAAAQG5AAAAAAABgcEAAAAAAAMBwQAAAAAAAcHFAAAAAAABgcEAAAAAAACBvQAAAAAAAQGxA",
          "dtype": "f8"
         },
         "yaxis": "y8"
        },
        {
         "hovertemplate": "Pollutant=CO (µg/m³)<br>Month=%{x}<br>Concentration=%{y}<extra></extra>",
         "legendgroup": "",
         "line": {
          "color": "#636efa",
          "dash": "solid"
         },
         "marker": {
          "symbol": "circle"
         },
         "mode": "lines",
         "name": "",
         "orientation": "v",
         "showlegend": false,
         "type": "scatter",
         "x": {
          "bdata": "AQIDBAUGBwgJCgsM",
          "dtype": "i1"
         },
         "xaxis": "x7",
         "y": {
          "bdata": "N0BBgpaKpUCO5eIbaVaiQLSwwguq4KRADSPzNMBJpEA1vS2a05mjQLOVl2YsZKZAX4Z8DRrno0BME8uKMTqiQLOBjfCBX6VAO2uJaQxwpUAgWLy3iCWjQL0qy0Oi4qFA",
          "dtype": "f8"
         },
         "yaxis": "y7"
        },
        {
         "hovertemplate": "Pollutant=Hour<br>Month=%{x}<br>Concentration=%{y}<extra></extra>",
         "legendgroup": "",
         "line": {
          "color": "#636efa",
          "dash": "solid"
         },
         "marker": {
          "symbol": "circle"
         },
         "mode": "lines",
         "name": "",
         "orientation": "v",
         "showlegend": false,
         "type": "scatter",
         "x": {
          "bdata": "AQIDBAUGBwgJCgsM",
          "dtype": "i1"
         },
         "xaxis": "x6",
         "y": {
          "bdata": "AAAAAAAAJkAAAAAAAAAmQAAAAAAAAClAAAAAAAAAKEAAAAAAAAAmQAAAAAAAACRAAAAAAAAAJkAAAAAAAAAmQAAAAAAAAChAAAAAAAAAJEAAAAAAAAAoQAAAAAAAACRA",
          "dtype": "f8"
         },
         "yaxis": "y6"
        },
        {
         "hovertemplate": "Pollutant=NO2 (µg/m³)<br>Month=%{x}<br>Concentration=%{y}<extra></extra>",
         "legendgroup": "",
         "line": {
          "color": "#636efa",
          "dash": "solid"
         },
         "marker": {
          "symbol": "circle"
         },
         "mode": "lines",
         "name": "",
         "orientation": "v",
         "showlegend": false,
         "type": "scatter",
         "x": {
          "bdata": "AQIDBAUGBwgJCgsM",
          "dtype": "i1"
         },
         "xaxis": "x5",
         "y": {
          "bdata": "qJQv4j4lSUBbit/d+99LQFFWPyA4wkpAtw/pWp+GS0BgkL/vvDdJQG+91e0JaklA95hLEvzSSkDkztVPP8FIQKWSyM7USExAveC6eSPeSkDwdz4Z9JpMQPnKuuIor0pA",
          "dtype": "f8"
         },
         "yaxis": "y5"
        },
        {
         "hovertemplate": "Pollutant=O3 (µg/m³)<br>Month=%{x}<br>Concentration=%{y}<extra></extra>",
         "legendgroup": "",
         "line": {
          "color": "#636efa",
          "dash": "solid"
         },
         "marker": {
          "symbol": "circle"
         },
         "mode": "lines",
         "name": "",
         "orientation": "v",
         "showlegend": false,
         "type": "scatter",
         "x": {
          "bdata": "AQIDBAUGBwgJCgsM",
          "dtype": "i1"
         },
         "xaxis": "x4",
         "y": {
          "bdata": "17EM/0gIW0BPXtJAax5ZQC4XP1zG+FhAF11NbZKeWkDUmUkWwb5aQN6PNqD6vFpAJ1If4IkgXEChLvsrKs9aQA3/YoRAUVpAOMTbg1/UWkDHgKCJgiZcQDgEqMT33llA",
          "dtype": "f8"
         },
         "yaxis": "y4"
        },
        {
         "hovertemplate": "Pollutant=PM10 (µg/m³)<br>Month=%{x}<br>Concentration=%{y}<extra></extra>",
         "legendgroup": "",
         "line": {
          "color": "#636efa",
          "dash": "solid"
         },
         "marker": {
          "symbol": "circle"
         },
         "mode": "lines",
         "name": "",
         "orientation": "v",
         "showlegend": false,
         "type": "scatter",
         "x": {
          "bdata": "AQIDBAUGBwgJCgsM",
          "dtype": "i1"
         },
         "xaxis": "x3",
         "y": {
          "bdata": "tnLG8feXY0B/yeLIOR1iQPb3qN3XKGVA3/scU+zMZECcOvZXZiFlQNz196dSdmFAYtE3mcXrZEBqLylu2cBjQHmvTgN9+WNAFX0E52t2Y0AFe4WubKpiQE7Q9ksWX2JA",
          "dtype": "f8"
         },
         "yaxis": "y3"
        },
        {
         "hovertemplate": "Pollutant=PM2.5 (µg/m³)<br>Month=%{x}<br>Concentration=%{y}<extra></extra>",
         "legendgroup": "",
         "line": {
          "color": "#636efa",
          "dash": "solid"
         },
         "marker": {
          "symbol": "circle"
         },
         "mode": "lines",
         "name": "",
         "orientation": "v",
         "showlegend": false,
         "type": "scatter",
         "x": {
          "bdata": "AQIDBAUGBwgJCgsM",
          "dtype": "i1"
         },
         "xaxis": "x2",
         "y": {
          "bdata": "6szNSazxXUD+GEJUE6ZgQOlI8L9Grl5A3u3bQmicYEBMGchtP1JgQNrdIeeVg2BAecPCyQYeX0D67nUH2KtgQD0ocukDP19AmMBlTv4SYEDAvrC1XaNgQFXMUI5/Zl1A",
          "dtype": "f8"
         },
         "yaxis": "y2"
        },
        {
         "hovertemplate": "Pollutant=SO2 (µg/m³)<br>Month=%{x}<br>Concentration=%{y}<extra></extra>",
         "legendgroup": "",
         "line": {
          "color": "#636efa",
          "dash": "solid"
         },
         "marker": {
          "symbol": "circle"
         },
         "mode": "lines",
         "name": "",
         "orientation": "v",
         "showlegend": false,
         "type": "scatter",
         "x": {
          "bdata": "AQIDBAUGBwgJCgsM",
          "dtype": "i1"
         },
         "xaxis": "x",
         "y": {
          "bdata": "dXlMvC9AOUBYDkZ17+46QEapF0+3vDpABMXyv+dWOUBmwE+lKwY5QNdtYj48YzlAec+xYyJSOkC36JO1IxA6QOm65RqexTZAAb2/UtWKOkBwAxuERt86QAP303DqcDpA",
          "dtype": "f8"
         },
         "yaxis": "y"
        }
       ],
       "layout": {
        "annotations": [
         {
          "font": {},
          "showarrow": false,
          "text": "Pollutant=SO2 (µg/m³)",
          "textangle": 90,
          "x": 0.98,
          "xanchor": "left",
          "xref": "paper",
          "y": 0.049375,
          "yanchor": "middle",
          "yref": "paper"
         },
         {
          "font": {},
          "showarrow": false,
          "text": "Pollutant=PM2.5 (µg/m³)",
          "textangle": 90,
          "x": 0.98,
          "xanchor": "left",
          "xref": "paper",
          "y": 0.178125,
          "yanchor": "middle",
          "yref": "paper"
         },
         {
          "font": {},
          "showarrow": false,
          "text": "Pollutant=PM10 (µg/m³)",
          "textangle": 90,
          "x": 0.98,
          "xanchor": "left",
          "xref": "paper",
          "y": 0.306875,
          "yanchor": "middle",
          "yref": "paper"
         },
         {
          "font": {},
          "showarrow": false,
          "text": "Pollutant=O3 (µg/m³)",
          "textangle": 90,
          "x": 0.98,
          "xanchor": "left",
          "xref": "paper",
          "y": 0.435625,
          "yanchor": "middle",
          "yref": "paper"
         },
         {
          "font": {},
          "showarrow": false,
          "text": "Pollutant=NO2 (µg/m³)",
          "textangle": 90,
          "x": 0.98,
          "xanchor": "left",
          "xref": "paper",
          "y": 0.5643750000000001,
          "yanchor": "middle",
          "yref": "paper"
         },
         {
          "font": {},
          "showarrow": false,
          "text": "Pollutant=Hour",
          "textangle": 90,
          "x": 0.98,
          "xanchor": "left",
          "xref": "paper",
          "y": 0.693125,
          "yanchor": "middle",
          "yref": "paper"
         },
         {
          "font": {},
          "showarrow": false,
          "text": "Pollutant=CO (µg/m³)",
          "textangle": 90,
          "x": 0.98,
          "xanchor": "left",
          "xref": "paper",
          "y": 0.8218749999999999,
          "yanchor": "middle",
          "yref": "paper"
         },
         {
          "font": {},
          "showarrow": false,
          "text": "Pollutant=AQI",
          "textangle": 90,
          "x": 0.98,
          "xanchor": "left",
          "xref": "paper",
          "y": 0.950625,
          "yanchor": "middle",
          "yref": "paper"
         }
        ],
        "height": 1500,
        "legend": {
         "tracegroupgap": 0
        },
        "template": {
         "data": {
          "bar": [
           {
            "error_x": {
             "color": "#2a3f5f"
            },
            "error_y": {
             "color": "#2a3f5f"
            },
            "marker": {
             "line": {
              "color": "#E5ECF6",
              "width": 0.5
             },
             "pattern": {
              "fillmode": "overlay",
              "size": 10,
              "solidity": 0.2
             }
            },
            "type": "bar"
           }
          ],
          "barpolar": [
           {
            "marker": {
             "line": {
              "color": "#E5ECF6",
              "width": 0.5
             },
             "pattern": {
              "fillmode": "overlay",
              "size": 10,
              "solidity": 0.2
             }
            },
            "type": "barpolar"
           }
          ],
          "carpet": [
           {
            "aaxis": {
             "endlinecolor": "#2a3f5f",
             "gridcolor": "white",
             "linecolor": "white",
             "minorgridcolor": "white",
             "startlinecolor": "#2a3f5f"
            },
            "baxis": {
             "endlinecolor": "#2a3f5f",
             "gridcolor": "white",
             "linecolor": "white",
             "minorgridcolor": "white",
             "startlinecolor": "#2a3f5f"
            },
            "type": "carpet"
           }
          ],
          "choropleth": [
           {
            "colorbar": {
             "outlinewidth": 0,
             "ticks": ""
            },
            "type": "choropleth"
           }
          ],
          "contour": [
           {
            "colorbar": {
             "outlinewidth": 0,
             "ticks": ""
            },
            "colorscale": [
             [
              0,
              "#0d0887"
             ],
             [
              0.1111111111111111,
              "#46039f"
             ],
             [
              0.2222222222222222,
              "#7201a8"
             ],
             [
              0.3333333333333333,
              "#9c179e"
             ],
             [
              0.4444444444444444,
              "#bd3786"
             ],
             [
              0.5555555555555556,
              "#d8576b"
             ],
             [
              0.6666666666666666,
              "#ed7953"
             ],
             [
              0.7777777777777778,
              "#fb9f3a"
             ],
             [
              0.8888888888888888,
              "#fdca26"
             ],
             [
              1,
              "#f0f921"
             ]
            ],
            "type": "contour"
           }
          ],
          "contourcarpet": [
           {
            "colorbar": {
             "outlinewidth": 0,
             "ticks": ""
            },
            "type": "contourcarpet"
           }
          ],
          "heatmap": [
           {
            "colorbar": {
             "outlinewidth": 0,
             "ticks": ""
            },
            "colorscale": [
             [
              0,
              "#0d0887"
             ],
             [
              0.1111111111111111,
              "#46039f"
             ],
             [
              0.2222222222222222,
              "#7201a8"
             ],
             [
              0.3333333333333333,
              "#9c179e"
             ],
             [
              0.4444444444444444,
              "#bd3786"
             ],
             [
              0.5555555555555556,
              "#d8576b"
             ],
             [
              0.6666666666666666,
              "#ed7953"
             ],
             [
              0.7777777777777778,
              "#fb9f3a"
             ],
             [
              0.8888888888888888,
              "#fdca26"
             ],
             [
              1,
              "#f0f921"
             ]
            ],
            "type": "heatmap"
           }
          ],
          "histogram": [
           {
            "marker": {
             "pattern": {
              "fillmode": "overlay",
              "size": 10,
              "solidity": 0.2
             }
            },
            "type": "histogram"
           }
          ],
          "histogram2d": [
           {
            "colorbar": {
             "outlinewidth": 0,
             "ticks": ""
            },
            "colorscale": [
             [
              0,
              "#0d0887"
             ],
             [
              0.1111111111111111,
              "#46039f"
             ],
             [
              0.2222222222222222,
              "#7201a8"
             ],
             [
              0.3333333333333333,
              "#9c179e"
             ],
             [
              0.4444444444444444,
              "#bd3786"
             ],
             [
              0.5555555555555556,
              "#d8576b"
             ],
             [
              0.6666666666666666,
              "#ed7953"
             ],
             [
              0.7777777777777778,
              "#fb9f3a"
             ],
             [
              0.8888888888888888,
              "#fdca26"
             ],
             [
              1,
              "#f0f921"
             ]
            ],
            "type": "histogram2d"
           }
          ],
          "histogram2dcontour": [
           {
            "colorbar": {
             "outlinewidth": 0,
             "ticks": ""
            },
            "colorscale": [
             [
              0,
              "#0d0887"
             ],
             [
              0.1111111111111111,
              "#46039f"
             ],
             [
              0.2222222222222222,
              "#7201a8"
             ],
             [
              0.3333333333333333,
              "#9c179e"
             ],
             [
              0.4444444444444444,
              "#bd3786"
             ],
             [
              0.5555555555555556,
              "#d8576b"
             ],
             [
              0.6666666666666666,
              "#ed7953"
             ],
             [
              0.7777777777777778,
              "#fb9f3a"
             ],
             [
              0.8888888888888888,
              "#fdca26"
             ],
             [
              1,
              "#f0f921"
             ]
            ],
            "type": "histogram2dcontour"
           }
          ],
          "mesh3d": [
           {
            "colorbar": {
             "outlinewidth": 0,
             "ticks": ""
            },
            "type": "mesh3d"
           }
          ],
          "parcoords": [
           {
            "line": {
             "colorbar": {
              "outlinewidth": 0,
              "ticks": ""
             }
            },
            "type": "parcoords"
           }
          ],
          "pie": [
           {
            "automargin": true,
            "type": "pie"
           }
          ],
          "scatter": [
           {
            "fillpattern": {
             "fillmode": "overlay",
             "size": 10,
             "solidity": 0.2
            },
            "type": "scatter"
           }
          ],
          "scatter3d": [
           {
            "line": {
             "colorbar": {
              "outlinewidth": 0,
              "ticks": ""
             }
            },
            "marker": {
             "colorbar": {
              "outlinewidth": 0,
              "ticks": ""
             }
            },
            "type": "scatter3d"
           }
          ],
          "scattercarpet": [
           {
            "marker": {
             "colorbar": {
              "outlinewidth": 0,
              "ticks": ""
             }
            },
            "type": "scattercarpet"
           }
          ],
          "scattergeo": [
           {
            "marker": {
             "colorbar": {
              "outlinewidth": 0,
              "ticks": ""
             }
            },
            "type": "scattergeo"
           }
          ],
          "scattergl": [
           {
            "marker": {
             "colorbar": {
              "outlinewidth": 0,
              "ticks": ""
             }
            },
            "type": "scattergl"
           }
          ],
          "scattermap": [
           {
            "marker": {
             "colorbar": {
              "outlinewidth": 0,
              "ticks": ""
             }
            },
            "type": "scattermap"
           }
          ],
          "scattermapbox": [
           {
            "marker": {
             "colorbar": {
              "outlinewidth": 0,
              "ticks": ""
             }
            },
            "type": "scattermapbox"
           }
          ],
          "scatterpolar": [
           {
            "marker": {
             "colorbar": {
              "outlinewidth": 0,
              "ticks": ""
             }
            },
            "type": "scatterpolar"
           }
          ],
          "scatterpolargl": [
           {
            "marker": {
             "colorbar": {
              "outlinewidth": 0,
              "ticks": ""
             }
            },
            "type": "scatterpolargl"
           }
          ],
          "scatterternary": [
           {
            "marker": {
             "colorbar": {
              "outlinewidth": 0,
              "ticks": ""
             }
            },
            "type": "scatterternary"
           }
          ],
          "surface": [
           {
            "colorbar": {
             "outlinewidth": 0,
             "ticks": ""
            },
            "colorscale": [
             [
              0,
              "#0d0887"
             ],
             [
              0.1111111111111111,
              "#46039f"
             ],
             [
              0.2222222222222222,
              "#7201a8"
             ],
             [
              0.3333333333333333,
              "#9c179e"
             ],
             [
              0.4444444444444444,
              "#bd3786"
             ],
             [
              0.5555555555555556,
              "#d8576b"
             ],
             [
              0.6666666666666666,
              "#ed7953"
             ],
             [
              0.7777777777777778,
              "#fb9f3a"
             ],
             [
              0.8888888888888888,
              "#fdca26"
             ],
             [
              1,
              "#f0f921"
             ]
            ],
            "type": "surface"
           }
          ],
          "table": [
           {
            "cells": {
             "fill": {
              "color": "#EBF0F8"
             },
             "line": {
              "color": "white"
             }
            },
            "header": {
             "fill": {
              "color": "#C8D4E3"
             },
             "line": {
              "color": "white"
             }
            },
            "type": "table"
           }
          ]
         },
         "layout": {
          "annotationdefaults": {
           "arrowcolor": "#2a3f5f",
           "arrowhead": 0,
           "arrowwidth": 1
          },
          "autotypenumbers": "strict",
          "coloraxis": {
           "colorbar": {
            "outlinewidth": 0,
            "ticks": ""
           }
          },
          "colorscale": {
           "diverging": [
            [
             0,
             "#8e0152"
            ],
            [
             0.1,
             "#c51b7d"
            ],
            [
             0.2,
             "#de77ae"
            ],
            [
             0.3,
             "#f1b6da"
            ],
            [
             0.4,
             "#fde0ef"
            ],
            [
             0.5,
             "#f7f7f7"
            ],
            [
             0.6,
             "#e6f5d0"
            ],
            [
             0.7,
             "#b8e186"
            ],
            [
             0.8,
             "#7fbc41"
            ],
            [
             0.9,
             "#4d9221"
            ],
            [
             1,
             "#276419"
            ]
           ],
           "sequential": [
            [
             0,
             "#0d0887"
            ],
            [
             0.1111111111111111,
             "#46039f"
            ],
            [
             0.2222222222222222,
             "#7201a8"
            ],
            [
             0.3333333333333333,
             "#9c179e"
            ],
            [
             0.4444444444444444,
             "#bd3786"
            ],
            [
             0.5555555555555556,
             "#d8576b"
            ],
            [
             0.6666666666666666,
             "#ed7953"
            ],
            [
             0.7777777777777778,
             "#fb9f3a"
            ],
            [
             0.8888888888888888,
             "#fdca26"
            ],
            [
             1,
             "#f0f921"
            ]
           ],
           "sequentialminus": [
            [
             0,
             "#0d0887"
            ],
            [
             0.1111111111111111,
             "#46039f"
            ],
            [
             0.2222222222222222,
             "#7201a8"
            ],
            [
             0.3333333333333333,
             "#9c179e"
            ],
            [
             0.4444444444444444,
             "#bd3786"
            ],
            [
             0.5555555555555556,
             "#d8576b"
            ],
            [
             0.6666666666666666,
             "#ed7953"
            ],
            [
             0.7777777777777778,
             "#fb9f3a"
            ],
            [
             0.8888888888888888,
             "#fdca26"
            ],
            [
             1,
             "#f0f921"
            ]
           ]
          },
          "colorway": [
           "#636efa",
           "#EF553B",
           "#00cc96",
           "#ab63fa",
           "#FFA15A",
           "#19d3f3",
           "#FF6692",
           "#B6E880",
           "#FF97FF",
           "#FECB52"
          ],
          "font": {
           "color": "#2a3f5f"
          },
          "geo": {
           "bgcolor": "white",
           "lakecolor": "white",
           "landcolor": "#E5ECF6",
           "showlakes": true,
           "showland": true,
           "subunitcolor": "white"
          },
          "hoverlabel": {
           "align": "left"
          },
          "hovermode": "closest",
          "mapbox": {
           "style": "light"
          },
          "paper_bgcolor": "white",
          "plot_bgcolor": "#E5ECF6",
          "polar": {
           "angularaxis": {
            "gridcolor": "white",
            "linecolor": "white",
            "ticks": ""
           },
           "bgcolor": "#E5ECF6",
           "radialaxis": {
            "gridcolor": "white",
            "linecolor": "white",
            "ticks": ""
           }
          },
          "scene": {
           "xaxis": {
            "backgroundcolor": "#E5ECF6",
            "gridcolor": "white",
            "gridwidth": 2,
            "linecolor": "white",
            "showbackground": true,
            "ticks": "",
            "zerolinecolor": "white"
           },
           "yaxis": {
            "backgroundcolor": "#E5ECF6",
            "gridcolor": "white",
            "gridwidth": 2,
            "linecolor": "white",
            "showbackground": true,
            "ticks": "",
            "zerolinecolor": "white"
           },
           "zaxis": {
            "backgroundcolor": "#E5ECF6",
            "gridcolor": "white",
            "gridwidth": 2,
            "linecolor": "white",
            "showbackground": true,
            "ticks": "",
            "zerolinecolor": "white"
           }
          },
          "shapedefaults": {
           "line": {
            "color": "#2a3f5f"
           }
          },
          "ternary": {
           "aaxis": {
            "gridcolor": "white",
            "linecolor": "white",
            "ticks": ""
           },
           "baxis": {
            "gridcolor": "white",
            "linecolor": "white",
            "ticks": ""
           },
           "bgcolor": "#E5ECF6",
           "caxis": {
            "gridcolor": "white",
            "linecolor": "white",
            "ticks": ""
           }
          },
          "title": {
           "x": 0.05
          },
          "xaxis": {
           "automargin": true,
           "gridcolor": "white",
           "linecolor": "white",
           "ticks": "",
           "title": {
            "standoff": 15
           },
           "zerolinecolor": "white",
           "zerolinewidth": 2
          },
          "yaxis": {
           "automargin": true,
           "gridcolor": "white",
           "linecolor": "white",
           "ticks": "",
           "title": {
            "standoff": 15
           },
           "zerolinecolor": "white",
           "zerolinewidth": 2
          }
         }
        },
        "title": {
         "text": "Pollutant Concentration by Month"
        },
        "width": 1200,
        "xaxis": {
         "anchor": "y",
         "domain": [
          0,
          0.98
         ],
         "title": {
          "text": "Month"
         }
        },
        "xaxis2": {
         "anchor": "y2",
         "domain": [
          0,
          0.98
         ],
         "matches": "x",
         "showticklabels": false
        },
        "xaxis3": {
         "anchor": "y3",
         "domain": [
          0,
          0.98
         ],
         "matches": "x",
         "showticklabels": false
        },
        "xaxis4": {
         "anchor": "y4",
         "domain": [
          0,
          0.98
         ],
         "matches": "x",
         "showticklabels": false
        },
        "xaxis5": {
         "anchor": "y5",
         "domain": [
          0,
          0.98
         ],
         "matches": "x",
         "showticklabels": false
        },
        "xaxis6": {
         "anchor": "y6",
         "domain": [
          0,
          0.98
         ],
         "matches": "x",
         "showticklabels": false
        },
        "xaxis7": {
         "anchor": "y7",
         "domain": [
          0,
          0.98
         ],
         "matches": "x",
         "showticklabels": false
        },
        "xaxis8": {
         "anchor": "y8",
         "domain": [
          0,
          0.98
         ],
         "matches": "x",
         "showticklabels": false
        },
        "yaxis": {
         "anchor": "x",
         "domain": [
          0,
          0.09875
         ],
         "title": {
          "text": "Concentration"
         }
        },
        "yaxis2": {
         "anchor": "x2",
         "domain": [
          0.12875,
          0.2275
         ],
         "title": {
          "text": "Concentration"
         }
        },
        "yaxis3": {
         "anchor": "x3",
         "domain": [
          0.2575,
          0.35625
         ],
         "title": {
          "text": "Concentration"
         }
        },
        "yaxis4": {
         "anchor": "x4",
         "domain": [
          0.38625,
          0.485
         ],
         "title": {
          "text": "Concentration"
         }
        },
        "yaxis5": {
         "anchor": "x5",
         "domain": [
          0.515,
          0.61375
         ],
         "title": {
          "text": "Concentration"
         }
        },
        "yaxis6": {
         "anchor": "x6",
         "domain": [
          0.64375,
          0.7425
         ],
         "title": {
          "text": "Concentration"
         }
        },
        "yaxis7": {
         "anchor": "x7",
         "domain": [
          0.7725,
          0.87125
         ],
         "title": {
          "text": "Concentration"
         }
        },
        "yaxis8": {
         "anchor": "x8",
         "domain": [
          0.90125,
          1
         ],
         "title": {
          "text": "Concentration"
         }
        }
       }
      }
     },
     "metadata": {},
     "output_type": "display_data"
    }
   ],
   "source": [
    "pollution_by_month = pollution_by_hour_month.melt(id_vars=['Month'], var_name='Pollutant', value_name='Concentration')\n",
    "pollution_by_month = pollution_by_month.groupby(['Month', 'Pollutant']).median().reset_index()\n",
    "\n",
    "fig = px.line(\n",
    "    pollution_by_month,\n",
    "    x = 'Month',\n",
    "    y = 'Concentration',\n",
    "    facet_row='Pollutant',\n",
    "    title='Monthly Pollutant Concentration'\n",
    ")\n",
    "fig.update_yaxes(matches=None)\n",
    "fig.update_layout(height=1500, width=1200, title_text=\"Pollutant Concentration by Month\")\n",
    "fig.show()"
   ]
  },
  {
   "cell_type": "markdown",
   "id": "138ad397",
   "metadata": {},
   "source": [
    "While there are no major repeated patterns, it seems like the AQI sees a spike starting June until September. It is unusual that the AQI would increase but none of the other pollutants exhibit similar patterns given these pollutants directly impact AQI. This may be due to the artifical nature of the data."
   ]
  },
  {
   "cell_type": "markdown",
   "id": "3950f158",
   "metadata": {},
   "source": [
    "## Modeling\n",
    "\n",
    "We'll use regression models offered by sklearn to predict AQI value using numerical features only. \n",
    "\n",
    "Note: For the sake of simplicity, and due to the limited knowledge on handling categorical varibles in machine learning, I have excluded categorical varibles from features. This allowed me to focus on the numerical features and the regression techniques taught in the course. "
   ]
  },
  {
   "cell_type": "markdown",
   "id": "38f97d10",
   "metadata": {},
   "source": [
    "### Linear Regression"
   ]
  },
  {
   "cell_type": "code",
   "execution_count": 184,
   "id": "336e4350",
   "metadata": {},
   "outputs": [],
   "source": [
    "# Importing all required modules\n",
    "from sklearn.model_selection import train_test_split\n",
    "from sklearn.linear_model import LinearRegression, Ridge, Lasso\n",
    "from sklearn.preprocessing import StandardScaler, PolynomialFeatures\n",
    "from sklearn.metrics import mean_squared_error, r2_score\n",
    "from sklearn.ensemble import RandomForestRegressor"
   ]
  },
  {
   "cell_type": "code",
   "execution_count": 185,
   "id": "ef6076a0",
   "metadata": {},
   "outputs": [],
   "source": [
    "features = ['PM2.5 (µg/m³)', 'PM10 (µg/m³)', 'NO2 (µg/m³)', 'SO2 (µg/m³)', 'CO (mg/m³)', 'O3 (µg/m³)', 'Temperature (°C)', 'Humidity (%)', 'Precipitation (mm)', 'Wind Speed (m/s)', 'Pressure (hPa)', 'Precipitation (mm)', 'Visibility (km)']\n",
    "\n",
    "y = pollution.loc[:, 'AQI'] # we'll use PM2.5 value as the variable to predict ie target\n",
    "X = pollution.loc[:, features] # we'll use all the other variables as input variables ie features\n",
    "\n",
    "# Splitting the data into training and testing data\n",
    "X_train, X_test, y_train, y_test = train_test_split(X, y, train_size=0.80)\n"
   ]
  },
  {
   "cell_type": "markdown",
   "id": "765b4ffc",
   "metadata": {},
   "source": [
    "We'll now scale the data.\n",
    "\n",
    "This process ensures all the data is on the same scale. \n",
    "\n",
    "\"Standardization of a dataset is a common requirement for many machine learning estimators: they might behave badly if the individual features do not more or less look like standard normally distributed data\" ([scikit-learn, 2025](https://scikit-learn.org/stable/modules/generated/sklearn.preprocessing.StandardScaler.html#:~:text=Standardization%20of%20a%20dataset%20is%20a%20common%20requirement%20for%20many%20machine%20learning%20estimators%3A%20they%20might%20behave%20badly%20if%20the%20individual%20features%20do%20not%20more%20or%20less%20look%20like%20standard%20normally%20distributed%20data)). \n",
    "\n",
    "The equation for scaling is:\n",
    "\n",
    "$z = \\frac{x - \\mu}{\\sigma}$\n",
    "\n"
   ]
  },
  {
   "cell_type": "code",
   "execution_count": 186,
   "id": "725cc56d",
   "metadata": {},
   "outputs": [],
   "source": [
    "# Scaling the data\n",
    "\n",
    "scaler = StandardScaler()\n",
    "\n",
    "X_train_scaled = scaler.fit_transform(X_train)\n",
    "X_test_scaled = scaler.transform(X_test)"
   ]
  },
  {
   "cell_type": "code",
   "execution_count": 187,
   "id": "e4ca8655",
   "metadata": {},
   "outputs": [],
   "source": [
    "# We'll define a helper function to help us apply various regression models \n",
    "\n",
    "def apply_regression_model(model, x_train_data, y_train_data, x_test_data, y_test_data):\n",
    "    \n",
    "    # Fitting the model and using to make predictions on test data\n",
    "    model.fit(x_train_data, y_train_data)\n",
    "    y_pred = model.predict(x_test_data)\n",
    "    \n",
    "    mse = round(mean_squared_error(y_test_data, y_pred),2)\n",
    "    r2 = round(r2_score(y_test_data, y_pred), 2)\n",
    "    \n",
    "    return mse, r2, y_pred"
   ]
  },
  {
   "cell_type": "code",
   "execution_count": 188,
   "id": "284652ca",
   "metadata": {},
   "outputs": [
    {
     "name": "stdout",
     "output_type": "stream",
     "text": [
      "For the linear regression model, the mean squared error is 20797.68 and the coefficient of determination is -0.01\n"
     ]
    }
   ],
   "source": [
    "linear_regressor = LinearRegression()\n",
    "\n",
    "mse, r2, y_pred = apply_regression_model(linear_regressor, x_train_data=X_train_scaled, y_train_data=y_train, x_test_data=X_test_scaled, y_test_data=y_test)\n",
    "\n",
    "print(f\"For the linear regression model, the mean squared error is {mse} and the coefficient of determination is {r2}\")"
   ]
  },
  {
   "cell_type": "markdown",
   "id": "c6225cbb",
   "metadata": {},
   "source": [
    "Given the coefficient of determination is 0, our model is no better than average when it comes to predicting the target.\n",
    "\n",
    "We'll now visualize the predictions against our actual test data to visually analyze the performance of the mdoel."
   ]
  },
  {
   "cell_type": "code",
   "execution_count": 189,
   "id": "79b403c9",
   "metadata": {},
   "outputs": [
    {
     "data": {
      "application/vnd.plotly.v1+json": {
       "config": {
        "plotlyServerURL": "https://plot.ly"
       },
       "data": [
        {
         "hovertemplate": "Actual=%{x}<br>Predicted=%{y}<extra></extra>",
         "legendgroup": "",
         "marker": {
          "color": "#636efa",
          "symbol": "circle"
         },
         "mode": "markers",
         "name": "",
         "orientation": "v",
         "showlegend": false,
         "type": "scatter",
         "x": {
          "bdata": "NAAdAJQAZgFXAYwASAEZAWIBMgDCAe0ABwEwAcMBowGtAKIBaQBCAfUA2gC6AEYAAgFkAe0BPwDLAZ4BpgGkAMMAAgA4AK8AmwE1AZUA5gAtAVwAFQG/AEMA+AD4AIQBHQHRAHIBswEfAQUBkQE9AdAAMQDhAEgApgEpAYQBfgGvAYUAkAD4APgAZQDeAYkAVADCAZIBJQEcAS0AogGLAFgBqgEYAIIAlQHJAYYBTADzATYAugDVAAEAdwDGAaMAZwGwABYBBAGyANMBZQA7AIEBvwCQANAAmgCbAEEAuwCVAF4A1gHLAD0AOgBnAEoBqQHtAGQB5QGYAbsAlQBVAcEBjAFMAQwBeACVAacApQGFABQANwFFASEAIwF3ABoB3QFaAAMBNQB4AIAByADmAXgBmwDiALgBFQGlAYwBmQFDALEAVgHZAJQAlwCTAPIAdQBPAPMAswFaAFQA+gDZAFcBKAHlANkA3wAxAU4AVQDvAfAAjgCZAKoBgwAoAVEBiwCoATgBsAHUAXcAjAGrAMEBZgG4ATwAiwEQAYQBBgCRAbYAyQDlAN4BPQBSAM0BhwBZAIIBNwDrABoAAQHDADYByQBcAKEBYwFDAYoBRQFSADgBrQCtAVcApAH2AGIB2QA6AF8AVgBVACsBGAGvAOABcQFWAMsANQDUAEwBkgH5AIcAQAFQAE0AcAATAQQAbAFDAW4ArwCSAdQB5QCrAWsBkgCYAbIADQCtAcEA5wDaATMByQGRAakAEAD7AJ8BLQDoAN4AIAHMAHkATgHcAC8BzwAmAdcAvwAOALEBgwGCAOAA8gFDAe0BZQGQAHoBrwFkAe8ATAGAAbYA0AB7AYIBbQGFAQQAvgBZAPoAOQCfAFcBMQCcAM0BRQAXACQBPQDxALQAqwC8ARkBtgAwAAkAfgHRANQB3gB2AaMAJQDiAIUAfQA7AUQAxgFpAXMBUgHIAFAASAGjAdwBIQC1ADYBiABwASYA3QDZAdgBvAESAOIBewFYAFsAdQBtABAApgHQARsA4QG6ALsARwElAG0BNQDPASoA4AE4AScB0ACJAfEBvwCEARMB1QHtARkBLAC5AUYArgANAJwBYwH2ABAAWgD/AJgAKwHwASsBbgEGAJsAdAAKAK0A4wChAdIAWgG7AWMB7gDmAT0AdQBcAeMAUgDlADkAgAG1AIgBNQDOAYQAegA6AS8BfwGoAFcA4QB6Ab0BeQCDAVsASgDPAIwBVgE7ALABfQASAD8AsQHaAH4BUQGbACoA6QGlAacBsAElACkAVQDFANMB6AFMAdcAxgDsAcMAyQCqAYUAqwEsAR4BIAFbAOMBbQALAHMAQADgAYQBxwCPAZ4AKAA/AQYBcQFgAGMAagDyAYoBzgGyAOQBLwCSAKEAhgB3AQQA3wDYAJUApwH2AO0BpACuAcgBPAE+AOoA6gFNAa8AbABBAAgAagG1AYkALQEFAdMB5wESAMIBeQEmAIgA5AA9AAkAMQFwAdsA1AF9Ae4AUAFxAQgA1QAsAUcAMAE+AQUAewGDAWkA5wA/ASsBzwA8AeMB2wGEAXoBvQEHASoA1gEkAYQAOwCCAEUA5AF2AVIB",
          "dtype": "i2"
         },
         "xaxis": "x",
         "y": {
          "bdata": "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",
          "dtype": "f8"
         },
         "yaxis": "y"
        }
       ],
       "layout": {
        "height": 500,
        "legend": {
         "tracegroupgap": 0
        },
        "shapes": [
         {
          "line": {
           "color": "red",
           "dash": "dash"
          },
          "type": "line",
          "x0": 1,
          "x1": 499,
          "y0": 1,
          "y1": 499
         }
        ],
        "template": {
         "data": {
          "bar": [
           {
            "error_x": {
             "color": "#2a3f5f"
            },
            "error_y": {
             "color": "#2a3f5f"
            },
            "marker": {
             "line": {
              "color": "#E5ECF6",
              "width": 0.5
             },
             "pattern": {
              "fillmode": "overlay",
              "size": 10,
              "solidity": 0.2
             }
            },
            "type": "bar"
           }
          ],
          "barpolar": [
           {
            "marker": {
             "line": {
              "color": "#E5ECF6",
              "width": 0.5
             },
             "pattern": {
              "fillmode": "overlay",
              "size": 10,
              "solidity": 0.2
             }
            },
            "type": "barpolar"
           }
          ],
          "carpet": [
           {
            "aaxis": {
             "endlinecolor": "#2a3f5f",
             "gridcolor": "white",
             "linecolor": "white",
             "minorgridcolor": "white",
             "startlinecolor": "#2a3f5f"
            },
            "baxis": {
             "endlinecolor": "#2a3f5f",
             "gridcolor": "white",
             "linecolor": "white",
             "minorgridcolor": "white",
             "startlinecolor": "#2a3f5f"
            },
            "type": "carpet"
           }
          ],
          "choropleth": [
           {
            "colorbar": {
             "outlinewidth": 0,
             "ticks": ""
            },
            "type": "choropleth"
           }
          ],
          "contour": [
           {
            "colorbar": {
             "outlinewidth": 0,
             "ticks": ""
            },
            "colorscale": [
             [
              0,
              "#0d0887"
             ],
             [
              0.1111111111111111,
              "#46039f"
             ],
             [
              0.2222222222222222,
              "#7201a8"
             ],
             [
              0.3333333333333333,
              "#9c179e"
             ],
             [
              0.4444444444444444,
              "#bd3786"
             ],
             [
              0.5555555555555556,
              "#d8576b"
             ],
             [
              0.6666666666666666,
              "#ed7953"
             ],
             [
              0.7777777777777778,
              "#fb9f3a"
             ],
             [
              0.8888888888888888,
              "#fdca26"
             ],
             [
              1,
              "#f0f921"
             ]
            ],
            "type": "contour"
           }
          ],
          "contourcarpet": [
           {
            "colorbar": {
             "outlinewidth": 0,
             "ticks": ""
            },
            "type": "contourcarpet"
           }
          ],
          "heatmap": [
           {
            "colorbar": {
             "outlinewidth": 0,
             "ticks": ""
            },
            "colorscale": [
             [
              0,
              "#0d0887"
             ],
             [
              0.1111111111111111,
              "#46039f"
             ],
             [
              0.2222222222222222,
              "#7201a8"
             ],
             [
              0.3333333333333333,
              "#9c179e"
             ],
             [
              0.4444444444444444,
              "#bd3786"
             ],
             [
              0.5555555555555556,
              "#d8576b"
             ],
             [
              0.6666666666666666,
              "#ed7953"
             ],
             [
              0.7777777777777778,
              "#fb9f3a"
             ],
             [
              0.8888888888888888,
              "#fdca26"
             ],
             [
              1,
              "#f0f921"
             ]
            ],
            "type": "heatmap"
           }
          ],
          "histogram": [
           {
            "marker": {
             "pattern": {
              "fillmode": "overlay",
              "size": 10,
              "solidity": 0.2
             }
            },
            "type": "histogram"
           }
          ],
          "histogram2d": [
           {
            "colorbar": {
             "outlinewidth": 0,
             "ticks": ""
            },
            "colorscale": [
             [
              0,
              "#0d0887"
             ],
             [
              0.1111111111111111,
              "#46039f"
             ],
             [
              0.2222222222222222,
              "#7201a8"
             ],
             [
              0.3333333333333333,
              "#9c179e"
             ],
             [
              0.4444444444444444,
              "#bd3786"
             ],
             [
              0.5555555555555556,
              "#d8576b"
             ],
             [
              0.6666666666666666,
              "#ed7953"
             ],
             [
              0.7777777777777778,
              "#fb9f3a"
             ],
             [
              0.8888888888888888,
              "#fdca26"
             ],
             [
              1,
              "#f0f921"
             ]
            ],
            "type": "histogram2d"
           }
          ],
          "histogram2dcontour": [
           {
            "colorbar": {
             "outlinewidth": 0,
             "ticks": ""
            },
            "colorscale": [
             [
              0,
              "#0d0887"
             ],
             [
              0.1111111111111111,
              "#46039f"
             ],
             [
              0.2222222222222222,
              "#7201a8"
             ],
             [
              0.3333333333333333,
              "#9c179e"
             ],
             [
              0.4444444444444444,
              "#bd3786"
             ],
             [
              0.5555555555555556,
              "#d8576b"
             ],
             [
              0.6666666666666666,
              "#ed7953"
             ],
             [
              0.7777777777777778,
              "#fb9f3a"
             ],
             [
              0.8888888888888888,
              "#fdca26"
             ],
             [
              1,
              "#f0f921"
             ]
            ],
            "type": "histogram2dcontour"
           }
          ],
          "mesh3d": [
           {
            "colorbar": {
             "outlinewidth": 0,
             "ticks": ""
            },
            "type": "mesh3d"
           }
          ],
          "parcoords": [
           {
            "line": {
             "colorbar": {
              "outlinewidth": 0,
              "ticks": ""
             }
            },
            "type": "parcoords"
           }
          ],
          "pie": [
           {
            "automargin": true,
            "type": "pie"
           }
          ],
          "scatter": [
           {
            "fillpattern": {
             "fillmode": "overlay",
             "size": 10,
             "solidity": 0.2
            },
            "type": "scatter"
           }
          ],
          "scatter3d": [
           {
            "line": {
             "colorbar": {
              "outlinewidth": 0,
              "ticks": ""
             }
            },
            "marker": {
             "colorbar": {
              "outlinewidth": 0,
              "ticks": ""
             }
            },
            "type": "scatter3d"
           }
          ],
          "scattercarpet": [
           {
            "marker": {
             "colorbar": {
              "outlinewidth": 0,
              "ticks": ""
             }
            },
            "type": "scattercarpet"
           }
          ],
          "scattergeo": [
           {
            "marker": {
             "colorbar": {
              "outlinewidth": 0,
              "ticks": ""
             }
            },
            "type": "scattergeo"
           }
          ],
          "scattergl": [
           {
            "marker": {
             "colorbar": {
              "outlinewidth": 0,
              "ticks": ""
             }
            },
            "type": "scattergl"
           }
          ],
          "scattermap": [
           {
            "marker": {
             "colorbar": {
              "outlinewidth": 0,
              "ticks": ""
             }
            },
            "type": "scattermap"
           }
          ],
          "scattermapbox": [
           {
            "marker": {
             "colorbar": {
              "outlinewidth": 0,
              "ticks": ""
             }
            },
            "type": "scattermapbox"
           }
          ],
          "scatterpolar": [
           {
            "marker": {
             "colorbar": {
              "outlinewidth": 0,
              "ticks": ""
             }
            },
            "type": "scatterpolar"
           }
          ],
          "scatterpolargl": [
           {
            "marker": {
             "colorbar": {
              "outlinewidth": 0,
              "ticks": ""
             }
            },
            "type": "scatterpolargl"
           }
          ],
          "scatterternary": [
           {
            "marker": {
             "colorbar": {
              "outlinewidth": 0,
              "ticks": ""
             }
            },
            "type": "scatterternary"
           }
          ],
          "surface": [
           {
            "colorbar": {
             "outlinewidth": 0,
             "ticks": ""
            },
            "colorscale": [
             [
              0,
              "#0d0887"
             ],
             [
              0.1111111111111111,
              "#46039f"
             ],
             [
              0.2222222222222222,
              "#7201a8"
             ],
             [
              0.3333333333333333,
              "#9c179e"
             ],
             [
              0.4444444444444444,
              "#bd3786"
             ],
             [
              0.5555555555555556,
              "#d8576b"
             ],
             [
              0.6666666666666666,
              "#ed7953"
             ],
             [
              0.7777777777777778,
              "#fb9f3a"
             ],
             [
              0.8888888888888888,
              "#fdca26"
             ],
             [
              1,
              "#f0f921"
             ]
            ],
            "type": "surface"
           }
          ],
          "table": [
           {
            "cells": {
             "fill": {
              "color": "#EBF0F8"
             },
             "line": {
              "color": "white"
             }
            },
            "header": {
             "fill": {
              "color": "#C8D4E3"
             },
             "line": {
              "color": "white"
             }
            },
            "type": "table"
           }
          ]
         },
         "layout": {
          "annotationdefaults": {
           "arrowcolor": "#2a3f5f",
           "arrowhead": 0,
           "arrowwidth": 1
          },
          "autotypenumbers": "strict",
          "coloraxis": {
           "colorbar": {
            "outlinewidth": 0,
            "ticks": ""
           }
          },
          "colorscale": {
           "diverging": [
            [
             0,
             "#8e0152"
            ],
            [
             0.1,
             "#c51b7d"
            ],
            [
             0.2,
             "#de77ae"
            ],
            [
             0.3,
             "#f1b6da"
            ],
            [
             0.4,
             "#fde0ef"
            ],
            [
             0.5,
             "#f7f7f7"
            ],
            [
             0.6,
             "#e6f5d0"
            ],
            [
             0.7,
             "#b8e186"
            ],
            [
             0.8,
             "#7fbc41"
            ],
            [
             0.9,
             "#4d9221"
            ],
            [
             1,
             "#276419"
            ]
           ],
           "sequential": [
            [
             0,
             "#0d0887"
            ],
            [
             0.1111111111111111,
             "#46039f"
            ],
            [
             0.2222222222222222,
             "#7201a8"
            ],
            [
             0.3333333333333333,
             "#9c179e"
            ],
            [
             0.4444444444444444,
             "#bd3786"
            ],
            [
             0.5555555555555556,
             "#d8576b"
            ],
            [
             0.6666666666666666,
             "#ed7953"
            ],
            [
             0.7777777777777778,
             "#fb9f3a"
            ],
            [
             0.8888888888888888,
             "#fdca26"
            ],
            [
             1,
             "#f0f921"
            ]
           ],
           "sequentialminus": [
            [
             0,
             "#0d0887"
            ],
            [
             0.1111111111111111,
             "#46039f"
            ],
            [
             0.2222222222222222,
             "#7201a8"
            ],
            [
             0.3333333333333333,
             "#9c179e"
            ],
            [
             0.4444444444444444,
             "#bd3786"
            ],
            [
             0.5555555555555556,
             "#d8576b"
            ],
            [
             0.6666666666666666,
             "#ed7953"
            ],
            [
             0.7777777777777778,
             "#fb9f3a"
            ],
            [
             0.8888888888888888,
             "#fdca26"
            ],
            [
             1,
             "#f0f921"
            ]
           ]
          },
          "colorway": [
           "#636efa",
           "#EF553B",
           "#00cc96",
           "#ab63fa",
           "#FFA15A",
           "#19d3f3",
           "#FF6692",
           "#B6E880",
           "#FF97FF",
           "#FECB52"
          ],
          "font": {
           "color": "#2a3f5f"
          },
          "geo": {
           "bgcolor": "white",
           "lakecolor": "white",
           "landcolor": "#E5ECF6",
           "showlakes": true,
           "showland": true,
           "subunitcolor": "white"
          },
          "hoverlabel": {
           "align": "left"
          },
          "hovermode": "closest",
          "mapbox": {
           "style": "light"
          },
          "paper_bgcolor": "white",
          "plot_bgcolor": "#E5ECF6",
          "polar": {
           "angularaxis": {
            "gridcolor": "white",
            "linecolor": "white",
            "ticks": ""
           },
           "bgcolor": "#E5ECF6",
           "radialaxis": {
            "gridcolor": "white",
            "linecolor": "white",
            "ticks": ""
           }
          },
          "scene": {
           "xaxis": {
            "backgroundcolor": "#E5ECF6",
            "gridcolor": "white",
            "gridwidth": 2,
            "linecolor": "white",
            "showbackground": true,
            "ticks": "",
            "zerolinecolor": "white"
           },
           "yaxis": {
            "backgroundcolor": "#E5ECF6",
            "gridcolor": "white",
            "gridwidth": 2,
            "linecolor": "white",
            "showbackground": true,
            "ticks": "",
            "zerolinecolor": "white"
           },
           "zaxis": {
            "backgroundcolor": "#E5ECF6",
            "gridcolor": "white",
            "gridwidth": 2,
            "linecolor": "white",
            "showbackground": true,
            "ticks": "",
            "zerolinecolor": "white"
           }
          },
          "shapedefaults": {
           "line": {
            "color": "#2a3f5f"
           }
          },
          "ternary": {
           "aaxis": {
            "gridcolor": "white",
            "linecolor": "white",
            "ticks": ""
           },
           "baxis": {
            "gridcolor": "white",
            "linecolor": "white",
            "ticks": ""
           },
           "bgcolor": "#E5ECF6",
           "caxis": {
            "gridcolor": "white",
            "linecolor": "white",
            "ticks": ""
           }
          },
          "title": {
           "x": 0.05
          },
          "xaxis": {
           "automargin": true,
           "gridcolor": "white",
           "linecolor": "white",
           "ticks": "",
           "title": {
            "standoff": 15
           },
           "zerolinecolor": "white",
           "zerolinewidth": 2
          },
          "yaxis": {
           "automargin": true,
           "gridcolor": "white",
           "linecolor": "white",
           "ticks": "",
           "title": {
            "standoff": 15
           },
           "zerolinecolor": "white",
           "zerolinewidth": 2
          }
         }
        },
        "title": {
         "text": "Actual vs Predicted AQI"
        },
        "width": 700,
        "xaxis": {
         "anchor": "y",
         "domain": [
          0,
          1
         ],
         "range": [
          -50,
          550
         ],
         "title": {
          "text": "Actual"
         }
        },
        "yaxis": {
         "anchor": "x",
         "domain": [
          0,
          1
         ],
         "range": [
          200,
          300
         ],
         "title": {
          "text": "Predicted"
         }
        }
       }
      }
     },
     "metadata": {},
     "output_type": "display_data"
    }
   ],
   "source": [
    "# We'll plot the predicitons against the actual values with model trendline overlaid to visualize the performance.\n",
    "results_df = pd.DataFrame({\n",
    "    'Actual': y_test,\n",
    "    'Predicted': y_pred\n",
    "})\n",
    "\n",
    "fig = px.scatter(results_df, x='Actual', y='Predicted', title='Actual vs Predicted AQI')\n",
    "\n",
    "fig.add_shape(\n",
    "    type='line',\n",
    "    x0=results_df['Actual'].min(), y0=results_df['Actual'].min(),\n",
    "    x1=results_df['Actual'].max(), y1=results_df['Actual'].max(),\n",
    "    line=dict(color='red', dash='dash')\n",
    ")\n",
    "\n",
    "fig.update_layout(\n",
    "    xaxis_title='Actual',\n",
    "    yaxis_title='Predicted',\n",
    "    width=700,\n",
    "    height=500,\n",
    "    xaxis_range=[-50, 550],\n",
    "    yaxis_range=[200,300]\n",
    ")\n",
    "\n",
    "fig.show()"
   ]
  },
  {
   "cell_type": "markdown",
   "id": "9e873675",
   "metadata": {},
   "source": [
    "### Other Alternatives\n",
    "\n",
    "Given the linear regression model has a poor fit, we'll test other regression models to check if we can get better accuracy. Here are some of the models we'll try out:\n",
    "\n",
    "- **Polynomial Regression** \n",
    "- **Random Forest Regressor** \n",
    "- **Ridge Regression** \n",
    "- **Lasso Regression** "
   ]
  },
  {
   "cell_type": "markdown",
   "id": "f5ee621b",
   "metadata": {},
   "source": [
    "### Polynomial Regression\n",
    "\n",
    "We'll apply polynomial regression as the behaviour between the target and features is non linear. Polynomials will take the form below (for a simple case of just one feature):\n",
    "\n",
    "$$\n",
    "y = \\beta_0 + \\beta_1 x + \\beta_2 x^2\n",
    "$$"
   ]
  },
  {
   "cell_type": "code",
   "execution_count": 190,
   "id": "25e16376",
   "metadata": {},
   "outputs": [],
   "source": [
    "# We'll transform the features to polynomials and then apply linear regression. \n",
    "def apply_polynomial_regression(degrees):\n",
    "    poly_features = PolynomialFeatures(degree=degrees)\n",
    "    X_train_poly = poly_features.fit_transform(X_train)\n",
    "    X_test_poly = poly_features.transform(X_test)\n",
    "\n",
    "    # We'll now scale these\n",
    "    poly_scaler = StandardScaler()\n",
    "    X_train_poly_scaled = poly_scaler.fit_transform(X_train_poly)\n",
    "    X_test_poly_scaled = poly_scaler.transform(X_test_poly)\n",
    "\n",
    "    model = LinearRegression()\n",
    "    \n",
    "    mse, r2, y_pred_poly = apply_regression_model(model, x_train_data=X_train_poly_scaled, y_train_data=y_train, x_test_data=X_test_poly_scaled, y_test_data=y_test)\n",
    "\n",
    "    print(f\"Polynomial Regression (degree={degrees}) — MSE: {mse:.2f}, R²: {r2:.2f}\")\n",
    "    \n",
    "    return r2"
   ]
  },
  {
   "cell_type": "markdown",
   "id": "2809063e",
   "metadata": {},
   "source": [
    "We'll test different degrees of the polynomial to find a good fit while also being weary of overfitting."
   ]
  },
  {
   "cell_type": "code",
   "execution_count": 191,
   "id": "47a10303",
   "metadata": {},
   "outputs": [
    {
     "name": "stdout",
     "output_type": "stream",
     "text": [
      "Polynomial Regression (degree=1) — MSE: 20797.68, R²: -0.01\n",
      "Polynomial Regression (degree=2) — MSE: 20888.30, R²: -0.01\n",
      "Polynomial Regression (degree=3) — MSE: 24187.31, R²: -0.17\n",
      "Polynomial Regression (degree=4) — MSE: 121230.71, R²: -4.87\n",
      "Polynomial Regression (degree=5) — MSE: 220786.52, R²: -9.69\n"
     ]
    },
    {
     "data": {
      "application/vnd.plotly.v1+json": {
       "config": {
        "plotlyServerURL": "https://plot.ly"
       },
       "data": [
        {
         "hovertemplate": "x=%{x}<br>y=%{y}<extra></extra>",
         "legendgroup": "",
         "line": {
          "color": "#636efa",
          "dash": "solid"
         },
         "marker": {
          "symbol": "circle"
         },
         "mode": "lines",
         "name": "",
         "orientation": "v",
         "showlegend": false,
         "type": "scatter",
         "x": {
          "bdata": "AQIDBAU=",
          "dtype": "i1"
         },
         "xaxis": "x",
         "y": {
          "bdata": "exSuR+F6hL97FK5H4XqEv8P1KFyPwsW/exSuR+F6E8DhehSuR2EjwA==",
          "dtype": "f8"
         },
         "yaxis": "y"
        }
       ],
       "layout": {
        "legend": {
         "tracegroupgap": 0
        },
        "margin": {
         "t": 60
        },
        "template": {
         "data": {
          "bar": [
           {
            "error_x": {
             "color": "#2a3f5f"
            },
            "error_y": {
             "color": "#2a3f5f"
            },
            "marker": {
             "line": {
              "color": "#E5ECF6",
              "width": 0.5
             },
             "pattern": {
              "fillmode": "overlay",
              "size": 10,
              "solidity": 0.2
             }
            },
            "type": "bar"
           }
          ],
          "barpolar": [
           {
            "marker": {
             "line": {
              "color": "#E5ECF6",
              "width": 0.5
             },
             "pattern": {
              "fillmode": "overlay",
              "size": 10,
              "solidity": 0.2
             }
            },
            "type": "barpolar"
           }
          ],
          "carpet": [
           {
            "aaxis": {
             "endlinecolor": "#2a3f5f",
             "gridcolor": "white",
             "linecolor": "white",
             "minorgridcolor": "white",
             "startlinecolor": "#2a3f5f"
            },
            "baxis": {
             "endlinecolor": "#2a3f5f",
             "gridcolor": "white",
             "linecolor": "white",
             "minorgridcolor": "white",
             "startlinecolor": "#2a3f5f"
            },
            "type": "carpet"
           }
          ],
          "choropleth": [
           {
            "colorbar": {
             "outlinewidth": 0,
             "ticks": ""
            },
            "type": "choropleth"
           }
          ],
          "contour": [
           {
            "colorbar": {
             "outlinewidth": 0,
             "ticks": ""
            },
            "colorscale": [
             [
              0,
              "#0d0887"
             ],
             [
              0.1111111111111111,
              "#46039f"
             ],
             [
              0.2222222222222222,
              "#7201a8"
             ],
             [
              0.3333333333333333,
              "#9c179e"
             ],
             [
              0.4444444444444444,
              "#bd3786"
             ],
             [
              0.5555555555555556,
              "#d8576b"
             ],
             [
              0.6666666666666666,
              "#ed7953"
             ],
             [
              0.7777777777777778,
              "#fb9f3a"
             ],
             [
              0.8888888888888888,
              "#fdca26"
             ],
             [
              1,
              "#f0f921"
             ]
            ],
            "type": "contour"
           }
          ],
          "contourcarpet": [
           {
            "colorbar": {
             "outlinewidth": 0,
             "ticks": ""
            },
            "type": "contourcarpet"
           }
          ],
          "heatmap": [
           {
            "colorbar": {
             "outlinewidth": 0,
             "ticks": ""
            },
            "colorscale": [
             [
              0,
              "#0d0887"
             ],
             [
              0.1111111111111111,
              "#46039f"
             ],
             [
              0.2222222222222222,
              "#7201a8"
             ],
             [
              0.3333333333333333,
              "#9c179e"
             ],
             [
              0.4444444444444444,
              "#bd3786"
             ],
             [
              0.5555555555555556,
              "#d8576b"
             ],
             [
              0.6666666666666666,
              "#ed7953"
             ],
             [
              0.7777777777777778,
              "#fb9f3a"
             ],
             [
              0.8888888888888888,
              "#fdca26"
             ],
             [
              1,
              "#f0f921"
             ]
            ],
            "type": "heatmap"
           }
          ],
          "histogram": [
           {
            "marker": {
             "pattern": {
              "fillmode": "overlay",
              "size": 10,
              "solidity": 0.2
             }
            },
            "type": "histogram"
           }
          ],
          "histogram2d": [
           {
            "colorbar": {
             "outlinewidth": 0,
             "ticks": ""
            },
            "colorscale": [
             [
              0,
              "#0d0887"
             ],
             [
              0.1111111111111111,
              "#46039f"
             ],
             [
              0.2222222222222222,
              "#7201a8"
             ],
             [
              0.3333333333333333,
              "#9c179e"
             ],
             [
              0.4444444444444444,
              "#bd3786"
             ],
             [
              0.5555555555555556,
              "#d8576b"
             ],
             [
              0.6666666666666666,
              "#ed7953"
             ],
             [
              0.7777777777777778,
              "#fb9f3a"
             ],
             [
              0.8888888888888888,
              "#fdca26"
             ],
             [
              1,
              "#f0f921"
             ]
            ],
            "type": "histogram2d"
           }
          ],
          "histogram2dcontour": [
           {
            "colorbar": {
             "outlinewidth": 0,
             "ticks": ""
            },
            "colorscale": [
             [
              0,
              "#0d0887"
             ],
             [
              0.1111111111111111,
              "#46039f"
             ],
             [
              0.2222222222222222,
              "#7201a8"
             ],
             [
              0.3333333333333333,
              "#9c179e"
             ],
             [
              0.4444444444444444,
              "#bd3786"
             ],
             [
              0.5555555555555556,
              "#d8576b"
             ],
             [
              0.6666666666666666,
              "#ed7953"
             ],
             [
              0.7777777777777778,
              "#fb9f3a"
             ],
             [
              0.8888888888888888,
              "#fdca26"
             ],
             [
              1,
              "#f0f921"
             ]
            ],
            "type": "histogram2dcontour"
           }
          ],
          "mesh3d": [
           {
            "colorbar": {
             "outlinewidth": 0,
             "ticks": ""
            },
            "type": "mesh3d"
           }
          ],
          "parcoords": [
           {
            "line": {
             "colorbar": {
              "outlinewidth": 0,
              "ticks": ""
             }
            },
            "type": "parcoords"
           }
          ],
          "pie": [
           {
            "automargin": true,
            "type": "pie"
           }
          ],
          "scatter": [
           {
            "fillpattern": {
             "fillmode": "overlay",
             "size": 10,
             "solidity": 0.2
            },
            "type": "scatter"
           }
          ],
          "scatter3d": [
           {
            "line": {
             "colorbar": {
              "outlinewidth": 0,
              "ticks": ""
             }
            },
            "marker": {
             "colorbar": {
              "outlinewidth": 0,
              "ticks": ""
             }
            },
            "type": "scatter3d"
           }
          ],
          "scattercarpet": [
           {
            "marker": {
             "colorbar": {
              "outlinewidth": 0,
              "ticks": ""
             }
            },
            "type": "scattercarpet"
           }
          ],
          "scattergeo": [
           {
            "marker": {
             "colorbar": {
              "outlinewidth": 0,
              "ticks": ""
             }
            },
            "type": "scattergeo"
           }
          ],
          "scattergl": [
           {
            "marker": {
             "colorbar": {
              "outlinewidth": 0,
              "ticks": ""
             }
            },
            "type": "scattergl"
           }
          ],
          "scattermap": [
           {
            "marker": {
             "colorbar": {
              "outlinewidth": 0,
              "ticks": ""
             }
            },
            "type": "scattermap"
           }
          ],
          "scattermapbox": [
           {
            "marker": {
             "colorbar": {
              "outlinewidth": 0,
              "ticks": ""
             }
            },
            "type": "scattermapbox"
           }
          ],
          "scatterpolar": [
           {
            "marker": {
             "colorbar": {
              "outlinewidth": 0,
              "ticks": ""
             }
            },
            "type": "scatterpolar"
           }
          ],
          "scatterpolargl": [
           {
            "marker": {
             "colorbar": {
              "outlinewidth": 0,
              "ticks": ""
             }
            },
            "type": "scatterpolargl"
           }
          ],
          "scatterternary": [
           {
            "marker": {
             "colorbar": {
              "outlinewidth": 0,
              "ticks": ""
             }
            },
            "type": "scatterternary"
           }
          ],
          "surface": [
           {
            "colorbar": {
             "outlinewidth": 0,
             "ticks": ""
            },
            "colorscale": [
             [
              0,
              "#0d0887"
             ],
             [
              0.1111111111111111,
              "#46039f"
             ],
             [
              0.2222222222222222,
              "#7201a8"
             ],
             [
              0.3333333333333333,
              "#9c179e"
             ],
             [
              0.4444444444444444,
              "#bd3786"
             ],
             [
              0.5555555555555556,
              "#d8576b"
             ],
             [
              0.6666666666666666,
              "#ed7953"
             ],
             [
              0.7777777777777778,
              "#fb9f3a"
             ],
             [
              0.8888888888888888,
              "#fdca26"
             ],
             [
              1,
              "#f0f921"
             ]
            ],
            "type": "surface"
           }
          ],
          "table": [
           {
            "cells": {
             "fill": {
              "color": "#EBF0F8"
             },
             "line": {
              "color": "white"
             }
            },
            "header": {
             "fill": {
              "color": "#C8D4E3"
             },
             "line": {
              "color": "white"
             }
            },
            "type": "table"
           }
          ]
         },
         "layout": {
          "annotationdefaults": {
           "arrowcolor": "#2a3f5f",
           "arrowhead": 0,
           "arrowwidth": 1
          },
          "autotypenumbers": "strict",
          "coloraxis": {
           "colorbar": {
            "outlinewidth": 0,
            "ticks": ""
           }
          },
          "colorscale": {
           "diverging": [
            [
             0,
             "#8e0152"
            ],
            [
             0.1,
             "#c51b7d"
            ],
            [
             0.2,
             "#de77ae"
            ],
            [
             0.3,
             "#f1b6da"
            ],
            [
             0.4,
             "#fde0ef"
            ],
            [
             0.5,
             "#f7f7f7"
            ],
            [
             0.6,
             "#e6f5d0"
            ],
            [
             0.7,
             "#b8e186"
            ],
            [
             0.8,
             "#7fbc41"
            ],
            [
             0.9,
             "#4d9221"
            ],
            [
             1,
             "#276419"
            ]
           ],
           "sequential": [
            [
             0,
             "#0d0887"
            ],
            [
             0.1111111111111111,
             "#46039f"
            ],
            [
             0.2222222222222222,
             "#7201a8"
            ],
            [
             0.3333333333333333,
             "#9c179e"
            ],
            [
             0.4444444444444444,
             "#bd3786"
            ],
            [
             0.5555555555555556,
             "#d8576b"
            ],
            [
             0.6666666666666666,
             "#ed7953"
            ],
            [
             0.7777777777777778,
             "#fb9f3a"
            ],
            [
             0.8888888888888888,
             "#fdca26"
            ],
            [
             1,
             "#f0f921"
            ]
           ],
           "sequentialminus": [
            [
             0,
             "#0d0887"
            ],
            [
             0.1111111111111111,
             "#46039f"
            ],
            [
             0.2222222222222222,
             "#7201a8"
            ],
            [
             0.3333333333333333,
             "#9c179e"
            ],
            [
             0.4444444444444444,
             "#bd3786"
            ],
            [
             0.5555555555555556,
             "#d8576b"
            ],
            [
             0.6666666666666666,
             "#ed7953"
            ],
            [
             0.7777777777777778,
             "#fb9f3a"
            ],
            [
             0.8888888888888888,
             "#fdca26"
            ],
            [
             1,
             "#f0f921"
            ]
           ]
          },
          "colorway": [
           "#636efa",
           "#EF553B",
           "#00cc96",
           "#ab63fa",
           "#FFA15A",
           "#19d3f3",
           "#FF6692",
           "#B6E880",
           "#FF97FF",
           "#FECB52"
          ],
          "font": {
           "color": "#2a3f5f"
          },
          "geo": {
           "bgcolor": "white",
           "lakecolor": "white",
           "landcolor": "#E5ECF6",
           "showlakes": true,
           "showland": true,
           "subunitcolor": "white"
          },
          "hoverlabel": {
           "align": "left"
          },
          "hovermode": "closest",
          "mapbox": {
           "style": "light"
          },
          "paper_bgcolor": "white",
          "plot_bgcolor": "#E5ECF6",
          "polar": {
           "angularaxis": {
            "gridcolor": "white",
            "linecolor": "white",
            "ticks": ""
           },
           "bgcolor": "#E5ECF6",
           "radialaxis": {
            "gridcolor": "white",
            "linecolor": "white",
            "ticks": ""
           }
          },
          "scene": {
           "xaxis": {
            "backgroundcolor": "#E5ECF6",
            "gridcolor": "white",
            "gridwidth": 2,
            "linecolor": "white",
            "showbackground": true,
            "ticks": "",
            "zerolinecolor": "white"
           },
           "yaxis": {
            "backgroundcolor": "#E5ECF6",
            "gridcolor": "white",
            "gridwidth": 2,
            "linecolor": "white",
            "showbackground": true,
            "ticks": "",
            "zerolinecolor": "white"
           },
           "zaxis": {
            "backgroundcolor": "#E5ECF6",
            "gridcolor": "white",
            "gridwidth": 2,
            "linecolor": "white",
            "showbackground": true,
            "ticks": "",
            "zerolinecolor": "white"
           }
          },
          "shapedefaults": {
           "line": {
            "color": "#2a3f5f"
           }
          },
          "ternary": {
           "aaxis": {
            "gridcolor": "white",
            "linecolor": "white",
            "ticks": ""
           },
           "baxis": {
            "gridcolor": "white",
            "linecolor": "white",
            "ticks": ""
           },
           "bgcolor": "#E5ECF6",
           "caxis": {
            "gridcolor": "white",
            "linecolor": "white",
            "ticks": ""
           }
          },
          "title": {
           "x": 0.05
          },
          "xaxis": {
           "automargin": true,
           "gridcolor": "white",
           "linecolor": "white",
           "ticks": "",
           "title": {
            "standoff": 15
           },
           "zerolinecolor": "white",
           "zerolinewidth": 2
          },
          "yaxis": {
           "automargin": true,
           "gridcolor": "white",
           "linecolor": "white",
           "ticks": "",
           "title": {
            "standoff": 15
           },
           "zerolinecolor": "white",
           "zerolinewidth": 2
          }
         }
        },
        "xaxis": {
         "anchor": "y",
         "domain": [
          0,
          1
         ],
         "title": {
          "text": "x"
         }
        },
        "yaxis": {
         "anchor": "x",
         "domain": [
          0,
          1
         ],
         "title": {
          "text": "y"
         }
        }
       }
      }
     },
     "metadata": {},
     "output_type": "display_data"
    }
   ],
   "source": [
    "# We'll try different degrees of polynomial regression to see which one performs the best. Anything more than 5 causes significant time to compute so we'll go as high as 5. \n",
    "r2_polynomial = []\n",
    "for i in range(1,6):\n",
    "    r2_polynomial.append(apply_polynomial_regression(i))\n",
    "\n",
    "px.line(x=list(range(1,6)), y=r2_polynomial)"
   ]
  },
  {
   "cell_type": "markdown",
   "id": "c7bd1e37",
   "metadata": {},
   "source": [
    "Generally, the performance seems to get poorer as we increase degrees (especially after 3rd degree) so polynomial regression may not be the best approach based on computing power required and model prediction up to 5th degree polynomial."
   ]
  },
  {
   "cell_type": "markdown",
   "id": "14380a6f",
   "metadata": {},
   "source": [
    "We'll now apply the following regression models to check if any of them lead to better predictions.\n",
    "\n",
    "### Random Forest Regression\n",
    "\n",
    "A random forest is a meta estimator that fits a number of decision tree regressors on various sub-samples of the dataset and uses averaging to improve the predictive accuracy and control over-fitting (scikit-learn, 2025).\n",
    "\n",
    "**Reference:**\n",
    "\n",
    "Scikit-learn developers. (2025). *Random forest regression — scikit-learn 1.6.1 documentation*. Retrieved from https://scikit-learn.org/stable/modules/generated/sklearn.ensemble.RandomForestRegressor.html\n",
    "\n",
    "### Ridge Regression\n",
    "\n",
    "This model solves a regression model where the loss function is the linear least squares function and regularization is given by the l2-norm. Also known as Ridge Regression or Tikhonov regularization. This estimator has built-in support for multi-variate regression (i.e., when y is a 2d-array of shape (n_samples, n_targets)) (scikit-learn, 2025).\n",
    "\n",
    "**Reference:**\n",
    "\n",
    "Scikit-learn developers. (2025). *Ridge regression — scikit-learn 1.6.1 documentation*. Retrieved from https://scikit-learn.org/stable/modules/generated/sklearn.linear_model.Ridge.html\n",
    "\n",
    "### Lasso Regression\n",
    "\n",
    "The Lasso is a linear model that estimates sparse coefficients. It is useful in some contexts due to its tendency to prefer solutions with fewer non-zero coefficients, effectively reducing the number of features upon which the given solution is dependent. (scikit-learn, 2025)\n",
    "\n",
    "**Reference:**\n",
    "\n",
    "Scikit-learn developers. (2025). *Lasso regression — scikit-learn 1.6.1 documentation*. Retrieved from https://scikit-learn.org/stable/modules/linear_model.html#lasso:~:text=References-,1.1.3.%20Lasso%23,-The%20Lasso%20is\n"
   ]
  },
  {
   "cell_type": "code",
   "execution_count": 192,
   "id": "4ed774b4",
   "metadata": {},
   "outputs": [
    {
     "data": {
      "application/vnd.microsoft.datawrangler.viewer.v0+json": {
       "columns": [
        {
         "name": "index",
         "rawType": "int64",
         "type": "integer"
        },
        {
         "name": "Model",
         "rawType": "object",
         "type": "string"
        },
        {
         "name": "Mean Squared Error",
         "rawType": "float64",
         "type": "float"
        },
        {
         "name": "R2",
         "rawType": "float64",
         "type": "float"
        }
       ],
       "conversionMethod": "pd.DataFrame",
       "ref": "86de394b-a2ab-4745-bf3b-42436fff07a2",
       "rows": [
        [
         "0",
         "Linear Regression",
         "20797.68",
         "-0.01"
        ],
        [
         "1",
         "Random Forest Regression",
         "20841.4",
         "-0.01"
        ],
        [
         "2",
         "Ridge Regression",
         "20797.58",
         "-0.01"
        ],
        [
         "3",
         "Lasso Regression",
         "20733.16",
         "-0.0"
        ]
       ],
       "shape": {
        "columns": 3,
        "rows": 4
       }
      },
      "text/html": [
       "<div>\n",
       "<style scoped>\n",
       "    .dataframe tbody tr th:only-of-type {\n",
       "        vertical-align: middle;\n",
       "    }\n",
       "\n",
       "    .dataframe tbody tr th {\n",
       "        vertical-align: top;\n",
       "    }\n",
       "\n",
       "    .dataframe thead th {\n",
       "        text-align: right;\n",
       "    }\n",
       "</style>\n",
       "<table border=\"1\" class=\"dataframe\">\n",
       "  <thead>\n",
       "    <tr style=\"text-align: right;\">\n",
       "      <th></th>\n",
       "      <th>Model</th>\n",
       "      <th>Mean Squared Error</th>\n",
       "      <th>R2</th>\n",
       "    </tr>\n",
       "  </thead>\n",
       "  <tbody>\n",
       "    <tr>\n",
       "      <th>0</th>\n",
       "      <td>Linear Regression</td>\n",
       "      <td>20797.68</td>\n",
       "      <td>-0.01</td>\n",
       "    </tr>\n",
       "    <tr>\n",
       "      <th>1</th>\n",
       "      <td>Random Forest Regression</td>\n",
       "      <td>20841.40</td>\n",
       "      <td>-0.01</td>\n",
       "    </tr>\n",
       "    <tr>\n",
       "      <th>2</th>\n",
       "      <td>Ridge Regression</td>\n",
       "      <td>20797.58</td>\n",
       "      <td>-0.01</td>\n",
       "    </tr>\n",
       "    <tr>\n",
       "      <th>3</th>\n",
       "      <td>Lasso Regression</td>\n",
       "      <td>20733.16</td>\n",
       "      <td>-0.00</td>\n",
       "    </tr>\n",
       "  </tbody>\n",
       "</table>\n",
       "</div>"
      ],
      "text/plain": [
       "                      Model  Mean Squared Error    R2\n",
       "0         Linear Regression            20797.68 -0.01\n",
       "1  Random Forest Regression            20841.40 -0.01\n",
       "2          Ridge Regression            20797.58 -0.01\n",
       "3          Lasso Regression            20733.16 -0.00"
      ]
     },
     "execution_count": 192,
     "metadata": {},
     "output_type": "execute_result"
    }
   ],
   "source": [
    "models = {\n",
    "    'Linear Regression': LinearRegression(),\n",
    "    'Random Forest Regression': RandomForestRegressor(),\n",
    "    'Ridge Regression': Ridge(),\n",
    "    'Lasso Regression': Lasso(),\n",
    "}\n",
    "\n",
    "final_results = []\n",
    "\n",
    "for model_name, model in models.items():\n",
    "    \n",
    "    mse, r2, _ = apply_regression_model(model, x_train_data=X_train_scaled, y_train_data=y_train, x_test_data=X_test_scaled, y_test_data=y_test)\n",
    "    \n",
    "    final_results.append([model_name, mse, r2])\n",
    "    \n",
    "final_results = pd.DataFrame(final_results, columns=['Model', 'Mean Squared Error', 'R2'])\n",
    "final_results"
   ]
  },
  {
   "cell_type": "markdown",
   "id": "1f30f22c",
   "metadata": {},
   "source": [
    "## Results\n",
    "\n",
    "Overall, none of the models tested led to accurate predictions. This could be due to the following factors:\n",
    "\n",
    "- **Synthetic Data** Since the dataset is synthetic, model performance heavily depends on how the data was generated. If it was based on real-world data with added noise, the models would likely capture underlying patterns more effectively. However, if the data was generated from scratch without any meaningful structure, it's possible that no real correlations exist for the models to learn from. This aligns with the correlation heatmap where all variables showed little to no correlation with each other except themselves.\n",
    "\n",
    "- **Disregarding Categorical Variables** Categorical variables such as City, Season, or Weather Condition were excluded from the models for simplicity. If these variables held predictive power, their exclusion may have significantly limited the model’s ability to identify patterns and make accurate predictions.\n",
    "\n",
    "- **Target Variable Selection** We could test the models with a different target varible such as PM2.5.\n",
    "\n",
    "- **Chosen Models** Given we didn't test an exhaustive list of regression models, it is likely that one of the other models may be better suited to this data."
   ]
  },
  {
   "cell_type": "markdown",
   "id": "9da35018",
   "metadata": {},
   "source": [
    "## Final Conclusion\n",
    "\n",
    "In this assignment, I analyzed synthetic air pollution data from five major cities in China with the goal of uncovering insights and reinforcing core concepts from OMAT5100M.\n",
    "\n",
    "Throughout the assignment, I applied key learnings from the course while also incorporating additional techniques outside the standard curriculum:\n",
    "- I applied fundamental concepts, including the use of **NumPy** and **Pandas**, to clean, organize, and explore the data effectively.\n",
    "- I leveraged the theoretical foundations from the visualization lessons to conceptualize relevant plots.\n",
    "- I used **Plotly** to create **interactive** and **animated** visualizations, providing a more dynamic and engaging exploration of the data compared to static plots.\n",
    "- I explored **regression models beyond basic linear regression**, including **Random Forest Regression**, **Lasso Regression**, and **Polynomial Regression**, to better capture potential non-linear relationships within the data.\n",
    "- I introduced **ipywidgets** to set up interactive elements, enabling dynamic filtering and selection within the visualizations.\n",
    "\n",
    "Overall, this project demonstrates the application of core programming concepts, effective communication of data analysis, and independent exploration of new tools and techniques beyond the course materials."
   ]
  },
  {
   "cell_type": "markdown",
   "id": "689c9286",
   "metadata": {},
   "source": []
  }
 ],
 "metadata": {
  "kernelspec": {
   "display_name": "Python 3",
   "language": "python",
   "name": "python3"
  },
  "language_info": {
   "codemirror_mode": {
    "name": "ipython",
    "version": 3
   },
   "file_extension": ".py",
   "mimetype": "text/x-python",
   "name": "python",
   "nbconvert_exporter": "python",
   "pygments_lexer": "ipython3",
   "version": "3.12.9"
  }
 },
 "nbformat": 4,
 "nbformat_minor": 5
}
