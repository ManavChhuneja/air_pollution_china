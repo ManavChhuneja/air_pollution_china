{
 "cells": [
  {
   "cell_type": "markdown",
   "id": "8c32b96f4693228c",
   "metadata": {},
   "source": [
    "# Analyzing Air Quality In China"
   ]
  },
  {
   "cell_type": "markdown",
   "id": "dbb01ec5421edf37",
   "metadata": {},
   "source": [
    "This notebook explores syntehtic dataset containing air pollution data from 5 major cities in China: Beijing, Shanghai, Guangzhou, Chengdu, and Shenzhen.\n",
    "\n",
    "The data spans from 2015 to 2025 and includes data for various air pollutants and weather data.\n",
    "\n",
    "### Objectives:\n",
    "- **Visualize** Air Quality Trends over time across cities\n",
    "- **Compare** pollution and particulate matter levels between cities, time of day, season, and weather conditions.\n",
    "- **Explore** data using dropdowns and animations by using `ipywidgets` and `plotly.express`\n",
    "- **Forecast** AQI levels using regression model from `scikit-learn`\n",
    "- **Evaluate** and compare different machine learning models for accuracy and reliability.\n",
    "\n",
    "This analysis builds upon core concepts covered in OMAT5100M: Programming for Data Science, while also incorporating additional techniques and tools beyond the scope of the course to demonstrate independent learning and application.\n",
    "\n",
    "**Dataset Source:**\n",
    "Air Pollution in China (2015-2025)\n",
    "Available on [Kaggle](https://www.kaggle.com/datasets/khushikyad001/air-pollution-in-china-2015-2025)\n",
    "Accessed on: April 13, 2025.\n"
   ]
  },
  {
   "cell_type": "markdown",
   "id": "838bc9880fa72062",
   "metadata": {},
   "source": [
    "## Importing Libraries"
   ]
  },
  {
   "cell_type": "code",
   "execution_count": 685,
   "id": "f38db51857559eb1",
   "metadata": {
    "ExecuteTime": {
     "end_time": "2025-04-20T12:56:31.075959Z",
     "start_time": "2025-04-20T12:56:28.307741Z"
    }
   },
   "outputs": [],
   "source": [
    "import numpy as np\n",
    "import pandas as pd\n",
    "import matplotlib.pyplot as plt\n",
    "import plotly.express as px\n",
    "from ipywidgets import widgets\n",
    "from plotly.subplots import make_subplots"
   ]
  },
  {
   "cell_type": "markdown",
   "id": "e131e8981a33617c",
   "metadata": {},
   "source": [
    "## Loading & Previewing Dataset"
   ]
  },
  {
   "cell_type": "code",
   "execution_count": 686,
   "id": "20926c6feb16c083",
   "metadata": {
    "ExecuteTime": {
     "end_time": "2025-04-20T12:56:34.226716Z",
     "start_time": "2025-04-20T12:56:34.159905Z"
    }
   },
   "outputs": [
    {
     "name": "stdout",
     "output_type": "stream",
     "text": [
      "<class 'pandas.core.frame.DataFrame'>\n",
      "RangeIndex: 3000 entries, 0 to 2999\n",
      "Data columns (total 24 columns):\n",
      " #   Column              Non-Null Count  Dtype  \n",
      "---  ------              --------------  -----  \n",
      " 0   PM2.5 (µg/m³)       3000 non-null   float64\n",
      " 1   PM10 (µg/m³)        3000 non-null   float64\n",
      " 2   NO2 (µg/m³)         3000 non-null   float64\n",
      " 3   SO2 (µg/m³)         3000 non-null   float64\n",
      " 4   CO (mg/m³)          3000 non-null   float64\n",
      " 5   O3 (µg/m³)          3000 non-null   float64\n",
      " 6   Temperature (°C)    3000 non-null   float64\n",
      " 7   Humidity (%)        3000 non-null   float64\n",
      " 8   Wind Speed (m/s)    3000 non-null   float64\n",
      " 9   Wind Direction (°)  3000 non-null   float64\n",
      " 10  Pressure (hPa)      3000 non-null   float64\n",
      " 11  Precipitation (mm)  3000 non-null   float64\n",
      " 12  Visibility (km)     3000 non-null   float64\n",
      " 13  AQI                 3000 non-null   int64  \n",
      " 14  Season              3000 non-null   object \n",
      " 15  City                3000 non-null   object \n",
      " 16  Latitude            3000 non-null   float64\n",
      " 17  Longitude           3000 non-null   float64\n",
      " 18  Day of Week         3000 non-null   object \n",
      " 19  Hour                3000 non-null   int64  \n",
      " 20  Month               3000 non-null   int64  \n",
      " 21  Year                3000 non-null   int64  \n",
      " 22  Weather Condition   3000 non-null   object \n",
      " 23  Station ID          3000 non-null   int64  \n",
      "dtypes: float64(15), int64(5), object(4)\n",
      "memory usage: 562.6+ KB\n"
     ]
    }
   ],
   "source": [
    "pollution = pd.read_csv(\"air_pollution_china.csv\")\n",
    "pollution.info() # getting a summary of the dataframe"
   ]
  },
  {
   "cell_type": "markdown",
   "id": "6646aaf1",
   "metadata": {},
   "source": [
    "Upon inspection, we can see that none of the values in the dataframe are null values. In this case, we can proceed with an exploratory data analysis."
   ]
  },
  {
   "cell_type": "code",
   "execution_count": 687,
   "id": "c18ada3560d93424",
   "metadata": {
    "ExecuteTime": {
     "end_time": "2025-04-20T12:56:34.432105Z",
     "start_time": "2025-04-20T12:56:34.353359Z"
    }
   },
   "outputs": [
    {
     "data": {
      "application/vnd.microsoft.datawrangler.viewer.v0+json": {
       "columns": [
        {
         "name": "index",
         "rawType": "object",
         "type": "string"
        },
        {
         "name": "PM2.5 (µg/m³)",
         "rawType": "float64",
         "type": "float"
        },
        {
         "name": "PM10 (µg/m³)",
         "rawType": "float64",
         "type": "float"
        },
        {
         "name": "NO2 (µg/m³)",
         "rawType": "float64",
         "type": "float"
        },
        {
         "name": "SO2 (µg/m³)",
         "rawType": "float64",
         "type": "float"
        },
        {
         "name": "CO (mg/m³)",
         "rawType": "float64",
         "type": "float"
        },
        {
         "name": "O3 (µg/m³)",
         "rawType": "float64",
         "type": "float"
        },
        {
         "name": "Temperature (°C)",
         "rawType": "float64",
         "type": "float"
        },
        {
         "name": "Humidity (%)",
         "rawType": "float64",
         "type": "float"
        },
        {
         "name": "Wind Speed (m/s)",
         "rawType": "float64",
         "type": "float"
        },
        {
         "name": "Wind Direction (°)",
         "rawType": "float64",
         "type": "float"
        },
        {
         "name": "Pressure (hPa)",
         "rawType": "float64",
         "type": "float"
        },
        {
         "name": "Precipitation (mm)",
         "rawType": "float64",
         "type": "float"
        },
        {
         "name": "Visibility (km)",
         "rawType": "float64",
         "type": "float"
        },
        {
         "name": "AQI",
         "rawType": "float64",
         "type": "float"
        },
        {
         "name": "Latitude",
         "rawType": "float64",
         "type": "float"
        },
        {
         "name": "Longitude",
         "rawType": "float64",
         "type": "float"
        },
        {
         "name": "Hour",
         "rawType": "float64",
         "type": "float"
        },
        {
         "name": "Month",
         "rawType": "float64",
         "type": "float"
        },
        {
         "name": "Year",
         "rawType": "float64",
         "type": "float"
        },
        {
         "name": "Station ID",
         "rawType": "float64",
         "type": "float"
        }
       ],
       "conversionMethod": "pd.DataFrame",
       "ref": "3b7d9163-d42e-4493-a401-965caf490493",
       "rows": [
        [
         "count",
         "3000.0",
         "3000.0",
         "3000.0",
         "3000.0",
         "3000.0",
         "3000.0",
         "3000.0",
         "3000.0",
         "3000.0",
         "3000.0",
         "3000.0",
         "3000.0",
         "3000.0",
         "3000.0",
         "3000.0",
         "3000.0",
         "3000.0",
         "3000.0",
         "3000.0",
         "3000.0"
        ],
        [
         "mean",
         "130.07274240079397",
         "158.81839774077486",
         "52.94869661413674",
         "25.42612660699014",
         "2.5625137554572968",
         "105.6133652971077",
         "15.117060409832712",
         "54.73777292970734",
         "5.137389290111043",
         "179.39641092803694",
         "1014.8940631566173",
         "24.880797532931748",
         "9.900772707506379",
         "249.63966666666667",
         "35.0373279704937",
         "110.07244458516594",
         "11.289666666666667",
         "6.537333333333334",
         "2019.5553333333332",
         "50.16466666666667"
        ],
        [
         "std",
         "68.1400500101908",
         "80.91520712471002",
         "26.905602522793323",
         "14.177922736424609",
         "1.4095699697534159",
         "54.05435405441754",
         "14.719677360450278",
         "26.187670336492463",
         "2.8914435550175335",
         "104.07676730180525",
         "20.34841024195602",
         "14.638861955451933",
         "5.751453110115309",
         "143.39611794641763",
         "8.666335383285068",
         "11.60409070754591",
         "6.835056636339078",
         "3.44120427338637",
         "2.8506689846611315",
         "28.807837742427324"
        ],
        [
         "min",
         "10.039019416025043",
         "20.017134016581227",
         "5.005046875086433",
         "1.0146934222912058",
         "0.1022070852783529",
         "10.09455149821186",
         "-9.997817941334816",
         "10.049686239039405",
         "0.0020522589745519",
         "0.0172172661224845",
         "980.020252873398",
         "0.0025077967901909",
         "0.1031733958035162",
         "0.0",
         "20.005033918039835",
         "90.00653276268729",
         "0.0",
         "1.0",
         "2015.0",
         "1.0"
        ],
        [
         "25%",
         "72.40962085398542",
         "86.98291210953693",
         "29.885955125601015",
         "12.72007823438041",
         "1.3626589032202148",
         "59.56171924285921",
         "2.1235075758782935",
         "31.915812955709693",
         "2.601401575568679",
         "87.63238202464034",
         "997.4191557308832",
         "12.036466668612318",
         "4.997297684419175",
         "126.0",
         "27.495695056933766",
         "100.00189409842048",
         "5.75",
         "4.0",
         "2017.0",
         "26.0"
        ],
        [
         "50%",
         "128.85817222106786",
         "157.17472308785415",
         "53.40487858824612",
         "25.677423364402216",
         "2.5537782720599758",
         "106.70630226121743",
         "15.334326093493843",
         "53.99383643006901",
         "5.206242217455669",
         "178.8205758182496",
         "1014.2969503479197",
         "24.785056773473634",
         "9.850521987109856",
         "248.0",
         "35.14820053314465",
         "110.18187736345394",
         "11.0",
         "7.0",
         "2020.0",
         "49.0"
        ],
        [
         "75%",
         "188.5799310988064",
         "228.60390958362893",
         "75.95562334743794",
         "37.75573505196142",
         "3.785613062143369",
         "151.29302031760125",
         "28.016645717382765",
         "77.40918340394708",
         "7.750817301033052",
         "268.8353789547265",
         "1032.6716015535685",
         "37.617215167842446",
         "14.80860760827221",
         "374.0",
         "42.61293106724014",
         "119.97782556563703",
         "17.0",
         "10.0",
         "2022.0",
         "75.0"
        ],
        [
         "max",
         "249.8474730741296",
         "299.70229261089287",
         "99.97951129085968",
         "49.98985020662516",
         "4.9986584350286005",
         "199.93638695822668",
         "39.95995718737552",
         "99.9981081955454",
         "9.991276694329162",
         "359.8815321301297",
         "1049.9975531000778",
         "49.98412627700941",
         "19.998597178091057",
         "499.0",
         "49.99887261652939",
         "129.98928438486476",
         "23.0",
         "12.0",
         "2024.0",
         "99.0"
        ]
       ],
       "shape": {
        "columns": 20,
        "rows": 8
       }
      },
      "text/html": [
       "<div>\n",
       "<style scoped>\n",
       "    .dataframe tbody tr th:only-of-type {\n",
       "        vertical-align: middle;\n",
       "    }\n",
       "\n",
       "    .dataframe tbody tr th {\n",
       "        vertical-align: top;\n",
       "    }\n",
       "\n",
       "    .dataframe thead th {\n",
       "        text-align: right;\n",
       "    }\n",
       "</style>\n",
       "<table border=\"1\" class=\"dataframe\">\n",
       "  <thead>\n",
       "    <tr style=\"text-align: right;\">\n",
       "      <th></th>\n",
       "      <th>PM2.5 (µg/m³)</th>\n",
       "      <th>PM10 (µg/m³)</th>\n",
       "      <th>NO2 (µg/m³)</th>\n",
       "      <th>SO2 (µg/m³)</th>\n",
       "      <th>CO (mg/m³)</th>\n",
       "      <th>O3 (µg/m³)</th>\n",
       "      <th>Temperature (°C)</th>\n",
       "      <th>Humidity (%)</th>\n",
       "      <th>Wind Speed (m/s)</th>\n",
       "      <th>Wind Direction (°)</th>\n",
       "      <th>Pressure (hPa)</th>\n",
       "      <th>Precipitation (mm)</th>\n",
       "      <th>Visibility (km)</th>\n",
       "      <th>AQI</th>\n",
       "      <th>Latitude</th>\n",
       "      <th>Longitude</th>\n",
       "      <th>Hour</th>\n",
       "      <th>Month</th>\n",
       "      <th>Year</th>\n",
       "      <th>Station ID</th>\n",
       "    </tr>\n",
       "  </thead>\n",
       "  <tbody>\n",
       "    <tr>\n",
       "      <th>count</th>\n",
       "      <td>3000.000000</td>\n",
       "      <td>3000.000000</td>\n",
       "      <td>3000.000000</td>\n",
       "      <td>3000.000000</td>\n",
       "      <td>3000.000000</td>\n",
       "      <td>3000.000000</td>\n",
       "      <td>3000.000000</td>\n",
       "      <td>3000.000000</td>\n",
       "      <td>3000.000000</td>\n",
       "      <td>3000.000000</td>\n",
       "      <td>3000.000000</td>\n",
       "      <td>3000.000000</td>\n",
       "      <td>3000.000000</td>\n",
       "      <td>3000.000000</td>\n",
       "      <td>3000.000000</td>\n",
       "      <td>3000.000000</td>\n",
       "      <td>3000.000000</td>\n",
       "      <td>3000.000000</td>\n",
       "      <td>3000.000000</td>\n",
       "      <td>3000.000000</td>\n",
       "    </tr>\n",
       "    <tr>\n",
       "      <th>mean</th>\n",
       "      <td>130.072742</td>\n",
       "      <td>158.818398</td>\n",
       "      <td>52.948697</td>\n",
       "      <td>25.426127</td>\n",
       "      <td>2.562514</td>\n",
       "      <td>105.613365</td>\n",
       "      <td>15.117060</td>\n",
       "      <td>54.737773</td>\n",
       "      <td>5.137389</td>\n",
       "      <td>179.396411</td>\n",
       "      <td>1014.894063</td>\n",
       "      <td>24.880798</td>\n",
       "      <td>9.900773</td>\n",
       "      <td>249.639667</td>\n",
       "      <td>35.037328</td>\n",
       "      <td>110.072445</td>\n",
       "      <td>11.289667</td>\n",
       "      <td>6.537333</td>\n",
       "      <td>2019.555333</td>\n",
       "      <td>50.164667</td>\n",
       "    </tr>\n",
       "    <tr>\n",
       "      <th>std</th>\n",
       "      <td>68.140050</td>\n",
       "      <td>80.915207</td>\n",
       "      <td>26.905603</td>\n",
       "      <td>14.177923</td>\n",
       "      <td>1.409570</td>\n",
       "      <td>54.054354</td>\n",
       "      <td>14.719677</td>\n",
       "      <td>26.187670</td>\n",
       "      <td>2.891444</td>\n",
       "      <td>104.076767</td>\n",
       "      <td>20.348410</td>\n",
       "      <td>14.638862</td>\n",
       "      <td>5.751453</td>\n",
       "      <td>143.396118</td>\n",
       "      <td>8.666335</td>\n",
       "      <td>11.604091</td>\n",
       "      <td>6.835057</td>\n",
       "      <td>3.441204</td>\n",
       "      <td>2.850669</td>\n",
       "      <td>28.807838</td>\n",
       "    </tr>\n",
       "    <tr>\n",
       "      <th>min</th>\n",
       "      <td>10.039019</td>\n",
       "      <td>20.017134</td>\n",
       "      <td>5.005047</td>\n",
       "      <td>1.014693</td>\n",
       "      <td>0.102207</td>\n",
       "      <td>10.094551</td>\n",
       "      <td>-9.997818</td>\n",
       "      <td>10.049686</td>\n",
       "      <td>0.002052</td>\n",
       "      <td>0.017217</td>\n",
       "      <td>980.020253</td>\n",
       "      <td>0.002508</td>\n",
       "      <td>0.103173</td>\n",
       "      <td>0.000000</td>\n",
       "      <td>20.005034</td>\n",
       "      <td>90.006533</td>\n",
       "      <td>0.000000</td>\n",
       "      <td>1.000000</td>\n",
       "      <td>2015.000000</td>\n",
       "      <td>1.000000</td>\n",
       "    </tr>\n",
       "    <tr>\n",
       "      <th>25%</th>\n",
       "      <td>72.409621</td>\n",
       "      <td>86.982912</td>\n",
       "      <td>29.885955</td>\n",
       "      <td>12.720078</td>\n",
       "      <td>1.362659</td>\n",
       "      <td>59.561719</td>\n",
       "      <td>2.123508</td>\n",
       "      <td>31.915813</td>\n",
       "      <td>2.601402</td>\n",
       "      <td>87.632382</td>\n",
       "      <td>997.419156</td>\n",
       "      <td>12.036467</td>\n",
       "      <td>4.997298</td>\n",
       "      <td>126.000000</td>\n",
       "      <td>27.495695</td>\n",
       "      <td>100.001894</td>\n",
       "      <td>5.750000</td>\n",
       "      <td>4.000000</td>\n",
       "      <td>2017.000000</td>\n",
       "      <td>26.000000</td>\n",
       "    </tr>\n",
       "    <tr>\n",
       "      <th>50%</th>\n",
       "      <td>128.858172</td>\n",
       "      <td>157.174723</td>\n",
       "      <td>53.404879</td>\n",
       "      <td>25.677423</td>\n",
       "      <td>2.553778</td>\n",
       "      <td>106.706302</td>\n",
       "      <td>15.334326</td>\n",
       "      <td>53.993836</td>\n",
       "      <td>5.206242</td>\n",
       "      <td>178.820576</td>\n",
       "      <td>1014.296950</td>\n",
       "      <td>24.785057</td>\n",
       "      <td>9.850522</td>\n",
       "      <td>248.000000</td>\n",
       "      <td>35.148201</td>\n",
       "      <td>110.181877</td>\n",
       "      <td>11.000000</td>\n",
       "      <td>7.000000</td>\n",
       "      <td>2020.000000</td>\n",
       "      <td>49.000000</td>\n",
       "    </tr>\n",
       "    <tr>\n",
       "      <th>75%</th>\n",
       "      <td>188.579931</td>\n",
       "      <td>228.603910</td>\n",
       "      <td>75.955623</td>\n",
       "      <td>37.755735</td>\n",
       "      <td>3.785613</td>\n",
       "      <td>151.293020</td>\n",
       "      <td>28.016646</td>\n",
       "      <td>77.409183</td>\n",
       "      <td>7.750817</td>\n",
       "      <td>268.835379</td>\n",
       "      <td>1032.671602</td>\n",
       "      <td>37.617215</td>\n",
       "      <td>14.808608</td>\n",
       "      <td>374.000000</td>\n",
       "      <td>42.612931</td>\n",
       "      <td>119.977826</td>\n",
       "      <td>17.000000</td>\n",
       "      <td>10.000000</td>\n",
       "      <td>2022.000000</td>\n",
       "      <td>75.000000</td>\n",
       "    </tr>\n",
       "    <tr>\n",
       "      <th>max</th>\n",
       "      <td>249.847473</td>\n",
       "      <td>299.702293</td>\n",
       "      <td>99.979511</td>\n",
       "      <td>49.989850</td>\n",
       "      <td>4.998658</td>\n",
       "      <td>199.936387</td>\n",
       "      <td>39.959957</td>\n",
       "      <td>99.998108</td>\n",
       "      <td>9.991277</td>\n",
       "      <td>359.881532</td>\n",
       "      <td>1049.997553</td>\n",
       "      <td>49.984126</td>\n",
       "      <td>19.998597</td>\n",
       "      <td>499.000000</td>\n",
       "      <td>49.998873</td>\n",
       "      <td>129.989284</td>\n",
       "      <td>23.000000</td>\n",
       "      <td>12.000000</td>\n",
       "      <td>2024.000000</td>\n",
       "      <td>99.000000</td>\n",
       "    </tr>\n",
       "  </tbody>\n",
       "</table>\n",
       "</div>"
      ],
      "text/plain": [
       "       PM2.5 (µg/m³)  PM10 (µg/m³)  NO2 (µg/m³)  SO2 (µg/m³)   CO (mg/m³)  \\\n",
       "count    3000.000000   3000.000000  3000.000000  3000.000000  3000.000000   \n",
       "mean      130.072742    158.818398    52.948697    25.426127     2.562514   \n",
       "std        68.140050     80.915207    26.905603    14.177923     1.409570   \n",
       "min        10.039019     20.017134     5.005047     1.014693     0.102207   \n",
       "25%        72.409621     86.982912    29.885955    12.720078     1.362659   \n",
       "50%       128.858172    157.174723    53.404879    25.677423     2.553778   \n",
       "75%       188.579931    228.603910    75.955623    37.755735     3.785613   \n",
       "max       249.847473    299.702293    99.979511    49.989850     4.998658   \n",
       "\n",
       "        O3 (µg/m³)  Temperature (°C)  Humidity (%)  Wind Speed (m/s)  \\\n",
       "count  3000.000000       3000.000000   3000.000000       3000.000000   \n",
       "mean    105.613365         15.117060     54.737773          5.137389   \n",
       "std      54.054354         14.719677     26.187670          2.891444   \n",
       "min      10.094551         -9.997818     10.049686          0.002052   \n",
       "25%      59.561719          2.123508     31.915813          2.601402   \n",
       "50%     106.706302         15.334326     53.993836          5.206242   \n",
       "75%     151.293020         28.016646     77.409183          7.750817   \n",
       "max     199.936387         39.959957     99.998108          9.991277   \n",
       "\n",
       "       Wind Direction (°)  Pressure (hPa)  Precipitation (mm)  \\\n",
       "count         3000.000000     3000.000000         3000.000000   \n",
       "mean           179.396411     1014.894063           24.880798   \n",
       "std            104.076767       20.348410           14.638862   \n",
       "min              0.017217      980.020253            0.002508   \n",
       "25%             87.632382      997.419156           12.036467   \n",
       "50%            178.820576     1014.296950           24.785057   \n",
       "75%            268.835379     1032.671602           37.617215   \n",
       "max            359.881532     1049.997553           49.984126   \n",
       "\n",
       "       Visibility (km)          AQI     Latitude    Longitude         Hour  \\\n",
       "count      3000.000000  3000.000000  3000.000000  3000.000000  3000.000000   \n",
       "mean          9.900773   249.639667    35.037328   110.072445    11.289667   \n",
       "std           5.751453   143.396118     8.666335    11.604091     6.835057   \n",
       "min           0.103173     0.000000    20.005034    90.006533     0.000000   \n",
       "25%           4.997298   126.000000    27.495695   100.001894     5.750000   \n",
       "50%           9.850522   248.000000    35.148201   110.181877    11.000000   \n",
       "75%          14.808608   374.000000    42.612931   119.977826    17.000000   \n",
       "max          19.998597   499.000000    49.998873   129.989284    23.000000   \n",
       "\n",
       "             Month         Year   Station ID  \n",
       "count  3000.000000  3000.000000  3000.000000  \n",
       "mean      6.537333  2019.555333    50.164667  \n",
       "std       3.441204     2.850669    28.807838  \n",
       "min       1.000000  2015.000000     1.000000  \n",
       "25%       4.000000  2017.000000    26.000000  \n",
       "50%       7.000000  2020.000000    49.000000  \n",
       "75%      10.000000  2022.000000    75.000000  \n",
       "max      12.000000  2024.000000    99.000000  "
      ]
     },
     "execution_count": 687,
     "metadata": {},
     "output_type": "execute_result"
    }
   ],
   "source": [
    "pollution.describe() # Checking summary statistics"
   ]
  },
  {
   "cell_type": "markdown",
   "id": "271006399c80d9a6",
   "metadata": {},
   "source": [
    "## Pollution Trends Over Time"
   ]
  },
  {
   "cell_type": "code",
   "execution_count": 688,
   "id": "5e883909e781cc27",
   "metadata": {
    "ExecuteTime": {
     "end_time": "2025-04-20T12:56:34.658011Z",
     "start_time": "2025-04-20T12:56:34.629129Z"
    }
   },
   "outputs": [],
   "source": [
    "city_year_grouped_df = pd.DataFrame(pollution.groupby([\"City\", \"Year\"])[[\"PM2.5 (µg/m³)\", 'AQI']].mean().reset_index()) # Grouping data by city and year\n",
    "city_year_grouped_df = city_year_grouped_df.melt(id_vars=[\"City\", \"Year\"], var_name='Pollutant', value_name='Concentration')"
   ]
  },
  {
   "cell_type": "code",
   "execution_count": 689,
   "id": "cde720dd60828701",
   "metadata": {
    "ExecuteTime": {
     "end_time": "2025-04-20T12:56:37.828094Z",
     "start_time": "2025-04-20T12:56:35.993457Z"
    }
   },
   "outputs": [
    {
     "name": "stdout",
     "output_type": "stream",
     "text": [
      "Tip: Hover over the datapoints to preview data labels\n"
     ]
    },
    {
     "data": {
      "application/vnd.plotly.v1+json": {
       "config": {
        "plotlyServerURL": "https://plot.ly"
       },
       "data": [
        {
         "hovertemplate": "City=Beijing<br>Pollutant=PM2.5 (µg/m³)<br>Year=%{x}<br>Concentration=%{y}<extra></extra>",
         "legendgroup": "Beijing",
         "line": {
          "color": "#636efa",
          "dash": "solid"
         },
         "marker": {
          "symbol": "circle"
         },
         "mode": "lines+markers",
         "name": "Beijing",
         "orientation": "v",
         "showlegend": true,
         "type": "scatter",
         "x": {
          "bdata": "3wfgB+EH4gfjB+QH5QfmB+cH6Ac=",
          "dtype": "i2"
         },
         "xaxis": "x2",
         "y": {
          "bdata": "PClud3TfYUBZ2wV3C3FgQM0pnJdBiV5AjqTA5fSjX0BNapjYgYNdQL9FzGKBpmFA1hqvdq51X0CXCXsKOOdeQIPwXtC6pF5AEoApJXnPXkA=",
          "dtype": "f8"
         },
         "yaxis": "y2"
        },
        {
         "hovertemplate": "City=Beijing<br>Pollutant=AQI<br>Year=%{x}<br>Concentration=%{y}<extra></extra>",
         "legendgroup": "Beijing",
         "line": {
          "color": "#636efa",
          "dash": "solid"
         },
         "marker": {
          "symbol": "circle"
         },
         "mode": "lines+markers",
         "name": "Beijing",
         "orientation": "v",
         "showlegend": false,
         "type": "scatter",
         "x": {
          "bdata": "3wfgB+EH4gfjB+QH5QfmB+cH6Ac=",
          "dtype": "i2"
         },
         "xaxis": "x",
         "y": {
          "bdata": "WR8a60Nja0AqeDkFLxdxQKazmM5ium9AuEs9Gb/da0DNzMzMzNxsQLW0tLS0fG1APusGU+SDcUASrbA5kMhvQAAAAACAyHBAbtu2bdtmbEA=",
          "dtype": "f8"
         },
         "yaxis": "y"
        },
        {
         "hovertemplate": "City=Chengdu<br>Pollutant=PM2.5 (µg/m³)<br>Year=%{x}<br>Concentration=%{y}<extra></extra>",
         "legendgroup": "Chengdu",
         "line": {
          "color": "#EF553B",
          "dash": "solid"
         },
         "marker": {
          "symbol": "circle"
         },
         "mode": "lines+markers",
         "name": "Chengdu",
         "orientation": "v",
         "showlegend": true,
         "type": "scatter",
         "x": {
          "bdata": "3wfgB+EH4gfjB+QH5QfmB+cH6Ac=",
          "dtype": "i2"
         },
         "xaxis": "x2",
         "y": {
          "bdata": "v/1TIB+BXkDU6kJhGpddQB9LEiqJqGNAv1vYzz+mYECBUZmEg89hQHPCphcQxl5AvnPVbzwSYECQnJWGa55gQLYP53JiaF5A+sGO3mUpYUA=",
          "dtype": "f8"
         },
         "yaxis": "y2"
        },
        {
         "hovertemplate": "City=Chengdu<br>Pollutant=AQI<br>Year=%{x}<br>Concentration=%{y}<extra></extra>",
         "legendgroup": "Chengdu",
         "line": {
          "color": "#EF553B",
          "dash": "solid"
         },
         "marker": {
          "symbol": "circle"
         },
         "mode": "lines+markers",
         "name": "Chengdu",
         "orientation": "v",
         "showlegend": false,
         "type": "scatter",
         "x": {
          "bdata": "3wfgB+EH4gfjB+QH5QfmB+cH6Ac=",
          "dtype": "i2"
         },
         "xaxis": "x",
         "y": {
          "bdata": "Ccs9jbDsbUANJ3VfHutwQPscUhOM125AzczMzMxsbEAuW7Zs2fJsQPuGtW9Ym2xAntiJndhRbkBUXDIE64hwQMomm2yyyXBAn+KSIVgXcEA=",
          "dtype": "f8"
         },
         "yaxis": "y"
        },
        {
         "hovertemplate": "City=Guangzhou<br>Pollutant=PM2.5 (µg/m³)<br>Year=%{x}<br>Concentration=%{y}<extra></extra>",
         "legendgroup": "Guangzhou",
         "line": {
          "color": "#00cc96",
          "dash": "solid"
         },
         "marker": {
          "symbol": "circle"
         },
         "mode": "lines+markers",
         "name": "Guangzhou",
         "orientation": "v",
         "showlegend": true,
         "type": "scatter",
         "x": {
          "bdata": "3wfgB+EH4gfjB+QH5QfmB+cH6Ac=",
          "dtype": "i2"
         },
         "xaxis": "x2",
         "y": {
          "bdata": "2jsyomSPYUC+AXZlX/RgQLe+epicuV9A+OtC8lZWYECr23ox4nRdQG+xrYC0QmBAsJnS9+yBXEBVmFb2SophQN6+y/0LcmBAbB+wGXFvXkA=",
          "dtype": "f8"
         },
         "yaxis": "y2"
        },
        {
         "hovertemplate": "City=Guangzhou<br>Pollutant=AQI<br>Year=%{x}<br>Concentration=%{y}<extra></extra>",
         "legendgroup": "Guangzhou",
         "line": {
          "color": "#00cc96",
          "dash": "solid"
         },
         "marker": {
          "symbol": "circle"
         },
         "mode": "lines+markers",
         "name": "Guangzhou",
         "orientation": "v",
         "showlegend": false,
         "type": "scatter",
         "x": {
          "bdata": "3wfgB+EH4gfjB+QH5QfmB+cH6Ac=",
          "dtype": "i2"
         },
         "xaxis": "x",
         "y": {
          "bdata": "wcspeDlFaUApXI/C9WhvQCGEEEIIgW1AvoT2EtoLcUC3bdu2bY9tQOecc84513JAVwQNJ3VfcECyPjTWhyZvQO5phOWeBmtAzczMzMwMbUA=",
          "dtype": "f8"
         },
         "yaxis": "y"
        },
        {
         "hovertemplate": "City=Shanghai<br>Pollutant=PM2.5 (µg/m³)<br>Year=%{x}<br>Concentration=%{y}<extra></extra>",
         "legendgroup": "Shanghai",
         "line": {
          "color": "#ab63fa",
          "dash": "solid"
         },
         "marker": {
          "symbol": "circle"
         },
         "mode": "lines+markers",
         "name": "Shanghai",
         "orientation": "v",
         "showlegend": true,
         "type": "scatter",
         "x": {
          "bdata": "3wfgB+EH4gfjB+QH5QfmB+cH6Ac=",
          "dtype": "i2"
         },
         "xaxis": "x2",
         "y": {
          "bdata": "2nwpriNSXEC09Lgy5bFgQDXqgZMQB2FAqzy0w/ceYEC/YOniES9hQBs1qf9SsGBA3A7S6DRhXkDNy+5QxjRhQJEZLrQrOWNATzq6H6OTYUA=",
          "dtype": "f8"
         },
         "yaxis": "y2"
        },
        {
         "hovertemplate": "City=Shanghai<br>Pollutant=AQI<br>Year=%{x}<br>Concentration=%{y}<extra></extra>",
         "legendgroup": "Shanghai",
         "line": {
          "color": "#ab63fa",
          "dash": "solid"
         },
         "marker": {
          "symbol": "circle"
         },
         "mode": "lines+markers",
         "name": "Shanghai",
         "orientation": "v",
         "showlegend": false,
         "type": "scatter",
         "x": {
          "bdata": "3wfgB+EH4gfjB+QH5QfmB+cH6Ac=",
          "dtype": "i2"
         },
         "xaxis": "x",
         "y": {
          "bdata": "hfYS2kvYbkDpkz7pk75vQDFixIgRg25AZmZmZmb2cEA1wXgr+xxwQDI1sHdMLXBAAAAAAAArcUBpaWlpaYFvQGIndmIntnBAsskmm2yCcUA=",
          "dtype": "f8"
         },
         "yaxis": "y"
        },
        {
         "hovertemplate": "City=Shenzhen<br>Pollutant=PM2.5 (µg/m³)<br>Year=%{x}<br>Concentration=%{y}<extra></extra>",
         "legendgroup": "Shenzhen",
         "line": {
          "color": "#FFA15A",
          "dash": "solid"
         },
         "marker": {
          "symbol": "circle"
         },
         "mode": "lines+markers",
         "name": "Shenzhen",
         "orientation": "v",
         "showlegend": true,
         "type": "scatter",
         "x": {
          "bdata": "3wfgB+EH4gfjB+QH5QfmB+cH6Ac=",
          "dtype": "i2"
         },
         "xaxis": "x2",
         "y": {
          "bdata": "RKbUgPaEYEAMAHQIyYFcQEJQcnLReF9AZb9LvJTlYECdXfg5MUNfQEVJ6BhDDmFAyWNxgARSYECbOxEPkIRfQEprKC/u3mBAbfe9heppX0A=",
          "dtype": "f8"
         },
         "yaxis": "y2"
        },
        {
         "hovertemplate": "City=Shenzhen<br>Pollutant=AQI<br>Year=%{x}<br>Concentration=%{y}<extra></extra>",
         "legendgroup": "Shenzhen",
         "line": {
          "color": "#FFA15A",
          "dash": "solid"
         },
         "marker": {
          "symbol": "circle"
         },
         "mode": "lines+markers",
         "name": "Shenzhen",
         "orientation": "v",
         "showlegend": false,
         "type": "scatter",
         "x": {
          "bdata": "3wfgB+EH4gfjB+QH5QfmB+cH6Ac=",
          "dtype": "i2"
         },
         "xaxis": "x",
         "y": {
          "bdata": "kiRJkiQxcEChvYT2EspoQErdl8dWFHFADMMwDMPwakBoOKn78rhuQNu2bdu2zW5ACtejcD2KbEC2b1j7hlVvQLmnEZZ7SnBAlPgZJX4GcUA=",
          "dtype": "f8"
         },
         "yaxis": "y"
        }
       ],
       "layout": {
        "annotations": [
         {
          "font": {},
          "showarrow": false,
          "text": "Pollutant=AQI",
          "textangle": 90,
          "x": 0.98,
          "xanchor": "left",
          "xref": "paper",
          "y": 0.2425,
          "yanchor": "middle",
          "yref": "paper"
         },
         {
          "font": {},
          "showarrow": false,
          "text": "Pollutant=PM2.5 (µg/m³)",
          "textangle": 90,
          "x": 0.98,
          "xanchor": "left",
          "xref": "paper",
          "y": 0.7575000000000001,
          "yanchor": "middle",
          "yref": "paper"
         }
        ],
        "height": 800,
        "legend": {
         "title": {
          "text": "City"
         },
         "tracegroupgap": 0
        },
        "template": {
         "data": {
          "bar": [
           {
            "error_x": {
             "color": "#2a3f5f"
            },
            "error_y": {
             "color": "#2a3f5f"
            },
            "marker": {
             "line": {
              "color": "#E5ECF6",
              "width": 0.5
             },
             "pattern": {
              "fillmode": "overlay",
              "size": 10,
              "solidity": 0.2
             }
            },
            "type": "bar"
           }
          ],
          "barpolar": [
           {
            "marker": {
             "line": {
              "color": "#E5ECF6",
              "width": 0.5
             },
             "pattern": {
              "fillmode": "overlay",
              "size": 10,
              "solidity": 0.2
             }
            },
            "type": "barpolar"
           }
          ],
          "carpet": [
           {
            "aaxis": {
             "endlinecolor": "#2a3f5f",
             "gridcolor": "white",
             "linecolor": "white",
             "minorgridcolor": "white",
             "startlinecolor": "#2a3f5f"
            },
            "baxis": {
             "endlinecolor": "#2a3f5f",
             "gridcolor": "white",
             "linecolor": "white",
             "minorgridcolor": "white",
             "startlinecolor": "#2a3f5f"
            },
            "type": "carpet"
           }
          ],
          "choropleth": [
           {
            "colorbar": {
             "outlinewidth": 0,
             "ticks": ""
            },
            "type": "choropleth"
           }
          ],
          "contour": [
           {
            "colorbar": {
             "outlinewidth": 0,
             "ticks": ""
            },
            "colorscale": [
             [
              0,
              "#0d0887"
             ],
             [
              0.1111111111111111,
              "#46039f"
             ],
             [
              0.2222222222222222,
              "#7201a8"
             ],
             [
              0.3333333333333333,
              "#9c179e"
             ],
             [
              0.4444444444444444,
              "#bd3786"
             ],
             [
              0.5555555555555556,
              "#d8576b"
             ],
             [
              0.6666666666666666,
              "#ed7953"
             ],
             [
              0.7777777777777778,
              "#fb9f3a"
             ],
             [
              0.8888888888888888,
              "#fdca26"
             ],
             [
              1,
              "#f0f921"
             ]
            ],
            "type": "contour"
           }
          ],
          "contourcarpet": [
           {
            "colorbar": {
             "outlinewidth": 0,
             "ticks": ""
            },
            "type": "contourcarpet"
           }
          ],
          "heatmap": [
           {
            "colorbar": {
             "outlinewidth": 0,
             "ticks": ""
            },
            "colorscale": [
             [
              0,
              "#0d0887"
             ],
             [
              0.1111111111111111,
              "#46039f"
             ],
             [
              0.2222222222222222,
              "#7201a8"
             ],
             [
              0.3333333333333333,
              "#9c179e"
             ],
             [
              0.4444444444444444,
              "#bd3786"
             ],
             [
              0.5555555555555556,
              "#d8576b"
             ],
             [
              0.6666666666666666,
              "#ed7953"
             ],
             [
              0.7777777777777778,
              "#fb9f3a"
             ],
             [
              0.8888888888888888,
              "#fdca26"
             ],
             [
              1,
              "#f0f921"
             ]
            ],
            "type": "heatmap"
           }
          ],
          "histogram": [
           {
            "marker": {
             "pattern": {
              "fillmode": "overlay",
              "size": 10,
              "solidity": 0.2
             }
            },
            "type": "histogram"
           }
          ],
          "histogram2d": [
           {
            "colorbar": {
             "outlinewidth": 0,
             "ticks": ""
            },
            "colorscale": [
             [
              0,
              "#0d0887"
             ],
             [
              0.1111111111111111,
              "#46039f"
             ],
             [
              0.2222222222222222,
              "#7201a8"
             ],
             [
              0.3333333333333333,
              "#9c179e"
             ],
             [
              0.4444444444444444,
              "#bd3786"
             ],
             [
              0.5555555555555556,
              "#d8576b"
             ],
             [
              0.6666666666666666,
              "#ed7953"
             ],
             [
              0.7777777777777778,
              "#fb9f3a"
             ],
             [
              0.8888888888888888,
              "#fdca26"
             ],
             [
              1,
              "#f0f921"
             ]
            ],
            "type": "histogram2d"
           }
          ],
          "histogram2dcontour": [
           {
            "colorbar": {
             "outlinewidth": 0,
             "ticks": ""
            },
            "colorscale": [
             [
              0,
              "#0d0887"
             ],
             [
              0.1111111111111111,
              "#46039f"
             ],
             [
              0.2222222222222222,
              "#7201a8"
             ],
             [
              0.3333333333333333,
              "#9c179e"
             ],
             [
              0.4444444444444444,
              "#bd3786"
             ],
             [
              0.5555555555555556,
              "#d8576b"
             ],
             [
              0.6666666666666666,
              "#ed7953"
             ],
             [
              0.7777777777777778,
              "#fb9f3a"
             ],
             [
              0.8888888888888888,
              "#fdca26"
             ],
             [
              1,
              "#f0f921"
             ]
            ],
            "type": "histogram2dcontour"
           }
          ],
          "mesh3d": [
           {
            "colorbar": {
             "outlinewidth": 0,
             "ticks": ""
            },
            "type": "mesh3d"
           }
          ],
          "parcoords": [
           {
            "line": {
             "colorbar": {
              "outlinewidth": 0,
              "ticks": ""
             }
            },
            "type": "parcoords"
           }
          ],
          "pie": [
           {
            "automargin": true,
            "type": "pie"
           }
          ],
          "scatter": [
           {
            "fillpattern": {
             "fillmode": "overlay",
             "size": 10,
             "solidity": 0.2
            },
            "type": "scatter"
           }
          ],
          "scatter3d": [
           {
            "line": {
             "colorbar": {
              "outlinewidth": 0,
              "ticks": ""
             }
            },
            "marker": {
             "colorbar": {
              "outlinewidth": 0,
              "ticks": ""
             }
            },
            "type": "scatter3d"
           }
          ],
          "scattercarpet": [
           {
            "marker": {
             "colorbar": {
              "outlinewidth": 0,
              "ticks": ""
             }
            },
            "type": "scattercarpet"
           }
          ],
          "scattergeo": [
           {
            "marker": {
             "colorbar": {
              "outlinewidth": 0,
              "ticks": ""
             }
            },
            "type": "scattergeo"
           }
          ],
          "scattergl": [
           {
            "marker": {
             "colorbar": {
              "outlinewidth": 0,
              "ticks": ""
             }
            },
            "type": "scattergl"
           }
          ],
          "scattermap": [
           {
            "marker": {
             "colorbar": {
              "outlinewidth": 0,
              "ticks": ""
             }
            },
            "type": "scattermap"
           }
          ],
          "scattermapbox": [
           {
            "marker": {
             "colorbar": {
              "outlinewidth": 0,
              "ticks": ""
             }
            },
            "type": "scattermapbox"
           }
          ],
          "scatterpolar": [
           {
            "marker": {
             "colorbar": {
              "outlinewidth": 0,
              "ticks": ""
             }
            },
            "type": "scatterpolar"
           }
          ],
          "scatterpolargl": [
           {
            "marker": {
             "colorbar": {
              "outlinewidth": 0,
              "ticks": ""
             }
            },
            "type": "scatterpolargl"
           }
          ],
          "scatterternary": [
           {
            "marker": {
             "colorbar": {
              "outlinewidth": 0,
              "ticks": ""
             }
            },
            "type": "scatterternary"
           }
          ],
          "surface": [
           {
            "colorbar": {
             "outlinewidth": 0,
             "ticks": ""
            },
            "colorscale": [
             [
              0,
              "#0d0887"
             ],
             [
              0.1111111111111111,
              "#46039f"
             ],
             [
              0.2222222222222222,
              "#7201a8"
             ],
             [
              0.3333333333333333,
              "#9c179e"
             ],
             [
              0.4444444444444444,
              "#bd3786"
             ],
             [
              0.5555555555555556,
              "#d8576b"
             ],
             [
              0.6666666666666666,
              "#ed7953"
             ],
             [
              0.7777777777777778,
              "#fb9f3a"
             ],
             [
              0.8888888888888888,
              "#fdca26"
             ],
             [
              1,
              "#f0f921"
             ]
            ],
            "type": "surface"
           }
          ],
          "table": [
           {
            "cells": {
             "fill": {
              "color": "#EBF0F8"
             },
             "line": {
              "color": "white"
             }
            },
            "header": {
             "fill": {
              "color": "#C8D4E3"
             },
             "line": {
              "color": "white"
             }
            },
            "type": "table"
           }
          ]
         },
         "layout": {
          "annotationdefaults": {
           "arrowcolor": "#2a3f5f",
           "arrowhead": 0,
           "arrowwidth": 1
          },
          "autotypenumbers": "strict",
          "coloraxis": {
           "colorbar": {
            "outlinewidth": 0,
            "ticks": ""
           }
          },
          "colorscale": {
           "diverging": [
            [
             0,
             "#8e0152"
            ],
            [
             0.1,
             "#c51b7d"
            ],
            [
             0.2,
             "#de77ae"
            ],
            [
             0.3,
             "#f1b6da"
            ],
            [
             0.4,
             "#fde0ef"
            ],
            [
             0.5,
             "#f7f7f7"
            ],
            [
             0.6,
             "#e6f5d0"
            ],
            [
             0.7,
             "#b8e186"
            ],
            [
             0.8,
             "#7fbc41"
            ],
            [
             0.9,
             "#4d9221"
            ],
            [
             1,
             "#276419"
            ]
           ],
           "sequential": [
            [
             0,
             "#0d0887"
            ],
            [
             0.1111111111111111,
             "#46039f"
            ],
            [
             0.2222222222222222,
             "#7201a8"
            ],
            [
             0.3333333333333333,
             "#9c179e"
            ],
            [
             0.4444444444444444,
             "#bd3786"
            ],
            [
             0.5555555555555556,
             "#d8576b"
            ],
            [
             0.6666666666666666,
             "#ed7953"
            ],
            [
             0.7777777777777778,
             "#fb9f3a"
            ],
            [
             0.8888888888888888,
             "#fdca26"
            ],
            [
             1,
             "#f0f921"
            ]
           ],
           "sequentialminus": [
            [
             0,
             "#0d0887"
            ],
            [
             0.1111111111111111,
             "#46039f"
            ],
            [
             0.2222222222222222,
             "#7201a8"
            ],
            [
             0.3333333333333333,
             "#9c179e"
            ],
            [
             0.4444444444444444,
             "#bd3786"
            ],
            [
             0.5555555555555556,
             "#d8576b"
            ],
            [
             0.6666666666666666,
             "#ed7953"
            ],
            [
             0.7777777777777778,
             "#fb9f3a"
            ],
            [
             0.8888888888888888,
             "#fdca26"
            ],
            [
             1,
             "#f0f921"
            ]
           ]
          },
          "colorway": [
           "#636efa",
           "#EF553B",
           "#00cc96",
           "#ab63fa",
           "#FFA15A",
           "#19d3f3",
           "#FF6692",
           "#B6E880",
           "#FF97FF",
           "#FECB52"
          ],
          "font": {
           "color": "#2a3f5f"
          },
          "geo": {
           "bgcolor": "white",
           "lakecolor": "white",
           "landcolor": "#E5ECF6",
           "showlakes": true,
           "showland": true,
           "subunitcolor": "white"
          },
          "hoverlabel": {
           "align": "left"
          },
          "hovermode": "closest",
          "mapbox": {
           "style": "light"
          },
          "paper_bgcolor": "white",
          "plot_bgcolor": "#E5ECF6",
          "polar": {
           "angularaxis": {
            "gridcolor": "white",
            "linecolor": "white",
            "ticks": ""
           },
           "bgcolor": "#E5ECF6",
           "radialaxis": {
            "gridcolor": "white",
            "linecolor": "white",
            "ticks": ""
           }
          },
          "scene": {
           "xaxis": {
            "backgroundcolor": "#E5ECF6",
            "gridcolor": "white",
            "gridwidth": 2,
            "linecolor": "white",
            "showbackground": true,
            "ticks": "",
            "zerolinecolor": "white"
           },
           "yaxis": {
            "backgroundcolor": "#E5ECF6",
            "gridcolor": "white",
            "gridwidth": 2,
            "linecolor": "white",
            "showbackground": true,
            "ticks": "",
            "zerolinecolor": "white"
           },
           "zaxis": {
            "backgroundcolor": "#E5ECF6",
            "gridcolor": "white",
            "gridwidth": 2,
            "linecolor": "white",
            "showbackground": true,
            "ticks": "",
            "zerolinecolor": "white"
           }
          },
          "shapedefaults": {
           "line": {
            "color": "#2a3f5f"
           }
          },
          "ternary": {
           "aaxis": {
            "gridcolor": "white",
            "linecolor": "white",
            "ticks": ""
           },
           "baxis": {
            "gridcolor": "white",
            "linecolor": "white",
            "ticks": ""
           },
           "bgcolor": "#E5ECF6",
           "caxis": {
            "gridcolor": "white",
            "linecolor": "white",
            "ticks": ""
           }
          },
          "title": {
           "x": 0.05
          },
          "xaxis": {
           "automargin": true,
           "gridcolor": "white",
           "linecolor": "white",
           "ticks": "",
           "title": {
            "standoff": 15
           },
           "zerolinecolor": "white",
           "zerolinewidth": 2
          },
          "yaxis": {
           "automargin": true,
           "gridcolor": "white",
           "linecolor": "white",
           "ticks": "",
           "title": {
            "standoff": 15
           },
           "zerolinecolor": "white",
           "zerolinewidth": 2
          }
         }
        },
        "title": {
         "text": "PM2.5 Trends by City Over Time"
        },
        "width": 1200,
        "xaxis": {
         "anchor": "y",
         "domain": [
          0,
          0.98
         ],
         "title": {
          "text": "Year"
         }
        },
        "xaxis2": {
         "anchor": "y2",
         "domain": [
          0,
          0.98
         ],
         "matches": "x",
         "showticklabels": false
        },
        "yaxis": {
         "anchor": "x",
         "domain": [
          0,
          0.485
         ],
         "title": {
          "text": "Concentration"
         }
        },
        "yaxis2": {
         "anchor": "x2",
         "domain": [
          0.515,
          1
         ],
         "title": {
          "text": "Concentration"
         }
        }
       }
      }
     },
     "metadata": {},
     "output_type": "display_data"
    }
   ],
   "source": [
    "fig = px.line(city_year_grouped_df, x = 'Year', y = 'Concentration', facet_row='Pollutant', color='City', markers=True, title='PM2.5 Trends by City Over Time')\n",
    "print('Tip: Hover over the datapoints to preview data labels')\n",
    "fig.update_yaxes(matches=None)\n",
    "fig.update_layout(height=800, width=1200)\n",
    "fig.show()"
   ]
  },
  {
   "cell_type": "markdown",
   "id": "1b058f6a8a2ccd04",
   "metadata": {},
   "source": [
    "There seems to be a lot of variability in the PM2.5 particulate matter concentration year on year. It would be good to understand variability, the median, and the extreme in PM2.5 readings for each city using a box plot.\n",
    "\n",
    "## City Wise Pollution Comparision"
   ]
  },
  {
   "cell_type": "code",
   "execution_count": 690,
   "id": "74a1aa6af6d75525",
   "metadata": {
    "ExecuteTime": {
     "end_time": "2025-04-20T12:56:39.651682Z",
     "start_time": "2025-04-20T12:56:39.211421Z"
    }
   },
   "outputs": [
    {
     "data": {
      "application/vnd.plotly.v1+json": {
       "config": {
        "plotlyServerURL": "https://plot.ly"
       },
       "data": [
        {
         "alignmentgroup": "True",
         "hovertemplate": "City=%{x}<br>PM2.5 (µg/m³)=%{y}<extra></extra>",
         "legendgroup": "Shenzhen",
         "marker": {
          "color": "#636efa"
         },
         "name": "Shenzhen",
         "notched": false,
         "offsetgroup": "Shenzhen",
         "orientation": "v",
         "showlegend": true,
         "type": "box",
         "x": [
          "Shenzhen",
          "Shenzhen",
          "Shenzhen",
          "Shenzhen",
          "Shenzhen",
          "Shenzhen",
          "Shenzhen",
          "Shenzhen",
          "Shenzhen",
          "Shenzhen",
          "Shenzhen",
          "Shenzhen",
          "Shenzhen",
          "Shenzhen",
          "Shenzhen",
          "Shenzhen",
          "Shenzhen",
          "Shenzhen",
          "Shenzhen",
          "Shenzhen",
          "Shenzhen",
          "Shenzhen",
          "Shenzhen",
          "Shenzhen",
          "Shenzhen",
          "Shenzhen",
          "Shenzhen",
          "Shenzhen",
          "Shenzhen",
          "Shenzhen",
          "Shenzhen",
          "Shenzhen",
          "Shenzhen",
          "Shenzhen",
          "Shenzhen",
          "Shenzhen",
          "Shenzhen",
          "Shenzhen",
          "Shenzhen",
          "Shenzhen",
          "Shenzhen",
          "Shenzhen",
          "Shenzhen",
          "Shenzhen",
          "Shenzhen",
          "Shenzhen",
          "Shenzhen",
          "Shenzhen",
          "Shenzhen",
          "Shenzhen",
          "Shenzhen",
          "Shenzhen",
          "Shenzhen",
          "Shenzhen",
          "Shenzhen",
          "Shenzhen",
          "Shenzhen",
          "Shenzhen",
          "Shenzhen",
          "Shenzhen",
          "Shenzhen",
          "Shenzhen",
          "Shenzhen",
          "Shenzhen",
          "Shenzhen",
          "Shenzhen",
          "Shenzhen",
          "Shenzhen",
          "Shenzhen",
          "Shenzhen",
          "Shenzhen",
          "Shenzhen",
          "Shenzhen",
          "Shenzhen",
          "Shenzhen",
          "Shenzhen",
          "Shenzhen",
          "Shenzhen",
          "Shenzhen",
          "Shenzhen",
          "Shenzhen",
          "Shenzhen",
          "Shenzhen",
          "Shenzhen",
          "Shenzhen",
          "Shenzhen",
          "Shenzhen",
          "Shenzhen",
          "Shenzhen",
          "Shenzhen",
          "Shenzhen",
          "Shenzhen",
          "Shenzhen",
          "Shenzhen",
          "Shenzhen",
          "Shenzhen",
          "Shenzhen",
          "Shenzhen",
          "Shenzhen",
          "Shenzhen",
          "Shenzhen",
          "Shenzhen",
          "Shenzhen",
          "Shenzhen",
          "Shenzhen",
          "Shenzhen",
          "Shenzhen",
          "Shenzhen",
          "Shenzhen",
          "Shenzhen",
          "Shenzhen",
          "Shenzhen",
          "Shenzhen",
          "Shenzhen",
          "Shenzhen",
          "Shenzhen",
          "Shenzhen",
          "Shenzhen",
          "Shenzhen",
          "Shenzhen",
          "Shenzhen",
          "Shenzhen",
          "Shenzhen",
          "Shenzhen",
          "Shenzhen",
          "Shenzhen",
          "Shenzhen",
          "Shenzhen",
          "Shenzhen",
          "Shenzhen",
          "Shenzhen",
          "Shenzhen",
          "Shenzhen",
          "Shenzhen",
          "Shenzhen",
          "Shenzhen",
          "Shenzhen",
          "Shenzhen",
          "Shenzhen",
          "Shenzhen",
          "Shenzhen",
          "Shenzhen",
          "Shenzhen",
          "Shenzhen",
          "Shenzhen",
          "Shenzhen",
          "Shenzhen",
          "Shenzhen",
          "Shenzhen",
          "Shenzhen",
          "Shenzhen",
          "Shenzhen",
          "Shenzhen",
          "Shenzhen",
          "Shenzhen",
          "Shenzhen",
          "Shenzhen",
          "Shenzhen",
          "Shenzhen",
          "Shenzhen",
          "Shenzhen",
          "Shenzhen",
          "Shenzhen",
          "Shenzhen",
          "Shenzhen",
          "Shenzhen",
          "Shenzhen",
          "Shenzhen",
          "Shenzhen",
          "Shenzhen",
          "Shenzhen",
          "Shenzhen",
          "Shenzhen",
          "Shenzhen",
          "Shenzhen",
          "Shenzhen",
          "Shenzhen",
          "Shenzhen",
          "Shenzhen",
          "Shenzhen",
          "Shenzhen",
          "Shenzhen",
          "Shenzhen",
          "Shenzhen",
          "Shenzhen",
          "Shenzhen",
          "Shenzhen",
          "Shenzhen",
          "Shenzhen",
          "Shenzhen",
          "Shenzhen",
          "Shenzhen",
          "Shenzhen",
          "Shenzhen",
          "Shenzhen",
          "Shenzhen",
          "Shenzhen",
          "Shenzhen",
          "Shenzhen",
          "Shenzhen",
          "Shenzhen",
          "Shenzhen",
          "Shenzhen",
          "Shenzhen",
          "Shenzhen",
          "Shenzhen",
          "Shenzhen",
          "Shenzhen",
          "Shenzhen",
          "Shenzhen",
          "Shenzhen",
          "Shenzhen",
          "Shenzhen",
          "Shenzhen",
          "Shenzhen",
          "Shenzhen",
          "Shenzhen",
          "Shenzhen",
          "Shenzhen",
          "Shenzhen",
          "Shenzhen",
          "Shenzhen",
          "Shenzhen",
          "Shenzhen",
          "Shenzhen",
          "Shenzhen",
          "Shenzhen",
          "Shenzhen",
          "Shenzhen",
          "Shenzhen",
          "Shenzhen",
          "Shenzhen",
          "Shenzhen",
          "Shenzhen",
          "Shenzhen",
          "Shenzhen",
          "Shenzhen",
          "Shenzhen",
          "Shenzhen",
          "Shenzhen",
          "Shenzhen",
          "Shenzhen",
          "Shenzhen",
          "Shenzhen",
          "Shenzhen",
          "Shenzhen",
          "Shenzhen",
          "Shenzhen",
          "Shenzhen",
          "Shenzhen",
          "Shenzhen",
          "Shenzhen",
          "Shenzhen",
          "Shenzhen",
          "Shenzhen",
          "Shenzhen",
          "Shenzhen",
          "Shenzhen",
          "Shenzhen",
          "Shenzhen",
          "Shenzhen",
          "Shenzhen",
          "Shenzhen",
          "Shenzhen",
          "Shenzhen",
          "Shenzhen",
          "Shenzhen",
          "Shenzhen",
          "Shenzhen",
          "Shenzhen",
          "Shenzhen",
          "Shenzhen",
          "Shenzhen",
          "Shenzhen",
          "Shenzhen",
          "Shenzhen",
          "Shenzhen",
          "Shenzhen",
          "Shenzhen",
          "Shenzhen",
          "Shenzhen",
          "Shenzhen",
          "Shenzhen",
          "Shenzhen",
          "Shenzhen",
          "Shenzhen",
          "Shenzhen",
          "Shenzhen",
          "Shenzhen",
          "Shenzhen",
          "Shenzhen",
          "Shenzhen",
          "Shenzhen",
          "Shenzhen",
          "Shenzhen",
          "Shenzhen",
          "Shenzhen",
          "Shenzhen",
          "Shenzhen",
          "Shenzhen",
          "Shenzhen",
          "Shenzhen",
          "Shenzhen",
          "Shenzhen",
          "Shenzhen",
          "Shenzhen",
          "Shenzhen",
          "Shenzhen",
          "Shenzhen",
          "Shenzhen",
          "Shenzhen",
          "Shenzhen",
          "Shenzhen",
          "Shenzhen",
          "Shenzhen",
          "Shenzhen",
          "Shenzhen",
          "Shenzhen",
          "Shenzhen",
          "Shenzhen",
          "Shenzhen",
          "Shenzhen",
          "Shenzhen",
          "Shenzhen",
          "Shenzhen",
          "Shenzhen",
          "Shenzhen",
          "Shenzhen",
          "Shenzhen",
          "Shenzhen",
          "Shenzhen",
          "Shenzhen",
          "Shenzhen",
          "Shenzhen",
          "Shenzhen",
          "Shenzhen",
          "Shenzhen",
          "Shenzhen",
          "Shenzhen",
          "Shenzhen",
          "Shenzhen",
          "Shenzhen",
          "Shenzhen",
          "Shenzhen",
          "Shenzhen",
          "Shenzhen",
          "Shenzhen",
          "Shenzhen",
          "Shenzhen",
          "Shenzhen",
          "Shenzhen",
          "Shenzhen",
          "Shenzhen",
          "Shenzhen",
          "Shenzhen",
          "Shenzhen",
          "Shenzhen",
          "Shenzhen",
          "Shenzhen",
          "Shenzhen",
          "Shenzhen",
          "Shenzhen",
          "Shenzhen",
          "Shenzhen",
          "Shenzhen",
          "Shenzhen",
          "Shenzhen",
          "Shenzhen",
          "Shenzhen",
          "Shenzhen",
          "Shenzhen",
          "Shenzhen",
          "Shenzhen",
          "Shenzhen",
          "Shenzhen",
          "Shenzhen",
          "Shenzhen",
          "Shenzhen",
          "Shenzhen",
          "Shenzhen",
          "Shenzhen",
          "Shenzhen",
          "Shenzhen",
          "Shenzhen",
          "Shenzhen",
          "Shenzhen",
          "Shenzhen",
          "Shenzhen",
          "Shenzhen",
          "Shenzhen",
          "Shenzhen",
          "Shenzhen",
          "Shenzhen",
          "Shenzhen",
          "Shenzhen",
          "Shenzhen",
          "Shenzhen",
          "Shenzhen",
          "Shenzhen",
          "Shenzhen",
          "Shenzhen",
          "Shenzhen",
          "Shenzhen",
          "Shenzhen",
          "Shenzhen",
          "Shenzhen",
          "Shenzhen",
          "Shenzhen",
          "Shenzhen",
          "Shenzhen",
          "Shenzhen",
          "Shenzhen",
          "Shenzhen",
          "Shenzhen",
          "Shenzhen",
          "Shenzhen",
          "Shenzhen",
          "Shenzhen",
          "Shenzhen",
          "Shenzhen",
          "Shenzhen",
          "Shenzhen",
          "Shenzhen",
          "Shenzhen",
          "Shenzhen",
          "Shenzhen",
          "Shenzhen",
          "Shenzhen",
          "Shenzhen",
          "Shenzhen",
          "Shenzhen",
          "Shenzhen",
          "Shenzhen",
          "Shenzhen",
          "Shenzhen",
          "Shenzhen",
          "Shenzhen",
          "Shenzhen",
          "Shenzhen",
          "Shenzhen",
          "Shenzhen",
          "Shenzhen",
          "Shenzhen",
          "Shenzhen",
          "Shenzhen",
          "Shenzhen",
          "Shenzhen",
          "Shenzhen",
          "Shenzhen",
          "Shenzhen",
          "Shenzhen",
          "Shenzhen",
          "Shenzhen",
          "Shenzhen",
          "Shenzhen",
          "Shenzhen",
          "Shenzhen",
          "Shenzhen",
          "Shenzhen",
          "Shenzhen",
          "Shenzhen",
          "Shenzhen",
          "Shenzhen",
          "Shenzhen",
          "Shenzhen",
          "Shenzhen",
          "Shenzhen",
          "Shenzhen",
          "Shenzhen",
          "Shenzhen",
          "Shenzhen",
          "Shenzhen",
          "Shenzhen",
          "Shenzhen",
          "Shenzhen",
          "Shenzhen",
          "Shenzhen",
          "Shenzhen",
          "Shenzhen",
          "Shenzhen",
          "Shenzhen",
          "Shenzhen",
          "Shenzhen",
          "Shenzhen",
          "Shenzhen",
          "Shenzhen",
          "Shenzhen",
          "Shenzhen",
          "Shenzhen",
          "Shenzhen",
          "Shenzhen",
          "Shenzhen",
          "Shenzhen",
          "Shenzhen",
          "Shenzhen",
          "Shenzhen",
          "Shenzhen",
          "Shenzhen",
          "Shenzhen",
          "Shenzhen",
          "Shenzhen",
          "Shenzhen",
          "Shenzhen",
          "Shenzhen",
          "Shenzhen",
          "Shenzhen",
          "Shenzhen",
          "Shenzhen",
          "Shenzhen",
          "Shenzhen",
          "Shenzhen",
          "Shenzhen",
          "Shenzhen",
          "Shenzhen",
          "Shenzhen",
          "Shenzhen",
          "Shenzhen",
          "Shenzhen",
          "Shenzhen",
          "Shenzhen",
          "Shenzhen",
          "Shenzhen",
          "Shenzhen",
          "Shenzhen",
          "Shenzhen",
          "Shenzhen",
          "Shenzhen",
          "Shenzhen",
          "Shenzhen",
          "Shenzhen",
          "Shenzhen",
          "Shenzhen",
          "Shenzhen",
          "Shenzhen",
          "Shenzhen",
          "Shenzhen",
          "Shenzhen",
          "Shenzhen",
          "Shenzhen",
          "Shenzhen",
          "Shenzhen",
          "Shenzhen",
          "Shenzhen",
          "Shenzhen",
          "Shenzhen",
          "Shenzhen",
          "Shenzhen",
          "Shenzhen",
          "Shenzhen",
          "Shenzhen",
          "Shenzhen",
          "Shenzhen",
          "Shenzhen",
          "Shenzhen",
          "Shenzhen",
          "Shenzhen",
          "Shenzhen",
          "Shenzhen",
          "Shenzhen",
          "Shenzhen",
          "Shenzhen",
          "Shenzhen",
          "Shenzhen",
          "Shenzhen",
          "Shenzhen",
          "Shenzhen",
          "Shenzhen",
          "Shenzhen",
          "Shenzhen",
          "Shenzhen",
          "Shenzhen",
          "Shenzhen",
          "Shenzhen",
          "Shenzhen",
          "Shenzhen",
          "Shenzhen",
          "Shenzhen",
          "Shenzhen",
          "Shenzhen",
          "Shenzhen",
          "Shenzhen",
          "Shenzhen",
          "Shenzhen",
          "Shenzhen",
          "Shenzhen",
          "Shenzhen",
          "Shenzhen",
          "Shenzhen",
          "Shenzhen",
          "Shenzhen",
          "Shenzhen",
          "Shenzhen",
          "Shenzhen"
         ],
         "x0": " ",
         "xaxis": "x",
         "y": {
          "bdata": "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",
          "dtype": "f8"
         },
         "y0": " ",
         "yaxis": "y"
        },
        {
         "alignmentgroup": "True",
         "hovertemplate": "City=%{x}<br>PM2.5 (µg/m³)=%{y}<extra></extra>",
         "legendgroup": "Shanghai",
         "marker": {
          "color": "#EF553B"
         },
         "name": "Shanghai",
         "notched": false,
         "offsetgroup": "Shanghai",
         "orientation": "v",
         "showlegend": true,
         "type": "box",
         "x": [
          "Shanghai",
          "Shanghai",
          "Shanghai",
          "Shanghai",
          "Shanghai",
          "Shanghai",
          "Shanghai",
          "Shanghai",
          "Shanghai",
          "Shanghai",
          "Shanghai",
          "Shanghai",
          "Shanghai",
          "Shanghai",
          "Shanghai",
          "Shanghai",
          "Shanghai",
          "Shanghai",
          "Shanghai",
          "Shanghai",
          "Shanghai",
          "Shanghai",
          "Shanghai",
          "Shanghai",
          "Shanghai",
          "Shanghai",
          "Shanghai",
          "Shanghai",
          "Shanghai",
          "Shanghai",
          "Shanghai",
          "Shanghai",
          "Shanghai",
          "Shanghai",
          "Shanghai",
          "Shanghai",
          "Shanghai",
          "Shanghai",
          "Shanghai",
          "Shanghai",
          "Shanghai",
          "Shanghai",
          "Shanghai",
          "Shanghai",
          "Shanghai",
          "Shanghai",
          "Shanghai",
          "Shanghai",
          "Shanghai",
          "Shanghai",
          "Shanghai",
          "Shanghai",
          "Shanghai",
          "Shanghai",
          "Shanghai",
          "Shanghai",
          "Shanghai",
          "Shanghai",
          "Shanghai",
          "Shanghai",
          "Shanghai",
          "Shanghai",
          "Shanghai",
          "Shanghai",
          "Shanghai",
          "Shanghai",
          "Shanghai",
          "Shanghai",
          "Shanghai",
          "Shanghai",
          "Shanghai",
          "Shanghai",
          "Shanghai",
          "Shanghai",
          "Shanghai",
          "Shanghai",
          "Shanghai",
          "Shanghai",
          "Shanghai",
          "Shanghai",
          "Shanghai",
          "Shanghai",
          "Shanghai",
          "Shanghai",
          "Shanghai",
          "Shanghai",
          "Shanghai",
          "Shanghai",
          "Shanghai",
          "Shanghai",
          "Shanghai",
          "Shanghai",
          "Shanghai",
          "Shanghai",
          "Shanghai",
          "Shanghai",
          "Shanghai",
          "Shanghai",
          "Shanghai",
          "Shanghai",
          "Shanghai",
          "Shanghai",
          "Shanghai",
          "Shanghai",
          "Shanghai",
          "Shanghai",
          "Shanghai",
          "Shanghai",
          "Shanghai",
          "Shanghai",
          "Shanghai",
          "Shanghai",
          "Shanghai",
          "Shanghai",
          "Shanghai",
          "Shanghai",
          "Shanghai",
          "Shanghai",
          "Shanghai",
          "Shanghai",
          "Shanghai",
          "Shanghai",
          "Shanghai",
          "Shanghai",
          "Shanghai",
          "Shanghai",
          "Shanghai",
          "Shanghai",
          "Shanghai",
          "Shanghai",
          "Shanghai",
          "Shanghai",
          "Shanghai",
          "Shanghai",
          "Shanghai",
          "Shanghai",
          "Shanghai",
          "Shanghai",
          "Shanghai",
          "Shanghai",
          "Shanghai",
          "Shanghai",
          "Shanghai",
          "Shanghai",
          "Shanghai",
          "Shanghai",
          "Shanghai",
          "Shanghai",
          "Shanghai",
          "Shanghai",
          "Shanghai",
          "Shanghai",
          "Shanghai",
          "Shanghai",
          "Shanghai",
          "Shanghai",
          "Shanghai",
          "Shanghai",
          "Shanghai",
          "Shanghai",
          "Shanghai",
          "Shanghai",
          "Shanghai",
          "Shanghai",
          "Shanghai",
          "Shanghai",
          "Shanghai",
          "Shanghai",
          "Shanghai",
          "Shanghai",
          "Shanghai",
          "Shanghai",
          "Shanghai",
          "Shanghai",
          "Shanghai",
          "Shanghai",
          "Shanghai",
          "Shanghai",
          "Shanghai",
          "Shanghai",
          "Shanghai",
          "Shanghai",
          "Shanghai",
          "Shanghai",
          "Shanghai",
          "Shanghai",
          "Shanghai",
          "Shanghai",
          "Shanghai",
          "Shanghai",
          "Shanghai",
          "Shanghai",
          "Shanghai",
          "Shanghai",
          "Shanghai",
          "Shanghai",
          "Shanghai",
          "Shanghai",
          "Shanghai",
          "Shanghai",
          "Shanghai",
          "Shanghai",
          "Shanghai",
          "Shanghai",
          "Shanghai",
          "Shanghai",
          "Shanghai",
          "Shanghai",
          "Shanghai",
          "Shanghai",
          "Shanghai",
          "Shanghai",
          "Shanghai",
          "Shanghai",
          "Shanghai",
          "Shanghai",
          "Shanghai",
          "Shanghai",
          "Shanghai",
          "Shanghai",
          "Shanghai",
          "Shanghai",
          "Shanghai",
          "Shanghai",
          "Shanghai",
          "Shanghai",
          "Shanghai",
          "Shanghai",
          "Shanghai",
          "Shanghai",
          "Shanghai",
          "Shanghai",
          "Shanghai",
          "Shanghai",
          "Shanghai",
          "Shanghai",
          "Shanghai",
          "Shanghai",
          "Shanghai",
          "Shanghai",
          "Shanghai",
          "Shanghai",
          "Shanghai",
          "Shanghai",
          "Shanghai",
          "Shanghai",
          "Shanghai",
          "Shanghai",
          "Shanghai",
          "Shanghai",
          "Shanghai",
          "Shanghai",
          "Shanghai",
          "Shanghai",
          "Shanghai",
          "Shanghai",
          "Shanghai",
          "Shanghai",
          "Shanghai",
          "Shanghai",
          "Shanghai",
          "Shanghai",
          "Shanghai",
          "Shanghai",
          "Shanghai",
          "Shanghai",
          "Shanghai",
          "Shanghai",
          "Shanghai",
          "Shanghai",
          "Shanghai",
          "Shanghai",
          "Shanghai",
          "Shanghai",
          "Shanghai",
          "Shanghai",
          "Shanghai",
          "Shanghai",
          "Shanghai",
          "Shanghai",
          "Shanghai",
          "Shanghai",
          "Shanghai",
          "Shanghai",
          "Shanghai",
          "Shanghai",
          "Shanghai",
          "Shanghai",
          "Shanghai",
          "Shanghai",
          "Shanghai",
          "Shanghai",
          "Shanghai",
          "Shanghai",
          "Shanghai",
          "Shanghai",
          "Shanghai",
          "Shanghai",
          "Shanghai",
          "Shanghai",
          "Shanghai",
          "Shanghai",
          "Shanghai",
          "Shanghai",
          "Shanghai",
          "Shanghai",
          "Shanghai",
          "Shanghai",
          "Shanghai",
          "Shanghai",
          "Shanghai",
          "Shanghai",
          "Shanghai",
          "Shanghai",
          "Shanghai",
          "Shanghai",
          "Shanghai",
          "Shanghai",
          "Shanghai",
          "Shanghai",
          "Shanghai",
          "Shanghai",
          "Shanghai",
          "Shanghai",
          "Shanghai",
          "Shanghai",
          "Shanghai",
          "Shanghai",
          "Shanghai",
          "Shanghai",
          "Shanghai",
          "Shanghai",
          "Shanghai",
          "Shanghai",
          "Shanghai",
          "Shanghai",
          "Shanghai",
          "Shanghai",
          "Shanghai",
          "Shanghai",
          "Shanghai",
          "Shanghai",
          "Shanghai",
          "Shanghai",
          "Shanghai",
          "Shanghai",
          "Shanghai",
          "Shanghai",
          "Shanghai",
          "Shanghai",
          "Shanghai",
          "Shanghai",
          "Shanghai",
          "Shanghai",
          "Shanghai",
          "Shanghai",
          "Shanghai",
          "Shanghai",
          "Shanghai",
          "Shanghai",
          "Shanghai",
          "Shanghai",
          "Shanghai",
          "Shanghai",
          "Shanghai",
          "Shanghai",
          "Shanghai",
          "Shanghai",
          "Shanghai",
          "Shanghai",
          "Shanghai",
          "Shanghai",
          "Shanghai",
          "Shanghai",
          "Shanghai",
          "Shanghai",
          "Shanghai",
          "Shanghai",
          "Shanghai",
          "Shanghai",
          "Shanghai",
          "Shanghai",
          "Shanghai",
          "Shanghai",
          "Shanghai",
          "Shanghai",
          "Shanghai",
          "Shanghai",
          "Shanghai",
          "Shanghai",
          "Shanghai",
          "Shanghai",
          "Shanghai",
          "Shanghai",
          "Shanghai",
          "Shanghai",
          "Shanghai",
          "Shanghai",
          "Shanghai",
          "Shanghai",
          "Shanghai",
          "Shanghai",
          "Shanghai",
          "Shanghai",
          "Shanghai",
          "Shanghai",
          "Shanghai",
          "Shanghai",
          "Shanghai",
          "Shanghai",
          "Shanghai",
          "Shanghai",
          "Shanghai",
          "Shanghai",
          "Shanghai",
          "Shanghai",
          "Shanghai",
          "Shanghai",
          "Shanghai",
          "Shanghai",
          "Shanghai",
          "Shanghai",
          "Shanghai",
          "Shanghai",
          "Shanghai",
          "Shanghai",
          "Shanghai",
          "Shanghai",
          "Shanghai",
          "Shanghai",
          "Shanghai",
          "Shanghai",
          "Shanghai",
          "Shanghai",
          "Shanghai",
          "Shanghai",
          "Shanghai",
          "Shanghai",
          "Shanghai",
          "Shanghai",
          "Shanghai",
          "Shanghai",
          "Shanghai",
          "Shanghai",
          "Shanghai",
          "Shanghai",
          "Shanghai",
          "Shanghai",
          "Shanghai",
          "Shanghai",
          "Shanghai",
          "Shanghai",
          "Shanghai",
          "Shanghai",
          "Shanghai",
          "Shanghai",
          "Shanghai",
          "Shanghai",
          "Shanghai",
          "Shanghai",
          "Shanghai",
          "Shanghai",
          "Shanghai",
          "Shanghai",
          "Shanghai",
          "Shanghai",
          "Shanghai",
          "Shanghai",
          "Shanghai",
          "Shanghai",
          "Shanghai",
          "Shanghai",
          "Shanghai",
          "Shanghai",
          "Shanghai",
          "Shanghai",
          "Shanghai",
          "Shanghai",
          "Shanghai",
          "Shanghai",
          "Shanghai",
          "Shanghai",
          "Shanghai",
          "Shanghai",
          "Shanghai",
          "Shanghai",
          "Shanghai",
          "Shanghai",
          "Shanghai",
          "Shanghai",
          "Shanghai",
          "Shanghai",
          "Shanghai",
          "Shanghai",
          "Shanghai",
          "Shanghai",
          "Shanghai",
          "Shanghai",
          "Shanghai",
          "Shanghai",
          "Shanghai",
          "Shanghai",
          "Shanghai",
          "Shanghai",
          "Shanghai",
          "Shanghai",
          "Shanghai",
          "Shanghai",
          "Shanghai",
          "Shanghai",
          "Shanghai",
          "Shanghai",
          "Shanghai",
          "Shanghai",
          "Shanghai",
          "Shanghai",
          "Shanghai",
          "Shanghai",
          "Shanghai",
          "Shanghai",
          "Shanghai",
          "Shanghai",
          "Shanghai",
          "Shanghai",
          "Shanghai",
          "Shanghai",
          "Shanghai",
          "Shanghai",
          "Shanghai",
          "Shanghai",
          "Shanghai",
          "Shanghai",
          "Shanghai",
          "Shanghai",
          "Shanghai",
          "Shanghai",
          "Shanghai",
          "Shanghai",
          "Shanghai",
          "Shanghai",
          "Shanghai",
          "Shanghai",
          "Shanghai",
          "Shanghai",
          "Shanghai",
          "Shanghai",
          "Shanghai",
          "Shanghai",
          "Shanghai",
          "Shanghai",
          "Shanghai",
          "Shanghai",
          "Shanghai",
          "Shanghai",
          "Shanghai",
          "Shanghai",
          "Shanghai",
          "Shanghai",
          "Shanghai",
          "Shanghai",
          "Shanghai",
          "Shanghai",
          "Shanghai",
          "Shanghai",
          "Shanghai",
          "Shanghai",
          "Shanghai",
          "Shanghai",
          "Shanghai",
          "Shanghai",
          "Shanghai",
          "Shanghai",
          "Shanghai",
          "Shanghai",
          "Shanghai",
          "Shanghai",
          "Shanghai",
          "Shanghai",
          "Shanghai",
          "Shanghai",
          "Shanghai",
          "Shanghai",
          "Shanghai",
          "Shanghai",
          "Shanghai",
          "Shanghai",
          "Shanghai",
          "Shanghai",
          "Shanghai",
          "Shanghai",
          "Shanghai",
          "Shanghai",
          "Shanghai",
          "Shanghai",
          "Shanghai",
          "Shanghai"
         ],
         "x0": " ",
         "xaxis": "x",
         "y": {
          "bdata": "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",
          "dtype": "f8"
         },
         "y0": " ",
         "yaxis": "y"
        },
        {
         "alignmentgroup": "True",
         "hovertemplate": "City=%{x}<br>PM2.5 (µg/m³)=%{y}<extra></extra>",
         "legendgroup": "Beijing",
         "marker": {
          "color": "#00cc96"
         },
         "name": "Beijing",
         "notched": false,
         "offsetgroup": "Beijing",
         "orientation": "v",
         "showlegend": true,
         "type": "box",
         "x": [
          "Beijing",
          "Beijing",
          "Beijing",
          "Beijing",
          "Beijing",
          "Beijing",
          "Beijing",
          "Beijing",
          "Beijing",
          "Beijing",
          "Beijing",
          "Beijing",
          "Beijing",
          "Beijing",
          "Beijing",
          "Beijing",
          "Beijing",
          "Beijing",
          "Beijing",
          "Beijing",
          "Beijing",
          "Beijing",
          "Beijing",
          "Beijing",
          "Beijing",
          "Beijing",
          "Beijing",
          "Beijing",
          "Beijing",
          "Beijing",
          "Beijing",
          "Beijing",
          "Beijing",
          "Beijing",
          "Beijing",
          "Beijing",
          "Beijing",
          "Beijing",
          "Beijing",
          "Beijing",
          "Beijing",
          "Beijing",
          "Beijing",
          "Beijing",
          "Beijing",
          "Beijing",
          "Beijing",
          "Beijing",
          "Beijing",
          "Beijing",
          "Beijing",
          "Beijing",
          "Beijing",
          "Beijing",
          "Beijing",
          "Beijing",
          "Beijing",
          "Beijing",
          "Beijing",
          "Beijing",
          "Beijing",
          "Beijing",
          "Beijing",
          "Beijing",
          "Beijing",
          "Beijing",
          "Beijing",
          "Beijing",
          "Beijing",
          "Beijing",
          "Beijing",
          "Beijing",
          "Beijing",
          "Beijing",
          "Beijing",
          "Beijing",
          "Beijing",
          "Beijing",
          "Beijing",
          "Beijing",
          "Beijing",
          "Beijing",
          "Beijing",
          "Beijing",
          "Beijing",
          "Beijing",
          "Beijing",
          "Beijing",
          "Beijing",
          "Beijing",
          "Beijing",
          "Beijing",
          "Beijing",
          "Beijing",
          "Beijing",
          "Beijing",
          "Beijing",
          "Beijing",
          "Beijing",
          "Beijing",
          "Beijing",
          "Beijing",
          "Beijing",
          "Beijing",
          "Beijing",
          "Beijing",
          "Beijing",
          "Beijing",
          "Beijing",
          "Beijing",
          "Beijing",
          "Beijing",
          "Beijing",
          "Beijing",
          "Beijing",
          "Beijing",
          "Beijing",
          "Beijing",
          "Beijing",
          "Beijing",
          "Beijing",
          "Beijing",
          "Beijing",
          "Beijing",
          "Beijing",
          "Beijing",
          "Beijing",
          "Beijing",
          "Beijing",
          "Beijing",
          "Beijing",
          "Beijing",
          "Beijing",
          "Beijing",
          "Beijing",
          "Beijing",
          "Beijing",
          "Beijing",
          "Beijing",
          "Beijing",
          "Beijing",
          "Beijing",
          "Beijing",
          "Beijing",
          "Beijing",
          "Beijing",
          "Beijing",
          "Beijing",
          "Beijing",
          "Beijing",
          "Beijing",
          "Beijing",
          "Beijing",
          "Beijing",
          "Beijing",
          "Beijing",
          "Beijing",
          "Beijing",
          "Beijing",
          "Beijing",
          "Beijing",
          "Beijing",
          "Beijing",
          "Beijing",
          "Beijing",
          "Beijing",
          "Beijing",
          "Beijing",
          "Beijing",
          "Beijing",
          "Beijing",
          "Beijing",
          "Beijing",
          "Beijing",
          "Beijing",
          "Beijing",
          "Beijing",
          "Beijing",
          "Beijing",
          "Beijing",
          "Beijing",
          "Beijing",
          "Beijing",
          "Beijing",
          "Beijing",
          "Beijing",
          "Beijing",
          "Beijing",
          "Beijing",
          "Beijing",
          "Beijing",
          "Beijing",
          "Beijing",
          "Beijing",
          "Beijing",
          "Beijing",
          "Beijing",
          "Beijing",
          "Beijing",
          "Beijing",
          "Beijing",
          "Beijing",
          "Beijing",
          "Beijing",
          "Beijing",
          "Beijing",
          "Beijing",
          "Beijing",
          "Beijing",
          "Beijing",
          "Beijing",
          "Beijing",
          "Beijing",
          "Beijing",
          "Beijing",
          "Beijing",
          "Beijing",
          "Beijing",
          "Beijing",
          "Beijing",
          "Beijing",
          "Beijing",
          "Beijing",
          "Beijing",
          "Beijing",
          "Beijing",
          "Beijing",
          "Beijing",
          "Beijing",
          "Beijing",
          "Beijing",
          "Beijing",
          "Beijing",
          "Beijing",
          "Beijing",
          "Beijing",
          "Beijing",
          "Beijing",
          "Beijing",
          "Beijing",
          "Beijing",
          "Beijing",
          "Beijing",
          "Beijing",
          "Beijing",
          "Beijing",
          "Beijing",
          "Beijing",
          "Beijing",
          "Beijing",
          "Beijing",
          "Beijing",
          "Beijing",
          "Beijing",
          "Beijing",
          "Beijing",
          "Beijing",
          "Beijing",
          "Beijing",
          "Beijing",
          "Beijing",
          "Beijing",
          "Beijing",
          "Beijing",
          "Beijing",
          "Beijing",
          "Beijing",
          "Beijing",
          "Beijing",
          "Beijing",
          "Beijing",
          "Beijing",
          "Beijing",
          "Beijing",
          "Beijing",
          "Beijing",
          "Beijing",
          "Beijing",
          "Beijing",
          "Beijing",
          "Beijing",
          "Beijing",
          "Beijing",
          "Beijing",
          "Beijing",
          "Beijing",
          "Beijing",
          "Beijing",
          "Beijing",
          "Beijing",
          "Beijing",
          "Beijing",
          "Beijing",
          "Beijing",
          "Beijing",
          "Beijing",
          "Beijing",
          "Beijing",
          "Beijing",
          "Beijing",
          "Beijing",
          "Beijing",
          "Beijing",
          "Beijing",
          "Beijing",
          "Beijing",
          "Beijing",
          "Beijing",
          "Beijing",
          "Beijing",
          "Beijing",
          "Beijing",
          "Beijing",
          "Beijing",
          "Beijing",
          "Beijing",
          "Beijing",
          "Beijing",
          "Beijing",
          "Beijing",
          "Beijing",
          "Beijing",
          "Beijing",
          "Beijing",
          "Beijing",
          "Beijing",
          "Beijing",
          "Beijing",
          "Beijing",
          "Beijing",
          "Beijing",
          "Beijing",
          "Beijing",
          "Beijing",
          "Beijing",
          "Beijing",
          "Beijing",
          "Beijing",
          "Beijing",
          "Beijing",
          "Beijing",
          "Beijing",
          "Beijing",
          "Beijing",
          "Beijing",
          "Beijing",
          "Beijing",
          "Beijing",
          "Beijing",
          "Beijing",
          "Beijing",
          "Beijing",
          "Beijing",
          "Beijing",
          "Beijing",
          "Beijing",
          "Beijing",
          "Beijing",
          "Beijing",
          "Beijing",
          "Beijing",
          "Beijing",
          "Beijing",
          "Beijing",
          "Beijing",
          "Beijing",
          "Beijing",
          "Beijing",
          "Beijing",
          "Beijing",
          "Beijing",
          "Beijing",
          "Beijing",
          "Beijing",
          "Beijing",
          "Beijing",
          "Beijing",
          "Beijing",
          "Beijing",
          "Beijing",
          "Beijing",
          "Beijing",
          "Beijing",
          "Beijing",
          "Beijing",
          "Beijing",
          "Beijing",
          "Beijing",
          "Beijing",
          "Beijing",
          "Beijing",
          "Beijing",
          "Beijing",
          "Beijing",
          "Beijing",
          "Beijing",
          "Beijing",
          "Beijing",
          "Beijing",
          "Beijing",
          "Beijing",
          "Beijing",
          "Beijing",
          "Beijing",
          "Beijing",
          "Beijing",
          "Beijing",
          "Beijing",
          "Beijing",
          "Beijing",
          "Beijing",
          "Beijing",
          "Beijing",
          "Beijing",
          "Beijing",
          "Beijing",
          "Beijing",
          "Beijing",
          "Beijing",
          "Beijing",
          "Beijing",
          "Beijing",
          "Beijing",
          "Beijing",
          "Beijing",
          "Beijing",
          "Beijing",
          "Beijing",
          "Beijing",
          "Beijing",
          "Beijing",
          "Beijing",
          "Beijing",
          "Beijing",
          "Beijing",
          "Beijing",
          "Beijing",
          "Beijing",
          "Beijing",
          "Beijing",
          "Beijing",
          "Beijing",
          "Beijing",
          "Beijing",
          "Beijing",
          "Beijing",
          "Beijing",
          "Beijing",
          "Beijing",
          "Beijing",
          "Beijing",
          "Beijing",
          "Beijing",
          "Beijing",
          "Beijing",
          "Beijing",
          "Beijing",
          "Beijing",
          "Beijing",
          "Beijing",
          "Beijing",
          "Beijing",
          "Beijing",
          "Beijing",
          "Beijing",
          "Beijing",
          "Beijing",
          "Beijing",
          "Beijing",
          "Beijing",
          "Beijing",
          "Beijing",
          "Beijing",
          "Beijing",
          "Beijing",
          "Beijing",
          "Beijing",
          "Beijing",
          "Beijing",
          "Beijing",
          "Beijing",
          "Beijing",
          "Beijing",
          "Beijing",
          "Beijing",
          "Beijing",
          "Beijing",
          "Beijing",
          "Beijing",
          "Beijing",
          "Beijing",
          "Beijing",
          "Beijing",
          "Beijing",
          "Beijing",
          "Beijing",
          "Beijing",
          "Beijing",
          "Beijing",
          "Beijing",
          "Beijing",
          "Beijing",
          "Beijing",
          "Beijing",
          "Beijing",
          "Beijing",
          "Beijing",
          "Beijing",
          "Beijing",
          "Beijing",
          "Beijing",
          "Beijing",
          "Beijing",
          "Beijing",
          "Beijing",
          "Beijing",
          "Beijing",
          "Beijing",
          "Beijing",
          "Beijing",
          "Beijing",
          "Beijing",
          "Beijing",
          "Beijing",
          "Beijing",
          "Beijing",
          "Beijing",
          "Beijing",
          "Beijing",
          "Beijing",
          "Beijing",
          "Beijing",
          "Beijing",
          "Beijing",
          "Beijing",
          "Beijing",
          "Beijing",
          "Beijing",
          "Beijing",
          "Beijing",
          "Beijing",
          "Beijing",
          "Beijing",
          "Beijing",
          "Beijing",
          "Beijing",
          "Beijing",
          "Beijing",
          "Beijing",
          "Beijing",
          "Beijing",
          "Beijing",
          "Beijing",
          "Beijing",
          "Beijing",
          "Beijing",
          "Beijing",
          "Beijing",
          "Beijing",
          "Beijing",
          "Beijing",
          "Beijing",
          "Beijing",
          "Beijing",
          "Beijing",
          "Beijing",
          "Beijing",
          "Beijing",
          "Beijing",
          "Beijing",
          "Beijing",
          "Beijing",
          "Beijing",
          "Beijing",
          "Beijing",
          "Beijing",
          "Beijing",
          "Beijing",
          "Beijing",
          "Beijing",
          "Beijing",
          "Beijing",
          "Beijing",
          "Beijing",
          "Beijing",
          "Beijing",
          "Beijing",
          "Beijing",
          "Beijing",
          "Beijing",
          "Beijing",
          "Beijing",
          "Beijing",
          "Beijing",
          "Beijing",
          "Beijing",
          "Beijing",
          "Beijing",
          "Beijing",
          "Beijing",
          "Beijing",
          "Beijing",
          "Beijing",
          "Beijing",
          "Beijing",
          "Beijing",
          "Beijing",
          "Beijing",
          "Beijing",
          "Beijing",
          "Beijing",
          "Beijing",
          "Beijing",
          "Beijing",
          "Beijing",
          "Beijing",
          "Beijing",
          "Beijing",
          "Beijing",
          "Beijing",
          "Beijing",
          "Beijing",
          "Beijing",
          "Beijing",
          "Beijing",
          "Beijing",
          "Beijing",
          "Beijing",
          "Beijing"
         ],
         "x0": " ",
         "xaxis": "x",
         "y": {
          "bdata": "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",
          "dtype": "f8"
         },
         "y0": " ",
         "yaxis": "y"
        },
        {
         "alignmentgroup": "True",
         "hovertemplate": "City=%{x}<br>PM2.5 (µg/m³)=%{y}<extra></extra>",
         "legendgroup": "Chengdu",
         "marker": {
          "color": "#ab63fa"
         },
         "name": "Chengdu",
         "notched": false,
         "offsetgroup": "Chengdu",
         "orientation": "v",
         "showlegend": true,
         "type": "box",
         "x": [
          "Chengdu",
          "Chengdu",
          "Chengdu",
          "Chengdu",
          "Chengdu",
          "Chengdu",
          "Chengdu",
          "Chengdu",
          "Chengdu",
          "Chengdu",
          "Chengdu",
          "Chengdu",
          "Chengdu",
          "Chengdu",
          "Chengdu",
          "Chengdu",
          "Chengdu",
          "Chengdu",
          "Chengdu",
          "Chengdu",
          "Chengdu",
          "Chengdu",
          "Chengdu",
          "Chengdu",
          "Chengdu",
          "Chengdu",
          "Chengdu",
          "Chengdu",
          "Chengdu",
          "Chengdu",
          "Chengdu",
          "Chengdu",
          "Chengdu",
          "Chengdu",
          "Chengdu",
          "Chengdu",
          "Chengdu",
          "Chengdu",
          "Chengdu",
          "Chengdu",
          "Chengdu",
          "Chengdu",
          "Chengdu",
          "Chengdu",
          "Chengdu",
          "Chengdu",
          "Chengdu",
          "Chengdu",
          "Chengdu",
          "Chengdu",
          "Chengdu",
          "Chengdu",
          "Chengdu",
          "Chengdu",
          "Chengdu",
          "Chengdu",
          "Chengdu",
          "Chengdu",
          "Chengdu",
          "Chengdu",
          "Chengdu",
          "Chengdu",
          "Chengdu",
          "Chengdu",
          "Chengdu",
          "Chengdu",
          "Chengdu",
          "Chengdu",
          "Chengdu",
          "Chengdu",
          "Chengdu",
          "Chengdu",
          "Chengdu",
          "Chengdu",
          "Chengdu",
          "Chengdu",
          "Chengdu",
          "Chengdu",
          "Chengdu",
          "Chengdu",
          "Chengdu",
          "Chengdu",
          "Chengdu",
          "Chengdu",
          "Chengdu",
          "Chengdu",
          "Chengdu",
          "Chengdu",
          "Chengdu",
          "Chengdu",
          "Chengdu",
          "Chengdu",
          "Chengdu",
          "Chengdu",
          "Chengdu",
          "Chengdu",
          "Chengdu",
          "Chengdu",
          "Chengdu",
          "Chengdu",
          "Chengdu",
          "Chengdu",
          "Chengdu",
          "Chengdu",
          "Chengdu",
          "Chengdu",
          "Chengdu",
          "Chengdu",
          "Chengdu",
          "Chengdu",
          "Chengdu",
          "Chengdu",
          "Chengdu",
          "Chengdu",
          "Chengdu",
          "Chengdu",
          "Chengdu",
          "Chengdu",
          "Chengdu",
          "Chengdu",
          "Chengdu",
          "Chengdu",
          "Chengdu",
          "Chengdu",
          "Chengdu",
          "Chengdu",
          "Chengdu",
          "Chengdu",
          "Chengdu",
          "Chengdu",
          "Chengdu",
          "Chengdu",
          "Chengdu",
          "Chengdu",
          "Chengdu",
          "Chengdu",
          "Chengdu",
          "Chengdu",
          "Chengdu",
          "Chengdu",
          "Chengdu",
          "Chengdu",
          "Chengdu",
          "Chengdu",
          "Chengdu",
          "Chengdu",
          "Chengdu",
          "Chengdu",
          "Chengdu",
          "Chengdu",
          "Chengdu",
          "Chengdu",
          "Chengdu",
          "Chengdu",
          "Chengdu",
          "Chengdu",
          "Chengdu",
          "Chengdu",
          "Chengdu",
          "Chengdu",
          "Chengdu",
          "Chengdu",
          "Chengdu",
          "Chengdu",
          "Chengdu",
          "Chengdu",
          "Chengdu",
          "Chengdu",
          "Chengdu",
          "Chengdu",
          "Chengdu",
          "Chengdu",
          "Chengdu",
          "Chengdu",
          "Chengdu",
          "Chengdu",
          "Chengdu",
          "Chengdu",
          "Chengdu",
          "Chengdu",
          "Chengdu",
          "Chengdu",
          "Chengdu",
          "Chengdu",
          "Chengdu",
          "Chengdu",
          "Chengdu",
          "Chengdu",
          "Chengdu",
          "Chengdu",
          "Chengdu",
          "Chengdu",
          "Chengdu",
          "Chengdu",
          "Chengdu",
          "Chengdu",
          "Chengdu",
          "Chengdu",
          "Chengdu",
          "Chengdu",
          "Chengdu",
          "Chengdu",
          "Chengdu",
          "Chengdu",
          "Chengdu",
          "Chengdu",
          "Chengdu",
          "Chengdu",
          "Chengdu",
          "Chengdu",
          "Chengdu",
          "Chengdu",
          "Chengdu",
          "Chengdu",
          "Chengdu",
          "Chengdu",
          "Chengdu",
          "Chengdu",
          "Chengdu",
          "Chengdu",
          "Chengdu",
          "Chengdu",
          "Chengdu",
          "Chengdu",
          "Chengdu",
          "Chengdu",
          "Chengdu",
          "Chengdu",
          "Chengdu",
          "Chengdu",
          "Chengdu",
          "Chengdu",
          "Chengdu",
          "Chengdu",
          "Chengdu",
          "Chengdu",
          "Chengdu",
          "Chengdu",
          "Chengdu",
          "Chengdu",
          "Chengdu",
          "Chengdu",
          "Chengdu",
          "Chengdu",
          "Chengdu",
          "Chengdu",
          "Chengdu",
          "Chengdu",
          "Chengdu",
          "Chengdu",
          "Chengdu",
          "Chengdu",
          "Chengdu",
          "Chengdu",
          "Chengdu",
          "Chengdu",
          "Chengdu",
          "Chengdu",
          "Chengdu",
          "Chengdu",
          "Chengdu",
          "Chengdu",
          "Chengdu",
          "Chengdu",
          "Chengdu",
          "Chengdu",
          "Chengdu",
          "Chengdu",
          "Chengdu",
          "Chengdu",
          "Chengdu",
          "Chengdu",
          "Chengdu",
          "Chengdu",
          "Chengdu",
          "Chengdu",
          "Chengdu",
          "Chengdu",
          "Chengdu",
          "Chengdu",
          "Chengdu",
          "Chengdu",
          "Chengdu",
          "Chengdu",
          "Chengdu",
          "Chengdu",
          "Chengdu",
          "Chengdu",
          "Chengdu",
          "Chengdu",
          "Chengdu",
          "Chengdu",
          "Chengdu",
          "Chengdu",
          "Chengdu",
          "Chengdu",
          "Chengdu",
          "Chengdu",
          "Chengdu",
          "Chengdu",
          "Chengdu",
          "Chengdu",
          "Chengdu",
          "Chengdu",
          "Chengdu",
          "Chengdu",
          "Chengdu",
          "Chengdu",
          "Chengdu",
          "Chengdu",
          "Chengdu",
          "Chengdu",
          "Chengdu",
          "Chengdu",
          "Chengdu",
          "Chengdu",
          "Chengdu",
          "Chengdu",
          "Chengdu",
          "Chengdu",
          "Chengdu",
          "Chengdu",
          "Chengdu",
          "Chengdu",
          "Chengdu",
          "Chengdu",
          "Chengdu",
          "Chengdu",
          "Chengdu",
          "Chengdu",
          "Chengdu",
          "Chengdu",
          "Chengdu",
          "Chengdu",
          "Chengdu",
          "Chengdu",
          "Chengdu",
          "Chengdu",
          "Chengdu",
          "Chengdu",
          "Chengdu",
          "Chengdu",
          "Chengdu",
          "Chengdu",
          "Chengdu",
          "Chengdu",
          "Chengdu",
          "Chengdu",
          "Chengdu",
          "Chengdu",
          "Chengdu",
          "Chengdu",
          "Chengdu",
          "Chengdu",
          "Chengdu",
          "Chengdu",
          "Chengdu",
          "Chengdu",
          "Chengdu",
          "Chengdu",
          "Chengdu",
          "Chengdu",
          "Chengdu",
          "Chengdu",
          "Chengdu",
          "Chengdu",
          "Chengdu",
          "Chengdu",
          "Chengdu",
          "Chengdu",
          "Chengdu",
          "Chengdu",
          "Chengdu",
          "Chengdu",
          "Chengdu",
          "Chengdu",
          "Chengdu",
          "Chengdu",
          "Chengdu",
          "Chengdu",
          "Chengdu",
          "Chengdu",
          "Chengdu",
          "Chengdu",
          "Chengdu",
          "Chengdu",
          "Chengdu",
          "Chengdu",
          "Chengdu",
          "Chengdu",
          "Chengdu",
          "Chengdu",
          "Chengdu",
          "Chengdu",
          "Chengdu",
          "Chengdu",
          "Chengdu",
          "Chengdu",
          "Chengdu",
          "Chengdu",
          "Chengdu",
          "Chengdu",
          "Chengdu",
          "Chengdu",
          "Chengdu",
          "Chengdu",
          "Chengdu",
          "Chengdu",
          "Chengdu",
          "Chengdu",
          "Chengdu",
          "Chengdu",
          "Chengdu",
          "Chengdu",
          "Chengdu",
          "Chengdu",
          "Chengdu",
          "Chengdu",
          "Chengdu",
          "Chengdu",
          "Chengdu",
          "Chengdu",
          "Chengdu",
          "Chengdu",
          "Chengdu",
          "Chengdu",
          "Chengdu",
          "Chengdu",
          "Chengdu",
          "Chengdu",
          "Chengdu",
          "Chengdu",
          "Chengdu",
          "Chengdu",
          "Chengdu",
          "Chengdu",
          "Chengdu",
          "Chengdu",
          "Chengdu",
          "Chengdu",
          "Chengdu",
          "Chengdu",
          "Chengdu",
          "Chengdu",
          "Chengdu",
          "Chengdu",
          "Chengdu",
          "Chengdu",
          "Chengdu",
          "Chengdu",
          "Chengdu",
          "Chengdu",
          "Chengdu",
          "Chengdu",
          "Chengdu",
          "Chengdu",
          "Chengdu",
          "Chengdu",
          "Chengdu",
          "Chengdu",
          "Chengdu",
          "Chengdu",
          "Chengdu",
          "Chengdu",
          "Chengdu",
          "Chengdu",
          "Chengdu",
          "Chengdu",
          "Chengdu",
          "Chengdu",
          "Chengdu",
          "Chengdu",
          "Chengdu",
          "Chengdu",
          "Chengdu",
          "Chengdu",
          "Chengdu",
          "Chengdu",
          "Chengdu",
          "Chengdu",
          "Chengdu",
          "Chengdu",
          "Chengdu",
          "Chengdu",
          "Chengdu",
          "Chengdu",
          "Chengdu",
          "Chengdu",
          "Chengdu",
          "Chengdu",
          "Chengdu",
          "Chengdu",
          "Chengdu",
          "Chengdu",
          "Chengdu",
          "Chengdu",
          "Chengdu",
          "Chengdu",
          "Chengdu",
          "Chengdu",
          "Chengdu",
          "Chengdu",
          "Chengdu",
          "Chengdu",
          "Chengdu",
          "Chengdu",
          "Chengdu",
          "Chengdu",
          "Chengdu",
          "Chengdu",
          "Chengdu",
          "Chengdu",
          "Chengdu",
          "Chengdu",
          "Chengdu",
          "Chengdu",
          "Chengdu",
          "Chengdu",
          "Chengdu",
          "Chengdu",
          "Chengdu",
          "Chengdu",
          "Chengdu",
          "Chengdu",
          "Chengdu",
          "Chengdu",
          "Chengdu",
          "Chengdu",
          "Chengdu",
          "Chengdu",
          "Chengdu",
          "Chengdu",
          "Chengdu",
          "Chengdu",
          "Chengdu",
          "Chengdu",
          "Chengdu",
          "Chengdu",
          "Chengdu",
          "Chengdu",
          "Chengdu",
          "Chengdu",
          "Chengdu",
          "Chengdu",
          "Chengdu",
          "Chengdu",
          "Chengdu",
          "Chengdu",
          "Chengdu",
          "Chengdu",
          "Chengdu",
          "Chengdu",
          "Chengdu",
          "Chengdu",
          "Chengdu",
          "Chengdu",
          "Chengdu",
          "Chengdu",
          "Chengdu",
          "Chengdu",
          "Chengdu",
          "Chengdu",
          "Chengdu",
          "Chengdu",
          "Chengdu",
          "Chengdu",
          "Chengdu",
          "Chengdu",
          "Chengdu",
          "Chengdu",
          "Chengdu",
          "Chengdu",
          "Chengdu",
          "Chengdu",
          "Chengdu",
          "Chengdu",
          "Chengdu",
          "Chengdu",
          "Chengdu",
          "Chengdu",
          "Chengdu",
          "Chengdu",
          "Chengdu",
          "Chengdu",
          "Chengdu",
          "Chengdu",
          "Chengdu",
          "Chengdu",
          "Chengdu",
          "Chengdu",
          "Chengdu",
          "Chengdu",
          "Chengdu",
          "Chengdu",
          "Chengdu",
          "Chengdu",
          "Chengdu",
          "Chengdu"
         ],
         "x0": " ",
         "xaxis": "x",
         "y": {
          "bdata": "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",
          "dtype": "f8"
         },
         "y0": " ",
         "yaxis": "y"
        },
        {
         "alignmentgroup": "True",
         "hovertemplate": "City=%{x}<br>PM2.5 (µg/m³)=%{y}<extra></extra>",
         "legendgroup": "Guangzhou",
         "marker": {
          "color": "#FFA15A"
         },
         "name": "Guangzhou",
         "notched": false,
         "offsetgroup": "Guangzhou",
         "orientation": "v",
         "showlegend": true,
         "type": "box",
         "x": [
          "Guangzhou",
          "Guangzhou",
          "Guangzhou",
          "Guangzhou",
          "Guangzhou",
          "Guangzhou",
          "Guangzhou",
          "Guangzhou",
          "Guangzhou",
          "Guangzhou",
          "Guangzhou",
          "Guangzhou",
          "Guangzhou",
          "Guangzhou",
          "Guangzhou",
          "Guangzhou",
          "Guangzhou",
          "Guangzhou",
          "Guangzhou",
          "Guangzhou",
          "Guangzhou",
          "Guangzhou",
          "Guangzhou",
          "Guangzhou",
          "Guangzhou",
          "Guangzhou",
          "Guangzhou",
          "Guangzhou",
          "Guangzhou",
          "Guangzhou",
          "Guangzhou",
          "Guangzhou",
          "Guangzhou",
          "Guangzhou",
          "Guangzhou",
          "Guangzhou",
          "Guangzhou",
          "Guangzhou",
          "Guangzhou",
          "Guangzhou",
          "Guangzhou",
          "Guangzhou",
          "Guangzhou",
          "Guangzhou",
          "Guangzhou",
          "Guangzhou",
          "Guangzhou",
          "Guangzhou",
          "Guangzhou",
          "Guangzhou",
          "Guangzhou",
          "Guangzhou",
          "Guangzhou",
          "Guangzhou",
          "Guangzhou",
          "Guangzhou",
          "Guangzhou",
          "Guangzhou",
          "Guangzhou",
          "Guangzhou",
          "Guangzhou",
          "Guangzhou",
          "Guangzhou",
          "Guangzhou",
          "Guangzhou",
          "Guangzhou",
          "Guangzhou",
          "Guangzhou",
          "Guangzhou",
          "Guangzhou",
          "Guangzhou",
          "Guangzhou",
          "Guangzhou",
          "Guangzhou",
          "Guangzhou",
          "Guangzhou",
          "Guangzhou",
          "Guangzhou",
          "Guangzhou",
          "Guangzhou",
          "Guangzhou",
          "Guangzhou",
          "Guangzhou",
          "Guangzhou",
          "Guangzhou",
          "Guangzhou",
          "Guangzhou",
          "Guangzhou",
          "Guangzhou",
          "Guangzhou",
          "Guangzhou",
          "Guangzhou",
          "Guangzhou",
          "Guangzhou",
          "Guangzhou",
          "Guangzhou",
          "Guangzhou",
          "Guangzhou",
          "Guangzhou",
          "Guangzhou",
          "Guangzhou",
          "Guangzhou",
          "Guangzhou",
          "Guangzhou",
          "Guangzhou",
          "Guangzhou",
          "Guangzhou",
          "Guangzhou",
          "Guangzhou",
          "Guangzhou",
          "Guangzhou",
          "Guangzhou",
          "Guangzhou",
          "Guangzhou",
          "Guangzhou",
          "Guangzhou",
          "Guangzhou",
          "Guangzhou",
          "Guangzhou",
          "Guangzhou",
          "Guangzhou",
          "Guangzhou",
          "Guangzhou",
          "Guangzhou",
          "Guangzhou",
          "Guangzhou",
          "Guangzhou",
          "Guangzhou",
          "Guangzhou",
          "Guangzhou",
          "Guangzhou",
          "Guangzhou",
          "Guangzhou",
          "Guangzhou",
          "Guangzhou",
          "Guangzhou",
          "Guangzhou",
          "Guangzhou",
          "Guangzhou",
          "Guangzhou",
          "Guangzhou",
          "Guangzhou",
          "Guangzhou",
          "Guangzhou",
          "Guangzhou",
          "Guangzhou",
          "Guangzhou",
          "Guangzhou",
          "Guangzhou",
          "Guangzhou",
          "Guangzhou",
          "Guangzhou",
          "Guangzhou",
          "Guangzhou",
          "Guangzhou",
          "Guangzhou",
          "Guangzhou",
          "Guangzhou",
          "Guangzhou",
          "Guangzhou",
          "Guangzhou",
          "Guangzhou",
          "Guangzhou",
          "Guangzhou",
          "Guangzhou",
          "Guangzhou",
          "Guangzhou",
          "Guangzhou",
          "Guangzhou",
          "Guangzhou",
          "Guangzhou",
          "Guangzhou",
          "Guangzhou",
          "Guangzhou",
          "Guangzhou",
          "Guangzhou",
          "Guangzhou",
          "Guangzhou",
          "Guangzhou",
          "Guangzhou",
          "Guangzhou",
          "Guangzhou",
          "Guangzhou",
          "Guangzhou",
          "Guangzhou",
          "Guangzhou",
          "Guangzhou",
          "Guangzhou",
          "Guangzhou",
          "Guangzhou",
          "Guangzhou",
          "Guangzhou",
          "Guangzhou",
          "Guangzhou",
          "Guangzhou",
          "Guangzhou",
          "Guangzhou",
          "Guangzhou",
          "Guangzhou",
          "Guangzhou",
          "Guangzhou",
          "Guangzhou",
          "Guangzhou",
          "Guangzhou",
          "Guangzhou",
          "Guangzhou",
          "Guangzhou",
          "Guangzhou",
          "Guangzhou",
          "Guangzhou",
          "Guangzhou",
          "Guangzhou",
          "Guangzhou",
          "Guangzhou",
          "Guangzhou",
          "Guangzhou",
          "Guangzhou",
          "Guangzhou",
          "Guangzhou",
          "Guangzhou",
          "Guangzhou",
          "Guangzhou",
          "Guangzhou",
          "Guangzhou",
          "Guangzhou",
          "Guangzhou",
          "Guangzhou",
          "Guangzhou",
          "Guangzhou",
          "Guangzhou",
          "Guangzhou",
          "Guangzhou",
          "Guangzhou",
          "Guangzhou",
          "Guangzhou",
          "Guangzhou",
          "Guangzhou",
          "Guangzhou",
          "Guangzhou",
          "Guangzhou",
          "Guangzhou",
          "Guangzhou",
          "Guangzhou",
          "Guangzhou",
          "Guangzhou",
          "Guangzhou",
          "Guangzhou",
          "Guangzhou",
          "Guangzhou",
          "Guangzhou",
          "Guangzhou",
          "Guangzhou",
          "Guangzhou",
          "Guangzhou",
          "Guangzhou",
          "Guangzhou",
          "Guangzhou",
          "Guangzhou",
          "Guangzhou",
          "Guangzhou",
          "Guangzhou",
          "Guangzhou",
          "Guangzhou",
          "Guangzhou",
          "Guangzhou",
          "Guangzhou",
          "Guangzhou",
          "Guangzhou",
          "Guangzhou",
          "Guangzhou",
          "Guangzhou",
          "Guangzhou",
          "Guangzhou",
          "Guangzhou",
          "Guangzhou",
          "Guangzhou",
          "Guangzhou",
          "Guangzhou",
          "Guangzhou",
          "Guangzhou",
          "Guangzhou",
          "Guangzhou",
          "Guangzhou",
          "Guangzhou",
          "Guangzhou",
          "Guangzhou",
          "Guangzhou",
          "Guangzhou",
          "Guangzhou",
          "Guangzhou",
          "Guangzhou",
          "Guangzhou",
          "Guangzhou",
          "Guangzhou",
          "Guangzhou",
          "Guangzhou",
          "Guangzhou",
          "Guangzhou",
          "Guangzhou",
          "Guangzhou",
          "Guangzhou",
          "Guangzhou",
          "Guangzhou",
          "Guangzhou",
          "Guangzhou",
          "Guangzhou",
          "Guangzhou",
          "Guangzhou",
          "Guangzhou",
          "Guangzhou",
          "Guangzhou",
          "Guangzhou",
          "Guangzhou",
          "Guangzhou",
          "Guangzhou",
          "Guangzhou",
          "Guangzhou",
          "Guangzhou",
          "Guangzhou",
          "Guangzhou",
          "Guangzhou",
          "Guangzhou",
          "Guangzhou",
          "Guangzhou",
          "Guangzhou",
          "Guangzhou",
          "Guangzhou",
          "Guangzhou",
          "Guangzhou",
          "Guangzhou",
          "Guangzhou",
          "Guangzhou",
          "Guangzhou",
          "Guangzhou",
          "Guangzhou",
          "Guangzhou",
          "Guangzhou",
          "Guangzhou",
          "Guangzhou",
          "Guangzhou",
          "Guangzhou",
          "Guangzhou",
          "Guangzhou",
          "Guangzhou",
          "Guangzhou",
          "Guangzhou",
          "Guangzhou",
          "Guangzhou",
          "Guangzhou",
          "Guangzhou",
          "Guangzhou",
          "Guangzhou",
          "Guangzhou",
          "Guangzhou",
          "Guangzhou",
          "Guangzhou",
          "Guangzhou",
          "Guangzhou",
          "Guangzhou",
          "Guangzhou",
          "Guangzhou",
          "Guangzhou",
          "Guangzhou",
          "Guangzhou",
          "Guangzhou",
          "Guangzhou",
          "Guangzhou",
          "Guangzhou",
          "Guangzhou",
          "Guangzhou",
          "Guangzhou",
          "Guangzhou",
          "Guangzhou",
          "Guangzhou",
          "Guangzhou",
          "Guangzhou",
          "Guangzhou",
          "Guangzhou",
          "Guangzhou",
          "Guangzhou",
          "Guangzhou",
          "Guangzhou",
          "Guangzhou",
          "Guangzhou",
          "Guangzhou",
          "Guangzhou",
          "Guangzhou",
          "Guangzhou",
          "Guangzhou",
          "Guangzhou",
          "Guangzhou",
          "Guangzhou",
          "Guangzhou",
          "Guangzhou",
          "Guangzhou",
          "Guangzhou",
          "Guangzhou",
          "Guangzhou",
          "Guangzhou",
          "Guangzhou",
          "Guangzhou",
          "Guangzhou",
          "Guangzhou",
          "Guangzhou",
          "Guangzhou",
          "Guangzhou",
          "Guangzhou",
          "Guangzhou",
          "Guangzhou",
          "Guangzhou",
          "Guangzhou",
          "Guangzhou",
          "Guangzhou",
          "Guangzhou",
          "Guangzhou",
          "Guangzhou",
          "Guangzhou",
          "Guangzhou",
          "Guangzhou",
          "Guangzhou",
          "Guangzhou",
          "Guangzhou",
          "Guangzhou",
          "Guangzhou",
          "Guangzhou",
          "Guangzhou",
          "Guangzhou",
          "Guangzhou",
          "Guangzhou",
          "Guangzhou",
          "Guangzhou",
          "Guangzhou",
          "Guangzhou",
          "Guangzhou",
          "Guangzhou",
          "Guangzhou",
          "Guangzhou",
          "Guangzhou",
          "Guangzhou",
          "Guangzhou",
          "Guangzhou",
          "Guangzhou",
          "Guangzhou",
          "Guangzhou",
          "Guangzhou",
          "Guangzhou",
          "Guangzhou",
          "Guangzhou",
          "Guangzhou",
          "Guangzhou",
          "Guangzhou",
          "Guangzhou",
          "Guangzhou",
          "Guangzhou",
          "Guangzhou",
          "Guangzhou",
          "Guangzhou",
          "Guangzhou",
          "Guangzhou",
          "Guangzhou",
          "Guangzhou",
          "Guangzhou",
          "Guangzhou",
          "Guangzhou",
          "Guangzhou",
          "Guangzhou",
          "Guangzhou",
          "Guangzhou",
          "Guangzhou",
          "Guangzhou",
          "Guangzhou",
          "Guangzhou",
          "Guangzhou",
          "Guangzhou",
          "Guangzhou",
          "Guangzhou",
          "Guangzhou",
          "Guangzhou",
          "Guangzhou",
          "Guangzhou",
          "Guangzhou",
          "Guangzhou",
          "Guangzhou",
          "Guangzhou",
          "Guangzhou",
          "Guangzhou",
          "Guangzhou",
          "Guangzhou",
          "Guangzhou",
          "Guangzhou",
          "Guangzhou",
          "Guangzhou",
          "Guangzhou",
          "Guangzhou",
          "Guangzhou",
          "Guangzhou",
          "Guangzhou",
          "Guangzhou",
          "Guangzhou",
          "Guangzhou",
          "Guangzhou",
          "Guangzhou",
          "Guangzhou",
          "Guangzhou",
          "Guangzhou",
          "Guangzhou",
          "Guangzhou",
          "Guangzhou",
          "Guangzhou",
          "Guangzhou",
          "Guangzhou",
          "Guangzhou",
          "Guangzhou",
          "Guangzhou",
          "Guangzhou",
          "Guangzhou",
          "Guangzhou",
          "Guangzhou",
          "Guangzhou",
          "Guangzhou",
          "Guangzhou",
          "Guangzhou",
          "Guangzhou",
          "Guangzhou",
          "Guangzhou",
          "Guangzhou",
          "Guangzhou",
          "Guangzhou",
          "Guangzhou",
          "Guangzhou",
          "Guangzhou",
          "Guangzhou",
          "Guangzhou",
          "Guangzhou",
          "Guangzhou",
          "Guangzhou",
          "Guangzhou",
          "Guangzhou",
          "Guangzhou",
          "Guangzhou",
          "Guangzhou",
          "Guangzhou",
          "Guangzhou",
          "Guangzhou",
          "Guangzhou",
          "Guangzhou",
          "Guangzhou",
          "Guangzhou",
          "Guangzhou",
          "Guangzhou",
          "Guangzhou",
          "Guangzhou",
          "Guangzhou",
          "Guangzhou",
          "Guangzhou",
          "Guangzhou",
          "Guangzhou",
          "Guangzhou",
          "Guangzhou",
          "Guangzhou",
          "Guangzhou",
          "Guangzhou",
          "Guangzhou",
          "Guangzhou",
          "Guangzhou",
          "Guangzhou",
          "Guangzhou",
          "Guangzhou",
          "Guangzhou",
          "Guangzhou",
          "Guangzhou",
          "Guangzhou",
          "Guangzhou",
          "Guangzhou",
          "Guangzhou",
          "Guangzhou",
          "Guangzhou",
          "Guangzhou",
          "Guangzhou",
          "Guangzhou",
          "Guangzhou",
          "Guangzhou",
          "Guangzhou",
          "Guangzhou"
         ],
         "x0": " ",
         "xaxis": "x",
         "y": {
          "bdata": "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",
          "dtype": "f8"
         },
         "y0": " ",
         "yaxis": "y"
        }
       ],
       "layout": {
        "boxmode": "overlay",
        "legend": {
         "title": {
          "text": "City"
         },
         "tracegroupgap": 0
        },
        "template": {
         "data": {
          "bar": [
           {
            "error_x": {
             "color": "#2a3f5f"
            },
            "error_y": {
             "color": "#2a3f5f"
            },
            "marker": {
             "line": {
              "color": "#E5ECF6",
              "width": 0.5
             },
             "pattern": {
              "fillmode": "overlay",
              "size": 10,
              "solidity": 0.2
             }
            },
            "type": "bar"
           }
          ],
          "barpolar": [
           {
            "marker": {
             "line": {
              "color": "#E5ECF6",
              "width": 0.5
             },
             "pattern": {
              "fillmode": "overlay",
              "size": 10,
              "solidity": 0.2
             }
            },
            "type": "barpolar"
           }
          ],
          "carpet": [
           {
            "aaxis": {
             "endlinecolor": "#2a3f5f",
             "gridcolor": "white",
             "linecolor": "white",
             "minorgridcolor": "white",
             "startlinecolor": "#2a3f5f"
            },
            "baxis": {
             "endlinecolor": "#2a3f5f",
             "gridcolor": "white",
             "linecolor": "white",
             "minorgridcolor": "white",
             "startlinecolor": "#2a3f5f"
            },
            "type": "carpet"
           }
          ],
          "choropleth": [
           {
            "colorbar": {
             "outlinewidth": 0,
             "ticks": ""
            },
            "type": "choropleth"
           }
          ],
          "contour": [
           {
            "colorbar": {
             "outlinewidth": 0,
             "ticks": ""
            },
            "colorscale": [
             [
              0,
              "#0d0887"
             ],
             [
              0.1111111111111111,
              "#46039f"
             ],
             [
              0.2222222222222222,
              "#7201a8"
             ],
             [
              0.3333333333333333,
              "#9c179e"
             ],
             [
              0.4444444444444444,
              "#bd3786"
             ],
             [
              0.5555555555555556,
              "#d8576b"
             ],
             [
              0.6666666666666666,
              "#ed7953"
             ],
             [
              0.7777777777777778,
              "#fb9f3a"
             ],
             [
              0.8888888888888888,
              "#fdca26"
             ],
             [
              1,
              "#f0f921"
             ]
            ],
            "type": "contour"
           }
          ],
          "contourcarpet": [
           {
            "colorbar": {
             "outlinewidth": 0,
             "ticks": ""
            },
            "type": "contourcarpet"
           }
          ],
          "heatmap": [
           {
            "colorbar": {
             "outlinewidth": 0,
             "ticks": ""
            },
            "colorscale": [
             [
              0,
              "#0d0887"
             ],
             [
              0.1111111111111111,
              "#46039f"
             ],
             [
              0.2222222222222222,
              "#7201a8"
             ],
             [
              0.3333333333333333,
              "#9c179e"
             ],
             [
              0.4444444444444444,
              "#bd3786"
             ],
             [
              0.5555555555555556,
              "#d8576b"
             ],
             [
              0.6666666666666666,
              "#ed7953"
             ],
             [
              0.7777777777777778,
              "#fb9f3a"
             ],
             [
              0.8888888888888888,
              "#fdca26"
             ],
             [
              1,
              "#f0f921"
             ]
            ],
            "type": "heatmap"
           }
          ],
          "histogram": [
           {
            "marker": {
             "pattern": {
              "fillmode": "overlay",
              "size": 10,
              "solidity": 0.2
             }
            },
            "type": "histogram"
           }
          ],
          "histogram2d": [
           {
            "colorbar": {
             "outlinewidth": 0,
             "ticks": ""
            },
            "colorscale": [
             [
              0,
              "#0d0887"
             ],
             [
              0.1111111111111111,
              "#46039f"
             ],
             [
              0.2222222222222222,
              "#7201a8"
             ],
             [
              0.3333333333333333,
              "#9c179e"
             ],
             [
              0.4444444444444444,
              "#bd3786"
             ],
             [
              0.5555555555555556,
              "#d8576b"
             ],
             [
              0.6666666666666666,
              "#ed7953"
             ],
             [
              0.7777777777777778,
              "#fb9f3a"
             ],
             [
              0.8888888888888888,
              "#fdca26"
             ],
             [
              1,
              "#f0f921"
             ]
            ],
            "type": "histogram2d"
           }
          ],
          "histogram2dcontour": [
           {
            "colorbar": {
             "outlinewidth": 0,
             "ticks": ""
            },
            "colorscale": [
             [
              0,
              "#0d0887"
             ],
             [
              0.1111111111111111,
              "#46039f"
             ],
             [
              0.2222222222222222,
              "#7201a8"
             ],
             [
              0.3333333333333333,
              "#9c179e"
             ],
             [
              0.4444444444444444,
              "#bd3786"
             ],
             [
              0.5555555555555556,
              "#d8576b"
             ],
             [
              0.6666666666666666,
              "#ed7953"
             ],
             [
              0.7777777777777778,
              "#fb9f3a"
             ],
             [
              0.8888888888888888,
              "#fdca26"
             ],
             [
              1,
              "#f0f921"
             ]
            ],
            "type": "histogram2dcontour"
           }
          ],
          "mesh3d": [
           {
            "colorbar": {
             "outlinewidth": 0,
             "ticks": ""
            },
            "type": "mesh3d"
           }
          ],
          "parcoords": [
           {
            "line": {
             "colorbar": {
              "outlinewidth": 0,
              "ticks": ""
             }
            },
            "type": "parcoords"
           }
          ],
          "pie": [
           {
            "automargin": true,
            "type": "pie"
           }
          ],
          "scatter": [
           {
            "fillpattern": {
             "fillmode": "overlay",
             "size": 10,
             "solidity": 0.2
            },
            "type": "scatter"
           }
          ],
          "scatter3d": [
           {
            "line": {
             "colorbar": {
              "outlinewidth": 0,
              "ticks": ""
             }
            },
            "marker": {
             "colorbar": {
              "outlinewidth": 0,
              "ticks": ""
             }
            },
            "type": "scatter3d"
           }
          ],
          "scattercarpet": [
           {
            "marker": {
             "colorbar": {
              "outlinewidth": 0,
              "ticks": ""
             }
            },
            "type": "scattercarpet"
           }
          ],
          "scattergeo": [
           {
            "marker": {
             "colorbar": {
              "outlinewidth": 0,
              "ticks": ""
             }
            },
            "type": "scattergeo"
           }
          ],
          "scattergl": [
           {
            "marker": {
             "colorbar": {
              "outlinewidth": 0,
              "ticks": ""
             }
            },
            "type": "scattergl"
           }
          ],
          "scattermap": [
           {
            "marker": {
             "colorbar": {
              "outlinewidth": 0,
              "ticks": ""
             }
            },
            "type": "scattermap"
           }
          ],
          "scattermapbox": [
           {
            "marker": {
             "colorbar": {
              "outlinewidth": 0,
              "ticks": ""
             }
            },
            "type": "scattermapbox"
           }
          ],
          "scatterpolar": [
           {
            "marker": {
             "colorbar": {
              "outlinewidth": 0,
              "ticks": ""
             }
            },
            "type": "scatterpolar"
           }
          ],
          "scatterpolargl": [
           {
            "marker": {
             "colorbar": {
              "outlinewidth": 0,
              "ticks": ""
             }
            },
            "type": "scatterpolargl"
           }
          ],
          "scatterternary": [
           {
            "marker": {
             "colorbar": {
              "outlinewidth": 0,
              "ticks": ""
             }
            },
            "type": "scatterternary"
           }
          ],
          "surface": [
           {
            "colorbar": {
             "outlinewidth": 0,
             "ticks": ""
            },
            "colorscale": [
             [
              0,
              "#0d0887"
             ],
             [
              0.1111111111111111,
              "#46039f"
             ],
             [
              0.2222222222222222,
              "#7201a8"
             ],
             [
              0.3333333333333333,
              "#9c179e"
             ],
             [
              0.4444444444444444,
              "#bd3786"
             ],
             [
              0.5555555555555556,
              "#d8576b"
             ],
             [
              0.6666666666666666,
              "#ed7953"
             ],
             [
              0.7777777777777778,
              "#fb9f3a"
             ],
             [
              0.8888888888888888,
              "#fdca26"
             ],
             [
              1,
              "#f0f921"
             ]
            ],
            "type": "surface"
           }
          ],
          "table": [
           {
            "cells": {
             "fill": {
              "color": "#EBF0F8"
             },
             "line": {
              "color": "white"
             }
            },
            "header": {
             "fill": {
              "color": "#C8D4E3"
             },
             "line": {
              "color": "white"
             }
            },
            "type": "table"
           }
          ]
         },
         "layout": {
          "annotationdefaults": {
           "arrowcolor": "#2a3f5f",
           "arrowhead": 0,
           "arrowwidth": 1
          },
          "autotypenumbers": "strict",
          "coloraxis": {
           "colorbar": {
            "outlinewidth": 0,
            "ticks": ""
           }
          },
          "colorscale": {
           "diverging": [
            [
             0,
             "#8e0152"
            ],
            [
             0.1,
             "#c51b7d"
            ],
            [
             0.2,
             "#de77ae"
            ],
            [
             0.3,
             "#f1b6da"
            ],
            [
             0.4,
             "#fde0ef"
            ],
            [
             0.5,
             "#f7f7f7"
            ],
            [
             0.6,
             "#e6f5d0"
            ],
            [
             0.7,
             "#b8e186"
            ],
            [
             0.8,
             "#7fbc41"
            ],
            [
             0.9,
             "#4d9221"
            ],
            [
             1,
             "#276419"
            ]
           ],
           "sequential": [
            [
             0,
             "#0d0887"
            ],
            [
             0.1111111111111111,
             "#46039f"
            ],
            [
             0.2222222222222222,
             "#7201a8"
            ],
            [
             0.3333333333333333,
             "#9c179e"
            ],
            [
             0.4444444444444444,
             "#bd3786"
            ],
            [
             0.5555555555555556,
             "#d8576b"
            ],
            [
             0.6666666666666666,
             "#ed7953"
            ],
            [
             0.7777777777777778,
             "#fb9f3a"
            ],
            [
             0.8888888888888888,
             "#fdca26"
            ],
            [
             1,
             "#f0f921"
            ]
           ],
           "sequentialminus": [
            [
             0,
             "#0d0887"
            ],
            [
             0.1111111111111111,
             "#46039f"
            ],
            [
             0.2222222222222222,
             "#7201a8"
            ],
            [
             0.3333333333333333,
             "#9c179e"
            ],
            [
             0.4444444444444444,
             "#bd3786"
            ],
            [
             0.5555555555555556,
             "#d8576b"
            ],
            [
             0.6666666666666666,
             "#ed7953"
            ],
            [
             0.7777777777777778,
             "#fb9f3a"
            ],
            [
             0.8888888888888888,
             "#fdca26"
            ],
            [
             1,
             "#f0f921"
            ]
           ]
          },
          "colorway": [
           "#636efa",
           "#EF553B",
           "#00cc96",
           "#ab63fa",
           "#FFA15A",
           "#19d3f3",
           "#FF6692",
           "#B6E880",
           "#FF97FF",
           "#FECB52"
          ],
          "font": {
           "color": "#2a3f5f"
          },
          "geo": {
           "bgcolor": "white",
           "lakecolor": "white",
           "landcolor": "#E5ECF6",
           "showlakes": true,
           "showland": true,
           "subunitcolor": "white"
          },
          "hoverlabel": {
           "align": "left"
          },
          "hovermode": "closest",
          "mapbox": {
           "style": "light"
          },
          "paper_bgcolor": "white",
          "plot_bgcolor": "#E5ECF6",
          "polar": {
           "angularaxis": {
            "gridcolor": "white",
            "linecolor": "white",
            "ticks": ""
           },
           "bgcolor": "#E5ECF6",
           "radialaxis": {
            "gridcolor": "white",
            "linecolor": "white",
            "ticks": ""
           }
          },
          "scene": {
           "xaxis": {
            "backgroundcolor": "#E5ECF6",
            "gridcolor": "white",
            "gridwidth": 2,
            "linecolor": "white",
            "showbackground": true,
            "ticks": "",
            "zerolinecolor": "white"
           },
           "yaxis": {
            "backgroundcolor": "#E5ECF6",
            "gridcolor": "white",
            "gridwidth": 2,
            "linecolor": "white",
            "showbackground": true,
            "ticks": "",
            "zerolinecolor": "white"
           },
           "zaxis": {
            "backgroundcolor": "#E5ECF6",
            "gridcolor": "white",
            "gridwidth": 2,
            "linecolor": "white",
            "showbackground": true,
            "ticks": "",
            "zerolinecolor": "white"
           }
          },
          "shapedefaults": {
           "line": {
            "color": "#2a3f5f"
           }
          },
          "ternary": {
           "aaxis": {
            "gridcolor": "white",
            "linecolor": "white",
            "ticks": ""
           },
           "baxis": {
            "gridcolor": "white",
            "linecolor": "white",
            "ticks": ""
           },
           "bgcolor": "#E5ECF6",
           "caxis": {
            "gridcolor": "white",
            "linecolor": "white",
            "ticks": ""
           }
          },
          "title": {
           "x": 0.05
          },
          "xaxis": {
           "automargin": true,
           "gridcolor": "white",
           "linecolor": "white",
           "ticks": "",
           "title": {
            "standoff": 15
           },
           "zerolinecolor": "white",
           "zerolinewidth": 2
          },
          "yaxis": {
           "automargin": true,
           "gridcolor": "white",
           "linecolor": "white",
           "ticks": "",
           "title": {
            "standoff": 15
           },
           "zerolinecolor": "white",
           "zerolinewidth": 2
          }
         }
        },
        "title": {
         "text": "PM2.5 Trends by City Over Time"
        },
        "xaxis": {
         "anchor": "y",
         "categoryarray": [
          "Shenzhen",
          "Shanghai",
          "Beijing",
          "Chengdu",
          "Guangzhou"
         ],
         "categoryorder": "array",
         "domain": [
          0,
          1
         ],
         "title": {
          "text": "City"
         }
        },
        "yaxis": {
         "anchor": "x",
         "domain": [
          0,
          1
         ],
         "title": {
          "text": "PM2.5 (µg/m³)"
         }
        }
       }
      }
     },
     "metadata": {},
     "output_type": "display_data"
    }
   ],
   "source": [
    "fig = px.box(pollution, x = 'City', y = 'PM2.5 (µg/m³)', color='City', title='PM2.5 Trends by City Over Time')\n",
    "fig.show()"
   ]
  },
  {
   "cell_type": "markdown",
   "id": "93e7185140d9eb6a",
   "metadata": {},
   "source": [
    "The median PM2.5 matter value seems to be higher in Shanghai and the lowest in Beijing but only by a small margin. Overall, the cities seem to have close median and interquartile range.\n",
    "\n",
    "It would also be good to check PM2.5 matter concentrations for different seasons and cities."
   ]
  },
  {
   "cell_type": "code",
   "execution_count": 691,
   "id": "6d3437e66dd5139",
   "metadata": {
    "ExecuteTime": {
     "end_time": "2025-04-20T12:57:23.508804Z",
     "start_time": "2025-04-20T12:57:23.471089Z"
    }
   },
   "outputs": [
    {
     "data": {
      "application/vnd.microsoft.datawrangler.viewer.v0+json": {
       "columns": [
        {
         "name": "index",
         "rawType": "int64",
         "type": "integer"
        },
        {
         "name": "City",
         "rawType": "object",
         "type": "string"
        },
        {
         "name": "Season",
         "rawType": "object",
         "type": "string"
        },
        {
         "name": "PM2.5 (µg/m³)",
         "rawType": "float64",
         "type": "float"
        }
       ],
       "conversionMethod": "pd.DataFrame",
       "ref": "c4817681-a0ab-41cd-9dac-2a36dec41027",
       "rows": [
        [
         "0",
         "Shenzhen",
         "Spring",
         "94.43733659950782"
        ],
        [
         "1",
         "Shanghai",
         "Spring",
         "194.1747895640595"
        ],
        [
         "2",
         "Beijing",
         "Autumn",
         "45.03766145475919"
        ],
        [
         "3",
         "Shanghai",
         "Summer",
         "76.13185664614909"
        ],
        [
         "4",
         "Beijing",
         "Spring",
         "204.12792850538224"
        ]
       ],
       "shape": {
        "columns": 3,
        "rows": 5
       }
      },
      "text/html": [
       "<div>\n",
       "<style scoped>\n",
       "    .dataframe tbody tr th:only-of-type {\n",
       "        vertical-align: middle;\n",
       "    }\n",
       "\n",
       "    .dataframe tbody tr th {\n",
       "        vertical-align: top;\n",
       "    }\n",
       "\n",
       "    .dataframe thead th {\n",
       "        text-align: right;\n",
       "    }\n",
       "</style>\n",
       "<table border=\"1\" class=\"dataframe\">\n",
       "  <thead>\n",
       "    <tr style=\"text-align: right;\">\n",
       "      <th></th>\n",
       "      <th>City</th>\n",
       "      <th>Season</th>\n",
       "      <th>PM2.5 (µg/m³)</th>\n",
       "    </tr>\n",
       "  </thead>\n",
       "  <tbody>\n",
       "    <tr>\n",
       "      <th>0</th>\n",
       "      <td>Shenzhen</td>\n",
       "      <td>Spring</td>\n",
       "      <td>94.437337</td>\n",
       "    </tr>\n",
       "    <tr>\n",
       "      <th>1</th>\n",
       "      <td>Shanghai</td>\n",
       "      <td>Spring</td>\n",
       "      <td>194.174790</td>\n",
       "    </tr>\n",
       "    <tr>\n",
       "      <th>2</th>\n",
       "      <td>Beijing</td>\n",
       "      <td>Autumn</td>\n",
       "      <td>45.037661</td>\n",
       "    </tr>\n",
       "    <tr>\n",
       "      <th>3</th>\n",
       "      <td>Shanghai</td>\n",
       "      <td>Summer</td>\n",
       "      <td>76.131857</td>\n",
       "    </tr>\n",
       "    <tr>\n",
       "      <th>4</th>\n",
       "      <td>Beijing</td>\n",
       "      <td>Spring</td>\n",
       "      <td>204.127929</td>\n",
       "    </tr>\n",
       "  </tbody>\n",
       "</table>\n",
       "</div>"
      ],
      "text/plain": [
       "       City  Season  PM2.5 (µg/m³)\n",
       "0  Shenzhen  Spring      94.437337\n",
       "1  Shanghai  Spring     194.174790\n",
       "2   Beijing  Autumn      45.037661\n",
       "3  Shanghai  Summer      76.131857\n",
       "4   Beijing  Spring     204.127929"
      ]
     },
     "execution_count": 691,
     "metadata": {},
     "output_type": "execute_result"
    }
   ],
   "source": [
    "city_season_df = pollution[['City', 'Season', 'PM2.5 (µg/m³)']]\n",
    "city_season_df.head()\n"
   ]
  },
  {
   "cell_type": "code",
   "execution_count": 692,
   "id": "db35c2b4050247",
   "metadata": {
    "ExecuteTime": {
     "end_time": "2025-04-20T12:57:26.738149Z",
     "start_time": "2025-04-20T12:57:26.732735Z"
    }
   },
   "outputs": [],
   "source": [
    "# Creating a multi select filter using ipywidgets\n",
    "city_filter = widgets.SelectMultiple(\n",
    "    options=city_season_df['City'].unique(),\n",
    "    value=['Beijing'],\n",
    "    description='City',\n",
    "    layout=widgets.Layout(width='50%'))"
   ]
  },
  {
   "cell_type": "code",
   "execution_count": 693,
   "id": "cb69f2d52224c790",
   "metadata": {
    "ExecuteTime": {
     "end_time": "2025-04-20T12:57:28.643466Z",
     "start_time": "2025-04-20T12:57:28.531062Z"
    }
   },
   "outputs": [
    {
     "name": "stdout",
     "output_type": "stream",
     "text": [
      "Tip: Hold Cmd (or Ctrl on Windows) and click to select multiple cities.\n"
     ]
    },
    {
     "data": {
      "application/vnd.jupyter.widget-view+json": {
       "model_id": "f57d879d8b48435a82b29e822e43c66f",
       "version_major": 2,
       "version_minor": 0
      },
      "text/plain": [
       "interactive(children=(SelectMultiple(description='City', index=(2,), layout=Layout(width='50%'), options=('She…"
      ]
     },
     "execution_count": 693,
     "metadata": {},
     "output_type": "execute_result"
    }
   ],
   "source": [
    "def update_plot(input_cities):\n",
    "    filtered_df = city_season_df[city_season_df['City'].isin(input_cities)]\n",
    "    fig = px.box(\n",
    "        filtered_df,\n",
    "        x = 'Season',\n",
    "        y = 'PM2.5 (µg/m³)',\n",
    "        title = 'PM2.5 (µg/m³) concentration by season'\n",
    "    )\n",
    "    fig.update_traces(marker_color='#ff7f0e', line_color='#ff7f0e') # changing the color of the boxplot\n",
    "    fig.update_xaxes(categoryorder='category ascending') # ordering x axis by season\n",
    "    fig.show()\n",
    "\n",
    "print(\"Tip: Hold Cmd (or Ctrl on Windows) and click to select multiple cities.\")\n",
    "widgets.interactive(update_plot, input_cities=city_filter)"
   ]
  },
  {
   "cell_type": "markdown",
   "id": "1fa3efa98f5ded7",
   "metadata": {},
   "source": [
    "On an aggregate across all cities combined, spring seems to have the highest median PM2.5 concentration but this trend doesn't seem to be the case for individual cities. For example, Shanghai has higher PM2.5 concentration during Autumn and Summer.\n",
    "\n",
    "Another thing to note is that Chengdu seems to have the highest median PM2.5 concentration of 160 µg/m³."
   ]
  },
  {
   "cell_type": "markdown",
   "id": "129d13eceb78c69a",
   "metadata": {},
   "source": [
    "## Pollution levels and weather\n",
    "\n",
    "In this section, we'll explore patterns between weather conditions and different pollutants. We'll also explore correlation between different pollutants"
   ]
  },
  {
   "cell_type": "code",
   "execution_count": 694,
   "id": "62350e0263892192",
   "metadata": {
    "ExecuteTime": {
     "end_time": "2025-04-20T12:57:34.469082Z",
     "start_time": "2025-04-20T12:57:34.279063Z"
    }
   },
   "outputs": [
    {
     "name": "stdout",
     "output_type": "stream",
     "text": [
      "Tip: Press the Play button at the bottom to view trends by year\n"
     ]
    },
    {
     "data": {
      "application/vnd.jupyter.widget-view+json": {
       "model_id": "0be63ea1f56e4dec9150bfcf9aae4420",
       "version_major": 2,
       "version_minor": 0
      },
      "text/plain": [
       "interactive(children=(Dropdown(description='Pollutant:', options=('PM2.5 (µg/m³)', 'PM10 (µg/m³)', 'NO2 (µg/m³…"
      ]
     },
     "execution_count": 694,
     "metadata": {},
     "output_type": "execute_result"
    }
   ],
   "source": [
    "from plotly.subplots import make_subplots\n",
    "import plotly.graph_objects as go\n",
    "\n",
    "# Listing all weather and pollutants for filters\n",
    "weather_conditions = ['Temperature (°C)', 'Humidity (%)', 'Precipitation (mm)', 'Wind Speed (m/s)']\n",
    "pollutants = ['PM2.5 (µg/m³)', 'PM10 (µg/m³)', 'NO2 (µg/m³)', 'SO2 (µg/m³)', 'CO (mg/m³)', 'O3 (µg/m³)', 'AQI']\n",
    "\n",
    "# Creating filter to select pollutant\n",
    "pollutant_filter = widgets.Dropdown(\n",
    "    options=pollutants,\n",
    "    value='PM2.5 (µg/m³)',\n",
    "    description='Pollutant:',\n",
    "    disabled=False,\n",
    ")\n",
    "\n",
    "# Creating filter to select city\n",
    "city_filter = widgets.Dropdown(\n",
    "    options=pollution['City'].unique(),\n",
    "    value='Beijing',\n",
    "    description='City:',\n",
    "    disabled=False,\n",
    ")\n",
    "\n",
    "# Creating filter to select weather\n",
    "weather_filter = widgets.Dropdown(\n",
    "    options=weather_conditions,\n",
    "    value='Temperature (°C)',\n",
    "    description='Weather:',\n",
    "    disabled=False,\n",
    ")\n",
    "\n",
    "def update_weather_pollution_plot(input_pollutant, input_city, input_weather):\n",
    "\n",
    "    # filtering data based on user selected input\n",
    "    filtered_df = pollution[pollution['City'] == input_city][['City', input_pollutant, input_weather, 'Season', 'Year']].sort_values(by=['Year'])\n",
    "\n",
    "    # Creating a scatter plot and faceting on Season\n",
    "    fig = px.scatter(\n",
    "        filtered_df,\n",
    "        x = input_weather,\n",
    "        y = input_pollutant,\n",
    "        facet_row='Season',\n",
    "        animation_frame='Year'\n",
    "    )\n",
    "\n",
    "    fig.update_layout(height=1000, width=800, title_text=f\"{input_pollutant} vs {input_weather}s for {input_city}\")\n",
    "    fig.show()\n",
    "\n",
    "print('Tip: Press the Play button at the bottom to view trends by year')\n",
    "widgets.interactive(update_weather_pollution_plot, input_city=city_filter, input_pollutant=pollutant_filter, input_weather=weather_filter)"
   ]
  },
  {
   "cell_type": "code",
   "execution_count": 695,
   "id": "86a88391616f0893",
   "metadata": {
    "ExecuteTime": {
     "end_time": "2025-04-20T12:57:42.350056Z",
     "start_time": "2025-04-20T12:57:42.275325Z"
    }
   },
   "outputs": [
    {
     "data": {
      "application/vnd.plotly.v1+json": {
       "config": {
        "plotlyServerURL": "https://plot.ly"
       },
       "data": [
        {
         "coloraxis": "coloraxis",
         "hovertemplate": "x: %{x}<br>y: %{y}<br>color: %{z}<extra></extra>",
         "name": "0",
         "texttemplate": "%{z}",
         "type": "heatmap",
         "x": [
          "PM2.5 (µg/m³)",
          "PM10 (µg/m³)",
          "NO2 (µg/m³)",
          "SO2 (µg/m³)",
          "CO (mg/m³)",
          "O3 (µg/m³)",
          "AQI"
         ],
         "xaxis": "x",
         "y": [
          "PM2.5 (µg/m³)",
          "PM10 (µg/m³)",
          "NO2 (µg/m³)",
          "SO2 (µg/m³)",
          "CO (mg/m³)",
          "O3 (µg/m³)",
          "AQI"
         ],
         "yaxis": "y",
         "z": {
          "bdata": "AAAAAAAA8D9f/Xow1+VUv+V8bh1CvYA/718/u8CBnD/6OdXYToKGv1LqrdRaJXG/ufo9W7cGej9f/Xow1+VUvwAAAAAAAPA/Fc5EFTKLgj+Ia0H967SXPwMvS3JitKC/zScWBKXRh79ByZTP6xeHv+V8bh1CvYA/Fc5EFTKLgj8AAAAAAADwP4G0LYo1W48/zbexpEFFi7+UCfKZyAV+PxKaGFDJm4+/718/u8CBnD+Ia0H967SXP4G0LYo1W48/AAAAAAAA8D/yl5+DPtyEP/wlHxpubYk/+F4J9NkHnb/6OdXYToKGvwMvS3JitKC/zbexpEFFi7/yl5+DPtyEPwAAAAAAAPA/iY1uOcJ5f79Rfd6XjqKTv1LqrdRaJXG/zScWBKXRh7+UCfKZyAV+P/wlHxpubYk/iY1uOcJ5f78AAAAAAADwP7HDE9W3VHq/ufo9W7cGej9ByZTP6xeHvxKaGFDJm4+/+F4J9NkHnb9Rfd6XjqKTv7HDE9W3VHq/AAAAAAAA8D8=",
          "dtype": "f8",
          "shape": "7, 7"
         }
        }
       ],
       "layout": {
        "coloraxis": {
         "cmax": 1,
         "cmin": -1,
         "colorscale": [
          [
           0,
           "rgb(23, 28, 66)"
          ],
          [
           0.09090909090909091,
           "rgb(41, 58, 143)"
          ],
          [
           0.18181818181818182,
           "rgb(11, 102, 189)"
          ],
          [
           0.2727272727272727,
           "rgb(69, 144, 185)"
          ],
          [
           0.36363636363636365,
           "rgb(142, 181, 194)"
          ],
          [
           0.45454545454545453,
           "rgb(210, 216, 219)"
          ],
          [
           0.5454545454545454,
           "rgb(230, 210, 204)"
          ],
          [
           0.6363636363636364,
           "rgb(213, 157, 137)"
          ],
          [
           0.7272727272727273,
           "rgb(196, 101, 72)"
          ],
          [
           0.8181818181818182,
           "rgb(172, 43, 36)"
          ],
          [
           0.9090909090909091,
           "rgb(120, 14, 40)"
          ],
          [
           1,
           "rgb(60, 9, 17)"
          ]
         ]
        },
        "template": {
         "data": {
          "bar": [
           {
            "error_x": {
             "color": "#2a3f5f"
            },
            "error_y": {
             "color": "#2a3f5f"
            },
            "marker": {
             "line": {
              "color": "#E5ECF6",
              "width": 0.5
             },
             "pattern": {
              "fillmode": "overlay",
              "size": 10,
              "solidity": 0.2
             }
            },
            "type": "bar"
           }
          ],
          "barpolar": [
           {
            "marker": {
             "line": {
              "color": "#E5ECF6",
              "width": 0.5
             },
             "pattern": {
              "fillmode": "overlay",
              "size": 10,
              "solidity": 0.2
             }
            },
            "type": "barpolar"
           }
          ],
          "carpet": [
           {
            "aaxis": {
             "endlinecolor": "#2a3f5f",
             "gridcolor": "white",
             "linecolor": "white",
             "minorgridcolor": "white",
             "startlinecolor": "#2a3f5f"
            },
            "baxis": {
             "endlinecolor": "#2a3f5f",
             "gridcolor": "white",
             "linecolor": "white",
             "minorgridcolor": "white",
             "startlinecolor": "#2a3f5f"
            },
            "type": "carpet"
           }
          ],
          "choropleth": [
           {
            "colorbar": {
             "outlinewidth": 0,
             "ticks": ""
            },
            "type": "choropleth"
           }
          ],
          "contour": [
           {
            "colorbar": {
             "outlinewidth": 0,
             "ticks": ""
            },
            "colorscale": [
             [
              0,
              "#0d0887"
             ],
             [
              0.1111111111111111,
              "#46039f"
             ],
             [
              0.2222222222222222,
              "#7201a8"
             ],
             [
              0.3333333333333333,
              "#9c179e"
             ],
             [
              0.4444444444444444,
              "#bd3786"
             ],
             [
              0.5555555555555556,
              "#d8576b"
             ],
             [
              0.6666666666666666,
              "#ed7953"
             ],
             [
              0.7777777777777778,
              "#fb9f3a"
             ],
             [
              0.8888888888888888,
              "#fdca26"
             ],
             [
              1,
              "#f0f921"
             ]
            ],
            "type": "contour"
           }
          ],
          "contourcarpet": [
           {
            "colorbar": {
             "outlinewidth": 0,
             "ticks": ""
            },
            "type": "contourcarpet"
           }
          ],
          "heatmap": [
           {
            "colorbar": {
             "outlinewidth": 0,
             "ticks": ""
            },
            "colorscale": [
             [
              0,
              "#0d0887"
             ],
             [
              0.1111111111111111,
              "#46039f"
             ],
             [
              0.2222222222222222,
              "#7201a8"
             ],
             [
              0.3333333333333333,
              "#9c179e"
             ],
             [
              0.4444444444444444,
              "#bd3786"
             ],
             [
              0.5555555555555556,
              "#d8576b"
             ],
             [
              0.6666666666666666,
              "#ed7953"
             ],
             [
              0.7777777777777778,
              "#fb9f3a"
             ],
             [
              0.8888888888888888,
              "#fdca26"
             ],
             [
              1,
              "#f0f921"
             ]
            ],
            "type": "heatmap"
           }
          ],
          "histogram": [
           {
            "marker": {
             "pattern": {
              "fillmode": "overlay",
              "size": 10,
              "solidity": 0.2
             }
            },
            "type": "histogram"
           }
          ],
          "histogram2d": [
           {
            "colorbar": {
             "outlinewidth": 0,
             "ticks": ""
            },
            "colorscale": [
             [
              0,
              "#0d0887"
             ],
             [
              0.1111111111111111,
              "#46039f"
             ],
             [
              0.2222222222222222,
              "#7201a8"
             ],
             [
              0.3333333333333333,
              "#9c179e"
             ],
             [
              0.4444444444444444,
              "#bd3786"
             ],
             [
              0.5555555555555556,
              "#d8576b"
             ],
             [
              0.6666666666666666,
              "#ed7953"
             ],
             [
              0.7777777777777778,
              "#fb9f3a"
             ],
             [
              0.8888888888888888,
              "#fdca26"
             ],
             [
              1,
              "#f0f921"
             ]
            ],
            "type": "histogram2d"
           }
          ],
          "histogram2dcontour": [
           {
            "colorbar": {
             "outlinewidth": 0,
             "ticks": ""
            },
            "colorscale": [
             [
              0,
              "#0d0887"
             ],
             [
              0.1111111111111111,
              "#46039f"
             ],
             [
              0.2222222222222222,
              "#7201a8"
             ],
             [
              0.3333333333333333,
              "#9c179e"
             ],
             [
              0.4444444444444444,
              "#bd3786"
             ],
             [
              0.5555555555555556,
              "#d8576b"
             ],
             [
              0.6666666666666666,
              "#ed7953"
             ],
             [
              0.7777777777777778,
              "#fb9f3a"
             ],
             [
              0.8888888888888888,
              "#fdca26"
             ],
             [
              1,
              "#f0f921"
             ]
            ],
            "type": "histogram2dcontour"
           }
          ],
          "mesh3d": [
           {
            "colorbar": {
             "outlinewidth": 0,
             "ticks": ""
            },
            "type": "mesh3d"
           }
          ],
          "parcoords": [
           {
            "line": {
             "colorbar": {
              "outlinewidth": 0,
              "ticks": ""
             }
            },
            "type": "parcoords"
           }
          ],
          "pie": [
           {
            "automargin": true,
            "type": "pie"
           }
          ],
          "scatter": [
           {
            "fillpattern": {
             "fillmode": "overlay",
             "size": 10,
             "solidity": 0.2
            },
            "type": "scatter"
           }
          ],
          "scatter3d": [
           {
            "line": {
             "colorbar": {
              "outlinewidth": 0,
              "ticks": ""
             }
            },
            "marker": {
             "colorbar": {
              "outlinewidth": 0,
              "ticks": ""
             }
            },
            "type": "scatter3d"
           }
          ],
          "scattercarpet": [
           {
            "marker": {
             "colorbar": {
              "outlinewidth": 0,
              "ticks": ""
             }
            },
            "type": "scattercarpet"
           }
          ],
          "scattergeo": [
           {
            "marker": {
             "colorbar": {
              "outlinewidth": 0,
              "ticks": ""
             }
            },
            "type": "scattergeo"
           }
          ],
          "scattergl": [
           {
            "marker": {
             "colorbar": {
              "outlinewidth": 0,
              "ticks": ""
             }
            },
            "type": "scattergl"
           }
          ],
          "scattermap": [
           {
            "marker": {
             "colorbar": {
              "outlinewidth": 0,
              "ticks": ""
             }
            },
            "type": "scattermap"
           }
          ],
          "scattermapbox": [
           {
            "marker": {
             "colorbar": {
              "outlinewidth": 0,
              "ticks": ""
             }
            },
            "type": "scattermapbox"
           }
          ],
          "scatterpolar": [
           {
            "marker": {
             "colorbar": {
              "outlinewidth": 0,
              "ticks": ""
             }
            },
            "type": "scatterpolar"
           }
          ],
          "scatterpolargl": [
           {
            "marker": {
             "colorbar": {
              "outlinewidth": 0,
              "ticks": ""
             }
            },
            "type": "scatterpolargl"
           }
          ],
          "scatterternary": [
           {
            "marker": {
             "colorbar": {
              "outlinewidth": 0,
              "ticks": ""
             }
            },
            "type": "scatterternary"
           }
          ],
          "surface": [
           {
            "colorbar": {
             "outlinewidth": 0,
             "ticks": ""
            },
            "colorscale": [
             [
              0,
              "#0d0887"
             ],
             [
              0.1111111111111111,
              "#46039f"
             ],
             [
              0.2222222222222222,
              "#7201a8"
             ],
             [
              0.3333333333333333,
              "#9c179e"
             ],
             [
              0.4444444444444444,
              "#bd3786"
             ],
             [
              0.5555555555555556,
              "#d8576b"
             ],
             [
              0.6666666666666666,
              "#ed7953"
             ],
             [
              0.7777777777777778,
              "#fb9f3a"
             ],
             [
              0.8888888888888888,
              "#fdca26"
             ],
             [
              1,
              "#f0f921"
             ]
            ],
            "type": "surface"
           }
          ],
          "table": [
           {
            "cells": {
             "fill": {
              "color": "#EBF0F8"
             },
             "line": {
              "color": "white"
             }
            },
            "header": {
             "fill": {
              "color": "#C8D4E3"
             },
             "line": {
              "color": "white"
             }
            },
            "type": "table"
           }
          ]
         },
         "layout": {
          "annotationdefaults": {
           "arrowcolor": "#2a3f5f",
           "arrowhead": 0,
           "arrowwidth": 1
          },
          "autotypenumbers": "strict",
          "coloraxis": {
           "colorbar": {
            "outlinewidth": 0,
            "ticks": ""
           }
          },
          "colorscale": {
           "diverging": [
            [
             0,
             "#8e0152"
            ],
            [
             0.1,
             "#c51b7d"
            ],
            [
             0.2,
             "#de77ae"
            ],
            [
             0.3,
             "#f1b6da"
            ],
            [
             0.4,
             "#fde0ef"
            ],
            [
             0.5,
             "#f7f7f7"
            ],
            [
             0.6,
             "#e6f5d0"
            ],
            [
             0.7,
             "#b8e186"
            ],
            [
             0.8,
             "#7fbc41"
            ],
            [
             0.9,
             "#4d9221"
            ],
            [
             1,
             "#276419"
            ]
           ],
           "sequential": [
            [
             0,
             "#0d0887"
            ],
            [
             0.1111111111111111,
             "#46039f"
            ],
            [
             0.2222222222222222,
             "#7201a8"
            ],
            [
             0.3333333333333333,
             "#9c179e"
            ],
            [
             0.4444444444444444,
             "#bd3786"
            ],
            [
             0.5555555555555556,
             "#d8576b"
            ],
            [
             0.6666666666666666,
             "#ed7953"
            ],
            [
             0.7777777777777778,
             "#fb9f3a"
            ],
            [
             0.8888888888888888,
             "#fdca26"
            ],
            [
             1,
             "#f0f921"
            ]
           ],
           "sequentialminus": [
            [
             0,
             "#0d0887"
            ],
            [
             0.1111111111111111,
             "#46039f"
            ],
            [
             0.2222222222222222,
             "#7201a8"
            ],
            [
             0.3333333333333333,
             "#9c179e"
            ],
            [
             0.4444444444444444,
             "#bd3786"
            ],
            [
             0.5555555555555556,
             "#d8576b"
            ],
            [
             0.6666666666666666,
             "#ed7953"
            ],
            [
             0.7777777777777778,
             "#fb9f3a"
            ],
            [
             0.8888888888888888,
             "#fdca26"
            ],
            [
             1,
             "#f0f921"
            ]
           ]
          },
          "colorway": [
           "#636efa",
           "#EF553B",
           "#00cc96",
           "#ab63fa",
           "#FFA15A",
           "#19d3f3",
           "#FF6692",
           "#B6E880",
           "#FF97FF",
           "#FECB52"
          ],
          "font": {
           "color": "#2a3f5f"
          },
          "geo": {
           "bgcolor": "white",
           "lakecolor": "white",
           "landcolor": "#E5ECF6",
           "showlakes": true,
           "showland": true,
           "subunitcolor": "white"
          },
          "hoverlabel": {
           "align": "left"
          },
          "hovermode": "closest",
          "mapbox": {
           "style": "light"
          },
          "paper_bgcolor": "white",
          "plot_bgcolor": "#E5ECF6",
          "polar": {
           "angularaxis": {
            "gridcolor": "white",
            "linecolor": "white",
            "ticks": ""
           },
           "bgcolor": "#E5ECF6",
           "radialaxis": {
            "gridcolor": "white",
            "linecolor": "white",
            "ticks": ""
           }
          },
          "scene": {
           "xaxis": {
            "backgroundcolor": "#E5ECF6",
            "gridcolor": "white",
            "gridwidth": 2,
            "linecolor": "white",
            "showbackground": true,
            "ticks": "",
            "zerolinecolor": "white"
           },
           "yaxis": {
            "backgroundcolor": "#E5ECF6",
            "gridcolor": "white",
            "gridwidth": 2,
            "linecolor": "white",
            "showbackground": true,
            "ticks": "",
            "zerolinecolor": "white"
           },
           "zaxis": {
            "backgroundcolor": "#E5ECF6",
            "gridcolor": "white",
            "gridwidth": 2,
            "linecolor": "white",
            "showbackground": true,
            "ticks": "",
            "zerolinecolor": "white"
           }
          },
          "shapedefaults": {
           "line": {
            "color": "#2a3f5f"
           }
          },
          "ternary": {
           "aaxis": {
            "gridcolor": "white",
            "linecolor": "white",
            "ticks": ""
           },
           "baxis": {
            "gridcolor": "white",
            "linecolor": "white",
            "ticks": ""
           },
           "bgcolor": "#E5ECF6",
           "caxis": {
            "gridcolor": "white",
            "linecolor": "white",
            "ticks": ""
           }
          },
          "title": {
           "x": 0.05
          },
          "xaxis": {
           "automargin": true,
           "gridcolor": "white",
           "linecolor": "white",
           "ticks": "",
           "title": {
            "standoff": 15
           },
           "zerolinecolor": "white",
           "zerolinewidth": 2
          },
          "yaxis": {
           "automargin": true,
           "gridcolor": "white",
           "linecolor": "white",
           "ticks": "",
           "title": {
            "standoff": 15
           },
           "zerolinecolor": "white",
           "zerolinewidth": 2
          }
         }
        },
        "title": {
         "text": "Correlation Matrix Heatmap"
        },
        "xaxis": {
         "anchor": "y",
         "constrain": "domain",
         "domain": [
          0,
          1
         ],
         "scaleanchor": "y"
        },
        "yaxis": {
         "anchor": "x",
         "autorange": "reversed",
         "constrain": "domain",
         "domain": [
          0,
          1
         ]
        }
       }
      }
     },
     "metadata": {},
     "output_type": "display_data"
    }
   ],
   "source": [
    "# Checking correlation between different pollutants\n",
    "pollutants_data = pollution[pollutants]\n",
    "\n",
    "corr_matrix = pollutants_data.corr() # Creating correlation matrix\n",
    "\n",
    "# Using heatmap to visualize the correlation matrix\n",
    "fig = px.imshow(\n",
    "    corr_matrix,\n",
    "    text_auto=True,\n",
    "    color_continuous_scale='balance',\n",
    "    zmin=-1, zmax=1,\n",
    "    title='Correlation Matrix Heatmap'\n",
    ")\n",
    "\n",
    "fig.show()"
   ]
  },
  {
   "cell_type": "markdown",
   "id": "ea47e03e447e7be1",
   "metadata": {},
   "source": [
    "There seems to be no discrenable correlation different various pollutants."
   ]
  },
  {
   "cell_type": "markdown",
   "id": "20d740607b42969f",
   "metadata": {},
   "source": [
    "## Pollutant Concentration by Different Timeframes\n",
    "\n",
    "In this section we'll investigate pollutant concentration for different timeframes of the day to identify rush hour or late night pollutant patterns."
   ]
  },
  {
   "cell_type": "code",
   "execution_count": 696,
   "id": "45d60fe9383c3fd7",
   "metadata": {
    "ExecuteTime": {
     "end_time": "2025-04-20T14:04:12.113221Z",
     "start_time": "2025-04-20T14:04:11.930109Z"
    }
   },
   "outputs": [
    {
     "data": {
      "application/vnd.plotly.v1+json": {
       "config": {
        "plotlyServerURL": "https://plot.ly"
       },
       "data": [
        {
         "hovertemplate": "Pollutant=AQI<br>Hour=%{x}<br>Concentration=%{y}<extra></extra>",
         "legendgroup": "",
         "line": {
          "color": "#636efa",
          "dash": "solid"
         },
         "marker": {
          "symbol": "circle"
         },
         "mode": "lines",
         "name": "",
         "orientation": "v",
         "showlegend": false,
         "type": "scatter",
         "x": {
          "bdata": "AAECAwQFBgcICQoLDA0ODxAREhMUFRYX",
          "dtype": "i1"
         },
         "xaxis": "x8",
         "y": {
          "bdata": "AAAAAADAbUAAAAAAAEBtQAAAAAAAwGtAAAAAAADQcUAAAAAAACBvQAAAAAAAIGxAAAAAAAAgcUAAAAAAAOBrQAAAAAAAwHJAAAAAAAAAcEAAAAAAAMhxQAAAAAAAUGxAAAAAAABQcEAAAAAAAABvQAAAAAAAkG1AAAAAAACQcUAAAAAAAMBuQAAAAAAAAHFAAAAAAABAbUAAAAAAAMBtQAAAAAAAUHBAAAAAAACgb0AAAAAAAOBtQAAAAAAA8HBA",
          "dtype": "f8"
         },
         "yaxis": "y8"
        },
        {
         "hovertemplate": "Pollutant=CO (µg/m³)<br>Hour=%{x}<br>Concentration=%{y}<extra></extra>",
         "legendgroup": "",
         "line": {
          "color": "#636efa",
          "dash": "solid"
         },
         "marker": {
          "symbol": "circle"
         },
         "mode": "lines",
         "name": "",
         "orientation": "v",
         "showlegend": false,
         "type": "scatter",
         "x": {
          "bdata": "AAECAwQFBgcICQoLDA0ODxAREhMUFRYX",
          "dtype": "i1"
         },
         "xaxis": "x7",
         "y": {
          "bdata": "kpgAyhKUo0CYOlMO482jQEJOsFSNnKNAXTk+iqTXpECPoqcTRjGmQP9KjoncPKNAY+oB+iUfpkBii1aZSPyhQObHFaqbeqZAyVpuxGX7pECSxTas/7egQMGD2hYHsqJAoxo8T4VipEBKADZHROChQNzCdTOWFqRAqd9dX21GpUDwPS3FThSkQOE5l0YnIaZAnhIAVOw3pkBZW7U3mfygQEwTy4oxOqJAWpB/0Zqeo0CEg7aF+0+lQLOBjfCBX6VA",
          "dtype": "f8"
         },
         "yaxis": "y7"
        },
        {
         "hovertemplate": "Pollutant=Month<br>Hour=%{x}<br>Concentration=%{y}<extra></extra>",
         "legendgroup": "",
         "line": {
          "color": "#636efa",
          "dash": "solid"
         },
         "marker": {
          "symbol": "circle"
         },
         "mode": "lines",
         "name": "",
         "orientation": "v",
         "showlegend": false,
         "type": "scatter",
         "x": {
          "bdata": "AAECAwQFBgcICQoLDA0ODxAREhMUFRYX",
          "dtype": "i1"
         },
         "xaxis": "x6",
         "y": {
          "bdata": "AAAAAAAAGEAAAAAAAAAYQAAAAAAAABhAAAAAAAAAIEAAAAAAAAAcQAAAAAAAABxAAAAAAAAAGEAAAAAAAAAcQAAAAAAAABxAAAAAAAAAGEAAAAAAAAAYQAAAAAAAABxAAAAAAAAAHEAAAAAAAAAcQAAAAAAAABZAAAAAAAAAHEAAAAAAAAAcQAAAAAAAABhAAAAAAAAAGEAAAAAAAAAcQAAAAAAAABxAAAAAAAAAHEAAAAAAAAAWQAAAAAAAABxA",
          "dtype": "f8"
         },
         "yaxis": "y6"
        },
        {
         "hovertemplate": "Pollutant=NO2 (µg/m³)<br>Hour=%{x}<br>Concentration=%{y}<extra></extra>",
         "legendgroup": "",
         "line": {
          "color": "#636efa",
          "dash": "solid"
         },
         "marker": {
          "symbol": "circle"
         },
         "mode": "lines",
         "name": "",
         "orientation": "v",
         "showlegend": false,
         "type": "scatter",
         "x": {
          "bdata": "AAECAwQFBgcICQoLDA0ODxAREhMUFRYX",
          "dtype": "i1"
         },
         "xaxis": "x5",
         "y": {
          "bdata": "pTke8/oRSkAlHQ3iPMJLQLZrRIW7SUtAGjw6HnIISkAF+0Etb41HQOeCf4Mq40tAEzX0KzXVSEDSfUDCFC5LQG/mlQaVpExAJniJE8lVS0A/MV+Y48NHQCzL378490tApND0sRp2SkAWkZhumodKQMCAiNHdE0pAuGnJEckQS0DGeR1GbCdNQESHyleReEtA1eOBjDyPSkC702zD8zBHQBiRbqy3VEhACK69+Q/jTUCpL88fSNNKQCGL+C/pNUxA",
          "dtype": "f8"
         },
         "yaxis": "y5"
        },
        {
         "hovertemplate": "Pollutant=O3 (µg/m³)<br>Hour=%{x}<br>Concentration=%{y}<extra></extra>",
         "legendgroup": "",
         "line": {
          "color": "#636efa",
          "dash": "solid"
         },
         "marker": {
          "symbol": "circle"
         },
         "mode": "lines",
         "name": "",
         "orientation": "v",
         "showlegend": false,
         "type": "scatter",
         "x": {
          "bdata": "AAECAwQFBgcICQoLDA0ODxAREhMUFRYX",
          "dtype": "i1"
         },
         "xaxis": "x4",
         "y": {
          "bdata": "MNa2fOyAW0D2vkjWwUJYQKFTyVXKIldAB/Fr1cA/XEBqg4kf5URdQJSb4jJDal1AzD0wic1pWkDQOSq8loxbQItupj8qRllAdD8o27mmWkAhoq+QulJYQJ4JQxaZiFtA3s3eh7FyW0C0KJTchE1bQHJJHvZy0V1A19zBYjrRWkAIWvd9rXFaQCI2TfzIO1lAkHJLSYRyWEDJkEJVaDBXQDtIHHPqklhA74u4z2LPW0A2EN7Dg3VXQFP+MfKK01tA",
          "dtype": "f8"
         },
         "yaxis": "y4"
        },
        {
         "hovertemplate": "Pollutant=PM10 (µg/m³)<br>Hour=%{x}<br>Concentration=%{y}<extra></extra>",
         "legendgroup": "",
         "line": {
          "color": "#636efa",
          "dash": "solid"
         },
         "marker": {
          "symbol": "circle"
         },
         "mode": "lines",
         "name": "",
         "orientation": "v",
         "showlegend": false,
         "type": "scatter",
         "x": {
          "bdata": "AAECAwQFBgcICQoLDA0ODxAREhMUFRYX",
          "dtype": "i1"
         },
         "xaxis": "x3",
         "y": {
          "bdata": "pQy+p3SxY0AVtPhawn5kQPV3nqRjx2NAHQRNyxgPY0CY9SEHERhiQJUKjBm8Q2FAfmbLaI5sYEC2csbx95djQITQ7Om+gmVAizH5xSHSYkA8Xfh6bJtlQHT0LSo8Y2VAvLaxXp9BYUA8RczQghdnQFLmDeHiQWVAekJQ3vGUZkAjLkwm5aBkQFPT5ef8OWFAce+4HwmWY0A7iTMpGG5kQLOGk4dYw2JAOyH3H/F1Y0AUIF2PMuxkQEdTWkK1pGNA",
          "dtype": "f8"
         },
         "yaxis": "y3"
        },
        {
         "hovertemplate": "Pollutant=PM2.5 (µg/m³)<br>Hour=%{x}<br>Concentration=%{y}<extra></extra>",
         "legendgroup": "",
         "line": {
          "color": "#636efa",
          "dash": "solid"
         },
         "marker": {
          "symbol": "circle"
         },
         "mode": "lines",
         "name": "",
         "orientation": "v",
         "showlegend": false,
         "type": "scatter",
         "x": {
          "bdata": "AAECAwQFBgcICQoLDA0ODxAREhMUFRYX",
          "dtype": "i1"
         },
         "xaxis": "x2",
         "y": {
          "bdata": "sYVveXABYkDhVvc9tCpgQLwC8NcN/llAXZMIgTqMYEAMT8vNchNgQDZXCuE+Wl9Al8qPbsBfYECTKpLeX0lgQPrqoIt20WBA1e2+yF5NXkDnorVgCl5gQJz2t9tJoWFAdO//r9fnYEDcnas0MFZiQL5f9GPRb2BAY9oVWLBJYEAk6lI+9WZdQNYmr0wEgVxA/9DQbW4VXEAg3UTsG/tfQE17c/WyXV5A+cskkWOgW0Aq78tBcnhkQAezM0LvvV1A",
          "dtype": "f8"
         },
         "yaxis": "y2"
        },
        {
         "hovertemplate": "Pollutant=SO2 (µg/m³)<br>Hour=%{x}<br>Concentration=%{y}<extra></extra>",
         "legendgroup": "",
         "line": {
          "color": "#636efa",
          "dash": "solid"
         },
         "marker": {
          "symbol": "circle"
         },
         "mode": "lines",
         "name": "",
         "orientation": "v",
         "showlegend": false,
         "type": "scatter",
         "x": {
          "bdata": "AAECAwQFBgcICQoLDA0ODxAREhMUFRYX",
          "dtype": "i1"
         },
         "xaxis": "x",
         "y": {
          "bdata": "AOCRoUhwOkBgyNilkEw4QNjdGna+QDdAGXw52f63OkCS7hs2w2s4QNit86S00TdAQL8XQy8mPUB7QpCTPbA3QPDFiYifETdA79k7/jq9O0A2YMUeDx04QIB6QX7VITpA2XoueAVGN0AsOa57DzY5QPpbNXZUaTxA0xWTSfPKO0DFUCUmHIc9QFYSX14nkzhAcp60Zq5POEC0fWtj6804QAvtzlmbmTxAR6c8CnxPPEDgweuWV4c6QNvrU/f1NDlA",
          "dtype": "f8"
         },
         "yaxis": "y"
        }
       ],
       "layout": {
        "annotations": [
         {
          "font": {},
          "showarrow": false,
          "text": "Pollutant=SO2 (µg/m³)",
          "textangle": 90,
          "x": 0.98,
          "xanchor": "left",
          "xref": "paper",
          "y": 0.049375,
          "yanchor": "middle",
          "yref": "paper"
         },
         {
          "font": {},
          "showarrow": false,
          "text": "Pollutant=PM2.5 (µg/m³)",
          "textangle": 90,
          "x": 0.98,
          "xanchor": "left",
          "xref": "paper",
          "y": 0.178125,
          "yanchor": "middle",
          "yref": "paper"
         },
         {
          "font": {},
          "showarrow": false,
          "text": "Pollutant=PM10 (µg/m³)",
          "textangle": 90,
          "x": 0.98,
          "xanchor": "left",
          "xref": "paper",
          "y": 0.306875,
          "yanchor": "middle",
          "yref": "paper"
         },
         {
          "font": {},
          "showarrow": false,
          "text": "Pollutant=O3 (µg/m³)",
          "textangle": 90,
          "x": 0.98,
          "xanchor": "left",
          "xref": "paper",
          "y": 0.435625,
          "yanchor": "middle",
          "yref": "paper"
         },
         {
          "font": {},
          "showarrow": false,
          "text": "Pollutant=NO2 (µg/m³)",
          "textangle": 90,
          "x": 0.98,
          "xanchor": "left",
          "xref": "paper",
          "y": 0.5643750000000001,
          "yanchor": "middle",
          "yref": "paper"
         },
         {
          "font": {},
          "showarrow": false,
          "text": "Pollutant=Month",
          "textangle": 90,
          "x": 0.98,
          "xanchor": "left",
          "xref": "paper",
          "y": 0.693125,
          "yanchor": "middle",
          "yref": "paper"
         },
         {
          "font": {},
          "showarrow": false,
          "text": "Pollutant=CO (µg/m³)",
          "textangle": 90,
          "x": 0.98,
          "xanchor": "left",
          "xref": "paper",
          "y": 0.8218749999999999,
          "yanchor": "middle",
          "yref": "paper"
         },
         {
          "font": {},
          "showarrow": false,
          "text": "Pollutant=AQI",
          "textangle": 90,
          "x": 0.98,
          "xanchor": "left",
          "xref": "paper",
          "y": 0.950625,
          "yanchor": "middle",
          "yref": "paper"
         }
        ],
        "height": 1500,
        "legend": {
         "tracegroupgap": 0
        },
        "template": {
         "data": {
          "bar": [
           {
            "error_x": {
             "color": "#2a3f5f"
            },
            "error_y": {
             "color": "#2a3f5f"
            },
            "marker": {
             "line": {
              "color": "#E5ECF6",
              "width": 0.5
             },
             "pattern": {
              "fillmode": "overlay",
              "size": 10,
              "solidity": 0.2
             }
            },
            "type": "bar"
           }
          ],
          "barpolar": [
           {
            "marker": {
             "line": {
              "color": "#E5ECF6",
              "width": 0.5
             },
             "pattern": {
              "fillmode": "overlay",
              "size": 10,
              "solidity": 0.2
             }
            },
            "type": "barpolar"
           }
          ],
          "carpet": [
           {
            "aaxis": {
             "endlinecolor": "#2a3f5f",
             "gridcolor": "white",
             "linecolor": "white",
             "minorgridcolor": "white",
             "startlinecolor": "#2a3f5f"
            },
            "baxis": {
             "endlinecolor": "#2a3f5f",
             "gridcolor": "white",
             "linecolor": "white",
             "minorgridcolor": "white",
             "startlinecolor": "#2a3f5f"
            },
            "type": "carpet"
           }
          ],
          "choropleth": [
           {
            "colorbar": {
             "outlinewidth": 0,
             "ticks": ""
            },
            "type": "choropleth"
           }
          ],
          "contour": [
           {
            "colorbar": {
             "outlinewidth": 0,
             "ticks": ""
            },
            "colorscale": [
             [
              0,
              "#0d0887"
             ],
             [
              0.1111111111111111,
              "#46039f"
             ],
             [
              0.2222222222222222,
              "#7201a8"
             ],
             [
              0.3333333333333333,
              "#9c179e"
             ],
             [
              0.4444444444444444,
              "#bd3786"
             ],
             [
              0.5555555555555556,
              "#d8576b"
             ],
             [
              0.6666666666666666,
              "#ed7953"
             ],
             [
              0.7777777777777778,
              "#fb9f3a"
             ],
             [
              0.8888888888888888,
              "#fdca26"
             ],
             [
              1,
              "#f0f921"
             ]
            ],
            "type": "contour"
           }
          ],
          "contourcarpet": [
           {
            "colorbar": {
             "outlinewidth": 0,
             "ticks": ""
            },
            "type": "contourcarpet"
           }
          ],
          "heatmap": [
           {
            "colorbar": {
             "outlinewidth": 0,
             "ticks": ""
            },
            "colorscale": [
             [
              0,
              "#0d0887"
             ],
             [
              0.1111111111111111,
              "#46039f"
             ],
             [
              0.2222222222222222,
              "#7201a8"
             ],
             [
              0.3333333333333333,
              "#9c179e"
             ],
             [
              0.4444444444444444,
              "#bd3786"
             ],
             [
              0.5555555555555556,
              "#d8576b"
             ],
             [
              0.6666666666666666,
              "#ed7953"
             ],
             [
              0.7777777777777778,
              "#fb9f3a"
             ],
             [
              0.8888888888888888,
              "#fdca26"
             ],
             [
              1,
              "#f0f921"
             ]
            ],
            "type": "heatmap"
           }
          ],
          "histogram": [
           {
            "marker": {
             "pattern": {
              "fillmode": "overlay",
              "size": 10,
              "solidity": 0.2
             }
            },
            "type": "histogram"
           }
          ],
          "histogram2d": [
           {
            "colorbar": {
             "outlinewidth": 0,
             "ticks": ""
            },
            "colorscale": [
             [
              0,
              "#0d0887"
             ],
             [
              0.1111111111111111,
              "#46039f"
             ],
             [
              0.2222222222222222,
              "#7201a8"
             ],
             [
              0.3333333333333333,
              "#9c179e"
             ],
             [
              0.4444444444444444,
              "#bd3786"
             ],
             [
              0.5555555555555556,
              "#d8576b"
             ],
             [
              0.6666666666666666,
              "#ed7953"
             ],
             [
              0.7777777777777778,
              "#fb9f3a"
             ],
             [
              0.8888888888888888,
              "#fdca26"
             ],
             [
              1,
              "#f0f921"
             ]
            ],
            "type": "histogram2d"
           }
          ],
          "histogram2dcontour": [
           {
            "colorbar": {
             "outlinewidth": 0,
             "ticks": ""
            },
            "colorscale": [
             [
              0,
              "#0d0887"
             ],
             [
              0.1111111111111111,
              "#46039f"
             ],
             [
              0.2222222222222222,
              "#7201a8"
             ],
             [
              0.3333333333333333,
              "#9c179e"
             ],
             [
              0.4444444444444444,
              "#bd3786"
             ],
             [
              0.5555555555555556,
              "#d8576b"
             ],
             [
              0.6666666666666666,
              "#ed7953"
             ],
             [
              0.7777777777777778,
              "#fb9f3a"
             ],
             [
              0.8888888888888888,
              "#fdca26"
             ],
             [
              1,
              "#f0f921"
             ]
            ],
            "type": "histogram2dcontour"
           }
          ],
          "mesh3d": [
           {
            "colorbar": {
             "outlinewidth": 0,
             "ticks": ""
            },
            "type": "mesh3d"
           }
          ],
          "parcoords": [
           {
            "line": {
             "colorbar": {
              "outlinewidth": 0,
              "ticks": ""
             }
            },
            "type": "parcoords"
           }
          ],
          "pie": [
           {
            "automargin": true,
            "type": "pie"
           }
          ],
          "scatter": [
           {
            "fillpattern": {
             "fillmode": "overlay",
             "size": 10,
             "solidity": 0.2
            },
            "type": "scatter"
           }
          ],
          "scatter3d": [
           {
            "line": {
             "colorbar": {
              "outlinewidth": 0,
              "ticks": ""
             }
            },
            "marker": {
             "colorbar": {
              "outlinewidth": 0,
              "ticks": ""
             }
            },
            "type": "scatter3d"
           }
          ],
          "scattercarpet": [
           {
            "marker": {
             "colorbar": {
              "outlinewidth": 0,
              "ticks": ""
             }
            },
            "type": "scattercarpet"
           }
          ],
          "scattergeo": [
           {
            "marker": {
             "colorbar": {
              "outlinewidth": 0,
              "ticks": ""
             }
            },
            "type": "scattergeo"
           }
          ],
          "scattergl": [
           {
            "marker": {
             "colorbar": {
              "outlinewidth": 0,
              "ticks": ""
             }
            },
            "type": "scattergl"
           }
          ],
          "scattermap": [
           {
            "marker": {
             "colorbar": {
              "outlinewidth": 0,
              "ticks": ""
             }
            },
            "type": "scattermap"
           }
          ],
          "scattermapbox": [
           {
            "marker": {
             "colorbar": {
              "outlinewidth": 0,
              "ticks": ""
             }
            },
            "type": "scattermapbox"
           }
          ],
          "scatterpolar": [
           {
            "marker": {
             "colorbar": {
              "outlinewidth": 0,
              "ticks": ""
             }
            },
            "type": "scatterpolar"
           }
          ],
          "scatterpolargl": [
           {
            "marker": {
             "colorbar": {
              "outlinewidth": 0,
              "ticks": ""
             }
            },
            "type": "scatterpolargl"
           }
          ],
          "scatterternary": [
           {
            "marker": {
             "colorbar": {
              "outlinewidth": 0,
              "ticks": ""
             }
            },
            "type": "scatterternary"
           }
          ],
          "surface": [
           {
            "colorbar": {
             "outlinewidth": 0,
             "ticks": ""
            },
            "colorscale": [
             [
              0,
              "#0d0887"
             ],
             [
              0.1111111111111111,
              "#46039f"
             ],
             [
              0.2222222222222222,
              "#7201a8"
             ],
             [
              0.3333333333333333,
              "#9c179e"
             ],
             [
              0.4444444444444444,
              "#bd3786"
             ],
             [
              0.5555555555555556,
              "#d8576b"
             ],
             [
              0.6666666666666666,
              "#ed7953"
             ],
             [
              0.7777777777777778,
              "#fb9f3a"
             ],
             [
              0.8888888888888888,
              "#fdca26"
             ],
             [
              1,
              "#f0f921"
             ]
            ],
            "type": "surface"
           }
          ],
          "table": [
           {
            "cells": {
             "fill": {
              "color": "#EBF0F8"
             },
             "line": {
              "color": "white"
             }
            },
            "header": {
             "fill": {
              "color": "#C8D4E3"
             },
             "line": {
              "color": "white"
             }
            },
            "type": "table"
           }
          ]
         },
         "layout": {
          "annotationdefaults": {
           "arrowcolor": "#2a3f5f",
           "arrowhead": 0,
           "arrowwidth": 1
          },
          "autotypenumbers": "strict",
          "coloraxis": {
           "colorbar": {
            "outlinewidth": 0,
            "ticks": ""
           }
          },
          "colorscale": {
           "diverging": [
            [
             0,
             "#8e0152"
            ],
            [
             0.1,
             "#c51b7d"
            ],
            [
             0.2,
             "#de77ae"
            ],
            [
             0.3,
             "#f1b6da"
            ],
            [
             0.4,
             "#fde0ef"
            ],
            [
             0.5,
             "#f7f7f7"
            ],
            [
             0.6,
             "#e6f5d0"
            ],
            [
             0.7,
             "#b8e186"
            ],
            [
             0.8,
             "#7fbc41"
            ],
            [
             0.9,
             "#4d9221"
            ],
            [
             1,
             "#276419"
            ]
           ],
           "sequential": [
            [
             0,
             "#0d0887"
            ],
            [
             0.1111111111111111,
             "#46039f"
            ],
            [
             0.2222222222222222,
             "#7201a8"
            ],
            [
             0.3333333333333333,
             "#9c179e"
            ],
            [
             0.4444444444444444,
             "#bd3786"
            ],
            [
             0.5555555555555556,
             "#d8576b"
            ],
            [
             0.6666666666666666,
             "#ed7953"
            ],
            [
             0.7777777777777778,
             "#fb9f3a"
            ],
            [
             0.8888888888888888,
             "#fdca26"
            ],
            [
             1,
             "#f0f921"
            ]
           ],
           "sequentialminus": [
            [
             0,
             "#0d0887"
            ],
            [
             0.1111111111111111,
             "#46039f"
            ],
            [
             0.2222222222222222,
             "#7201a8"
            ],
            [
             0.3333333333333333,
             "#9c179e"
            ],
            [
             0.4444444444444444,
             "#bd3786"
            ],
            [
             0.5555555555555556,
             "#d8576b"
            ],
            [
             0.6666666666666666,
             "#ed7953"
            ],
            [
             0.7777777777777778,
             "#fb9f3a"
            ],
            [
             0.8888888888888888,
             "#fdca26"
            ],
            [
             1,
             "#f0f921"
            ]
           ]
          },
          "colorway": [
           "#636efa",
           "#EF553B",
           "#00cc96",
           "#ab63fa",
           "#FFA15A",
           "#19d3f3",
           "#FF6692",
           "#B6E880",
           "#FF97FF",
           "#FECB52"
          ],
          "font": {
           "color": "#2a3f5f"
          },
          "geo": {
           "bgcolor": "white",
           "lakecolor": "white",
           "landcolor": "#E5ECF6",
           "showlakes": true,
           "showland": true,
           "subunitcolor": "white"
          },
          "hoverlabel": {
           "align": "left"
          },
          "hovermode": "closest",
          "mapbox": {
           "style": "light"
          },
          "paper_bgcolor": "white",
          "plot_bgcolor": "#E5ECF6",
          "polar": {
           "angularaxis": {
            "gridcolor": "white",
            "linecolor": "white",
            "ticks": ""
           },
           "bgcolor": "#E5ECF6",
           "radialaxis": {
            "gridcolor": "white",
            "linecolor": "white",
            "ticks": ""
           }
          },
          "scene": {
           "xaxis": {
            "backgroundcolor": "#E5ECF6",
            "gridcolor": "white",
            "gridwidth": 2,
            "linecolor": "white",
            "showbackground": true,
            "ticks": "",
            "zerolinecolor": "white"
           },
           "yaxis": {
            "backgroundcolor": "#E5ECF6",
            "gridcolor": "white",
            "gridwidth": 2,
            "linecolor": "white",
            "showbackground": true,
            "ticks": "",
            "zerolinecolor": "white"
           },
           "zaxis": {
            "backgroundcolor": "#E5ECF6",
            "gridcolor": "white",
            "gridwidth": 2,
            "linecolor": "white",
            "showbackground": true,
            "ticks": "",
            "zerolinecolor": "white"
           }
          },
          "shapedefaults": {
           "line": {
            "color": "#2a3f5f"
           }
          },
          "ternary": {
           "aaxis": {
            "gridcolor": "white",
            "linecolor": "white",
            "ticks": ""
           },
           "baxis": {
            "gridcolor": "white",
            "linecolor": "white",
            "ticks": ""
           },
           "bgcolor": "#E5ECF6",
           "caxis": {
            "gridcolor": "white",
            "linecolor": "white",
            "ticks": ""
           }
          },
          "title": {
           "x": 0.05
          },
          "xaxis": {
           "automargin": true,
           "gridcolor": "white",
           "linecolor": "white",
           "ticks": "",
           "title": {
            "standoff": 15
           },
           "zerolinecolor": "white",
           "zerolinewidth": 2
          },
          "yaxis": {
           "automargin": true,
           "gridcolor": "white",
           "linecolor": "white",
           "ticks": "",
           "title": {
            "standoff": 15
           },
           "zerolinecolor": "white",
           "zerolinewidth": 2
          }
         }
        },
        "title": {
         "text": "Pollutant Concentration by Hour"
        },
        "width": 1200,
        "xaxis": {
         "anchor": "y",
         "domain": [
          0,
          0.98
         ],
         "title": {
          "text": "Hour"
         }
        },
        "xaxis2": {
         "anchor": "y2",
         "domain": [
          0,
          0.98
         ],
         "matches": "x",
         "showticklabels": false
        },
        "xaxis3": {
         "anchor": "y3",
         "domain": [
          0,
          0.98
         ],
         "matches": "x",
         "showticklabels": false
        },
        "xaxis4": {
         "anchor": "y4",
         "domain": [
          0,
          0.98
         ],
         "matches": "x",
         "showticklabels": false
        },
        "xaxis5": {
         "anchor": "y5",
         "domain": [
          0,
          0.98
         ],
         "matches": "x",
         "showticklabels": false
        },
        "xaxis6": {
         "anchor": "y6",
         "domain": [
          0,
          0.98
         ],
         "matches": "x",
         "showticklabels": false
        },
        "xaxis7": {
         "anchor": "y7",
         "domain": [
          0,
          0.98
         ],
         "matches": "x",
         "showticklabels": false
        },
        "xaxis8": {
         "anchor": "y8",
         "domain": [
          0,
          0.98
         ],
         "matches": "x",
         "showticklabels": false
        },
        "yaxis": {
         "anchor": "x",
         "domain": [
          0,
          0.09875
         ],
         "title": {
          "text": "Concentration"
         }
        },
        "yaxis2": {
         "anchor": "x2",
         "domain": [
          0.12875,
          0.2275
         ],
         "title": {
          "text": "Concentration"
         }
        },
        "yaxis3": {
         "anchor": "x3",
         "domain": [
          0.2575,
          0.35625
         ],
         "title": {
          "text": "Concentration"
         }
        },
        "yaxis4": {
         "anchor": "x4",
         "domain": [
          0.38625,
          0.485
         ],
         "title": {
          "text": "Concentration"
         }
        },
        "yaxis5": {
         "anchor": "x5",
         "domain": [
          0.515,
          0.61375
         ],
         "title": {
          "text": "Concentration"
         }
        },
        "yaxis6": {
         "anchor": "x6",
         "domain": [
          0.64375,
          0.7425
         ],
         "title": {
          "text": "Concentration"
         }
        },
        "yaxis7": {
         "anchor": "x7",
         "domain": [
          0.7725,
          0.87125
         ],
         "title": {
          "text": "Concentration"
         }
        },
        "yaxis8": {
         "anchor": "x8",
         "domain": [
          0.90125,
          1
         ],
         "title": {
          "text": "Concentration"
         }
        }
       }
      }
     },
     "metadata": {},
     "output_type": "display_data"
    }
   ],
   "source": [
    "pollution_by_hour_month = pollution[['Hour', 'Month', 'PM2.5 (µg/m³)','AQI', 'PM10 (µg/m³)', 'NO2 (µg/m³)', 'SO2 (µg/m³)', 'CO (mg/m³)', 'O3 (µg/m³)']].copy()\n",
    "pollution_by_hour_month.rename(columns={'CO (mg/m³)': 'CO (µg/m³)'}, inplace=True)\n",
    "\n",
    "pollution_by_hour_month.loc[:, 'CO (µg/m³)'] = pollution_by_hour_month['CO (µg/m³)']*1000\n",
    "\n",
    "pollution_by_hour = pollution_by_hour_month.melt(id_vars=['Hour'], var_name='Pollutant', value_name='Concentration')\n",
    "\n",
    "pollution_by_hour = pollution_by_hour.groupby(['Hour', 'Pollutant']).median().reset_index()\n",
    "\n",
    "fig = px.line(\n",
    "    pollution_by_hour,\n",
    "    x = 'Hour',\n",
    "    y = 'Concentration',\n",
    "    facet_row='Pollutant',\n",
    "    title='Hourly Pollutant Concentration'\n",
    ")\n",
    "fig.update_yaxes(matches=None)\n",
    "fig.update_layout(height=1500, width=1200, title_text=\"Pollutant Concentration by Hour\")\n",
    "fig.show()"
   ]
  },
  {
   "cell_type": "code",
   "execution_count": 697,
   "id": "3cfc6f0a7d6deba2",
   "metadata": {
    "ExecuteTime": {
     "end_time": "2025-04-20T14:04:26.977797Z",
     "start_time": "2025-04-20T14:04:26.867410Z"
    }
   },
   "outputs": [
    {
     "data": {
      "application/vnd.plotly.v1+json": {
       "config": {
        "plotlyServerURL": "https://plot.ly"
       },
       "data": [
        {
         "hovertemplate": "Pollutant=AQI<br>Month=%{x}<br>Concentration=%{y}<extra></extra>",
         "legendgroup": "",
         "line": {
          "color": "#636efa",
          "dash": "solid"
         },
         "marker": {
          "symbol": "circle"
         },
         "mode": "lines",
         "name": "",
         "orientation": "v",
         "showlegend": false,
         "type": "scatter",
         "x": {
          "bdata": "AQIDBAUGBwgJCgsM",
          "dtype": "i1"
         },
         "xaxis": "x8",
         "y": {
          "bdata": "AAAAAADAbEAAAAAAAKBvQAAAAAAA0G1AAAAAAADAbkAAAAAAAKBuQAAAAAAAQG5AAAAAAABgcEAAAAAAAMBwQAAAAAAAcHFAAAAAAABgcEAAAAAAACBvQAAAAAAAQGxA",
          "dtype": "f8"
         },
         "yaxis": "y8"
        },
        {
         "hovertemplate": "Pollutant=CO (µg/m³)<br>Month=%{x}<br>Concentration=%{y}<extra></extra>",
         "legendgroup": "",
         "line": {
          "color": "#636efa",
          "dash": "solid"
         },
         "marker": {
          "symbol": "circle"
         },
         "mode": "lines",
         "name": "",
         "orientation": "v",
         "showlegend": false,
         "type": "scatter",
         "x": {
          "bdata": "AQIDBAUGBwgJCgsM",
          "dtype": "i1"
         },
         "xaxis": "x7",
         "y": {
          "bdata": "N0BBgpaKpUCO5eIbaVaiQLSwwguq4KRADSPzNMBJpEA1vS2a05mjQLOVl2YsZKZAX4Z8DRrno0BME8uKMTqiQLOBjfCBX6VAO2uJaQxwpUAgWLy3iCWjQL0qy0Oi4qFA",
          "dtype": "f8"
         },
         "yaxis": "y7"
        },
        {
         "hovertemplate": "Pollutant=Hour<br>Month=%{x}<br>Concentration=%{y}<extra></extra>",
         "legendgroup": "",
         "line": {
          "color": "#636efa",
          "dash": "solid"
         },
         "marker": {
          "symbol": "circle"
         },
         "mode": "lines",
         "name": "",
         "orientation": "v",
         "showlegend": false,
         "type": "scatter",
         "x": {
          "bdata": "AQIDBAUGBwgJCgsM",
          "dtype": "i1"
         },
         "xaxis": "x6",
         "y": {
          "bdata": "AAAAAAAAJkAAAAAAAAAmQAAAAAAAAClAAAAAAAAAKEAAAAAAAAAmQAAAAAAAACRAAAAAAAAAJkAAAAAAAAAmQAAAAAAAAChAAAAAAAAAJEAAAAAAAAAoQAAAAAAAACRA",
          "dtype": "f8"
         },
         "yaxis": "y6"
        },
        {
         "hovertemplate": "Pollutant=NO2 (µg/m³)<br>Month=%{x}<br>Concentration=%{y}<extra></extra>",
         "legendgroup": "",
         "line": {
          "color": "#636efa",
          "dash": "solid"
         },
         "marker": {
          "symbol": "circle"
         },
         "mode": "lines",
         "name": "",
         "orientation": "v",
         "showlegend": false,
         "type": "scatter",
         "x": {
          "bdata": "AQIDBAUGBwgJCgsM",
          "dtype": "i1"
         },
         "xaxis": "x5",
         "y": {
          "bdata": "qJQv4j4lSUBbit/d+99LQFFWPyA4wkpAtw/pWp+GS0BgkL/vvDdJQG+91e0JaklA95hLEvzSSkDkztVPP8FIQKWSyM7USExAveC6eSPeSkDwdz4Z9JpMQPnKuuIor0pA",
          "dtype": "f8"
         },
         "yaxis": "y5"
        },
        {
         "hovertemplate": "Pollutant=O3 (µg/m³)<br>Month=%{x}<br>Concentration=%{y}<extra></extra>",
         "legendgroup": "",
         "line": {
          "color": "#636efa",
          "dash": "solid"
         },
         "marker": {
          "symbol": "circle"
         },
         "mode": "lines",
         "name": "",
         "orientation": "v",
         "showlegend": false,
         "type": "scatter",
         "x": {
          "bdata": "AQIDBAUGBwgJCgsM",
          "dtype": "i1"
         },
         "xaxis": "x4",
         "y": {
          "bdata": "17EM/0gIW0BPXtJAax5ZQC4XP1zG+FhAF11NbZKeWkDUmUkWwb5aQN6PNqD6vFpAJ1If4IkgXEChLvsrKs9aQA3/YoRAUVpAOMTbg1/UWkDHgKCJgiZcQDgEqMT33llA",
          "dtype": "f8"
         },
         "yaxis": "y4"
        },
        {
         "hovertemplate": "Pollutant=PM10 (µg/m³)<br>Month=%{x}<br>Concentration=%{y}<extra></extra>",
         "legendgroup": "",
         "line": {
          "color": "#636efa",
          "dash": "solid"
         },
         "marker": {
          "symbol": "circle"
         },
         "mode": "lines",
         "name": "",
         "orientation": "v",
         "showlegend": false,
         "type": "scatter",
         "x": {
          "bdata": "AQIDBAUGBwgJCgsM",
          "dtype": "i1"
         },
         "xaxis": "x3",
         "y": {
          "bdata": "tnLG8feXY0B/yeLIOR1iQPb3qN3XKGVA3/scU+zMZECcOvZXZiFlQNz196dSdmFAYtE3mcXrZEBqLylu2cBjQHmvTgN9+WNAFX0E52t2Y0AFe4WubKpiQE7Q9ksWX2JA",
          "dtype": "f8"
         },
         "yaxis": "y3"
        },
        {
         "hovertemplate": "Pollutant=PM2.5 (µg/m³)<br>Month=%{x}<br>Concentration=%{y}<extra></extra>",
         "legendgroup": "",
         "line": {
          "color": "#636efa",
          "dash": "solid"
         },
         "marker": {
          "symbol": "circle"
         },
         "mode": "lines",
         "name": "",
         "orientation": "v",
         "showlegend": false,
         "type": "scatter",
         "x": {
          "bdata": "AQIDBAUGBwgJCgsM",
          "dtype": "i1"
         },
         "xaxis": "x2",
         "y": {
          "bdata": "6szNSazxXUD+GEJUE6ZgQOlI8L9Grl5A3u3bQmicYEBMGchtP1JgQNrdIeeVg2BAecPCyQYeX0D67nUH2KtgQD0ocukDP19AmMBlTv4SYEDAvrC1XaNgQFXMUI5/Zl1A",
          "dtype": "f8"
         },
         "yaxis": "y2"
        },
        {
         "hovertemplate": "Pollutant=SO2 (µg/m³)<br>Month=%{x}<br>Concentration=%{y}<extra></extra>",
         "legendgroup": "",
         "line": {
          "color": "#636efa",
          "dash": "solid"
         },
         "marker": {
          "symbol": "circle"
         },
         "mode": "lines",
         "name": "",
         "orientation": "v",
         "showlegend": false,
         "type": "scatter",
         "x": {
          "bdata": "AQIDBAUGBwgJCgsM",
          "dtype": "i1"
         },
         "xaxis": "x",
         "y": {
          "bdata": "dXlMvC9AOUBYDkZ17+46QEapF0+3vDpABMXyv+dWOUBmwE+lKwY5QNdtYj48YzlAec+xYyJSOkC36JO1IxA6QOm65RqexTZAAb2/UtWKOkBwAxuERt86QAP303DqcDpA",
          "dtype": "f8"
         },
         "yaxis": "y"
        }
       ],
       "layout": {
        "annotations": [
         {
          "font": {},
          "showarrow": false,
          "text": "Pollutant=SO2 (µg/m³)",
          "textangle": 90,
          "x": 0.98,
          "xanchor": "left",
          "xref": "paper",
          "y": 0.049375,
          "yanchor": "middle",
          "yref": "paper"
         },
         {
          "font": {},
          "showarrow": false,
          "text": "Pollutant=PM2.5 (µg/m³)",
          "textangle": 90,
          "x": 0.98,
          "xanchor": "left",
          "xref": "paper",
          "y": 0.178125,
          "yanchor": "middle",
          "yref": "paper"
         },
         {
          "font": {},
          "showarrow": false,
          "text": "Pollutant=PM10 (µg/m³)",
          "textangle": 90,
          "x": 0.98,
          "xanchor": "left",
          "xref": "paper",
          "y": 0.306875,
          "yanchor": "middle",
          "yref": "paper"
         },
         {
          "font": {},
          "showarrow": false,
          "text": "Pollutant=O3 (µg/m³)",
          "textangle": 90,
          "x": 0.98,
          "xanchor": "left",
          "xref": "paper",
          "y": 0.435625,
          "yanchor": "middle",
          "yref": "paper"
         },
         {
          "font": {},
          "showarrow": false,
          "text": "Pollutant=NO2 (µg/m³)",
          "textangle": 90,
          "x": 0.98,
          "xanchor": "left",
          "xref": "paper",
          "y": 0.5643750000000001,
          "yanchor": "middle",
          "yref": "paper"
         },
         {
          "font": {},
          "showarrow": false,
          "text": "Pollutant=Hour",
          "textangle": 90,
          "x": 0.98,
          "xanchor": "left",
          "xref": "paper",
          "y": 0.693125,
          "yanchor": "middle",
          "yref": "paper"
         },
         {
          "font": {},
          "showarrow": false,
          "text": "Pollutant=CO (µg/m³)",
          "textangle": 90,
          "x": 0.98,
          "xanchor": "left",
          "xref": "paper",
          "y": 0.8218749999999999,
          "yanchor": "middle",
          "yref": "paper"
         },
         {
          "font": {},
          "showarrow": false,
          "text": "Pollutant=AQI",
          "textangle": 90,
          "x": 0.98,
          "xanchor": "left",
          "xref": "paper",
          "y": 0.950625,
          "yanchor": "middle",
          "yref": "paper"
         }
        ],
        "height": 1500,
        "legend": {
         "tracegroupgap": 0
        },
        "template": {
         "data": {
          "bar": [
           {
            "error_x": {
             "color": "#2a3f5f"
            },
            "error_y": {
             "color": "#2a3f5f"
            },
            "marker": {
             "line": {
              "color": "#E5ECF6",
              "width": 0.5
             },
             "pattern": {
              "fillmode": "overlay",
              "size": 10,
              "solidity": 0.2
             }
            },
            "type": "bar"
           }
          ],
          "barpolar": [
           {
            "marker": {
             "line": {
              "color": "#E5ECF6",
              "width": 0.5
             },
             "pattern": {
              "fillmode": "overlay",
              "size": 10,
              "solidity": 0.2
             }
            },
            "type": "barpolar"
           }
          ],
          "carpet": [
           {
            "aaxis": {
             "endlinecolor": "#2a3f5f",
             "gridcolor": "white",
             "linecolor": "white",
             "minorgridcolor": "white",
             "startlinecolor": "#2a3f5f"
            },
            "baxis": {
             "endlinecolor": "#2a3f5f",
             "gridcolor": "white",
             "linecolor": "white",
             "minorgridcolor": "white",
             "startlinecolor": "#2a3f5f"
            },
            "type": "carpet"
           }
          ],
          "choropleth": [
           {
            "colorbar": {
             "outlinewidth": 0,
             "ticks": ""
            },
            "type": "choropleth"
           }
          ],
          "contour": [
           {
            "colorbar": {
             "outlinewidth": 0,
             "ticks": ""
            },
            "colorscale": [
             [
              0,
              "#0d0887"
             ],
             [
              0.1111111111111111,
              "#46039f"
             ],
             [
              0.2222222222222222,
              "#7201a8"
             ],
             [
              0.3333333333333333,
              "#9c179e"
             ],
             [
              0.4444444444444444,
              "#bd3786"
             ],
             [
              0.5555555555555556,
              "#d8576b"
             ],
             [
              0.6666666666666666,
              "#ed7953"
             ],
             [
              0.7777777777777778,
              "#fb9f3a"
             ],
             [
              0.8888888888888888,
              "#fdca26"
             ],
             [
              1,
              "#f0f921"
             ]
            ],
            "type": "contour"
           }
          ],
          "contourcarpet": [
           {
            "colorbar": {
             "outlinewidth": 0,
             "ticks": ""
            },
            "type": "contourcarpet"
           }
          ],
          "heatmap": [
           {
            "colorbar": {
             "outlinewidth": 0,
             "ticks": ""
            },
            "colorscale": [
             [
              0,
              "#0d0887"
             ],
             [
              0.1111111111111111,
              "#46039f"
             ],
             [
              0.2222222222222222,
              "#7201a8"
             ],
             [
              0.3333333333333333,
              "#9c179e"
             ],
             [
              0.4444444444444444,
              "#bd3786"
             ],
             [
              0.5555555555555556,
              "#d8576b"
             ],
             [
              0.6666666666666666,
              "#ed7953"
             ],
             [
              0.7777777777777778,
              "#fb9f3a"
             ],
             [
              0.8888888888888888,
              "#fdca26"
             ],
             [
              1,
              "#f0f921"
             ]
            ],
            "type": "heatmap"
           }
          ],
          "histogram": [
           {
            "marker": {
             "pattern": {
              "fillmode": "overlay",
              "size": 10,
              "solidity": 0.2
             }
            },
            "type": "histogram"
           }
          ],
          "histogram2d": [
           {
            "colorbar": {
             "outlinewidth": 0,
             "ticks": ""
            },
            "colorscale": [
             [
              0,
              "#0d0887"
             ],
             [
              0.1111111111111111,
              "#46039f"
             ],
             [
              0.2222222222222222,
              "#7201a8"
             ],
             [
              0.3333333333333333,
              "#9c179e"
             ],
             [
              0.4444444444444444,
              "#bd3786"
             ],
             [
              0.5555555555555556,
              "#d8576b"
             ],
             [
              0.6666666666666666,
              "#ed7953"
             ],
             [
              0.7777777777777778,
              "#fb9f3a"
             ],
             [
              0.8888888888888888,
              "#fdca26"
             ],
             [
              1,
              "#f0f921"
             ]
            ],
            "type": "histogram2d"
           }
          ],
          "histogram2dcontour": [
           {
            "colorbar": {
             "outlinewidth": 0,
             "ticks": ""
            },
            "colorscale": [
             [
              0,
              "#0d0887"
             ],
             [
              0.1111111111111111,
              "#46039f"
             ],
             [
              0.2222222222222222,
              "#7201a8"
             ],
             [
              0.3333333333333333,
              "#9c179e"
             ],
             [
              0.4444444444444444,
              "#bd3786"
             ],
             [
              0.5555555555555556,
              "#d8576b"
             ],
             [
              0.6666666666666666,
              "#ed7953"
             ],
             [
              0.7777777777777778,
              "#fb9f3a"
             ],
             [
              0.8888888888888888,
              "#fdca26"
             ],
             [
              1,
              "#f0f921"
             ]
            ],
            "type": "histogram2dcontour"
           }
          ],
          "mesh3d": [
           {
            "colorbar": {
             "outlinewidth": 0,
             "ticks": ""
            },
            "type": "mesh3d"
           }
          ],
          "parcoords": [
           {
            "line": {
             "colorbar": {
              "outlinewidth": 0,
              "ticks": ""
             }
            },
            "type": "parcoords"
           }
          ],
          "pie": [
           {
            "automargin": true,
            "type": "pie"
           }
          ],
          "scatter": [
           {
            "fillpattern": {
             "fillmode": "overlay",
             "size": 10,
             "solidity": 0.2
            },
            "type": "scatter"
           }
          ],
          "scatter3d": [
           {
            "line": {
             "colorbar": {
              "outlinewidth": 0,
              "ticks": ""
             }
            },
            "marker": {
             "colorbar": {
              "outlinewidth": 0,
              "ticks": ""
             }
            },
            "type": "scatter3d"
           }
          ],
          "scattercarpet": [
           {
            "marker": {
             "colorbar": {
              "outlinewidth": 0,
              "ticks": ""
             }
            },
            "type": "scattercarpet"
           }
          ],
          "scattergeo": [
           {
            "marker": {
             "colorbar": {
              "outlinewidth": 0,
              "ticks": ""
             }
            },
            "type": "scattergeo"
           }
          ],
          "scattergl": [
           {
            "marker": {
             "colorbar": {
              "outlinewidth": 0,
              "ticks": ""
             }
            },
            "type": "scattergl"
           }
          ],
          "scattermap": [
           {
            "marker": {
             "colorbar": {
              "outlinewidth": 0,
              "ticks": ""
             }
            },
            "type": "scattermap"
           }
          ],
          "scattermapbox": [
           {
            "marker": {
             "colorbar": {
              "outlinewidth": 0,
              "ticks": ""
             }
            },
            "type": "scattermapbox"
           }
          ],
          "scatterpolar": [
           {
            "marker": {
             "colorbar": {
              "outlinewidth": 0,
              "ticks": ""
             }
            },
            "type": "scatterpolar"
           }
          ],
          "scatterpolargl": [
           {
            "marker": {
             "colorbar": {
              "outlinewidth": 0,
              "ticks": ""
             }
            },
            "type": "scatterpolargl"
           }
          ],
          "scatterternary": [
           {
            "marker": {
             "colorbar": {
              "outlinewidth": 0,
              "ticks": ""
             }
            },
            "type": "scatterternary"
           }
          ],
          "surface": [
           {
            "colorbar": {
             "outlinewidth": 0,
             "ticks": ""
            },
            "colorscale": [
             [
              0,
              "#0d0887"
             ],
             [
              0.1111111111111111,
              "#46039f"
             ],
             [
              0.2222222222222222,
              "#7201a8"
             ],
             [
              0.3333333333333333,
              "#9c179e"
             ],
             [
              0.4444444444444444,
              "#bd3786"
             ],
             [
              0.5555555555555556,
              "#d8576b"
             ],
             [
              0.6666666666666666,
              "#ed7953"
             ],
             [
              0.7777777777777778,
              "#fb9f3a"
             ],
             [
              0.8888888888888888,
              "#fdca26"
             ],
             [
              1,
              "#f0f921"
             ]
            ],
            "type": "surface"
           }
          ],
          "table": [
           {
            "cells": {
             "fill": {
              "color": "#EBF0F8"
             },
             "line": {
              "color": "white"
             }
            },
            "header": {
             "fill": {
              "color": "#C8D4E3"
             },
             "line": {
              "color": "white"
             }
            },
            "type": "table"
           }
          ]
         },
         "layout": {
          "annotationdefaults": {
           "arrowcolor": "#2a3f5f",
           "arrowhead": 0,
           "arrowwidth": 1
          },
          "autotypenumbers": "strict",
          "coloraxis": {
           "colorbar": {
            "outlinewidth": 0,
            "ticks": ""
           }
          },
          "colorscale": {
           "diverging": [
            [
             0,
             "#8e0152"
            ],
            [
             0.1,
             "#c51b7d"
            ],
            [
             0.2,
             "#de77ae"
            ],
            [
             0.3,
             "#f1b6da"
            ],
            [
             0.4,
             "#fde0ef"
            ],
            [
             0.5,
             "#f7f7f7"
            ],
            [
             0.6,
             "#e6f5d0"
            ],
            [
             0.7,
             "#b8e186"
            ],
            [
             0.8,
             "#7fbc41"
            ],
            [
             0.9,
             "#4d9221"
            ],
            [
             1,
             "#276419"
            ]
           ],
           "sequential": [
            [
             0,
             "#0d0887"
            ],
            [
             0.1111111111111111,
             "#46039f"
            ],
            [
             0.2222222222222222,
             "#7201a8"
            ],
            [
             0.3333333333333333,
             "#9c179e"
            ],
            [
             0.4444444444444444,
             "#bd3786"
            ],
            [
             0.5555555555555556,
             "#d8576b"
            ],
            [
             0.6666666666666666,
             "#ed7953"
            ],
            [
             0.7777777777777778,
             "#fb9f3a"
            ],
            [
             0.8888888888888888,
             "#fdca26"
            ],
            [
             1,
             "#f0f921"
            ]
           ],
           "sequentialminus": [
            [
             0,
             "#0d0887"
            ],
            [
             0.1111111111111111,
             "#46039f"
            ],
            [
             0.2222222222222222,
             "#7201a8"
            ],
            [
             0.3333333333333333,
             "#9c179e"
            ],
            [
             0.4444444444444444,
             "#bd3786"
            ],
            [
             0.5555555555555556,
             "#d8576b"
            ],
            [
             0.6666666666666666,
             "#ed7953"
            ],
            [
             0.7777777777777778,
             "#fb9f3a"
            ],
            [
             0.8888888888888888,
             "#fdca26"
            ],
            [
             1,
             "#f0f921"
            ]
           ]
          },
          "colorway": [
           "#636efa",
           "#EF553B",
           "#00cc96",
           "#ab63fa",
           "#FFA15A",
           "#19d3f3",
           "#FF6692",
           "#B6E880",
           "#FF97FF",
           "#FECB52"
          ],
          "font": {
           "color": "#2a3f5f"
          },
          "geo": {
           "bgcolor": "white",
           "lakecolor": "white",
           "landcolor": "#E5ECF6",
           "showlakes": true,
           "showland": true,
           "subunitcolor": "white"
          },
          "hoverlabel": {
           "align": "left"
          },
          "hovermode": "closest",
          "mapbox": {
           "style": "light"
          },
          "paper_bgcolor": "white",
          "plot_bgcolor": "#E5ECF6",
          "polar": {
           "angularaxis": {
            "gridcolor": "white",
            "linecolor": "white",
            "ticks": ""
           },
           "bgcolor": "#E5ECF6",
           "radialaxis": {
            "gridcolor": "white",
            "linecolor": "white",
            "ticks": ""
           }
          },
          "scene": {
           "xaxis": {
            "backgroundcolor": "#E5ECF6",
            "gridcolor": "white",
            "gridwidth": 2,
            "linecolor": "white",
            "showbackground": true,
            "ticks": "",
            "zerolinecolor": "white"
           },
           "yaxis": {
            "backgroundcolor": "#E5ECF6",
            "gridcolor": "white",
            "gridwidth": 2,
            "linecolor": "white",
            "showbackground": true,
            "ticks": "",
            "zerolinecolor": "white"
           },
           "zaxis": {
            "backgroundcolor": "#E5ECF6",
            "gridcolor": "white",
            "gridwidth": 2,
            "linecolor": "white",
            "showbackground": true,
            "ticks": "",
            "zerolinecolor": "white"
           }
          },
          "shapedefaults": {
           "line": {
            "color": "#2a3f5f"
           }
          },
          "ternary": {
           "aaxis": {
            "gridcolor": "white",
            "linecolor": "white",
            "ticks": ""
           },
           "baxis": {
            "gridcolor": "white",
            "linecolor": "white",
            "ticks": ""
           },
           "bgcolor": "#E5ECF6",
           "caxis": {
            "gridcolor": "white",
            "linecolor": "white",
            "ticks": ""
           }
          },
          "title": {
           "x": 0.05
          },
          "xaxis": {
           "automargin": true,
           "gridcolor": "white",
           "linecolor": "white",
           "ticks": "",
           "title": {
            "standoff": 15
           },
           "zerolinecolor": "white",
           "zerolinewidth": 2
          },
          "yaxis": {
           "automargin": true,
           "gridcolor": "white",
           "linecolor": "white",
           "ticks": "",
           "title": {
            "standoff": 15
           },
           "zerolinecolor": "white",
           "zerolinewidth": 2
          }
         }
        },
        "title": {
         "text": "Pollutant Concentration by Month"
        },
        "width": 1200,
        "xaxis": {
         "anchor": "y",
         "domain": [
          0,
          0.98
         ],
         "title": {
          "text": "Month"
         }
        },
        "xaxis2": {
         "anchor": "y2",
         "domain": [
          0,
          0.98
         ],
         "matches": "x",
         "showticklabels": false
        },
        "xaxis3": {
         "anchor": "y3",
         "domain": [
          0,
          0.98
         ],
         "matches": "x",
         "showticklabels": false
        },
        "xaxis4": {
         "anchor": "y4",
         "domain": [
          0,
          0.98
         ],
         "matches": "x",
         "showticklabels": false
        },
        "xaxis5": {
         "anchor": "y5",
         "domain": [
          0,
          0.98
         ],
         "matches": "x",
         "showticklabels": false
        },
        "xaxis6": {
         "anchor": "y6",
         "domain": [
          0,
          0.98
         ],
         "matches": "x",
         "showticklabels": false
        },
        "xaxis7": {
         "anchor": "y7",
         "domain": [
          0,
          0.98
         ],
         "matches": "x",
         "showticklabels": false
        },
        "xaxis8": {
         "anchor": "y8",
         "domain": [
          0,
          0.98
         ],
         "matches": "x",
         "showticklabels": false
        },
        "yaxis": {
         "anchor": "x",
         "domain": [
          0,
          0.09875
         ],
         "title": {
          "text": "Concentration"
         }
        },
        "yaxis2": {
         "anchor": "x2",
         "domain": [
          0.12875,
          0.2275
         ],
         "title": {
          "text": "Concentration"
         }
        },
        "yaxis3": {
         "anchor": "x3",
         "domain": [
          0.2575,
          0.35625
         ],
         "title": {
          "text": "Concentration"
         }
        },
        "yaxis4": {
         "anchor": "x4",
         "domain": [
          0.38625,
          0.485
         ],
         "title": {
          "text": "Concentration"
         }
        },
        "yaxis5": {
         "anchor": "x5",
         "domain": [
          0.515,
          0.61375
         ],
         "title": {
          "text": "Concentration"
         }
        },
        "yaxis6": {
         "anchor": "x6",
         "domain": [
          0.64375,
          0.7425
         ],
         "title": {
          "text": "Concentration"
         }
        },
        "yaxis7": {
         "anchor": "x7",
         "domain": [
          0.7725,
          0.87125
         ],
         "title": {
          "text": "Concentration"
         }
        },
        "yaxis8": {
         "anchor": "x8",
         "domain": [
          0.90125,
          1
         ],
         "title": {
          "text": "Concentration"
         }
        }
       }
      }
     },
     "metadata": {},
     "output_type": "display_data"
    }
   ],
   "source": [
    "pollution_by_month = pollution_by_hour_month.melt(id_vars=['Month'], var_name='Pollutant', value_name='Concentration')\n",
    "pollution_by_month = pollution_by_month.groupby(['Month', 'Pollutant']).median().reset_index()\n",
    "\n",
    "fig = px.line(\n",
    "    pollution_by_month,\n",
    "    x = 'Month',\n",
    "    y = 'Concentration',\n",
    "    facet_row='Pollutant',\n",
    "    title='Monthly Pollutant Concentration'\n",
    ")\n",
    "fig.update_yaxes(matches=None)\n",
    "fig.update_layout(height=1500, width=1200, title_text=\"Pollutant Concentration by Month\")\n",
    "fig.show()"
   ]
  },
  {
   "cell_type": "markdown",
   "id": "3950f158",
   "metadata": {},
   "source": [
    "## Forecasting AQI Levels\n",
    "\n",
    "We'll use regression models offered by sklearn to predict AQI value using numerical features only. \n",
    "\n",
    "Note: For the sake of simplicity, and due to the limited knowledge on handling categorical varibles in machine learning, I have excluded categorical varibles from features. This allowed me to focus on the numerical features and the regression techniques taught in the course. "
   ]
  },
  {
   "cell_type": "markdown",
   "id": "38f97d10",
   "metadata": {},
   "source": [
    "### Linear Regression"
   ]
  },
  {
   "cell_type": "code",
   "execution_count": 698,
   "id": "336e4350",
   "metadata": {},
   "outputs": [],
   "source": [
    "# Importing all required modules\n",
    "from sklearn.model_selection import train_test_split\n",
    "from sklearn.linear_model import LinearRegression, Ridge, Lasso\n",
    "from sklearn.preprocessing import StandardScaler, PolynomialFeatures\n",
    "from sklearn.metrics import mean_absolute_error, mean_squared_error, r2_score"
   ]
  },
  {
   "cell_type": "code",
   "execution_count": 699,
   "id": "ef6076a0",
   "metadata": {},
   "outputs": [],
   "source": [
    "features = ['PM2.5 (µg/m³)', 'PM10 (µg/m³)', 'NO2 (µg/m³)', 'SO2 (µg/m³)', 'CO (mg/m³)', 'O3 (µg/m³)', 'Temperature (°C)', 'Humidity (%)', 'Precipitation (mm)', 'Wind Speed (m/s)', 'Pressure (hPa)', 'Precipitation (mm)', 'Visibility (km)']\n",
    "\n",
    "y = pollution.loc[:, 'AQI'] # we'll use PM2.5 value as the variable to predict ie target\n",
    "X = pollution.loc[:, features] # we'll use all the other variables as input variables ie features\n",
    "\n",
    "# Splitting the data into training and testing data\n",
    "X_train, X_test, y_train, y_test = train_test_split(X, y, train_size=0.80)\n"
   ]
  },
  {
   "cell_type": "markdown",
   "id": "765b4ffc",
   "metadata": {},
   "source": [
    "We'll now scale the data.\n",
    "\n",
    "This process ensures all the data is on the same scale. The equation is:\n",
    "\n",
    "$z = \\frac{x - \\mu}{\\sigma}$"
   ]
  },
  {
   "cell_type": "code",
   "execution_count": 700,
   "id": "725cc56d",
   "metadata": {},
   "outputs": [],
   "source": [
    "# Scaling the data\n",
    "\n",
    "scaler = StandardScaler()\n",
    "\n",
    "X_train_scaled = scaler.fit_transform(X_train)\n",
    "X_test_scaled = scaler.transform(X_test)\n",
    "\n"
   ]
  },
  {
   "cell_type": "code",
   "execution_count": 701,
   "id": "284652ca",
   "metadata": {},
   "outputs": [
    {
     "name": "stdout",
     "output_type": "stream",
     "text": [
      "Coefficients: \n",
      " [-0.71492543 -1.70795421  0.08335521 -5.08145412 -2.89871094  1.73265651\n",
      "  5.25912711  3.57372943  0.82444235 -1.09098814 -2.39370689  0.82444235\n",
      "  0.53051473]\n",
      "Mean squared error: 19994.97\n",
      "Coefficient of determination: -0.01\n"
     ]
    }
   ],
   "source": [
    "linear_regressor = LinearRegression()\n",
    "\n",
    "linear_regressor.fit(X_train_scaled, y_train)\n",
    "y_pred = linear_regressor.predict(X_test_scaled)\n",
    "\n",
    "# The coefficients\n",
    "print(\"Coefficients: \\n\", linear_regressor.coef_)\n",
    "# The mean squared error\n",
    "print(\"Mean squared error: %.2f\" % mean_squared_error(y_test, y_pred))\n",
    "# The coefficient of determination: 1 is perfect prediction\n",
    "print(\"Coefficient of determination: %.2f\" % r2_score(y_test, y_pred))"
   ]
  },
  {
   "cell_type": "markdown",
   "id": "c6225cbb",
   "metadata": {},
   "source": [
    "Given the coefficient of determination is 0, our model is no better than average when it comes to predicting the target."
   ]
  },
  {
   "cell_type": "code",
   "execution_count": 702,
   "id": "79b403c9",
   "metadata": {},
   "outputs": [
    {
     "data": {
      "application/vnd.plotly.v1+json": {
       "config": {
        "plotlyServerURL": "https://plot.ly"
       },
       "data": [
        {
         "hovertemplate": "Actual=%{x}<br>Predicted=%{y}<extra></extra>",
         "legendgroup": "",
         "marker": {
          "color": "#636efa",
          "symbol": "circle"
         },
         "mode": "markers",
         "name": "",
         "orientation": "v",
         "showlegend": false,
         "type": "scatter",
         "x": {
          "bdata": "0gAtAfgAIwEOAZoBdQAoAXIAEQDZAP8A7QFnAasAfADNAfEAkAHfAG0AxgBaAWYAwwDrAGEBmwAFAXsALgCpAdYAPAGoANsBewHMARUAxwCYAWQBEQCVAH0BKgDHADQA4AHMAT8BcQEqAK0ARwCMAL8BWACfAOQAVADLAbIAWgHNADMAhQFlAV4ArwAOAPoAEACtARYBEwEHAZcBngEoAcUBggEVAYsAtQElAZQBzQBfARQBxgDWAAcARQF3AdwAWQCAABoAxQGJAToADwFYAAYAFQCgAXUAvgDuAK0AmAFIALMB5wCtAEYBcAEmAc8AIwE6AdQBzADwAUQAXwGcAawAZABOAcgBwwGlAQEB8wCNABwBVgEvAKgB7AE5AEABwADbAFYB5gAmAVABIAFSAQwBgAE+AOYARwE6AKEBLgADAGcAEQG2AQAByACNADcBEADmAaoAIgETAREApAHSAKsBFAH4AA4AMwCbAcwAhQFTAFsAoAFNAU8A8AHMAHMBxQAbABcB9wDYAZsA4QDcAdQBngGxAI4BxAAUAC4B0wF6AakBNwDLAfMA8QBXASIAOgHPAdwBNgFZAFEBvQBpAJQAZgCNAFYB4gA5ADYB1AFjAXIAyQC0AGQBmAE5AcYAKAAfAbsBIgAIAU8B1QB4AckBaAGDAXoAvwGnAUIBJQFuADQBUwFqAI4AVwAlAYUAgQE0AFQBUADgAEoAswE6Ac8ApQCqAUMAWwAQABUAlgDPAbAAPwEVAdEBdABrAJMBIgClAUAAOQAZAJUArgHUAacBzwAEAEkBcwApAW4BQQEwAXoBagGBAB0BvQAbAdcAmwFRAaABSABuAA4AVQDWAfIAPwElAcsBrgAMAE4AFgBCAaQAOQCXAJAARQEwAfcAlQHqAd0AhgAYAPoAqAF8AMEBLAE3AW8ANADtAIoBwQBDAUwBWgCWAScBzwBXANUAKQDzAUkBGwHTASsAcQDEAFYAtgDrAYYBVQGuAY8BuQB8AT8AKAHiAd8BFQGQAXEBVwFQAbsAewGmAYwBUQA6AJoB5AB1AN0B3QGLAfUArgEsAYkBzQAhAB0AtABUAD8BEADYAR0BvgEBAdEAwwB1AGcBGACCARgAWQHMAMUAvQHPAKwBOwBaALgAPgCmAZEBUwCbAasBhwHYADEAAgAPAZoBXgE+AHAAowDJAJAAPQAKANMArQF4AYwBSAGXAZsAywA0APQA3QHmAL8A7gBWAdIA9gDLAB8AmABXAMwARwBeAG0BBAGsAFEBIgGBAKIALwBIANQAiwCFAbsBewBFAVQAfgB2ARoARwESAa0BHABBAUABCAHLABMBQAHNAIoA4gAyAbsBSAELAD0BzgCqAXoA6gA+AGYAvAFzAYcB6gB1ACUAzwAQAXUBEAHOAasA1gHPAboBLgHxAWQBAAA2AZIAOgCNAJcAqAE3AWYAGAB3AMIBRgE1AfYAwQEvAM4BZQETAHQADwErAbUARQAmAcwAgwDiAW8BjAFrAe8A/QCfAAcBowDwABsBRABQAN4BNwA0ANMBUQBwAJcAdgDvABEBKgAsAVsBrgBXAEsADgEEAFAALQA1Ae0B2wCtATUA",
          "dtype": "i2"
         },
         "xaxis": "x",
         "y": {
          "bdata": "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",
          "dtype": "f8"
         },
         "yaxis": "y"
        }
       ],
       "layout": {
        "height": 500,
        "legend": {
         "tracegroupgap": 0
        },
        "shapes": [
         {
          "line": {
           "color": "red",
           "dash": "dash"
          },
          "name": "Ideal Fit",
          "type": "line",
          "x0": 0,
          "x1": 499,
          "y0": 0,
          "y1": 499
         }
        ],
        "template": {
         "data": {
          "bar": [
           {
            "error_x": {
             "color": "#2a3f5f"
            },
            "error_y": {
             "color": "#2a3f5f"
            },
            "marker": {
             "line": {
              "color": "#E5ECF6",
              "width": 0.5
             },
             "pattern": {
              "fillmode": "overlay",
              "size": 10,
              "solidity": 0.2
             }
            },
            "type": "bar"
           }
          ],
          "barpolar": [
           {
            "marker": {
             "line": {
              "color": "#E5ECF6",
              "width": 0.5
             },
             "pattern": {
              "fillmode": "overlay",
              "size": 10,
              "solidity": 0.2
             }
            },
            "type": "barpolar"
           }
          ],
          "carpet": [
           {
            "aaxis": {
             "endlinecolor": "#2a3f5f",
             "gridcolor": "white",
             "linecolor": "white",
             "minorgridcolor": "white",
             "startlinecolor": "#2a3f5f"
            },
            "baxis": {
             "endlinecolor": "#2a3f5f",
             "gridcolor": "white",
             "linecolor": "white",
             "minorgridcolor": "white",
             "startlinecolor": "#2a3f5f"
            },
            "type": "carpet"
           }
          ],
          "choropleth": [
           {
            "colorbar": {
             "outlinewidth": 0,
             "ticks": ""
            },
            "type": "choropleth"
           }
          ],
          "contour": [
           {
            "colorbar": {
             "outlinewidth": 0,
             "ticks": ""
            },
            "colorscale": [
             [
              0,
              "#0d0887"
             ],
             [
              0.1111111111111111,
              "#46039f"
             ],
             [
              0.2222222222222222,
              "#7201a8"
             ],
             [
              0.3333333333333333,
              "#9c179e"
             ],
             [
              0.4444444444444444,
              "#bd3786"
             ],
             [
              0.5555555555555556,
              "#d8576b"
             ],
             [
              0.6666666666666666,
              "#ed7953"
             ],
             [
              0.7777777777777778,
              "#fb9f3a"
             ],
             [
              0.8888888888888888,
              "#fdca26"
             ],
             [
              1,
              "#f0f921"
             ]
            ],
            "type": "contour"
           }
          ],
          "contourcarpet": [
           {
            "colorbar": {
             "outlinewidth": 0,
             "ticks": ""
            },
            "type": "contourcarpet"
           }
          ],
          "heatmap": [
           {
            "colorbar": {
             "outlinewidth": 0,
             "ticks": ""
            },
            "colorscale": [
             [
              0,
              "#0d0887"
             ],
             [
              0.1111111111111111,
              "#46039f"
             ],
             [
              0.2222222222222222,
              "#7201a8"
             ],
             [
              0.3333333333333333,
              "#9c179e"
             ],
             [
              0.4444444444444444,
              "#bd3786"
             ],
             [
              0.5555555555555556,
              "#d8576b"
             ],
             [
              0.6666666666666666,
              "#ed7953"
             ],
             [
              0.7777777777777778,
              "#fb9f3a"
             ],
             [
              0.8888888888888888,
              "#fdca26"
             ],
             [
              1,
              "#f0f921"
             ]
            ],
            "type": "heatmap"
           }
          ],
          "histogram": [
           {
            "marker": {
             "pattern": {
              "fillmode": "overlay",
              "size": 10,
              "solidity": 0.2
             }
            },
            "type": "histogram"
           }
          ],
          "histogram2d": [
           {
            "colorbar": {
             "outlinewidth": 0,
             "ticks": ""
            },
            "colorscale": [
             [
              0,
              "#0d0887"
             ],
             [
              0.1111111111111111,
              "#46039f"
             ],
             [
              0.2222222222222222,
              "#7201a8"
             ],
             [
              0.3333333333333333,
              "#9c179e"
             ],
             [
              0.4444444444444444,
              "#bd3786"
             ],
             [
              0.5555555555555556,
              "#d8576b"
             ],
             [
              0.6666666666666666,
              "#ed7953"
             ],
             [
              0.7777777777777778,
              "#fb9f3a"
             ],
             [
              0.8888888888888888,
              "#fdca26"
             ],
             [
              1,
              "#f0f921"
             ]
            ],
            "type": "histogram2d"
           }
          ],
          "histogram2dcontour": [
           {
            "colorbar": {
             "outlinewidth": 0,
             "ticks": ""
            },
            "colorscale": [
             [
              0,
              "#0d0887"
             ],
             [
              0.1111111111111111,
              "#46039f"
             ],
             [
              0.2222222222222222,
              "#7201a8"
             ],
             [
              0.3333333333333333,
              "#9c179e"
             ],
             [
              0.4444444444444444,
              "#bd3786"
             ],
             [
              0.5555555555555556,
              "#d8576b"
             ],
             [
              0.6666666666666666,
              "#ed7953"
             ],
             [
              0.7777777777777778,
              "#fb9f3a"
             ],
             [
              0.8888888888888888,
              "#fdca26"
             ],
             [
              1,
              "#f0f921"
             ]
            ],
            "type": "histogram2dcontour"
           }
          ],
          "mesh3d": [
           {
            "colorbar": {
             "outlinewidth": 0,
             "ticks": ""
            },
            "type": "mesh3d"
           }
          ],
          "parcoords": [
           {
            "line": {
             "colorbar": {
              "outlinewidth": 0,
              "ticks": ""
             }
            },
            "type": "parcoords"
           }
          ],
          "pie": [
           {
            "automargin": true,
            "type": "pie"
           }
          ],
          "scatter": [
           {
            "fillpattern": {
             "fillmode": "overlay",
             "size": 10,
             "solidity": 0.2
            },
            "type": "scatter"
           }
          ],
          "scatter3d": [
           {
            "line": {
             "colorbar": {
              "outlinewidth": 0,
              "ticks": ""
             }
            },
            "marker": {
             "colorbar": {
              "outlinewidth": 0,
              "ticks": ""
             }
            },
            "type": "scatter3d"
           }
          ],
          "scattercarpet": [
           {
            "marker": {
             "colorbar": {
              "outlinewidth": 0,
              "ticks": ""
             }
            },
            "type": "scattercarpet"
           }
          ],
          "scattergeo": [
           {
            "marker": {
             "colorbar": {
              "outlinewidth": 0,
              "ticks": ""
             }
            },
            "type": "scattergeo"
           }
          ],
          "scattergl": [
           {
            "marker": {
             "colorbar": {
              "outlinewidth": 0,
              "ticks": ""
             }
            },
            "type": "scattergl"
           }
          ],
          "scattermap": [
           {
            "marker": {
             "colorbar": {
              "outlinewidth": 0,
              "ticks": ""
             }
            },
            "type": "scattermap"
           }
          ],
          "scattermapbox": [
           {
            "marker": {
             "colorbar": {
              "outlinewidth": 0,
              "ticks": ""
             }
            },
            "type": "scattermapbox"
           }
          ],
          "scatterpolar": [
           {
            "marker": {
             "colorbar": {
              "outlinewidth": 0,
              "ticks": ""
             }
            },
            "type": "scatterpolar"
           }
          ],
          "scatterpolargl": [
           {
            "marker": {
             "colorbar": {
              "outlinewidth": 0,
              "ticks": ""
             }
            },
            "type": "scatterpolargl"
           }
          ],
          "scatterternary": [
           {
            "marker": {
             "colorbar": {
              "outlinewidth": 0,
              "ticks": ""
             }
            },
            "type": "scatterternary"
           }
          ],
          "surface": [
           {
            "colorbar": {
             "outlinewidth": 0,
             "ticks": ""
            },
            "colorscale": [
             [
              0,
              "#0d0887"
             ],
             [
              0.1111111111111111,
              "#46039f"
             ],
             [
              0.2222222222222222,
              "#7201a8"
             ],
             [
              0.3333333333333333,
              "#9c179e"
             ],
             [
              0.4444444444444444,
              "#bd3786"
             ],
             [
              0.5555555555555556,
              "#d8576b"
             ],
             [
              0.6666666666666666,
              "#ed7953"
             ],
             [
              0.7777777777777778,
              "#fb9f3a"
             ],
             [
              0.8888888888888888,
              "#fdca26"
             ],
             [
              1,
              "#f0f921"
             ]
            ],
            "type": "surface"
           }
          ],
          "table": [
           {
            "cells": {
             "fill": {
              "color": "#EBF0F8"
             },
             "line": {
              "color": "white"
             }
            },
            "header": {
             "fill": {
              "color": "#C8D4E3"
             },
             "line": {
              "color": "white"
             }
            },
            "type": "table"
           }
          ]
         },
         "layout": {
          "annotationdefaults": {
           "arrowcolor": "#2a3f5f",
           "arrowhead": 0,
           "arrowwidth": 1
          },
          "autotypenumbers": "strict",
          "coloraxis": {
           "colorbar": {
            "outlinewidth": 0,
            "ticks": ""
           }
          },
          "colorscale": {
           "diverging": [
            [
             0,
             "#8e0152"
            ],
            [
             0.1,
             "#c51b7d"
            ],
            [
             0.2,
             "#de77ae"
            ],
            [
             0.3,
             "#f1b6da"
            ],
            [
             0.4,
             "#fde0ef"
            ],
            [
             0.5,
             "#f7f7f7"
            ],
            [
             0.6,
             "#e6f5d0"
            ],
            [
             0.7,
             "#b8e186"
            ],
            [
             0.8,
             "#7fbc41"
            ],
            [
             0.9,
             "#4d9221"
            ],
            [
             1,
             "#276419"
            ]
           ],
           "sequential": [
            [
             0,
             "#0d0887"
            ],
            [
             0.1111111111111111,
             "#46039f"
            ],
            [
             0.2222222222222222,
             "#7201a8"
            ],
            [
             0.3333333333333333,
             "#9c179e"
            ],
            [
             0.4444444444444444,
             "#bd3786"
            ],
            [
             0.5555555555555556,
             "#d8576b"
            ],
            [
             0.6666666666666666,
             "#ed7953"
            ],
            [
             0.7777777777777778,
             "#fb9f3a"
            ],
            [
             0.8888888888888888,
             "#fdca26"
            ],
            [
             1,
             "#f0f921"
            ]
           ],
           "sequentialminus": [
            [
             0,
             "#0d0887"
            ],
            [
             0.1111111111111111,
             "#46039f"
            ],
            [
             0.2222222222222222,
             "#7201a8"
            ],
            [
             0.3333333333333333,
             "#9c179e"
            ],
            [
             0.4444444444444444,
             "#bd3786"
            ],
            [
             0.5555555555555556,
             "#d8576b"
            ],
            [
             0.6666666666666666,
             "#ed7953"
            ],
            [
             0.7777777777777778,
             "#fb9f3a"
            ],
            [
             0.8888888888888888,
             "#fdca26"
            ],
            [
             1,
             "#f0f921"
            ]
           ]
          },
          "colorway": [
           "#636efa",
           "#EF553B",
           "#00cc96",
           "#ab63fa",
           "#FFA15A",
           "#19d3f3",
           "#FF6692",
           "#B6E880",
           "#FF97FF",
           "#FECB52"
          ],
          "font": {
           "color": "#2a3f5f"
          },
          "geo": {
           "bgcolor": "white",
           "lakecolor": "white",
           "landcolor": "#E5ECF6",
           "showlakes": true,
           "showland": true,
           "subunitcolor": "white"
          },
          "hoverlabel": {
           "align": "left"
          },
          "hovermode": "closest",
          "mapbox": {
           "style": "light"
          },
          "paper_bgcolor": "white",
          "plot_bgcolor": "#E5ECF6",
          "polar": {
           "angularaxis": {
            "gridcolor": "white",
            "linecolor": "white",
            "ticks": ""
           },
           "bgcolor": "#E5ECF6",
           "radialaxis": {
            "gridcolor": "white",
            "linecolor": "white",
            "ticks": ""
           }
          },
          "scene": {
           "xaxis": {
            "backgroundcolor": "#E5ECF6",
            "gridcolor": "white",
            "gridwidth": 2,
            "linecolor": "white",
            "showbackground": true,
            "ticks": "",
            "zerolinecolor": "white"
           },
           "yaxis": {
            "backgroundcolor": "#E5ECF6",
            "gridcolor": "white",
            "gridwidth": 2,
            "linecolor": "white",
            "showbackground": true,
            "ticks": "",
            "zerolinecolor": "white"
           },
           "zaxis": {
            "backgroundcolor": "#E5ECF6",
            "gridcolor": "white",
            "gridwidth": 2,
            "linecolor": "white",
            "showbackground": true,
            "ticks": "",
            "zerolinecolor": "white"
           }
          },
          "shapedefaults": {
           "line": {
            "color": "#2a3f5f"
           }
          },
          "ternary": {
           "aaxis": {
            "gridcolor": "white",
            "linecolor": "white",
            "ticks": ""
           },
           "baxis": {
            "gridcolor": "white",
            "linecolor": "white",
            "ticks": ""
           },
           "bgcolor": "#E5ECF6",
           "caxis": {
            "gridcolor": "white",
            "linecolor": "white",
            "ticks": ""
           }
          },
          "title": {
           "x": 0.05
          },
          "xaxis": {
           "automargin": true,
           "gridcolor": "white",
           "linecolor": "white",
           "ticks": "",
           "title": {
            "standoff": 15
           },
           "zerolinecolor": "white",
           "zerolinewidth": 2
          },
          "yaxis": {
           "automargin": true,
           "gridcolor": "white",
           "linecolor": "white",
           "ticks": "",
           "title": {
            "standoff": 15
           },
           "zerolinecolor": "white",
           "zerolinewidth": 2
          }
         }
        },
        "title": {
         "text": "Actual vs Predicted"
        },
        "width": 700,
        "xaxis": {
         "anchor": "y",
         "domain": [
          0,
          1
         ],
         "range": [
          -50,
          550
         ],
         "title": {
          "text": "Actual"
         }
        },
        "yaxis": {
         "anchor": "x",
         "domain": [
          0,
          1
         ],
         "range": [
          200,
          300
         ],
         "title": {
          "text": "Predicted"
         }
        }
       }
      }
     },
     "metadata": {},
     "output_type": "display_data"
    }
   ],
   "source": [
    "results_df = pd.DataFrame({\n",
    "    'Actual': y_test,\n",
    "    'Predicted': y_pred\n",
    "})\n",
    "\n",
    "fig = px.scatter(results_df, x='Actual', y='Predicted', title='Actual vs Predicted')\n",
    "\n",
    "fig.add_shape(\n",
    "    type='line',\n",
    "    x0=results_df['Actual'].min(), y0=results_df['Actual'].min(),\n",
    "    x1=results_df['Actual'].max(), y1=results_df['Actual'].max(),\n",
    "    line=dict(color='red', dash='dash'),\n",
    "    name='Ideal Fit'\n",
    ")\n",
    "\n",
    "fig.update_layout(\n",
    "    xaxis_title='Actual',\n",
    "    yaxis_title='Predicted',\n",
    "    width=700,\n",
    "    height=500,\n",
    "    xaxis_range=[-50, 550],\n",
    "    yaxis_range=[200,300]\n",
    ")\n",
    "\n",
    "fig.show()"
   ]
  },
  {
   "cell_type": "markdown",
   "id": "9e873675",
   "metadata": {},
   "source": [
    "### Other Alternatives\n",
    "\n",
    "Given the linear regression model has a poor fit, we'll test other regression models to check if we can get better accuracy. Here are some of the models we'll try out:\n",
    "\n",
    "- **Polynomial Regression** \n",
    "- **Random Forest Regressor** \n",
    "- **Ridge Regression** \n",
    "- **Lasso Regression** "
   ]
  },
  {
   "cell_type": "markdown",
   "id": "f5ee621b",
   "metadata": {},
   "source": [
    "### Polynomial Regression\n",
    "\n",
    "We'll apply polynomial regression as the behaviour between the target and features is non linear. Polynomials will take the form below (for a simple case of just one feature):\n",
    "\n",
    "$$\n",
    "y = \\beta_0 + \\beta_1 x + \\beta_2 x^2\n",
    "$$"
   ]
  },
  {
   "cell_type": "code",
   "execution_count": 703,
   "id": "d5f464b1",
   "metadata": {},
   "outputs": [],
   "source": [
    "from sklearn.preprocessing import PolynomialFeatures"
   ]
  },
  {
   "cell_type": "code",
   "execution_count": 704,
   "id": "25e16376",
   "metadata": {},
   "outputs": [],
   "source": [
    "def apply_polynomial_regression(degrees):\n",
    "    poly_features = PolynomialFeatures(degree=degrees)\n",
    "    X_train_poly = poly_features.fit_transform(X_train)\n",
    "    X_test_poly = poly_features.transform(X_test)\n",
    "\n",
    "    # We'll now scale these\n",
    "    poly_scaler = StandardScaler()\n",
    "    X_train_poly_scaled = poly_scaler.fit_transform(X_train_poly)\n",
    "    X_test_poly_scaled = poly_scaler.transform(X_test_poly)\n",
    "\n",
    "    model = LinearRegression()\n",
    "\n",
    "    model.fit(X_train_poly_scaled, y_train)\n",
    "\n",
    "    y_pred_poly = model.predict(X_test_poly_scaled)\n",
    "\n",
    "    mse = mean_squared_error(y_test, y_pred_poly)\n",
    "    r2 = r2_score(y_test, y_pred_poly)\n",
    "\n",
    "    print(f\"Polynomial Regression (degree={degrees}) — MSE: {mse:.2f}, R²: {r2:.2f}\")\n",
    "    \n",
    "    return r2"
   ]
  },
  {
   "cell_type": "code",
   "execution_count": 705,
   "id": "47a10303",
   "metadata": {},
   "outputs": [
    {
     "name": "stdout",
     "output_type": "stream",
     "text": [
      "Polynomial Regression (degree=1) — MSE: 19994.97, R²: -0.01\n",
      "Polynomial Regression (degree=2) — MSE: 20608.04, R²: -0.04\n",
      "Polynomial Regression (degree=3) — MSE: 25716.98, R²: -0.30\n",
      "Polynomial Regression (degree=4) — MSE: 123948.27, R²: -5.26\n",
      "Polynomial Regression (degree=5) — MSE: 228668.96, R²: -10.55\n"
     ]
    },
    {
     "data": {
      "application/vnd.plotly.v1+json": {
       "config": {
        "plotlyServerURL": "https://plot.ly"
       },
       "data": [
        {
         "hovertemplate": "x=%{x}<br>y=%{y}<extra></extra>",
         "legendgroup": "",
         "line": {
          "color": "#636efa",
          "dash": "solid"
         },
         "marker": {
          "symbol": "circle"
         },
         "mode": "lines",
         "name": "",
         "orientation": "v",
         "showlegend": false,
         "type": "scatter",
         "x": {
          "bdata": "AQIDBAU=",
          "dtype": "i1"
         },
         "xaxis": "x",
         "y": {
          "bdata": "AHt+XrjChL9A33fXPgylv4ydU71EJtO/1c5mlBgMFcA8BFFfwRolwA==",
          "dtype": "f8"
         },
         "yaxis": "y"
        }
       ],
       "layout": {
        "legend": {
         "tracegroupgap": 0
        },
        "margin": {
         "t": 60
        },
        "template": {
         "data": {
          "bar": [
           {
            "error_x": {
             "color": "#2a3f5f"
            },
            "error_y": {
             "color": "#2a3f5f"
            },
            "marker": {
             "line": {
              "color": "#E5ECF6",
              "width": 0.5
             },
             "pattern": {
              "fillmode": "overlay",
              "size": 10,
              "solidity": 0.2
             }
            },
            "type": "bar"
           }
          ],
          "barpolar": [
           {
            "marker": {
             "line": {
              "color": "#E5ECF6",
              "width": 0.5
             },
             "pattern": {
              "fillmode": "overlay",
              "size": 10,
              "solidity": 0.2
             }
            },
            "type": "barpolar"
           }
          ],
          "carpet": [
           {
            "aaxis": {
             "endlinecolor": "#2a3f5f",
             "gridcolor": "white",
             "linecolor": "white",
             "minorgridcolor": "white",
             "startlinecolor": "#2a3f5f"
            },
            "baxis": {
             "endlinecolor": "#2a3f5f",
             "gridcolor": "white",
             "linecolor": "white",
             "minorgridcolor": "white",
             "startlinecolor": "#2a3f5f"
            },
            "type": "carpet"
           }
          ],
          "choropleth": [
           {
            "colorbar": {
             "outlinewidth": 0,
             "ticks": ""
            },
            "type": "choropleth"
           }
          ],
          "contour": [
           {
            "colorbar": {
             "outlinewidth": 0,
             "ticks": ""
            },
            "colorscale": [
             [
              0,
              "#0d0887"
             ],
             [
              0.1111111111111111,
              "#46039f"
             ],
             [
              0.2222222222222222,
              "#7201a8"
             ],
             [
              0.3333333333333333,
              "#9c179e"
             ],
             [
              0.4444444444444444,
              "#bd3786"
             ],
             [
              0.5555555555555556,
              "#d8576b"
             ],
             [
              0.6666666666666666,
              "#ed7953"
             ],
             [
              0.7777777777777778,
              "#fb9f3a"
             ],
             [
              0.8888888888888888,
              "#fdca26"
             ],
             [
              1,
              "#f0f921"
             ]
            ],
            "type": "contour"
           }
          ],
          "contourcarpet": [
           {
            "colorbar": {
             "outlinewidth": 0,
             "ticks": ""
            },
            "type": "contourcarpet"
           }
          ],
          "heatmap": [
           {
            "colorbar": {
             "outlinewidth": 0,
             "ticks": ""
            },
            "colorscale": [
             [
              0,
              "#0d0887"
             ],
             [
              0.1111111111111111,
              "#46039f"
             ],
             [
              0.2222222222222222,
              "#7201a8"
             ],
             [
              0.3333333333333333,
              "#9c179e"
             ],
             [
              0.4444444444444444,
              "#bd3786"
             ],
             [
              0.5555555555555556,
              "#d8576b"
             ],
             [
              0.6666666666666666,
              "#ed7953"
             ],
             [
              0.7777777777777778,
              "#fb9f3a"
             ],
             [
              0.8888888888888888,
              "#fdca26"
             ],
             [
              1,
              "#f0f921"
             ]
            ],
            "type": "heatmap"
           }
          ],
          "histogram": [
           {
            "marker": {
             "pattern": {
              "fillmode": "overlay",
              "size": 10,
              "solidity": 0.2
             }
            },
            "type": "histogram"
           }
          ],
          "histogram2d": [
           {
            "colorbar": {
             "outlinewidth": 0,
             "ticks": ""
            },
            "colorscale": [
             [
              0,
              "#0d0887"
             ],
             [
              0.1111111111111111,
              "#46039f"
             ],
             [
              0.2222222222222222,
              "#7201a8"
             ],
             [
              0.3333333333333333,
              "#9c179e"
             ],
             [
              0.4444444444444444,
              "#bd3786"
             ],
             [
              0.5555555555555556,
              "#d8576b"
             ],
             [
              0.6666666666666666,
              "#ed7953"
             ],
             [
              0.7777777777777778,
              "#fb9f3a"
             ],
             [
              0.8888888888888888,
              "#fdca26"
             ],
             [
              1,
              "#f0f921"
             ]
            ],
            "type": "histogram2d"
           }
          ],
          "histogram2dcontour": [
           {
            "colorbar": {
             "outlinewidth": 0,
             "ticks": ""
            },
            "colorscale": [
             [
              0,
              "#0d0887"
             ],
             [
              0.1111111111111111,
              "#46039f"
             ],
             [
              0.2222222222222222,
              "#7201a8"
             ],
             [
              0.3333333333333333,
              "#9c179e"
             ],
             [
              0.4444444444444444,
              "#bd3786"
             ],
             [
              0.5555555555555556,
              "#d8576b"
             ],
             [
              0.6666666666666666,
              "#ed7953"
             ],
             [
              0.7777777777777778,
              "#fb9f3a"
             ],
             [
              0.8888888888888888,
              "#fdca26"
             ],
             [
              1,
              "#f0f921"
             ]
            ],
            "type": "histogram2dcontour"
           }
          ],
          "mesh3d": [
           {
            "colorbar": {
             "outlinewidth": 0,
             "ticks": ""
            },
            "type": "mesh3d"
           }
          ],
          "parcoords": [
           {
            "line": {
             "colorbar": {
              "outlinewidth": 0,
              "ticks": ""
             }
            },
            "type": "parcoords"
           }
          ],
          "pie": [
           {
            "automargin": true,
            "type": "pie"
           }
          ],
          "scatter": [
           {
            "fillpattern": {
             "fillmode": "overlay",
             "size": 10,
             "solidity": 0.2
            },
            "type": "scatter"
           }
          ],
          "scatter3d": [
           {
            "line": {
             "colorbar": {
              "outlinewidth": 0,
              "ticks": ""
             }
            },
            "marker": {
             "colorbar": {
              "outlinewidth": 0,
              "ticks": ""
             }
            },
            "type": "scatter3d"
           }
          ],
          "scattercarpet": [
           {
            "marker": {
             "colorbar": {
              "outlinewidth": 0,
              "ticks": ""
             }
            },
            "type": "scattercarpet"
           }
          ],
          "scattergeo": [
           {
            "marker": {
             "colorbar": {
              "outlinewidth": 0,
              "ticks": ""
             }
            },
            "type": "scattergeo"
           }
          ],
          "scattergl": [
           {
            "marker": {
             "colorbar": {
              "outlinewidth": 0,
              "ticks": ""
             }
            },
            "type": "scattergl"
           }
          ],
          "scattermap": [
           {
            "marker": {
             "colorbar": {
              "outlinewidth": 0,
              "ticks": ""
             }
            },
            "type": "scattermap"
           }
          ],
          "scattermapbox": [
           {
            "marker": {
             "colorbar": {
              "outlinewidth": 0,
              "ticks": ""
             }
            },
            "type": "scattermapbox"
           }
          ],
          "scatterpolar": [
           {
            "marker": {
             "colorbar": {
              "outlinewidth": 0,
              "ticks": ""
             }
            },
            "type": "scatterpolar"
           }
          ],
          "scatterpolargl": [
           {
            "marker": {
             "colorbar": {
              "outlinewidth": 0,
              "ticks": ""
             }
            },
            "type": "scatterpolargl"
           }
          ],
          "scatterternary": [
           {
            "marker": {
             "colorbar": {
              "outlinewidth": 0,
              "ticks": ""
             }
            },
            "type": "scatterternary"
           }
          ],
          "surface": [
           {
            "colorbar": {
             "outlinewidth": 0,
             "ticks": ""
            },
            "colorscale": [
             [
              0,
              "#0d0887"
             ],
             [
              0.1111111111111111,
              "#46039f"
             ],
             [
              0.2222222222222222,
              "#7201a8"
             ],
             [
              0.3333333333333333,
              "#9c179e"
             ],
             [
              0.4444444444444444,
              "#bd3786"
             ],
             [
              0.5555555555555556,
              "#d8576b"
             ],
             [
              0.6666666666666666,
              "#ed7953"
             ],
             [
              0.7777777777777778,
              "#fb9f3a"
             ],
             [
              0.8888888888888888,
              "#fdca26"
             ],
             [
              1,
              "#f0f921"
             ]
            ],
            "type": "surface"
           }
          ],
          "table": [
           {
            "cells": {
             "fill": {
              "color": "#EBF0F8"
             },
             "line": {
              "color": "white"
             }
            },
            "header": {
             "fill": {
              "color": "#C8D4E3"
             },
             "line": {
              "color": "white"
             }
            },
            "type": "table"
           }
          ]
         },
         "layout": {
          "annotationdefaults": {
           "arrowcolor": "#2a3f5f",
           "arrowhead": 0,
           "arrowwidth": 1
          },
          "autotypenumbers": "strict",
          "coloraxis": {
           "colorbar": {
            "outlinewidth": 0,
            "ticks": ""
           }
          },
          "colorscale": {
           "diverging": [
            [
             0,
             "#8e0152"
            ],
            [
             0.1,
             "#c51b7d"
            ],
            [
             0.2,
             "#de77ae"
            ],
            [
             0.3,
             "#f1b6da"
            ],
            [
             0.4,
             "#fde0ef"
            ],
            [
             0.5,
             "#f7f7f7"
            ],
            [
             0.6,
             "#e6f5d0"
            ],
            [
             0.7,
             "#b8e186"
            ],
            [
             0.8,
             "#7fbc41"
            ],
            [
             0.9,
             "#4d9221"
            ],
            [
             1,
             "#276419"
            ]
           ],
           "sequential": [
            [
             0,
             "#0d0887"
            ],
            [
             0.1111111111111111,
             "#46039f"
            ],
            [
             0.2222222222222222,
             "#7201a8"
            ],
            [
             0.3333333333333333,
             "#9c179e"
            ],
            [
             0.4444444444444444,
             "#bd3786"
            ],
            [
             0.5555555555555556,
             "#d8576b"
            ],
            [
             0.6666666666666666,
             "#ed7953"
            ],
            [
             0.7777777777777778,
             "#fb9f3a"
            ],
            [
             0.8888888888888888,
             "#fdca26"
            ],
            [
             1,
             "#f0f921"
            ]
           ],
           "sequentialminus": [
            [
             0,
             "#0d0887"
            ],
            [
             0.1111111111111111,
             "#46039f"
            ],
            [
             0.2222222222222222,
             "#7201a8"
            ],
            [
             0.3333333333333333,
             "#9c179e"
            ],
            [
             0.4444444444444444,
             "#bd3786"
            ],
            [
             0.5555555555555556,
             "#d8576b"
            ],
            [
             0.6666666666666666,
             "#ed7953"
            ],
            [
             0.7777777777777778,
             "#fb9f3a"
            ],
            [
             0.8888888888888888,
             "#fdca26"
            ],
            [
             1,
             "#f0f921"
            ]
           ]
          },
          "colorway": [
           "#636efa",
           "#EF553B",
           "#00cc96",
           "#ab63fa",
           "#FFA15A",
           "#19d3f3",
           "#FF6692",
           "#B6E880",
           "#FF97FF",
           "#FECB52"
          ],
          "font": {
           "color": "#2a3f5f"
          },
          "geo": {
           "bgcolor": "white",
           "lakecolor": "white",
           "landcolor": "#E5ECF6",
           "showlakes": true,
           "showland": true,
           "subunitcolor": "white"
          },
          "hoverlabel": {
           "align": "left"
          },
          "hovermode": "closest",
          "mapbox": {
           "style": "light"
          },
          "paper_bgcolor": "white",
          "plot_bgcolor": "#E5ECF6",
          "polar": {
           "angularaxis": {
            "gridcolor": "white",
            "linecolor": "white",
            "ticks": ""
           },
           "bgcolor": "#E5ECF6",
           "radialaxis": {
            "gridcolor": "white",
            "linecolor": "white",
            "ticks": ""
           }
          },
          "scene": {
           "xaxis": {
            "backgroundcolor": "#E5ECF6",
            "gridcolor": "white",
            "gridwidth": 2,
            "linecolor": "white",
            "showbackground": true,
            "ticks": "",
            "zerolinecolor": "white"
           },
           "yaxis": {
            "backgroundcolor": "#E5ECF6",
            "gridcolor": "white",
            "gridwidth": 2,
            "linecolor": "white",
            "showbackground": true,
            "ticks": "",
            "zerolinecolor": "white"
           },
           "zaxis": {
            "backgroundcolor": "#E5ECF6",
            "gridcolor": "white",
            "gridwidth": 2,
            "linecolor": "white",
            "showbackground": true,
            "ticks": "",
            "zerolinecolor": "white"
           }
          },
          "shapedefaults": {
           "line": {
            "color": "#2a3f5f"
           }
          },
          "ternary": {
           "aaxis": {
            "gridcolor": "white",
            "linecolor": "white",
            "ticks": ""
           },
           "baxis": {
            "gridcolor": "white",
            "linecolor": "white",
            "ticks": ""
           },
           "bgcolor": "#E5ECF6",
           "caxis": {
            "gridcolor": "white",
            "linecolor": "white",
            "ticks": ""
           }
          },
          "title": {
           "x": 0.05
          },
          "xaxis": {
           "automargin": true,
           "gridcolor": "white",
           "linecolor": "white",
           "ticks": "",
           "title": {
            "standoff": 15
           },
           "zerolinecolor": "white",
           "zerolinewidth": 2
          },
          "yaxis": {
           "automargin": true,
           "gridcolor": "white",
           "linecolor": "white",
           "ticks": "",
           "title": {
            "standoff": 15
           },
           "zerolinecolor": "white",
           "zerolinewidth": 2
          }
         }
        },
        "xaxis": {
         "anchor": "y",
         "domain": [
          0,
          1
         ],
         "title": {
          "text": "x"
         }
        },
        "yaxis": {
         "anchor": "x",
         "domain": [
          0,
          1
         ],
         "title": {
          "text": "y"
         }
        }
       }
      }
     },
     "metadata": {},
     "output_type": "display_data"
    }
   ],
   "source": [
    "# We'll try different degrees of polynomial regression to see which one performs the best. Anything more than 5 causes significant time to compute so we'll go as high as 5. \n",
    "r2_polynomial = []\n",
    "for i in range(1,6):\n",
    "    r2_polynomial.append(apply_polynomial_regression(i))\n",
    "\n",
    "px.line(x=list(range(1,6)), y=r2_polynomial)"
   ]
  },
  {
   "cell_type": "markdown",
   "id": "c7bd1e37",
   "metadata": {},
   "source": [
    "Generally, the performance seems to get poorer as we increase degrees (especially after 3rd degree) so polynomial regression may not be the best approach based on computing power required and model prediction up to 5th degree polynomial."
   ]
  },
  {
   "cell_type": "markdown",
   "id": "14380a6f",
   "metadata": {},
   "source": [
    "### Random Forest Regression\n",
    "\n",
    "A random forest is a meta estimator that fits a number of decision tree regressors on various sub-samples of the dataset and uses averaging to improve the predictive accuracy and control over-fitting (scikit-learn, 2024).\n",
    "\n",
    "**Reference:**\n",
    "\n",
    "Scikit-learn developers. (2024). *Random forest regression — scikit-learn 1.6.1 documentation*. Retrieved from https://scikit-learn.org/stable/modules/generated/sklearn.ensemble.RandomForestRegressor.html\n"
   ]
  },
  {
   "cell_type": "code",
   "execution_count": 706,
   "id": "83b85413",
   "metadata": {},
   "outputs": [],
   "source": [
    "from sklearn.ensemble import RandomForestRegressor"
   ]
  },
  {
   "cell_type": "code",
   "execution_count": 707,
   "id": "2117cd66",
   "metadata": {},
   "outputs": [
    {
     "name": "stdout",
     "output_type": "stream",
     "text": [
      "Random Forest Regression — MSE: 20511.31, R²: -0.04\n"
     ]
    }
   ],
   "source": [
    "\n",
    "random_forest_model = RandomForestRegressor() # We'll use the model with default arguements\n",
    "\n",
    "random_forest_model.fit(X_train_scaled, y_train)\n",
    "\n",
    "y_pred_random_forest = random_forest_model.predict(X_test_scaled)\n",
    "mse = mean_squared_error(y_test, y_pred_random_forest)\n",
    "r2 = r2_score(y_test, y_pred_random_forest)\n",
    "\n",
    "print(f\"Random Forest Regression — MSE: {mse:.2f}, R²: {r2:.2f}\")\n",
    "    "
   ]
  },
  {
   "cell_type": "markdown",
   "id": "af2643ec",
   "metadata": {},
   "source": [
    "### Ridge Regression"
   ]
  },
  {
   "cell_type": "code",
   "execution_count": 708,
   "id": "f01f0416",
   "metadata": {},
   "outputs": [
    {
     "name": "stdout",
     "output_type": "stream",
     "text": [
      "Ridge Regression — MSE: 19994.84, R²: -0.01\n"
     ]
    }
   ],
   "source": [
    "rdg = Ridge()\n",
    "\n",
    "rdg.fit(X_train_scaled, y_train)\n",
    "\n",
    "y_pred_ridge = rdg.predict(X_test_scaled)\n",
    "\n",
    "mse = mean_squared_error(y_test, y_pred_ridge)\n",
    "r2 = r2_score(y_test,y_pred_ridge)\n",
    "\n",
    "print(f\"Ridge Regression — MSE: {mse:.2f}, R²: {r2:.2f}\")"
   ]
  },
  {
   "cell_type": "code",
   "execution_count": 709,
   "id": "82068870",
   "metadata": {},
   "outputs": [
    {
     "name": "stdout",
     "output_type": "stream",
     "text": [
      "Ridge Regression — MSE: 19920.04, R²: -0.01\n"
     ]
    }
   ],
   "source": [
    "lasso = Lasso()\n",
    "\n",
    "lasso.fit(X_train_scaled, y_train)\n",
    "\n",
    "y_pred_ridge = lasso.predict(X_test_scaled)\n",
    "\n",
    "mse = mean_squared_error(y_test, y_pred_ridge)\n",
    "r2 = r2_score(y_test,y_pred_ridge)\n",
    "\n",
    "print(f\"Ridge Regression — MSE: {mse:.2f}, R²: {r2:.2f}\")"
   ]
  },
  {
   "cell_type": "markdown",
   "id": "54de93d1",
   "metadata": {},
   "source": [
    "Overall, none of the models tested led to accurate predictions. This could be due to the following factors:\n",
    "\n",
    "- **Synthetic Data** Since the dataset is synthetic, model performance heavily depends on how the data was generated. If it was based on real-world data with added noise, the models would likely capture underlying patterns more effectively. However, if the data was generated from scratch without any meaningful structure, it's possible that no real correlations exist for the models to learn from. This aligns with the correlation heatmap where all variables showed little to no correlation with each other except themselves.\n",
    "\n",
    "- **Disregarding Categorical Variables** Categorical variables such as City, Season, or Weather Condition were excluded from the models for simplicity. If these variables held predictive power, their exclusion may have significantly limited the model’s ability to identify patterns and make accurate predictions.\n",
    "\n",
    "- **Target Variable Selection** We could test the models with a different target varible such as PM2.5.\n",
    "\n",
    "A summary of all models can be found below:"
   ]
  },
  {
   "cell_type": "code",
   "execution_count": 710,
   "id": "4ed774b4",
   "metadata": {},
   "outputs": [
    {
     "data": {
      "application/vnd.microsoft.datawrangler.viewer.v0+json": {
       "columns": [
        {
         "name": "index",
         "rawType": "int64",
         "type": "integer"
        },
        {
         "name": "Model",
         "rawType": "object",
         "type": "string"
        },
        {
         "name": "Mean Squared Error",
         "rawType": "float64",
         "type": "float"
        },
        {
         "name": "R2",
         "rawType": "float64",
         "type": "float"
        }
       ],
       "conversionMethod": "pd.DataFrame",
       "ref": "b1e1b612-66e4-4eb1-b129-ce7b1822679e",
       "rows": [
        [
         "0",
         "Linear Regression",
         "19994.96661066662",
         "-0.010137024291734686"
        ],
        [
         "1",
         "Random Forest Regression",
         "20998.500795166667",
         "-0.06083513520356454"
        ],
        [
         "2",
         "Ridge Regression",
         "19994.838252432848",
         "-0.010130539689543028"
        ],
        [
         "3",
         "Lasso Regression",
         "19920.04403265456",
         "-0.006351968208420544"
        ]
       ],
       "shape": {
        "columns": 3,
        "rows": 4
       }
      },
      "text/html": [
       "<div>\n",
       "<style scoped>\n",
       "    .dataframe tbody tr th:only-of-type {\n",
       "        vertical-align: middle;\n",
       "    }\n",
       "\n",
       "    .dataframe tbody tr th {\n",
       "        vertical-align: top;\n",
       "    }\n",
       "\n",
       "    .dataframe thead th {\n",
       "        text-align: right;\n",
       "    }\n",
       "</style>\n",
       "<table border=\"1\" class=\"dataframe\">\n",
       "  <thead>\n",
       "    <tr style=\"text-align: right;\">\n",
       "      <th></th>\n",
       "      <th>Model</th>\n",
       "      <th>Mean Squared Error</th>\n",
       "      <th>R2</th>\n",
       "    </tr>\n",
       "  </thead>\n",
       "  <tbody>\n",
       "    <tr>\n",
       "      <th>0</th>\n",
       "      <td>Linear Regression</td>\n",
       "      <td>19994.966611</td>\n",
       "      <td>-0.010137</td>\n",
       "    </tr>\n",
       "    <tr>\n",
       "      <th>1</th>\n",
       "      <td>Random Forest Regression</td>\n",
       "      <td>20998.500795</td>\n",
       "      <td>-0.060835</td>\n",
       "    </tr>\n",
       "    <tr>\n",
       "      <th>2</th>\n",
       "      <td>Ridge Regression</td>\n",
       "      <td>19994.838252</td>\n",
       "      <td>-0.010131</td>\n",
       "    </tr>\n",
       "    <tr>\n",
       "      <th>3</th>\n",
       "      <td>Lasso Regression</td>\n",
       "      <td>19920.044033</td>\n",
       "      <td>-0.006352</td>\n",
       "    </tr>\n",
       "  </tbody>\n",
       "</table>\n",
       "</div>"
      ],
      "text/plain": [
       "                      Model  Mean Squared Error        R2\n",
       "0         Linear Regression        19994.966611 -0.010137\n",
       "1  Random Forest Regression        20998.500795 -0.060835\n",
       "2          Ridge Regression        19994.838252 -0.010131\n",
       "3          Lasso Regression        19920.044033 -0.006352"
      ]
     },
     "execution_count": 710,
     "metadata": {},
     "output_type": "execute_result"
    }
   ],
   "source": [
    "models = {\n",
    "    'Linear Regression': LinearRegression(),\n",
    "    'Random Forest Regression': RandomForestRegressor(),\n",
    "    'Ridge Regression': Ridge(),\n",
    "    'Lasso Regression': Lasso(),\n",
    "}\n",
    "\n",
    "final_results = []\n",
    "\n",
    "for model_name, model in models.items():\n",
    "    model.fit(X_train_scaled, y_train)\n",
    "    y_pred = model.predict(X_test_scaled)\n",
    "    \n",
    "    mse = mean_squared_error(y_test, y_pred)\n",
    "    r2 = r2_score(y_test,y_pred)\n",
    "    \n",
    "    final_results.append([model_name, mse, r2])\n",
    "    \n",
    "final_results = pd.DataFrame(final_results, columns=['Model', 'Mean Squared Error', 'R2'])\n",
    "final_results"
   ]
  }
 ],
 "metadata": {
  "kernelspec": {
   "display_name": "Python 3",
   "language": "python",
   "name": "python3"
  },
  "language_info": {
   "codemirror_mode": {
    "name": "ipython",
    "version": 3
   },
   "file_extension": ".py",
   "mimetype": "text/x-python",
   "name": "python",
   "nbconvert_exporter": "python",
   "pygments_lexer": "ipython3",
   "version": "3.12.9"
  }
 },
 "nbformat": 4,
 "nbformat_minor": 5
}
